{
 "cells": [
  {
   "cell_type": "markdown",
   "metadata": {},
   "source": [
    "<h2> Listas y Tuplas </h2>"
   ]
  },
  {
   "cell_type": "markdown",
   "metadata": {},
   "source": [
    "**Usa typing en todas las funciones que definas**"
   ]
  },
  {
   "cell_type": "code",
   "execution_count": 1,
   "metadata": {},
   "outputs": [],
   "source": [
    "from typing import List\n",
    "from typing import Tuple\n",
    "from typing import Union\n"
   ]
  },
  {
   "cell_type": "markdown",
   "metadata": {},
   "source": [
    "#### 0 - Practica"
   ]
  },
  {
   "cell_type": "markdown",
   "metadata": {},
   "source": [
    "Desempaquetando (o desestructurando) tuplas"
   ]
  },
  {
   "cell_type": "code",
   "execution_count": 2,
   "metadata": {},
   "outputs": [
    {
     "name": "stdout",
     "output_type": "stream",
     "text": [
      "a is 1\n",
      "b is 2\n"
     ]
    }
   ],
   "source": [
    "nums = (1, 2)\n",
    "a, b = nums    # a y b pasan a ser integers, pasan a valer 1 y 2\n",
    "print('a is', a)\n",
    "print('b is', b)"
   ]
  },
  {
   "cell_type": "code",
   "execution_count": 5,
   "metadata": {},
   "outputs": [
    {
     "name": "stdout",
     "output_type": "stream",
     "text": [
      "<class 'tuple'>\n"
     ]
    },
    {
     "data": {
      "text/plain": [
       "list"
      ]
     },
     "execution_count": 5,
     "metadata": {},
     "output_type": "execute_result"
    }
   ],
   "source": [
    "nums = 1, 2\n",
    "print(type(nums))\n",
    "numbers = [1, 2]\n",
    "type(numbers)"
   ]
  },
  {
   "cell_type": "code",
   "execution_count": 9,
   "metadata": {},
   "outputs": [
    {
     "name": "stdout",
     "output_type": "stream",
     "text": [
      "fruit 1 is peach\n",
      "fruit 2 is banana\n",
      "fruit 3 is watermelon\n"
     ]
    }
   ],
   "source": [
    "fruits = ('peach', 'banana', 'watermelon')\n",
    "fruit_1, fruit_2, fruit_3 = fruits  # los fruit toman valor de las frutas)\n",
    "print('fruit 1 is', fruit_1)\n",
    "print('fruit 2 is', fruit_2)\n",
    "print('fruit 3 is', fruit_3)"
   ]
  },
  {
   "cell_type": "code",
   "execution_count": 5,
   "metadata": {},
   "outputs": [
    {
     "name": "stdout",
     "output_type": "stream",
     "text": [
      "0\n",
      "10\n"
     ]
    }
   ],
   "source": [
    "min_test_score, max_test_score = 0, 10\n",
    "print(min_test_score)\n",
    "print(max_test_score)"
   ]
  },
  {
   "cell_type": "markdown",
   "metadata": {},
   "source": [
    "Podemos desestructurar un lista de tuplas a medida que iteramos sobre ella:"
   ]
  },
  {
   "cell_type": "code",
   "execution_count": 6,
   "metadata": {},
   "outputs": [
    {
     "name": "stdout",
     "output_type": "stream",
     "text": [
      "Name is Lada, age is 23\n",
      "Name is Oshimenu, age is 31\n",
      "Name is Takeshi, age is 51\n"
     ]
    }
   ],
   "source": [
    "people = [('Lada', 23), ('Oshimenu', 31), ('Takeshi', 51)]\n",
    "for person, age in people:\n",
    "    print('Name is', person + ',', 'age is', age)"
   ]
  },
  {
   "cell_type": "markdown",
   "metadata": {},
   "source": [
    "Eso lo podemos ver cuando usamos la función `enumerate`, que nos proporciona tuplas con los elementos y los índices del iterable:"
   ]
  },
  {
   "cell_type": "code",
   "execution_count": 7,
   "metadata": {},
   "outputs": [
    {
     "name": "stdout",
     "output_type": "stream",
     "text": [
      "0 peach\n",
      "1 banana\n",
      "2 watermelon\n"
     ]
    }
   ],
   "source": [
    "for i, fruit in enumerate(fruits):\n",
    "    print(i, fruit)"
   ]
  },
  {
   "cell_type": "code",
   "execution_count": 8,
   "metadata": {},
   "outputs": [
    {
     "name": "stdout",
     "output_type": "stream",
     "text": [
      "0 Lada 23\n",
      "1 Oshimenu 31\n",
      "2 Takeshi 51\n"
     ]
    }
   ],
   "source": [
    "for i, (person, age) in enumerate(people):\n",
    "    print(i, person, age)"
   ]
  },
  {
   "cell_type": "markdown",
   "metadata": {},
   "source": [
    "**Nota**: No solo podemos iterar sobre listas, sino sobre cualquier objecto iterable. En Python, los objetos iterables tienen el método todos `__iter__`. De la misma forma, también podemos deconstruir los objetos que tengan este método. Con typing se usa `Iterable` para especificar que un argumento o variable es iterable."
   ]
  },
  {
   "cell_type": "code",
   "execution_count": 9,
   "metadata": {},
   "outputs": [
    {
     "data": {
      "text/plain": [
       "<method-wrapper '__iter__' of tuple object at 0x00000293579EB900>"
      ]
     },
     "execution_count": 9,
     "metadata": {},
     "output_type": "execute_result"
    }
   ],
   "source": [
    "fruits.__iter__"
   ]
  },
  {
   "cell_type": "code",
   "execution_count": 10,
   "metadata": {},
   "outputs": [
    {
     "data": {
      "text/plain": [
       "<method-wrapper '__iter__' of list object at 0x000002935935C540>"
      ]
     },
     "execution_count": 10,
     "metadata": {},
     "output_type": "execute_result"
    }
   ],
   "source": [
    "people.__iter__"
   ]
  },
  {
   "cell_type": "markdown",
   "metadata": {},
   "source": [
    "La función `zip` nos proporciona un objeto sobre el cual podemos iterar y acceder a los elementos de dos o más iterables en forma de tupla:"
   ]
  },
  {
   "cell_type": "code",
   "execution_count": 11,
   "metadata": {},
   "outputs": [
    {
     "name": "stdout",
     "output_type": "stream",
     "text": [
      "Lada loves peach\n",
      "Oshimenu loves banana\n",
      "Takeshi loves watermelon\n"
     ]
    }
   ],
   "source": [
    "for person, fruit in zip(people, fruits):\n",
    "    print(person[0], 'loves', fruit)"
   ]
  },
  {
   "cell_type": "code",
   "execution_count": 12,
   "metadata": {},
   "outputs": [
    {
     "name": "stdout",
     "output_type": "stream",
     "text": [
      "Lada loves peach\n",
      "Oshimenu loves banana\n",
      "Takeshi loves watermelon\n"
     ]
    }
   ],
   "source": [
    "for (person, age), fruit in zip(people, fruits):\n",
    "    print(person, 'loves ' + fruit)"
   ]
  },
  {
   "cell_type": "markdown",
   "metadata": {},
   "source": [
    "En el caso de que uno de los iterables sea más corto que los otros, `zip` usará la longitud del iterable más corto:"
   ]
  },
  {
   "cell_type": "code",
   "execution_count": 13,
   "metadata": {},
   "outputs": [
    {
     "name": "stdout",
     "output_type": "stream",
     "text": [
      "(1, 'a', True) - element is a tuple\n",
      "(2, 'b', True) - element is a tuple\n",
      "(3, 'c', True) - element is a tuple\n"
     ]
    }
   ],
   "source": [
    "list_1 = [1,2,3]\n",
    "list_2 = ['a','b','c','d']\n",
    "list_3 = [True,True,True,True,False]\n",
    "for element in zip(list_1, list_2, list_3):\n",
    "    print(element, '- element is a', element.__class__.__name__)"
   ]
  },
  {
   "cell_type": "markdown",
   "metadata": {},
   "source": [
    "Normalmente, cuando iteramos sobre una lista de tuplas y hay elementos que no vayamos a utilizar, usamos `_` para representar una variable 'vacía':"
   ]
  },
  {
   "cell_type": "code",
   "execution_count": 14,
   "metadata": {},
   "outputs": [
    {
     "name": "stdout",
     "output_type": "stream",
     "text": [
      "['Lada', 'Oshimenu', 'Takeshi']\n",
      "[23, 31, 51]\n"
     ]
    }
   ],
   "source": [
    "names = [name for name, _ in people]\n",
    "ages = [age for _, age in people]\n",
    "print(names)\n",
    "print(ages)"
   ]
  },
  {
   "cell_type": "markdown",
   "metadata": {},
   "source": [
    "Podemos usar `zip(*iterable)` par desempaquetar listas o iterables con tuplas o otros tipos de iterables dentro en tuplas separadas:"
   ]
  },
  {
   "cell_type": "code",
   "execution_count": 15,
   "metadata": {},
   "outputs": [
    {
     "name": "stdout",
     "output_type": "stream",
     "text": [
      "('Lada', 'Oshimenu', 'Takeshi')\n",
      "(23, 31, 51)\n"
     ]
    }
   ],
   "source": [
    "names, ages = zip(*people)\n",
    "print(names)\n",
    "print(ages)"
   ]
  },
  {
   "cell_type": "markdown",
   "metadata": {},
   "source": [
    "**Nota:** no se pueden usar los caracteres `(` o `)` para crear tuplas como lo hacemos con list comprehension ya que eso nos devolveria un generador https://wiki.python.org/moin/Generators."
   ]
  },
  {
   "cell_type": "markdown",
   "metadata": {
    "tags": []
   },
   "source": [
    "#### 1 - Tablero de juego\n",
    "\n",
    "A continuación tienes una lista de tuplas que representan un tablero de un juego imaginario. Cada tupla de la llista tiene dos elementos: el nombre de un jugador y su puntuación. Obten las cantidades siguientes:\n",
    "\n",
    "- El nombre de la persona con la puntuación más alta\n",
    "- El nombre de la persona con la puntuación más baja\n",
    "- La puntuación total\n",
    "- La puntuación media\n",
    "\n",
    "Escribe una función para cada caso que reciba como argumento una lista de tuplas. Para el typing,  asume que la puntuación siempre es un `float`."
   ]
  },
  {
   "cell_type": "code",
   "execution_count": 23,
   "metadata": {},
   "outputs": [
    {
     "name": "stdout",
     "output_type": "stream",
     "text": [
      "David Heredia\n",
      "7.85\n",
      "Carlos Pérez\n",
      "3.626\n",
      "Jinping Xi\n",
      "10.603\n",
      "Luol Deng\n",
      "9.91\n",
      "Alkatum Fas\n",
      "12.02\n",
      "\n",
      "Alkatum Fas ha ganado con 12.02\n"
     ]
    }
   ],
   "source": [
    "scoreboard = [('David Heredia', 7.85),\n",
    "              ('Carlos Pérez', 3.626),\n",
    "              ('Jinping Xi', 10.603),\n",
    "              ('Luol Deng', 9.91),\n",
    "              ('Alkatum Fas', 12.02)]\n",
    "\n",
    "# escribe tu código aquí\n",
    "# 1 iteraré sobre scoreboard y si [1] > [max_score] --> sustituyo ambos\n",
    "\n",
    "\n",
    "max_scorer, max_score = (None, 0)\n",
    "\n",
    "for name, score in scoreboard:\n",
    "    print(name)\n",
    "    print(score)\n",
    "\n",
    "    if score > max_score:\n",
    "        max_scorer = name\n",
    "        max_score = score\n",
    "\n",
    "print(\"\")\n",
    "print(f\"{max_scorer} ha ganado con {max_score}\")\n",
    "\n",
    "    \n",
    "   # print(score[1])"
   ]
  },
  {
   "cell_type": "code",
   "execution_count": 25,
   "metadata": {},
   "outputs": [
    {
     "name": "stdout",
     "output_type": "stream",
     "text": [
      "\n",
      "Alkatum Fas ha ganado con 12.02\n"
     ]
    }
   ],
   "source": [
    "scoreboard = [('David Heredia', 7.85),\n",
    "              ('Carlos Pérez', 3.626),\n",
    "              ('Jinping Xi', 10.603),\n",
    "              ('Luol Deng', 9.91),\n",
    "              ('Alkatum Fas', 12.02)]\n",
    "\n",
    "# escribe tu código aquí\n",
    "# 1 iteraré sobre scoreboard y si [1] > [max_score] --> sustituyo ambos\n",
    "\n",
    "\n",
    "max_scorer = None\n",
    "max_score = 0\n",
    "\n",
    "for name, score in scoreboard:\n",
    "\n",
    "    if score > max_score:\n",
    "        max_scorer = name\n",
    "        max_score = score\n",
    "\n",
    "print(\"\")\n",
    "print(f\"{max_scorer} ha ganado con {max_score}\")\n"
   ]
  },
  {
   "cell_type": "code",
   "execution_count": null,
   "metadata": {},
   "outputs": [],
   "source": [
    "scoreboard = [('David Heredia', 7.85),\n",
    "              ('Carlos Pérez', 3.626),\n",
    "              ('Jinping Xi', 10.603),\n",
    "              ('Luol Deng', 9.91),\n",
    "              ('Alkatum Fas', 12.02)]\n",
    "\n",
    "# escribe tu código aquí\n",
    "# 1 iteraré sobre scoreboard y si [1] < [min_score] --> sustituyo ambos\n",
    "\n",
    "\n",
    "for name, score in scoreboard\n"
   ]
  },
  {
   "cell_type": "code",
   "execution_count": 26,
   "metadata": {},
   "outputs": [
    {
     "name": "stdout",
     "output_type": "stream",
     "text": [
      "44.009\n"
     ]
    }
   ],
   "source": [
    "# puntuación total\n",
    "\n",
    "total = 0\n",
    "\n",
    "for name, score in scoreboard:\n",
    "    total = total + score\n",
    "\n",
    "print(total)\n",
    "        \n"
   ]
  },
  {
   "cell_type": "code",
   "execution_count": 27,
   "metadata": {},
   "outputs": [
    {
     "name": "stdout",
     "output_type": "stream",
     "text": [
      "8.8018\n"
     ]
    }
   ],
   "source": [
    "total = 0\n",
    "\n",
    "for name, score in scoreboard:\n",
    "    total = total + score\n",
    "\n",
    "media = total/len(scoreboard)\n",
    "\n",
    "print(media)"
   ]
  },
  {
   "cell_type": "markdown",
   "metadata": {},
   "source": [
    "#### 2 - Ordenando el juego\n",
    "\n",
    "Define una función llamada `sort_scoreboard` que reciba de entrada una lista de tuplas con los nombres de los jugadores y sus puntuaciones y devuelva una copia de la lista ordenada en función de los nombres.\n",
    "\n",
    "*Pista: crea una función llamada `get_name` con un argumento de entrada que reciba una tupla con el nombre y la puntuación y devuelva solo el nombre*"
   ]
  },
  {
   "cell_type": "code",
   "execution_count": 14,
   "metadata": {},
   "outputs": [
    {
     "name": "stdout",
     "output_type": "stream",
     "text": [
      "El jugador Alkatum Fas tiene 12.02 puntos\n",
      "El jugador Carlos Pérez tiene 3.626 puntos\n",
      "El jugador David Heredia tiene 7.85 puntos\n",
      "El jugador Jinping Xi tiene 10.603 puntos\n",
      "El jugador Luol Deng tiene 9.91 puntos\n"
     ]
    }
   ],
   "source": [
    "# escribe tu código aquí\n",
    "# sort ordena alfabética y numéricamente\n",
    "\n",
    "# OPCION 1:\n",
    "# 1- Defino funcion sort_score_board(scoreboard)\n",
    "# 2- Creo una funcion get_name(tupla) --> Esta funcion me deberia retornar solo\n",
    "# el primer elemento de la tupla\n",
    "# 3- Puedo usar el scoreboard.sort(key=get_name) \n",
    "#    usando como key la funcion que acabo de crear. \n",
    "\n",
    "# OPCION 2:\n",
    "# 1- Iterar sobre scoreboard e ir guardandome el primer elemento de cada tupla\n",
    "# (nombre) en una lista nueva vacia.\n",
    "# 2- Ordenar esa lista nueva que ya no esta vacia usando el metodo sort. \n",
    "\n",
    "scoreboard = [('David Heredia', 7.85),\n",
    "              ('Carlos Pérez', 3.626),\n",
    "              ('Jinping Xi', 10.603),\n",
    "              ('Luol Deng', 9.91),\n",
    "              ('Alkatum Fas', 12.02)]\n",
    "\n",
    "listaNombres = []\n",
    "\n",
    "for name in scoreboard:\n",
    "    listaNombres.append(name)\n",
    "\n",
    "listaNombres.sort()\n",
    "\n",
    "for name in listaNombres:\n",
    "    print(f\"El jugador {name[0]} tiene {name[1]} puntos\")\n",
    "\n",
    "\n",
    "    \n"
   ]
  },
  {
   "cell_type": "code",
   "execution_count": 20,
   "metadata": {},
   "outputs": [
    {
     "ename": "TypeError",
     "evalue": "get_name() missing 1 required positional argument: 'my_tupla'",
     "output_type": "error",
     "traceback": [
      "\u001b[0;31m---------------------------------------------------------------------------\u001b[0m",
      "\u001b[0;31mTypeError\u001b[0m                                 Traceback (most recent call last)",
      "Cell \u001b[0;32mIn[20], line 21\u001b[0m\n\u001b[1;32m     18\u001b[0m     my_scoreboard\u001b[38;5;241m.\u001b[39msort(key \u001b[38;5;241m=\u001b[39m get_name())\n\u001b[1;32m     19\u001b[0m     \u001b[38;5;28mprint\u001b[39m(my_scoreboard)\n\u001b[0;32m---> 21\u001b[0m \u001b[43msort_score_board\u001b[49m\u001b[43m(\u001b[49m\u001b[43mscoreboard\u001b[49m\u001b[43m)\u001b[49m\n",
      "Cell \u001b[0;32mIn[20], line 18\u001b[0m, in \u001b[0;36msort_score_board\u001b[0;34m(my_scoreboard)\u001b[0m\n\u001b[1;32m     17\u001b[0m \u001b[38;5;28;01mdef\u001b[39;00m \u001b[38;5;21msort_score_board\u001b[39m(my_scoreboard):\n\u001b[0;32m---> 18\u001b[0m     my_scoreboard\u001b[38;5;241m.\u001b[39msort(key \u001b[38;5;241m=\u001b[39m \u001b[43mget_name\u001b[49m\u001b[43m(\u001b[49m\u001b[43m)\u001b[49m)\n\u001b[1;32m     19\u001b[0m     \u001b[38;5;28mprint\u001b[39m(my_scoreboard)\n",
      "\u001b[0;31mTypeError\u001b[0m: get_name() missing 1 required positional argument: 'my_tupla'"
     ]
    }
   ],
   "source": [
    "# OPCION 1:\n",
    "# 1- Defino funcion sort_score_board(scoreboard)\n",
    "# 2- Creo una funcion get_name(tupla) --> Esta funcion me deberia retornar solo\n",
    "# el primer elemento de la tupla\n",
    "# 3- Puedo usar el scoreboard.sort(key=get_name) \n",
    "#    usando como key la funcion que acabo de crear. \n",
    "scoreboard = [('David Heredia', 7.85),\n",
    "              ('Carlos Pérez', 3.626),\n",
    "              ('Jinping Xi', 10.603),\n",
    "              ('Luol Deng', 9.91),\n",
    "              ('Alkatum Fas', 12.02)]\n",
    "\n",
    "\n",
    "def get_name(my_tupla):\n",
    "    return my_tupla[0]\n",
    "\n",
    "def sort_score_board(my_scoreboard):\n",
    "    my_scoreboard.sort(key = get_name())\n",
    "    print(my_scoreboard)\n",
    "\n",
    "sort_score_board(scoreboard)\n",
    "\n",
    "#def get_name(my_tupla):\n",
    "#  return my_tupla[0]\n",
    "\n",
    "#def sort_score_board(my_scoreboard):\n",
    "#  my_scoreboard.sort(key=get_name)\n",
    " # print(my_scoreboard)\n",
    "\n",
    "# sort_score_board(scoreboard)\n",
    "\n",
    "\n"
   ]
  },
  {
   "cell_type": "code",
   "execution_count": 22,
   "metadata": {},
   "outputs": [],
   "source": []
  },
  {
   "cell_type": "code",
   "execution_count": 23,
   "metadata": {},
   "outputs": [
    {
     "name": "stdout",
     "output_type": "stream",
     "text": [
      "[('Alkatum Fas', 12.02), ('Carlos Pérez', 3.626), ('David Heredia', 7.85), ('Jinping Xi', 10.603), ('Luol Deng', 9.91)]\n"
     ]
    }
   ],
   "source": [
    "def get_name(my_tupla):\n",
    "  return my_tupla[0]\n",
    "\n",
    "def sort_score_board(my_scoreboard):\n",
    "  my_scoreboard.sort(key=get_name)\n",
    "  print(my_scoreboard)\n",
    "\n",
    "sort_score_board(scoreboard)"
   ]
  },
  {
   "cell_type": "code",
   "execution_count": 29,
   "metadata": {},
   "outputs": [
    {
     "name": "stdout",
     "output_type": "stream",
     "text": [
      "[('Alkatum Fas', 12.02), ('Carlos Pérez', 3.626), ('David Heredia', 7.85), ('Jinping Xi', 10.603), ('Luol Deng', 9.91)]\n"
     ]
    }
   ],
   "source": [
    "#soluciones de FRAN\n",
    "\n",
    "# OPCION 1:\n",
    "# 1- Defino funcion sort_score_board(scoreboard)\n",
    "# 2- Creo una funcion get_name(tupla) --> Esta funcion me deberia retornar solo\n",
    "# el primer elemento de la tupla\n",
    "# 3- Puedo usar el scoreboard.sort(key=get_name) \n",
    "#    usando como key la funcion que acabo de crear. \n",
    "\n",
    "scoreboard = [('David Heredia', 7.85),\n",
    "              ('Carlos Pérez', 3.626),\n",
    "              ('Jinping Xi', 10.603),\n",
    "              ('Luol Deng', 9.91),\n",
    "              ('Alkatum Fas', 12.02)]\n",
    "\n",
    "\n",
    "def sort_scoreboard(scoreboard):\n",
    "    new_scoreboard = scoreboard.copy() #no es estrictamente necesario, pero por buenas prácticas copiamos la lista\n",
    "    new_scoreboard.sort(key = get_name) # (*) + queremos que nos devuelva ordenado en fc de get_name, que ahora crearemos)\n",
    "    return new_scoreboard\n",
    "    \n",
    "#aquí ocurre que cada elemento de la nueva lista es una tupla\n",
    "\n",
    "def get_name(tupla):         # esta get_name espera una tupla (nombre, puntuación)\n",
    "    return tupla[0]\n",
    "    \n",
    "# (*) 1 - crear una nueva lista convirtiendo cada elemento usando get_name\n",
    "#        como transformación\n",
    "#      --> [\"David Heredia\", \"carlos Perez\"...]\n",
    "#     2 - Ordena esa lista nueva\n",
    "# --> alkathum fas...\n",
    "# retorna la lista original, entera, con puntajes\n",
    "\n",
    "print(sort_scoreboard(scoreboard))"
   ]
  },
  {
   "cell_type": "code",
   "execution_count": 36,
   "metadata": {},
   "outputs": [
    {
     "name": "stdout",
     "output_type": "stream",
     "text": [
      "['David Heredia', 'Carlos Pérez', 'Jinping Xi', 'Luol Deng', 'Alkatum Fas']\n",
      "\n",
      "['Alkatum Fas', 'Carlos Pérez', 'David Heredia', 'Jinping Xi', 'Luol Deng']\n",
      "\n"
     ]
    },
    {
     "ename": "TypeError",
     "evalue": "list.append() takes exactly one argument (2 given)",
     "output_type": "error",
     "traceback": [
      "\u001b[0;31m---------------------------------------------------------------------------\u001b[0m",
      "\u001b[0;31mTypeError\u001b[0m                                 Traceback (most recent call last)",
      "Cell \u001b[0;32mIn[36], line 29\u001b[0m\n\u001b[1;32m     27\u001b[0m     \u001b[38;5;28;01mfor\u001b[39;00m scoreboard_name, score \u001b[38;5;129;01min\u001b[39;00m scoreboard:\n\u001b[1;32m     28\u001b[0m         \u001b[38;5;28;01mif\u001b[39;00m scoreboard_name \u001b[38;5;241m==\u001b[39m name:\n\u001b[0;32m---> 29\u001b[0m             \u001b[43mlista_tuplas\u001b[49m\u001b[38;5;241;43m.\u001b[39;49m\u001b[43mappend\u001b[49m\u001b[43m(\u001b[49m\u001b[43mname\u001b[49m\u001b[43m,\u001b[49m\u001b[43m \u001b[49m\u001b[43mscore\u001b[49m\u001b[43m)\u001b[49m\n\u001b[1;32m     31\u001b[0m \u001b[38;5;28mprint\u001b[39m(lista_tuplas)\n",
      "\u001b[0;31mTypeError\u001b[0m: list.append() takes exactly one argument (2 given)"
     ]
    }
   ],
   "source": [
    "# OPCION 2:\n",
    "# 0 crear una lista vacía...\n",
    "# 1- Iterar sobre scoreboard e ir guardandome el primer elemento de cada tupla\n",
    "# (nombre) en una lista nueva vacia.\n",
    "# 2- Ordenar esa lista nueva que ya no esta vacia usando el metodo sort. \n",
    "\n",
    "scoreboard = [('David Heredia', 7.85),\n",
    "              ('Carlos Pérez', 3.626),\n",
    "              ('Jinping Xi', 10.603),\n",
    "              ('Luol Deng', 9.91),\n",
    "              ('Alkatum Fas', 12.02)]\n",
    "\n",
    "lista_nombres = []\n",
    "for nombre, puntuacion in scoreboard:\n",
    "    lista_nombres.append(nombre)\n",
    "\n",
    "print(lista_nombres)\n",
    "print(\"\")\n",
    "\n",
    "lista_nombres.sort()\n",
    "print(lista_nombres)\n",
    "print(\"\")\n",
    "\n",
    "\n",
    "lista_tuplas = []\n",
    "for name in lista_nombres:\n",
    "    for scoreboard_name, score in scoreboard:\n",
    "        if scoreboard_name == name:\n",
    "            lista_tuplas.append(name, score)\n",
    "\n",
    "print(lista_tuplas)\n",
    "    "
   ]
  },
  {
   "cell_type": "markdown",
   "metadata": {},
   "source": [
    "#### 3 - Buenos jugadores\n",
    "\n",
    "Define una función llamada `good_players` que reciba dos argumentos:\n",
    "\n",
    "- El tablero con las puntuaciones\n",
    "- Una puntuación a determinar por el usuario\n",
    "\n",
    "`good_players` tiene que devolver una lista con los nombres de todos los jugadores con una puntuación más alta o igual que la escogida por el usuario."
   ]
  },
  {
   "cell_type": "code",
   "execution_count": 47,
   "metadata": {},
   "outputs": [
    {
     "name": "stdout",
     "output_type": "stream",
     "text": [
      "['Alkatum Fas', 'Carlos Pérez', 'David Heredia', 'Jinping Xi', 'Luol Deng']\n"
     ]
    }
   ],
   "source": [
    "# escribe tu código aquí\n",
    "#1 crear una fc llamada good_players(scoreboard, threshold)\n",
    "#2 crear una lista vacía\n",
    "#3 Itero sobre el scoreboard --> for name, score in scoreboard (porque es lista de tuplas)\n",
    "#4 compruebo que score > threshold\n",
    "#5 si sí, añado name a lista vacía\n",
    "#6 retorno lista vacía\n",
    "\n",
    "scoreboard = [('David Heredia', 7.85),\n",
    "              ('Carlos Pérez', 3.626),\n",
    "              ('Jinping Xi', 10.603),\n",
    "              ('Luol Deng', 9.91),\n",
    "              ('Alkatum Fas', 12.02)]\n",
    "\n",
    "def good_players(my_scoreboard, threshold):\n",
    "    lista_mejores = []\n",
    "    for name, score in my_scoreboard:\n",
    "        if score >= threshold:\n",
    "            lista_mejores.append(name)\n",
    "    #lista_mejores.sort()\n",
    "    return lista_mejores\n",
    "\n",
    "print(good_players(scoreboard, 3))\n",
    "\n"
   ]
  },
  {
   "cell_type": "code",
   "execution_count": 58,
   "metadata": {},
   "outputs": [
    {
     "name": "stdout",
     "output_type": "stream",
     "text": [
      "['Jinping Xi', 'Alkatum Fas']\n",
      "\n",
      "['David Heredia', 'Jinping Xi', 'Luol Deng', 'Alkatum Fas']\n"
     ]
    }
   ],
   "source": [
    "#solución de Fran\n",
    "\n",
    "scoreboard = [('David Heredia', 7.85),\n",
    "              ('Carlos Pérez', 3.626),\n",
    "              ('Jinping Xi', 10.603),\n",
    "              ('Luol Deng', 9.91),\n",
    "              ('Alkatum Fas', 12.02)]\n",
    "\n",
    "def good_players(scoreboard, threshold):\n",
    "    players = []\n",
    "    for name, score in scoreboard:\n",
    "        if score >= threshold:\n",
    "            players.append(name)\n",
    "    return players\n",
    "\n",
    "print(good_players(scoreboard, 10))\n",
    "print(\"\")\n",
    "print(good_players(scoreboard, 5))"
   ]
  },
  {
   "cell_type": "code",
   "execution_count": null,
   "metadata": {},
   "outputs": [],
   "source": []
  },
  {
   "cell_type": "markdown",
   "metadata": {},
   "source": [
    "#### 4 - Separando tuplas\n",
    "\n",
    "Define una función llamada `split_scoreboard` que reciba de argumento la lista con los nombres y las puntuaciones del ejercicio 1 y la separe en dos listas usando `zip`. La primera lista tiene que tener el nombre de todos los jugadores y la segunda sus puntuaciones. Usa desempaquetamiento de tuplas y guarda las listas en dos variables llamadas `players` y `scores` fuera de la función. Qué tipo de dato devuelve la función `split_scoreboard`?"
   ]
  },
  {
   "cell_type": "code",
   "execution_count": 53,
   "metadata": {},
   "outputs": [
    {
     "ename": "TypeError",
     "evalue": "'float' object is not iterable",
     "output_type": "error",
     "traceback": [
      "\u001b[0;31m---------------------------------------------------------------------------\u001b[0m",
      "\u001b[0;31mTypeError\u001b[0m                                 Traceback (most recent call last)",
      "Cell \u001b[0;32mIn[53], line 19\u001b[0m\n\u001b[1;32m     16\u001b[0m     \u001b[38;5;28mprint\u001b[39m(lista_names)\n\u001b[1;32m     17\u001b[0m     \u001b[38;5;28mprint\u001b[39m(lista_scores)\n\u001b[0;32m---> 19\u001b[0m \u001b[43msplit_scoreboard\u001b[49m\u001b[43m(\u001b[49m\u001b[43mscoreboard\u001b[49m\u001b[43m)\u001b[49m\n",
      "Cell \u001b[0;32mIn[53], line 13\u001b[0m, in \u001b[0;36msplit_scoreboard\u001b[0;34m(my_scoreboard)\u001b[0m\n\u001b[1;32m     11\u001b[0m lista_names \u001b[38;5;241m=\u001b[39m []\n\u001b[1;32m     12\u001b[0m lista_scores \u001b[38;5;241m=\u001b[39m []\n\u001b[0;32m---> 13\u001b[0m \u001b[38;5;28;01mfor\u001b[39;00m nombre, puntuación \u001b[38;5;129;01min\u001b[39;00m \u001b[38;5;28;43mzip\u001b[39;49m\u001b[43m(\u001b[49m\u001b[43mname\u001b[49m\u001b[43m,\u001b[49m\u001b[43m \u001b[49m\u001b[43mscore\u001b[49m\u001b[43m)\u001b[49m:\n\u001b[1;32m     14\u001b[0m     lista_names\u001b[38;5;241m.\u001b[39mappend(nombre)\n\u001b[1;32m     15\u001b[0m     lista_scores\u001b[38;5;241m.\u001b[39mappend(puntuacion)\n",
      "\u001b[0;31mTypeError\u001b[0m: 'float' object is not iterable"
     ]
    }
   ],
   "source": [
    "\n",
    "\n",
    "\n",
    "# escribe tu código aquí\n",
    "\n",
    "scoreboard = [('David Heredia', 7.85),\n",
    "              ('Carlos Pérez', 3.626),\n",
    "              ('Jinping Xi', 10.603),\n",
    "              ('Luol Deng', 9.91),\n",
    "              ('Alkatum Fas', 12.02)]\n",
    "\n",
    "\n",
    "def split_scoreboard(my_scoreboard):\n",
    "    lista_names = []\n",
    "    lista_scores = []\n",
    "    for nombre, puntuación in zip(name, score):\n",
    "        lista_names.append(nombre)\n",
    "        lista_scores.append(puntuacion)\n",
    "    print(lista_names)\n",
    "    print(lista_scores)\n",
    "\n",
    "split_scoreboard(scoreboard)"
   ]
  },
  {
   "cell_type": "code",
   "execution_count": null,
   "metadata": {},
   "outputs": [],
   "source": [
    "# Solución de Fran\n",
    "\n",
    "\n",
    "scoreboard = [('David Heredia', 7.85),\n",
    "              ('Carlos Pérez', 3.626),\n",
    "              ('Jinping Xi', 10.603),\n",
    "              ('Luol Deng', 9.91),\n",
    "              ('Alkatum Fas', 12.02)]\n",
    "# queremos hacer dos listas\n",
    "names = []\n",
    "scores = []\n",
    "# iríamos iterando sobre scoreboard y añadiendo nombre a name y score a scores\n",
    "\n",
    "#escribir el código\n",
    "\n",
    "def split_scoreboard\n",
    "\n",
    "\n"
   ]
  },
  {
   "cell_type": "code",
   "execution_count": 65,
   "metadata": {},
   "outputs": [
    {
     "name": "stdout",
     "output_type": "stream",
     "text": [
      "['David Heredia', 'Carlos Pérez', 'Jinping Xi', 'Luol Deng', 'Alkatum Fas']\n",
      "[7.85, 3.626, 10.603, 9.91, 12.02]\n",
      "\n",
      "[('David Heredia', 7.85), ('Carlos Pérez', 3.626), ('Jinping Xi', 10.603), ('Luol Deng', 9.91), ('Alkatum Fas', 12.02)]\n"
     ]
    }
   ],
   "source": [
    "# OPCIÖN ALTERNATIVA, usando el ZIP para deshacer tuplas (no sirve para listas)\n",
    "\n",
    "scoreboard = [('David Heredia', 7.85),\n",
    "              ('Carlos Pérez', 3.626),\n",
    "              ('Jinping Xi', 10.603),\n",
    "              ('Luol Deng', 9.91),\n",
    "              ('Alkatum Fas', 12.02)]\n",
    "\n",
    "names = []\n",
    "scores = []\n",
    "\n",
    "names, scores = list(zip(*scoreboard)) # el truco es el asterisco delante\n",
    "print(list(names))\n",
    "print(list(scores))\n",
    "print(\"\")\n",
    "new_scoreboard = list(zip(names, scores))\n",
    "print(new_scoreboard)"
   ]
  },
  {
   "cell_type": "markdown",
   "metadata": {},
   "source": [
    "#### 5 - Nombres y apellidos\n",
    "\n",
    "Define una función que separe los nombres de los jugadores en dos listas: una con los nombres y otra con los apellidos.\n",
    "\n",
    "*Pista: usa el método `.split()` de las strings*"
   ]
  },
  {
   "cell_type": "code",
   "execution_count": 78,
   "metadata": {},
   "outputs": [
    {
     "name": "stdout",
     "output_type": "stream",
     "text": [
      "['David', 'Carlos', 'Jinping', 'Luol', 'Alkatum']\n",
      "['Heredia', 'Pérez', 'Xi', 'Deng', 'Fas']\n"
     ]
    }
   ],
   "source": [
    "# escribe tu código aquí\n",
    "\n",
    "scoreboard = [('David Heredia', 7.85),\n",
    "              ('Carlos Pérez', 3.626),\n",
    "              ('Jinping Xi', 10.603),\n",
    "              ('Luol Deng', 9.91),\n",
    "              ('Alkatum Fas', 12.02)]\n",
    "\n",
    "\n",
    "# 1 crear las listas vacías names = [], surnames = []\n",
    "# 2 itero sobre fullanmes  --> for fullname in fullnames\n",
    "# 3 cada elemento fullname lo divido usando un espacio como separador\n",
    "# -- > fullname.split(\" \") --> esto nos retorna una lista con cada palabra\n",
    "# 4 guardo en names el primer elemento de la lista, y en surnames el segundo\n",
    "\n",
    "from posixpath import split\n",
    "nombres_completos = ['David Heredia', 'Carlos Pérez', 'Jinping Xi', 'Luol Deng', 'Alkatum Fas']\n",
    "\n",
    "nombres = []\n",
    "apellidos = []\n",
    "\n",
    "def separar_nombres_apellidos(nombres_completos):\n",
    "  for nombre_completo in nombres_completos:\n",
    "    nombre_apellido_separados = nombre_completo.split(\" \")\n",
    "    nombres.append(nombre_apellido_separados[0])\n",
    "    apellidos.append(nombre_apellido_separados[1])\n",
    "  print(nombres)\n",
    "  print(apellidos)\n",
    "\n",
    "separar_nombres_apellidos(nombres_completos)\n"
   ]
  },
  {
   "cell_type": "code",
   "execution_count": 82,
   "metadata": {},
   "outputs": [
    {
     "name": "stdout",
     "output_type": "stream",
     "text": [
      "['David', 'Carlos', 'Jinping', 'Luol', 'Alkatum']\n",
      "['Heredia', 'Pérez', 'Xi', 'Deng', 'Fas']\n"
     ]
    }
   ],
   "source": [
    "# SOLUCION DE FRAN\n",
    "\n",
    "scoreboard = [('David Heredia', 7.85),\n",
    "              ('Carlos Pérez', 3.626),\n",
    "              ('Jinping Xi', 10.603),\n",
    "              ('Luol Deng', 9.91),\n",
    "              ('Alkatum Fas', 12.02)]\n",
    "\n",
    "\n",
    "# 1 crear las listas vacías names = [], surnames = []\n",
    "# 2 itero sobre fullanmes  --> for fullname in fullnames\n",
    "# 3 cada elemento fullname lo divido usando un espacio como separador\n",
    "# -- > fullname.split(\" \") --> esto nos retorna una lista con cada palabra\n",
    "# 4 guardo en names el primer elemento de la lista, y en surnames el segundo\n",
    "\n",
    "\n",
    "fullnames = ['David Heredia', 'Carlos Pérez', 'Jinping Xi', 'Luol Deng', 'Alkatum Fas']\n",
    "\n",
    "#1\n",
    "names = []\n",
    "surnames = []\n",
    "\n",
    "#2\n",
    "for fullname in fullnames:\n",
    "    # print(fullname.split(\" \"))\n",
    "    name_list = fullname.split(\" \") #3divido con split\n",
    "\n",
    " #4 los guardo en listas vacías\n",
    "    names.append(name_list[0])\n",
    "    surnames.append(name_list[1])\n",
    "\n",
    "print(names)\n",
    "print(surnames)"
   ]
  },
  {
   "cell_type": "markdown",
   "metadata": {},
   "source": [
    "#### 6 - Apellido más largo\n",
    "\n",
    "Define una función llamada `longest_string` con 2 parámetros de entrada: una lista de strings `list_of_strings` y un booleano `return_length`. El segundo parámetro tiene que ser `False` por defecto. La función `longest_string` tiene que devolver la string más larga de la lista. En el caso que `return_length` sea `True`, `longest_string` tiene que devolver también la longitud de la string más larga, es decir una tupla con la string y su longitud. Comprueba qué devuelve `longest_string` en los dos casos cuando `return_length = False` y `return_length = True` con la lista de apellidos del ejercicio anterior."
   ]
  },
  {
   "cell_type": "code",
   "execution_count": 84,
   "metadata": {},
   "outputs": [
    {
     "name": "stdout",
     "output_type": "stream",
     "text": [
      "Jinping\n"
     ]
    }
   ],
   "source": [
    "# escriu el teu codi aquí\n",
    "\n",
    "# --> max(key=) --> Buscar el apellido mas largo, len(string)\n",
    "\n",
    "# 1- Definimos funcion llamada longest_string(lista_strings, return_length=False)\n",
    "# 2- Debere encontrar el string mas largo (*) --> string_mas_largo\n",
    "# 3- Mirare si return_length es True.\n",
    "#      3.1- Si es True, retornare (string_mas_largo, len(string_mas_largo))\n",
    "#      3.2 - Si es False, retorno string_mas_largo\n",
    "\n",
    "def longest_string(lista_strings, return_length=False):\n",
    "    string_mas_largo = find_longest_string(lista_strings)\n",
    "    if return_length:\n",
    "        return string_mas_largo, len(string_mas_largo)\n",
    "    else:\n",
    "        return string_mas_largo\n",
    "    \n",
    "# Como encontrar el string mas largo\n",
    "# OPCION 1:\n",
    "# 1- Definir una variable que se llame string_mas_largo= \"\"\n",
    "# 2- Iterar sobre lista_strings --> for string in lista_strings\n",
    "# 3- Comparar len(string) > len(string_mas_largo)\n",
    "# 4- Si esto se cumple, entonces, string_mas_largo = string\n",
    "\n",
    "def find_longest_string(lista_strings):\n",
    "    string_mas_largo = \"\"\n",
    "    for string in lista_strings:\n",
    "        if  len(string) > len(string_mas_largo):\n",
    "            string_mas_largo = string\n",
    "    return string_mas_largo\n",
    "\n",
    "# OPCION 2:\n",
    "# 1- Usando la funcion max de las lists.\n",
    "#     1.1- lista_de_strings.max(key=len)\n",
    "# --> Primero transformamos la lista de strings a lista de longitudes\n",
    "# --> [5, 10, 4, 8, 7, 7, 5]\n",
    "# --> Ordenar esa lista --> [4, 5, 5, 7, 7, 8, 10]\n",
    "# --> Nos retorna el ultimo elemento\n",
    "# la lista original ordenada en base a este nuevo orden \n",
    "\n",
    "def find_longest_string(lista_strings):\n",
    "    string_mas_largo = max(lista_strings, key=len)\n",
    "    return string_mas_largo\n",
    "\n",
    "string_mas_largo = longest_string(['David', 'Carlos', 'Jinping', 'Luol', 'Alkatum']) # lista_strings['David', 'Carlos', 'Jinping', 'Luol', 'Alkatum'], \n",
    "                                                                  #return_length = False\n",
    "string_mas_largo = longest_string(['David', 'Carlos', 'Jinping', 'Luol', 'Alkatum'], False)# lista_strings['David', 'Carlos', 'Jinping', 'Luol', 'Alkatum'], \n",
    "                                                                  #return_length = False\n",
    "string_mas_largo, length_string_mas_largo = longest_string(['David', 'Carlos', 'Jinping', 'Luol', 'Alkatum'], True)# lista_strings['David', 'Carlos', 'Jinping', 'Luol', 'Alkatum'], \n",
    "                                                                  #return_length = True\n",
    "\n",
    "print(string_mas_largo)\n"
   ]
  },
  {
   "cell_type": "markdown",
   "metadata": {},
   "source": [
    "#### 7 - Añadir el índice\n",
    "\n",
    "Ordena el tablero con las puntuaciones del ejercicio 1 de puntuación más baja a más alta. Después, crea un tablero de juego nuevo donde cada tupla tenga tres valores:\n",
    "\n",
    "- La posición en el ránquing del jugador de acuerdo con su puntuación\n",
    "- El nombre completo del jugador\n",
    "- La puntuación del jugador\n",
    "\n",
    "El tablero final tiene que ser el siguiente:\n",
    "\n",
    "```python\n",
    "scoreboard_ranked = [(1, 'Alkatum Fas', 12.02), (2, 'Jinping Xi', 10.603), (3, 'Luol Deng', 9.91), (4, 'David Heredia', 7.85) (5, 'Carlos Pérez', 3.626)]\n",
    "```"
   ]
  },
  {
   "cell_type": "code",
   "execution_count": 103,
   "metadata": {},
   "outputs": [
    {
     "name": "stdout",
     "output_type": "stream",
     "text": [
      "[(0, ('David Heredia', 7.85)), (1, ('Carlos Pérez', 3.626)), (2, ('Jinping Xi', 10.603)), (3, ('Luol Deng', 9.91)), (4, ('Alkatum Fas', 12.02))]\n"
     ]
    }
   ],
   "source": [
    "# escribe tu código aquí\n",
    "\n",
    "scoreboard = [('David Heredia', 7.85),\n",
    "              ('Carlos Pérez', 3.626),\n",
    "              ('Jinping Xi', 10.603),\n",
    "              ('Luol Deng', 9.91),\n",
    "              ('Alkatum Fas', 12.02)]\n",
    "\n",
    "# 1- Ordenar el scoreboard en funcion de la puntuacion. \n",
    "# 2- Una vez ordenado, si yo hacia: for index, (name,score) in enumerate(scoreboard) \n",
    "#   2.1- Me guardaria en una lista vacia que habria declarado antes del for\n",
    "#        lista_vacia.append((index+1, name, score))\n",
    "\n",
    "def get_score(my_tupla):\n",
    "    return my_tupla[1]\n",
    "\n",
    "my_scoreboard = scoreboard.copy()\n",
    "my_scoreboard.sort(key = get_score, reverse = True)\n",
    "\n",
    "#print(list(enumerate(scoreboard,1)))\n",
    "#print(list(enumerate(my_scoreboard,1)))\n",
    "\n",
    "\n",
    "lista_ordenados = []\n",
    "mytuple = index + 1, name, score\n",
    "for mytuple in enumerate(scoreboard):\n",
    "    lista_ordenados.append(mytuple)\n",
    "print(lista_ordenados)\n",
    "\n"
   ]
  },
  {
   "cell_type": "code",
   "execution_count": 113,
   "metadata": {},
   "outputs": [
    {
     "name": "stdout",
     "output_type": "stream",
     "text": [
      "[(1, 'Alkatum Fas', 12.02), (2, 'Jinping Xi', 10.603), (3, 'Luol Deng', 9.91), (4, 'David Heredia', 7.85), (5, 'Carlos Pérez', 3.626)]\n"
     ]
    }
   ],
   "source": [
    "# solucion de FRAN 1\n",
    "\n",
    "# escribe tu código aquí\n",
    "\n",
    "scoreboard = [('David Heredia', 7.85),\n",
    "              ('Carlos Pérez', 3.626),\n",
    "              ('Jinping Xi', 10.603),\n",
    "              ('Luol Deng', 9.91),\n",
    "              ('Alkatum Fas', 12.02)]\n",
    "\n",
    "# 1- Ordenar el scoreboard en funcion de la puntuacion. \n",
    "# 2- Una vez ordenado, si yo hacia: for index, (name,score) in enumerate(scoreboard) \n",
    "#   2.1- Me guardaria en una lista vacia que habria declarado antes del for\n",
    "#        lista_vacia.append((index+1, name, score))\n",
    "\n",
    "# primer subproblema\n",
    "\n",
    "def sort_by_score(scoreboard):\n",
    "    scoreboard.sort(key = get_score)\n",
    "    return list(reversed(scoreboard))\n",
    "\n",
    "def get_score(tupla):\n",
    "    return tupla[1]\n",
    "\n",
    "sorted_scoreboard = sort_by_score(scoreboard)\n",
    "\n",
    "#print(list(enumerate(sorted_scoreboard)))\n",
    "new_scoreboard = []\n",
    "for index, (name, score) in enumerate(sorted_scoreboard):\n",
    "    nueva_tupla = (index + 1, name, score)\n",
    "    new_scoreboard.append(nueva_tupla)\n",
    "\n",
    "print(new_scoreboard)"
   ]
  },
  {
   "cell_type": "code",
   "execution_count": null,
   "metadata": {},
   "outputs": [],
   "source": [
    "# solucion de FRAN 2\n",
    "\n",
    "# escribe tu código aquí\n",
    "\n",
    "scoreboard = [('David Heredia', 7.85),\n",
    "              ('Carlos Pérez', 3.626),\n",
    "              ('Jinping Xi', 10.603),\n",
    "              ('Luol Deng', 9.91),\n",
    "              ('Alkatum Fas', 12.02)]\n",
    "\n",
    "# 1- Ordenar el scoreboard en funcion de la puntuacion. \n",
    "# 2- Una vez ordenado, si yo hacia: for index, (name,score) in enumerate(scoreboard) \n",
    "#   2.1- Me guardaria en una lista vacia que habria declarado antes del for\n",
    "#        lista_vacia.append((index+1, name, score))\n",
    "\n",
    "# primer subproblema\n",
    "\n",
    "def sort_by_score(scoreboard):\n",
    "    scoreboard.sort(key = get_score, reverse = True)\n",
    "    return scoreboard\n",
    "\n",
    "\n",
    "def get_score(tupla):\n",
    "    return tupla[1]\n",
    "\n",
    "print(sort_by_score(scoreboard))\n"
   ]
  },
  {
   "cell_type": "markdown",
   "metadata": {
    "tags": []
   },
   "source": [
    "#### 8 - Intercalando tuplas\n",
    "\n",
    "A continuación tienes las letras del abecedario separadas en dos tuplas de manera intercalada:\n",
    "\n",
    "- a, c, e, g, i, k, m, o, q, s, u, w, y\n",
    "- b, d, f, h, j, l, n, p, r, t, v, x, z\n",
    "\n",
    "Define una tupla nueva llamada `abecedario` con el abecedario ordenado juntando las dos tuplas anteriores."
   ]
  },
  {
   "cell_type": "code",
   "execution_count": 120,
   "metadata": {},
   "outputs": [
    {
     "name": "stdout",
     "output_type": "stream",
     "text": [
      "('a', 'b', 'c', 'd', 'e', 'f', 'g', 'h', 'i', 'j', 'k', 'l', 'm', 'n', 'o', 'p', 'q', 'r', 's', 't', 'u', 'v', 'w', 'x', 'y', 'z')\n",
      "<class 'tuple'>\n"
     ]
    }
   ],
   "source": [
    "ace = ('a', 'c', 'e', 'g', 'i', 'k', 'm', 'o', 'q', 's', 'u', 'w', 'y')\n",
    "bdf = ('b', 'd', 'f', 'h', 'j', 'l', 'n', 'p', 'r', 't', 'v', 'x', 'z')\n",
    "\n",
    "# escribe tu código aquí\n",
    "\n",
    "# mytuple = tuple(sorted(ace+bdf))\n",
    "print(tuple(sorted(ace+bdf)))\n",
    "print(type(mytuple))\n"
   ]
  },
  {
   "cell_type": "code",
   "execution_count": 136,
   "metadata": {},
   "outputs": [
    {
     "name": "stdout",
     "output_type": "stream",
     "text": [
      "(('a', 'b'), ('c', 'd'), ('e', 'f'), ('g', 'h'), ('i', 'j'), ('k', 'l'), ('m', 'n'), ('o', 'p'), ('q', 'r'), ('s', 't'), ('u', 'v'), ('w', 'x'), ('y', 'z'))\n",
      "('a', 'b', 'c', 'd', 'e', 'f', 'g', 'h', 'i', 'j', 'k', 'l', 'm', 'n', 'o', 'p', 'q', 'r', 's', 't', 'u', 'v', 'w', 'x', 'y', 'z')\n"
     ]
    }
   ],
   "source": [
    "\n",
    "\n",
    "# escriu el teu codi aquí\n",
    "\n",
    "\n",
    "\n",
    "\n",
    "###\n",
    "#PSEUDOCODIGO:\n",
    "#Objetivo: Crear un nuevo tuple --> (\"a\", \"b\", \"c\", \"d\", ..., \"z\")\n",
    "#1- Juntar las dos listas con un zip ZIPPED_LIST--> [(\"a\", \"b\"), (\"c\", \"d\"), ..., (\"y\", \"z\")]\n",
    "#Crear lista vacia llamada alphabet.\n",
    "#FOR:\n",
    "#Cada elemento de ZIPPED_LIST:\n",
    " #   - Guardare en alphabet el primer valor del elemento.\n",
    " #   - Guardare en alphabet el segundo valor del elemento. \n",
    "#Una vez tenga la lista alphabet completa, convertirla en tuple --> tuple(alphabet)\n",
    "###\n",
    "\n",
    "ace = ('a', 'c', 'e', 'g', 'i', 'k', 'm', 'o', 'q', 's', 'u', 'w', 'y')\n",
    "bdf = ('b', 'd', 'f', 'h', 'j', 'l', 'n', 'p', 'r', 't', 'v', 'x', 'z')\n",
    "\n",
    "mytuple = tuple(sorted(zip(ace,bdf)))\n",
    "print(mytuple)\n",
    "\n",
    "\n",
    "lista_alfabeto = []\n",
    "for letras in mytuple:\n",
    "  lista_alfabeto.append(letras[0])\n",
    "  lista_alfabeto.append(letras[1])\n",
    "print(tuple(lista_alfabeto))\n",
    "\n",
    "###\n",
    "#OPCION 2: Mirar built-in function llamada \"sorted\" y a pensar\n",
    "#como usarla para este caso (con una linea de codigo bastaria).\n",
    "###\n",
    "\n",
    "\n",
    "\n"
   ]
  },
  {
   "cell_type": "code",
   "execution_count": 142,
   "metadata": {},
   "outputs": [
    {
     "name": "stdout",
     "output_type": "stream",
     "text": [
      "('a', 'b', 'c', 'd', 'e', 'f', 'g', 'h', 'i', 'j', 'k', 'l', 'm', 'n', 'o', 'p', 'q', 'r', 's', 't', 'u', 'v', 'w', 'x', 'y', 'z')\n"
     ]
    }
   ],
   "source": [
    "#SOLUCIÓN DE FRAN, DOS MANERAS\n",
    "\n",
    "\n",
    "# escriu el teu codi aquí\n",
    "\n",
    "\n",
    "ace = ('a', 'c', 'e', 'g', 'i', 'k', 'm', 'o', 'q', 's', 'u', 'w', 'y')\n",
    "bdf = ('b', 'd', 'f', 'h', 'j', 'l', 'n', 'p', 'r', 't', 'v', 'x', 'z')\n",
    "\n",
    "###\n",
    "#PSEUDOCODIGO:\n",
    "#Objetivo: Crear un nuevo tuple --> (\"a\", \"b\", \"c\", \"d\", ..., \"z\")\n",
    "#1- Juntar las dos listas con un zip ZIPPED_LIST--> [(\"a\", \"b\"), (\"c\", \"d\"), ..., (\"y\", \"z\")]\n",
    "#Crear lista vacia llamada alphabet.\n",
    "#FOR:\n",
    "#Cada elemento de ZIPPED_LIST:\n",
    " #   - Guardare en alphabet el primer valor del elemento.\n",
    " #   - Guardare en alphabet el segundo valor del elemento. \n",
    "#Una vez tenga la lista alphabet completa, convertirla en tuple --> tuple(alphabet)\n",
    "###\n",
    "\n",
    "zipped_list = zip(ace, bdf)\n",
    "\n",
    "\n",
    "alphabet = []\n",
    "for element in zipped_list:\n",
    "    alphabet.append(element[0])\n",
    "    alphabet.append(element[1])\n",
    "\n",
    "final_alphabet = tuple(alphabet)\n",
    "print(final_alphabet)\n",
    "\n",
    "###\n",
    "#OPCION 2: Mirar built-in function llamada \"sorted\" y a pensar\n",
    "#como usarla para este caso (con una linea de codigo bastaria).\n",
    "###\n",
    "\n"
   ]
  },
  {
   "cell_type": "code",
   "execution_count": 146,
   "metadata": {},
   "outputs": [
    {
     "name": "stdout",
     "output_type": "stream",
     "text": [
      "('a', 'c', 'e', 'g', 'i', 'k', 'm', 'o', 'q', 's', 'u', 'w', 'y', 'b', 'd', 'f', 'h', 'j', 'l', 'n', 'p', 'r', 't', 'v', 'x', 'z')\n",
      "['a', 'b', 'c', 'd', 'e', 'f', 'g', 'h', 'i', 'j', 'k', 'l', 'm', 'n', 'o', 'p', 'q', 'r', 's', 't', 'u', 'v', 'w', 'x', 'y', 'z']\n",
      "('a', 'b', 'c', 'd', 'e', 'f', 'g', 'h', 'i', 'j', 'k', 'l', 'm', 'n', 'o', 'p', 'q', 'r', 's', 't', 'u', 'v', 'w', 'x', 'y', 'z')\n"
     ]
    }
   ],
   "source": [
    "ace = ('a', 'c', 'e', 'g', 'i', 'k', 'm', 'o', 'q', 's', 'u', 'w', 'y')\n",
    "bdf = ('b', 'd', 'f', 'h', 'j', 'l', 'n', 'p', 'r', 't', 'v', 'x', 'z')\n",
    "\n",
    "print(ace+bdf)\n",
    "\n",
    "print(sorted(ace+bdf))\n",
    "\n",
    "print(tuple(sorted(ace+bdf)))\n"
   ]
  },
  {
   "cell_type": "markdown",
   "metadata": {},
   "source": [
    "#### 9 - Inputs de una función\n",
    "\n",
    "Define una función lamada `loves_chocolate` que reciba tres parámetros de entrada: Un nombre (`str`), una edad (`int`) y si le gusta o no el chocolate (`bool`). La función no tiene que devolver nada, simplemente imprimir el siguiente mensaje:\n",
    "\n",
    "- En caso que no le guste el chocolate \n",
    "\n",
    "```python\n",
    "nombre + ' is ' + str(edad) +  ' years old and somehow does not like chocolate'\n",
    "```\n",
    "\n",
    "- En caso que le guste el chocolate\n",
    "\n",
    "```python\n",
    "nombre + ' is ' + str(edad) +  ' years old and loves chocolate'\n",
    "```\n",
    "\n",
    "Crea una tupla con los inputs de la función y llama la función `loves_chocolate` deconstruyendo la tupla usando el operador `*`."
   ]
  },
  {
   "cell_type": "code",
   "execution_count": 154,
   "metadata": {},
   "outputs": [
    {
     "name": "stdout",
     "output_type": "stream",
     "text": [
      "Fran is 30 years old and loves chocolate\n",
      "Fran is 30 years old and somehow does not like chocolate\n",
      "Fran is 30 years old and loves chocolate\n"
     ]
    }
   ],
   "source": [
    "# escribe tu código aquí\n",
    "\n",
    "def loves_chocolate(name, age, likes_chocolate):\n",
    "    if likes_chocolate:\n",
    "        print(name + \" is \" + str(age) + ' years old and loves chocolate')\n",
    "    else:\n",
    "        print(name + ' is ' + str(age) +  ' years old and somehow does not like chocolate')\n",
    "\n",
    "loves_chocolate(\"Fran\", 30, True)\n",
    "loves_chocolate(\"Fran\", 30, False)\n",
    "\n",
    "\n",
    "input_tuple = (\"Fran\", 30, True)\n",
    "loves_chocolate(*input_tuple)  #el asterisco deconstruye las tuplas"
   ]
  },
  {
   "cell_type": "code",
   "execution_count": null,
   "metadata": {},
   "outputs": [],
   "source": []
  }
 ],
 "metadata": {
  "kernelspec": {
   "display_name": "Python 3 (ipykernel)",
   "language": "python",
   "name": "python3"
  },
  "language_info": {
   "codemirror_mode": {
    "name": "ipython",
    "version": 3
   },
   "file_extension": ".py",
   "mimetype": "text/x-python",
   "name": "python",
   "nbconvert_exporter": "python",
   "pygments_lexer": "ipython3",
   "version": "3.11.10"
  }
 },
 "nbformat": 4,
 "nbformat_minor": 4
}
