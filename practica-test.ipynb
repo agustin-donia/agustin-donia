{
 "cells": [
  {
   "cell_type": "markdown",
   "metadata": {},
   "source": [
    "# Práctica para el primer Test de Python\n",
    "\n",
    "<h2> Pon a prueba tu aprendizaje :) </h2>"
   ]
  },
  {
   "cell_type": "markdown",
   "metadata": {
    "tags": []
   },
   "source": [
    "#### 1 - Count\n",
    "\n",
    "Define una función llamada `count` que tenga un argumento de entrada que sea un entero $N$ e imprima los números de $0$ a $N$ usando un loop."
   ]
  },
  {
   "cell_type": "code",
   "execution_count": 25,
   "metadata": {},
   "outputs": [
    {
     "name": "stdout",
     "output_type": "stream",
     "text": [
      "0\n",
      "1\n",
      "2\n",
      "3\n",
      "4\n",
      "5\n"
     ]
    }
   ],
   "source": [
    "def count(n):\n",
    "    i = 0\n",
    "    while i <= n:\n",
    "        print(i)\n",
    "        i = i + 1\n",
    "\n",
    "count(5)"
   ]
  },
  {
   "cell_type": "code",
   "execution_count": null,
   "metadata": {},
   "outputs": [],
   "source": []
  },
  {
   "cell_type": "code",
   "execution_count": 32,
   "metadata": {},
   "outputs": [
    {
     "name": "stdout",
     "output_type": "stream",
     "text": [
      "[0, 1, 2, 3, 4, 5, 6, 7]\n"
     ]
    }
   ],
   "source": [
    "def count(n):\n",
    "    lista = []\n",
    "    for elem in range(n+1):\n",
    "        lista.append(elem)\n",
    "    return lista\n",
    "\n",
    "print(count(7))"
   ]
  },
  {
   "cell_type": "raw",
   "metadata": {},
   "source": [
    "Define una función llamada count que tenga un argumento de entrada que sea un entero e imprima los números de a N usando un loop."
   ]
  },
  {
   "cell_type": "code",
   "execution_count": 42,
   "metadata": {},
   "outputs": [
    {
     "name": "stdout",
     "output_type": "stream",
     "text": [
      "0\n",
      "1\n",
      "2\n",
      "3\n",
      "4\n"
     ]
    }
   ],
   "source": [
    "\n",
    "#PSEUDOCODIGO\n",
    " #                   INPUT: número enetro N\n",
    "  #                  OUTUPU_ Nada, sino que imprime los número 0 a N usando un for\n",
    "\n",
    "\n",
    "def count(n):\n",
    "    for elem in range(n+1):\n",
    "        print(elem)\n",
    "        \n",
    "count(4)\n",
    "\n"
   ]
  },
  {
   "cell_type": "markdown",
   "metadata": {},
   "source": [
    "#### 2 - Count Build\n",
    "\n",
    "Define una función llamada `count_build` que tenga de argumento de entrada un entero $N$ e imprima el siguiente patrón:\n",
    "\n",
    "Si $N=3$, el output es\n",
    "\n",
    "```python\n",
    "[0]\n",
    "[0, 1]\n",
    "[0, 1, 2]\n",
    "[0, 1, 2, 3]\n",
    "```\n"
   ]
  },
  {
   "cell_type": "code",
   "execution_count": 12,
   "metadata": {},
   "outputs": [
    {
     "name": "stdout",
     "output_type": "stream",
     "text": [
      "[0, 1, 2, 3, 4, 5, 6, 7]\n"
     ]
    }
   ],
   "source": [
    "# escribe tu código aquí\n",
    "\n",
    "\n",
    "def count(n):\n",
    "    lista = []\n",
    "    for elem in range(n+1):\n",
    "        lista.append(elem)\n",
    "    return lista\n",
    "\n",
    "print(count(7))\n",
    "\n"
   ]
  },
  {
   "cell_type": "markdown",
   "metadata": {},
   "source": [
    "def count_build(N):\n",
    "lista = []\n",
    "    "
   ]
  },
  {
   "cell_type": "code",
   "execution_count": 44,
   "metadata": {},
   "outputs": [
    {
     "name": "stdout",
     "output_type": "stream",
     "text": [
      "[0]\n",
      "[0, 1]\n",
      "[0, 1, 2]\n",
      "[0, 1, 2, 3]\n",
      "[0, 1, 2, 3, 4]\n"
     ]
    }
   ],
   "source": [
    "def count(m):\n",
    "    for elemento in range(m+1):\n",
    "        lista.append(elemento)\n",
    "        print(lista)\n",
    "\n",
    "count(4)"
   ]
  },
  {
   "cell_type": "code",
   "execution_count": null,
   "metadata": {},
   "outputs": [],
   "source": []
  },
  {
   "cell_type": "markdown",
   "metadata": {},
   "source": [
    "#### 3 - Element Search"
   ]
  },
  {
   "cell_type": "markdown",
   "metadata": {},
   "source": [
    "Define una función llamada `element_search` que tenga dos argumentos de entrada: una lista y un elemento cualquiera. `element_search` tiene que devolver un booleano (`True` o `False`) indicando si el elemento se encuentra en la lista o no."
   ]
  },
  {
   "cell_type": "code",
   "execution_count": 85,
   "metadata": {},
   "outputs": [
    {
     "name": "stdout",
     "output_type": "stream",
     "text": [
      "False\n",
      "True\n"
     ]
    }
   ],
   "source": [
    "list_input = ['Write', 'a', 'function', 'that', 'takes', 'a', 'list']\n",
    "\n",
    "def element_search(lista, elemento):\n",
    "    for comprobacion in lista:\n",
    "        if comprobacion == elemento:\n",
    "            return True\n",
    "        \n",
    "    return False\n",
    "            \n",
    "print(element_search(list_input, ('pis')))\n",
    "print(element_search(list_input, ('that')))\n",
    "\n",
    "        \n",
    "\n",
    "\n",
    "\n",
    "\n"
   ]
  },
  {
   "cell_type": "markdown",
   "metadata": {},
   "source": []
  },
  {
   "cell_type": "code",
   "execution_count": 27,
   "metadata": {},
   "outputs": [
    {
     "name": "stdout",
     "output_type": "stream",
     "text": [
      "[0]\n",
      "[0, 1]\n",
      "[0, 1, 2]\n",
      "[0, 1, 2, 3]\n",
      "[0, 1, 2, 3, 4]\n"
     ]
    }
   ],
   "source": [
    "\n",
    "\n",
    "def count_build(n):\n",
    "    lista_nums = []\n",
    "    for numero in range(n+1):\n",
    "        lista_nums.append(numero)\n",
    "        print(lista_nums)\n",
    "\n",
    "count_build(4)\n",
    "           "
   ]
  },
  {
   "cell_type": "markdown",
   "metadata": {},
   "source": [
    "#### practica de 3\n",
    "\n",
    "Define una función llamada `element_search` que tenga dos argumentos de entrada: una lista y un elemento cualquiera. `element_search` tiene que devolver un booleano (`True` o `False`) indicando si el elemento se encuentra en la lista o no."
   ]
  },
  {
   "cell_type": "code",
   "execution_count": 45,
   "metadata": {},
   "outputs": [
    {
     "data": {
      "text/plain": [
       "True"
      ]
     },
     "execution_count": 45,
     "metadata": {},
     "output_type": "execute_result"
    }
   ],
   "source": [
    "lista1 = [\"ramon\", 3, 4, 5]\n",
    "\n",
    "def element_search(lista1, e):\n",
    "    for elem in lista1:\n",
    "        if elem in lista1:\n",
    "            return True\n",
    "        else:\n",
    "            return False\n",
    "\n",
    "\n",
    "element_search(lista1, \"ramon\")\n",
    "\n",
    "    "
   ]
  },
  {
   "cell_type": "markdown",
   "metadata": {
    "tags": []
   },
   "source": [
    "#### 4 - List Overlap\n",
    "\n",
    "Define una función llamada `list_overlap` que reciba como argumentos dos listas y devuelva una nueva lista con los elementos que tengan en común las dos listas de entrada sin duplicados."
   ]
  },
  {
   "cell_type": "code",
   "execution_count": 107,
   "metadata": {},
   "outputs": [
    {
     "name": "stdout",
     "output_type": "stream",
     "text": [
      "[1, 2, 3, 5, 8, 13]\n"
     ]
    }
   ],
   "source": [
    "list_a = [1, 1, 2, 3, 5, 8, 13, 21, 34, 55, 89]\n",
    "list_b = [1, 2, 3, 4, 5, 5, 6, 7, 8, 9, 10, 11, 12, 13]\n",
    "nueva_lista = []\n",
    "\n",
    "list_a = list(set(list_a))\n",
    "list_b = list(set(list_b))\n",
    "              \n",
    "#print(list_a)\n",
    "#print(list_b)\n",
    "              \n",
    "def list_overlap(lista1, lista2):\n",
    "\n",
    "    for elem in lista1:\n",
    "        if elem in lista2:\n",
    "            nueva_lista.append(elem)\n",
    "    return nueva_lista\n",
    "    \n",
    "    \n",
    "print(list_overlap(list_a, list_b))\n",
    "    \n",
    "\n",
    "# escribe tu código aquí"
   ]
  },
  {
   "cell_type": "code",
   "execution_count": 46,
   "metadata": {},
   "outputs": [
    {
     "name": "stdout",
     "output_type": "stream",
     "text": [
      "[1, 2, 3, 5, 8, 13]\n"
     ]
    }
   ],
   "source": [
    "list_A = [1, 1, 2, 3, 5, 8, 13, 21, 34, 55, 89]\n",
    "list_B = [1, 2, 3, 4, 5, 5, 6, 7, 8, 9, 10, 11, 12, 13]\n",
    "nueva_lista = []\n",
    "\n",
    "\n",
    "#print(list_a)\n",
    "#print(list_b)\n",
    "              \n",
    "def list_overlap(lista1, lista2):\n",
    "\n",
    "    for elem in lista1:\n",
    "        if elem in lista2:\n",
    "            nueva_lista.append(elem)\n",
    "            \n",
    "    return list(set(nueva_lista))\n",
    "\n",
    "print(list_overlap(list_A, list_B))\n",
    "    \n"
   ]
  },
  {
   "cell_type": "markdown",
   "metadata": {},
   "source": [
    "#### PRACTICA EJERCICIO 4 repetido\n",
    "\n",
    "Define una función llamada list_overlap que reciba como argumentos dos listas y devuelva una nueva lista con los elementos que tengan en común las dos listas de entrada sin duplicados."
   ]
  },
  {
   "cell_type": "code",
   "execution_count": 57,
   "metadata": {},
   "outputs": [
    {
     "data": {
      "text/plain": [
       "{1, 2, 3, 5, 8, 13}"
      ]
     },
     "execution_count": 57,
     "metadata": {},
     "output_type": "execute_result"
    }
   ],
   "source": [
    "list_a = [1, 1, 2, 3, 5, 8, 13, 21, 34, 55, 89]\n",
    "list_b = [1, 2, 3, 4, 5, 5, 6, 7, 8, 9, 10, 11, 12, 13]\n",
    "nueva_lista = []\n",
    "\n",
    "def list_overlap(list1, list2):\n",
    "    for elem in list1:\n",
    "        if elem in list2:\n",
    "            nueva_lista.append(elem)\n",
    "    return set(nueva_lista)\n",
    "\n",
    "list_overlap(list_a, list_b) # este lo hice solo\n"
   ]
  },
  {
   "cell_type": "code",
   "execution_count": 60,
   "metadata": {},
   "outputs": [
    {
     "name": "stdout",
     "output_type": "stream",
     "text": [
      "{1, 2, 3, 4, 5, 8, 13}\n"
     ]
    }
   ],
   "source": [
    "list_a = [1, 1, 2, 3, 4, 5, 8, 13, 21, 34, 55, 89]\n",
    "list_b = [1, 2, 3, 4, 5, 5, 6, 7, 8, 9, 10, 11, 12, 13]\n",
    "nueva_lista = []\n",
    "\n",
    "def list_overlap1(list_a, list_b):\n",
    "    return list(set(list_a) & (set(list_b)))\n",
    "\n",
    "print(list_overlap(list_a, list_b))"
   ]
  },
  {
   "cell_type": "code",
   "execution_count": 61,
   "metadata": {},
   "outputs": [
    {
     "name": "stdout",
     "output_type": "stream",
     "text": [
      "[1, 2, 3, 4, 5, 8, 13]\n"
     ]
    }
   ],
   "source": [
    "list_a = [1, 1, 2, 3, 4, 5, 8, 13, 21, 34, 55, 89]\n",
    "list_b = [1, 2, 3, 4, 5, 5, 6, 7, 8, 9, 10, 11, 12, 13]\n",
    "nueva_lista = []\n",
    "\n",
    "def list_overlap_classic(list_a, list_b):\n",
    "\n",
    "    list_overlap = []\n",
    "    for numero in list_a:\n",
    "        if numero in list_b and numero not in list_overlap:\n",
    "            list_overlap.append(numero)\n",
    "    return list_overlap\n",
    "\n",
    "print(list_overlap_classic(list_a, list_b))"
   ]
  },
  {
   "cell_type": "markdown",
   "metadata": {
    "tags": []
   },
   "source": [
    "#### 5 - Palindrome\n",
    "\n",
    "Escribe una función que compruebe si un número es palíndromo o no. Por ejemplo, 121 y 131 son números palíndromos, pero 123 no lo es. \n",
    "La función puede devolver `True` o `False` o imprimir un mensaje."
   ]
  },
  {
   "cell_type": "code",
   "execution_count": 181,
   "metadata": {},
   "outputs": [
    {
     "ename": "IndentationError",
     "evalue": "unexpected indent (3086565685.py, line 20)",
     "output_type": "error",
     "traceback": [
      "\u001b[0;36m  Cell \u001b[0;32mIn[181], line 20\u001b[0;36m\u001b[0m\n\u001b[0;31m    while contador_inicio <= mitad_digitos:\u001b[0m\n\u001b[0m    ^\u001b[0m\n\u001b[0;31mIndentationError\u001b[0m\u001b[0;31m:\u001b[0m unexpected indent\n"
     ]
    }
   ],
   "source": [
    "\n",
    "import math\n",
    "\n",
    "def es_palindromo(n):\n",
    "    n_str = str(n)\n",
    "    cant = len(n_str)\n",
    "    mitad_digitos = int(cant / 2)\n",
    "\n",
    "    if mitad_digitos % 2 != 0:\n",
    "        mitad_digitos = math.floor(mitad_digitos)\n",
    "        return mitad_digitos\n",
    "    else:\n",
    "        return mitad_digitos\n",
    "        \n",
    "# print(es_palindromo(273443439388888858612))\n",
    "\n",
    "#N = n\n",
    "contador_inicio = []\n",
    "\n",
    "    while contador_inicio <= mitad_digitos:\n",
    "        if n_str[0] == n_str[-1]:\n",
    "        contador_inicio = contador_inicio + 1\n",
    "            return True\n",
    "    return False\n",
    "\n",
    "print(es_palindromo(123444321)\n",
    "  \n"
   ]
  },
  {
   "cell_type": "code",
   "execution_count": 50,
   "metadata": {},
   "outputs": [
    {
     "name": "stdout",
     "output_type": "stream",
     "text": [
      "True\n",
      "False\n",
      "False\n",
      "True\n"
     ]
    }
   ],
   "source": [
    "def es_palindromo(n):\n",
    "    n_str = str(n)\n",
    "    for elem in n_str:\n",
    "        if n_str == n_str[::-1]:\n",
    "            return True\n",
    "        else:\n",
    "            return False\n",
    "\n",
    "print(es_palindromo(121))\n",
    "print(es_palindromo(1223))\n",
    "print(es_palindromo(1224))\n",
    "print(es_palindromo(277656772))"
   ]
  },
  {
   "cell_type": "code",
   "execution_count": 194,
   "metadata": {},
   "outputs": [
    {
     "name": "stdout",
     "output_type": "stream",
     "text": [
      "True\n",
      "False\n",
      "False\n",
      "True\n"
     ]
    }
   ],
   "source": [
    "def es_palindromo(n):\n",
    "    n_str = str(n)\n",
    "    return n_str == n_str[::-1]\n",
    "\n",
    "\n",
    "print(es_palindromo(121))\n",
    "print(es_palindromo(1223))\n",
    "print(es_palindromo(1224))\n",
    "print(es_palindromo(277656772))"
   ]
  },
  {
   "cell_type": "code",
   "execution_count": 78,
   "metadata": {},
   "outputs": [
    {
     "name": "stdout",
     "output_type": "stream",
     "text": [
      "False\n"
     ]
    }
   ],
   "source": [
    "def is_palindrom(numero):\n",
    "    num_str = str(numero)\n",
    "    num_str_reversed = num_str[::-1]\n",
    "    if num_str == num_str_reversed:\n",
    "        return True\n",
    "    else:\n",
    "        return False\n",
    "\n",
    "print(is_palindrom(1234))\n",
    "\n"
   ]
  },
  {
   "cell_type": "markdown",
   "metadata": {},
   "source": [
    "#### 6 - Birthdays\n",
    "\n",
    "Pregunta a tus compañer@s del bootcamp qué día cumplen años y crea un diccionario llamado `birthday_dictionary` donde las *keys* sean los nombres y los *values* sean las fechas. \n",
    "\n",
    "Por ejemplo: \n",
    "\n",
    "```python\n",
    "{\"Minyoung\": \"Jan 1\", \"Elita\": \"Jan 2\"}\n",
    "```"
   ]
  },
  {
   "cell_type": "code",
   "execution_count": 52,
   "metadata": {},
   "outputs": [
    {
     "name": "stdout",
     "output_type": "stream",
     "text": [
      "{'ramon': 'Jan 1', 'pedro': 'Jan 2', 'julián': 'Feb 23'}\n"
     ]
    }
   ],
   "source": [
    "# escribe tu código aquí\n",
    "\n",
    "\n",
    "birthday_dictionary = {\"ramon\": \"Jan 1\", \"pedro\": \"Jan 2\", \"julián\" : \"Feb 23\"}\n",
    "\n",
    "print(birthday_dictionary)\n",
    "\n"
   ]
  },
  {
   "cell_type": "markdown",
   "metadata": {
    "tags": []
   },
   "source": [
    "#### 7 - Birthday json\n",
    "\n",
    "Crea un objeto llamado `json_birthday` con `json.dumps()` y dando como valor de entrada un diccionario. Imprímelo a continuación. Haz que el resultat sea más visual usando parámetros como `indent` y `separators` como argumentos de la función `dumps`."
   ]
  },
  {
   "cell_type": "code",
   "execution_count": 219,
   "metadata": {},
   "outputs": [
    {
     "name": "stdout",
     "output_type": "stream",
     "text": [
      "{\n",
      "                                        \"Nombre\" --> \"Juan\" ! \n",
      "                                        \"fecha\" --> \"23 des\" ! \n",
      "                                        \"Anio\" --> \"1987\"\n",
      "}\n"
     ]
    }
   ],
   "source": [
    "# escribe tu código aquí\n",
    "import json\n",
    "\n",
    "diccionario = {\n",
    "    \"Nombre\": \"Juan\",\n",
    "    \"fecha\" : \"23 des\",\n",
    "    \"Anio\"   : \"1987\"\n",
    "}\n",
    "\n",
    "json_birthday = json.dumps(diccionario, indent=40, separators=(\" ! \", \" --> \"))\n",
    "\n",
    "print(json_birthday)\n"
   ]
  },
  {
   "cell_type": "markdown",
   "metadata": {
    "tags": []
   },
   "source": [
    "#### Currículum Vitaes\n",
    "\n",
    "A continuación tienes una lista de currículums (diccionarios) que contienen información sobre candidatos y sus trabajos anteriores."
   ]
  },
  {
   "cell_type": "code",
   "execution_count": null,
   "metadata": {},
   "outputs": [],
   "source": [
    "cvs = [{'user': 'foo', 'jobs': ['data monkey', 'copyist', 'wrecking ball operator']},\n",
    "       {'user': 'bar', 'jobs': ['wrecking ball operator', 'poet']},\n",
    "       {'user': 'baz', 'jobs': ['dancer', 'waitstaff']},\n",
    "       {'user': 'qux', 'jobs': ['wrecking ball operator', 'waitstaff']}]"
   ]
  },
  {
   "cell_type": "markdown",
   "metadata": {
    "tags": []
   },
   "source": [
    "#### 8 - Has Experience As\n",
    "Escribe una función llamada `has_experience_as` que tenga dos parámetros de entrada:\n",
    "\n",
    "1. Una lista de CV's\n",
    "2. Una string llamada `job_title` que sea el nombre de un trabajo o profesión\n",
    "\n",
    "La función debe devolver una lista de strings con los noms de los usuarios que hayan trabajado de `job_title`."
   ]
  },
  {
   "cell_type": "code",
   "execution_count": 225,
   "metadata": {},
   "outputs": [
    {
     "name": "stdout",
     "output_type": "stream",
     "text": [
      "baz\n"
     ]
    }
   ],
   "source": [
    "\n",
    "cvs = [{'user': 'foo', 'jobs': ['data monkey', 'copyist', 'wrecking ball operator']},\n",
    "       {'user': 'bar', 'jobs': ['wrecking ball operator', 'poet']},\n",
    "       {'user': 'baz', 'jobs': ['dancer', 'waitstaff']},\n",
    "       {'user': 'qux', 'jobs': ['wrecking ball operator', 'waitstaff']}]\n",
    "\n",
    "def has_experience_as(lista, job_title):\n",
    "    for elem in lista:\n",
    "        if job_title in elem[\"jobs\"]:\n",
    "            print(elem[\"user\"])\n",
    "           \n",
    "has_experience_as(cvs, \"dancer\")\n",
    "    "
   ]
  },
  {
   "cell_type": "markdown",
   "metadata": {},
   "source": [
    "#### REPETIDO 8 - Has Experience As\n",
    "\n",
    "Escribe una función llamada has_experience_as que tenga dos parámetros de entrada:\n",
    "\n",
    "    Una lista de CV's\n",
    "    Una string llamada job_title que sea el nombre de un trabajo o profesión\n",
    "\n",
    "La función debe devolver una lista de strings con los noms de los usuarios que hayan trabajado de job_title.\n"
   ]
  },
  {
   "cell_type": "markdown",
   "metadata": {
    "tags": []
   },
   "source": [
    "#### 9 - Job Counts\n",
    "\n",
    "Define una función llamada `job_counts` que tenga un parámetro de entrada que sea una lista de CVs. La función debe devolver un diccionario donde las `keys` sean los títulos de los trabajos o profesiones de la lista de CVs y los `values` sean el número de usuarios que hayan trabajado de cada profesión."
   ]
  },
  {
   "cell_type": "code",
   "execution_count": 79,
   "metadata": {},
   "outputs": [
    {
     "data": {
      "text/plain": [
       "{}"
      ]
     },
     "execution_count": 79,
     "metadata": {},
     "output_type": "execute_result"
    }
   ],
   "source": [
    "# escribe tu código aquí\n",
    "\n",
    "cvs = [{'user': 'foo', 'jobs': ['data monkey', 'copyist', 'wrecking ball operator']},\n",
    "       {'user': 'bar', 'jobs': ['wrecking ball operator', 'poet']},\n",
    "       {'user': 'baz', 'jobs': ['dancer', 'waitstaff']},\n",
    "       {'user': 'qux', 'jobs': ['wrecking ball operator', 'waitstaff']}]\n",
    "\n",
    "\n",
    "\n",
    "def job_counts(lista_cvs):\n",
    "    lista_final = {}\n",
    "    for elem in lista_cvs:\n",
    "       for trabajo in elem[\"jobs\"]:\n",
    "            if trabajo in lista_final:\n",
    "               elem[\"jobs\"] = elem[\"jobs\"] + 1\n",
    "            else:\n",
    "                elem[\"jobs\"] = 1\n",
    "    return lista_final\n",
    "\n",
    "job_counts(cvs)"
   ]
  },
  {
   "cell_type": "code",
   "execution_count": 86,
   "metadata": {},
   "outputs": [
    {
     "ename": "NameError",
     "evalue": "name 'pjob_counts' is not defined",
     "output_type": "error",
     "traceback": [
      "\u001b[0;31m---------------------------------------------------------------------------\u001b[0m",
      "\u001b[0;31mNameError\u001b[0m                                 Traceback (most recent call last)",
      "Cell \u001b[0;32mIn[86], line 17\u001b[0m\n\u001b[1;32m     14\u001b[0m         diccionario[trabajo]\u001b[38;5;241m=\u001b[39m\u001b[38;5;241m1\u001b[39m\n\u001b[1;32m     15\u001b[0m   \u001b[38;5;28;01mreturn\u001b[39;00m diccionario(job_counts(cvs))\n\u001b[0;32m---> 17\u001b[0m \u001b[43mpjob_counts\u001b[49m(cvs)\n",
      "\u001b[0;31mNameError\u001b[0m: name 'pjob_counts' is not defined"
     ]
    }
   ],
   "source": [
    "cvs = [{'user': 'foo', 'jobs': ['data monkey', 'copyist', 'wrecking ball operator']},\n",
    "       {'user': 'bar', 'jobs': ['wrecking ball operator', 'poet']},\n",
    "       {'user': 'baz', 'jobs': ['dancer', 'waitstaff']},\n",
    "       {'user': 'qux', 'jobs': ['wrecking ball operator', 'waitstaff']}]\n",
    "\n",
    "\n",
    "def job_counts(cvs):\n",
    "  diccionario = {}\n",
    "  for elemento in cvs:\n",
    "    for trabajo in elemento['jobs']:\n",
    "      if trabajo in diccionario:\n",
    "        diccionario[trabajo]+=1\n",
    "      else:\n",
    "        diccionario[trabajo]=1\n",
    "  return diccionario(job_counts(cvs))\n",
    "\n",
    "pjob_counts(cvs)"
   ]
  },
  {
   "cell_type": "code",
   "execution_count": null,
   "metadata": {},
   "outputs": [],
   "source": []
  },
  {
   "cell_type": "code",
   "execution_count": null,
   "metadata": {},
   "outputs": [],
   "source": [
    "def job_counts(cvs):\n",
    "    jobs = {}\n",
    "    for cv in cvs:\n",
    "        jobs_list = cv[\"jobs\"]\n",
    "        name = cv[\"user\"]\n",
    "        for job in jobs_list:\n",
    "            "
   ]
  }
 ],
 "metadata": {
  "kernelspec": {
   "display_name": "Python 3 (ipykernel)",
   "language": "python",
   "name": "python3"
  },
  "language_info": {
   "codemirror_mode": {
    "name": "ipython",
    "version": 3
   },
   "file_extension": ".py",
   "mimetype": "text/x-python",
   "name": "python",
   "nbconvert_exporter": "python",
   "pygments_lexer": "ipython3",
   "version": "3.11.10"
  }
 },
 "nbformat": 4,
 "nbformat_minor": 4
}
