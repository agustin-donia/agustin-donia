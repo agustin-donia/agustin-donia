{
 "cells": [
  {
   "cell_type": "markdown",
   "id": "10123d30-4616-4287-96ec-c603371f4a76",
   "metadata": {
    "tags": []
   },
   "source": [
    "<h2> Diccionarios </h2>"
   ]
  },
  {
   "cell_type": "markdown",
   "id": "38677395-f392-4dcf-ba29-30192a183748",
   "metadata": {},
   "source": [
    "**Usa typing en todas las funciones que definas**"
   ]
  },
  {
   "cell_type": "code",
   "execution_count": null,
   "id": "bda8d5af-4a07-48dd-91f9-428268f6c539",
   "metadata": {},
   "outputs": [],
   "source": [
    "from typing import Dict\n",
    "from typing import List\n",
    "from typing import Tuple\n",
    "from typing import Union"
   ]
  },
  {
   "cell_type": "markdown",
   "id": "4b00a001-b4f4-47e7-aeb5-667d5545ec1a",
   "metadata": {},
   "source": [
    "Para los próximos ejercicios usaremos una lista de diccionarios. Esta lista representa un tablero de juego donde la información de cada jugador está guardada en un diccionario. Cada diccionario tiene 4 keys:\n",
    "\n",
    "- `player`: el nombre del jugador (`str`)\n",
    "- `score`: la puntuación del jugador (`int`)\n",
    "- `country`: el país del jugador (`str`)\n",
    "- `levels`: una lista con los niveles que ha superado el jugador hasta legar al nivel actual (`list`)\n",
    "\n",
    "Todas las keys de los diccionarios de la lista `scoreboard` son strings, aunque no necesariamente es siempre así."
   ]
  },
  {
   "cell_type": "code",
   "execution_count": 11,
   "id": "d14fda7c-440e-4c5e-91ee-a45d70e466c7",
   "metadata": {},
   "outputs": [],
   "source": [
    "scoreboard = [{\n",
    "   'player': 'tr0llhuntah',\n",
    "   'score': 200,\n",
    "   'country': 'no',\n",
    "   'levels': ['Choco Mountain', \"Happy Hill\"]\n",
    "    },\n",
    "   {'player': 'mUssaK4',\n",
    "   'score': 300,\n",
    "   'country': 'USA',\n",
    "   'levels': ['Choco Mountain', 'Rainbow Road', 'Foggy Swamp']\n",
    "   },\n",
    "   {'player': 'Seito99',\n",
    "   'score': 290,\n",
    "   'country': 'Georgia',\n",
    "   'levels': ['Choco Mountain', 'Rainbow Road', 'Foggy Swamp', 'Paradise Beach']\n",
    "   },\n",
    "   {'player': 'Kamacus',\n",
    "   'score': 185,\n",
    "   'country': 'Georgia',\n",
    "   'levels': ['Choco Mountain']\n",
    "   },\n",
    "   {'player': 'trosdase28',\n",
    "    'score': 190,\n",
    "    'country': 'Andorra',\n",
    "    'levels': ['Choco Mountain', \"Happy Hill\"]\n",
    "   },\n",
    "   {'player': 'shinuaA',\n",
    "   'score': 380,\n",
    "   'country': 'USA',\n",
    "   'levels': ['Choco Mountain', 'Rainbow Road', 'Foggy Swamp', 'Paradise Beach', 'Endless Stream']\n",
    "   },\n",
    "   {'player': 'LaB3est',\n",
    "   'score': 410,\n",
    "   'country': 'Chad',\n",
    "   'levels': ['Choco Mountain', 'Rainbow Road', 'Foggy Swamp', 'Paradise Beach', 'Endless Stream']}]"
   ]
  },
  {
   "cell_type": "markdown",
   "id": "a661f890-fd11-483f-b9e9-1dd9e624d46b",
   "metadata": {},
   "source": [
    "#### 1 - Accediendo valores\n",
    "\n",
    "Imprime los nombres de todos los jugadores del tablero de juego."
   ]
  },
  {
   "cell_type": "code",
   "execution_count": 15,
   "id": "eaa4d305-d572-4125-933d-ae1f374364cb",
   "metadata": {},
   "outputs": [
    {
     "name": "stdout",
     "output_type": "stream",
     "text": [
      "tr0llhuntah\n",
      "mUssaK4\n",
      "Seito99\n",
      "Kamacus\n",
      "trosdase28\n",
      "shinuaA\n",
      "LaB3est\n"
     ]
    }
   ],
   "source": [
    "# escriu el teu codi aquí\n",
    "# 1- iterar sobre scoreboard\n",
    "# 2- Cada elemento es un diccionario, printar la palabra clave \"player\"\n",
    "\n",
    "for element in scoreboard:\n",
    "    print(element[\"player\"])\n"
   ]
  },
  {
   "cell_type": "code",
   "execution_count": 34,
   "id": "aa29f91e-a343-4bb8-b12b-c8b7660b1ab3",
   "metadata": {},
   "outputs": [
    {
     "name": "stdout",
     "output_type": "stream",
     "text": [
      "tr0llhuntah\n",
      "mUssaK4\n",
      "Seito99\n",
      "Kamacus\n",
      "trosdase28\n",
      "shinuaA\n",
      "LaB3est\n"
     ]
    }
   ],
   "source": [
    "#SOLUCION FRAN\n",
    "\n",
    "for element in scoreboard:\n",
    "    print(element[\"player\"])"
   ]
  },
  {
   "cell_type": "markdown",
   "id": "889f77a1-d8da-4cd2-99ac-aeaec6658beb",
   "metadata": {
    "tags": []
   },
   "source": [
    "#### 2 - Mejor jugador\n",
    "\n",
    "Define una función llamada `best_player` que reciba de entrada el tablero de juego (lista de diccionarios) y devuelva el nombre del jugador con la puntuación más alta."
   ]
  },
  {
   "cell_type": "code",
   "execution_count": 24,
   "id": "f709ebe6-6033-46f1-9078-e7e2dd3dfef2",
   "metadata": {},
   "outputs": [
    {
     "name": "stdout",
     "output_type": "stream",
     "text": [
      "('LaB3est', 410)\n"
     ]
    }
   ],
   "source": [
    "\n",
    "scoreboard = [{\n",
    "   'player': 'tr0llhuntah',\n",
    "   'score': 200,\n",
    "   'country': 'no',\n",
    "   'levels': ['Choco Mountain', \"Happy Hill\"]\n",
    "    },\n",
    "   {'player': 'mUssaK4',\n",
    "   'score': 300,\n",
    "   'country': 'USA',\n",
    "   'levels': ['Choco Mountain', 'Rainbow Road', 'Foggy Swamp']\n",
    "   },\n",
    "   {'player': 'Seito99',\n",
    "   'score': 290,\n",
    "   'country': 'Georgia',\n",
    "   'levels': ['Choco Mountain', 'Rainbow Road', 'Foggy Swamp', 'Paradise Beach']\n",
    "   },\n",
    "   {'player': 'Kamacus',\n",
    "   'score': 185,\n",
    "   'country': 'Georgia',\n",
    "   'levels': ['Choco Mountain']\n",
    "   },\n",
    "   {'player': 'trosdase28',\n",
    "    'score': 190,\n",
    "    'country': 'Andorra',\n",
    "    'levels': ['Choco Mountain', \"Happy Hill\"]\n",
    "   },\n",
    "   {'player': 'shinuaA',\n",
    "   'score': 380,\n",
    "   'country': 'USA',\n",
    "   'levels': ['Choco Mountain', 'Rainbow Road', 'Foggy Swamp', 'Paradise Beach', 'Endless Stream']\n",
    "   },\n",
    "   {'player': 'LaB3est',\n",
    "   'score': 410,\n",
    "   'country': 'Chad',\n",
    "   'levels': ['Choco Mountain', 'Rainbow Road', 'Foggy Swamp', 'Paradise Beach', 'Endless Stream']}]\n",
    "\n",
    "# escriu el teu codi aquí\n",
    "# 1- Definir variable puntuacion_mas_alta = -100000000000\n",
    "#     max_scorer = None\n",
    "# 2- Iterar sobre scoreboard\n",
    "# 3- Comprobar si elemento[\"score\"] > puntuacion mas alta\n",
    "# 4- Si es asi, sustituir la puntuacion mas alta --> Ademas, me guardo el nombre del jugador en max_scorer\n",
    "\n",
    "def best_player(my_scoreboard):\n",
    "    hi_score = - 100\n",
    "    mejor_jugador = \"\"\n",
    "    \n",
    "    for element in scoreboard:\n",
    "        if element[\"score\"] > hi_score:\n",
    "            hi_score = element[\"score\"]\n",
    "            mejor_jugador = element[\"player\"]\n",
    "    return mejor_jugador, element[\"score\"]\n",
    "    \n",
    "print(best_player(scoreboard))"
   ]
  },
  {
   "cell_type": "code",
   "execution_count": 36,
   "id": "6e9ba93c-3a7b-40cb-ab9b-caf9f9d46a71",
   "metadata": {},
   "outputs": [
    {
     "name": "stdout",
     "output_type": "stream",
     "text": [
      "LaB3est\n"
     ]
    }
   ],
   "source": [
    "#SOLUCION DE FRAN\n",
    "\n",
    "def best_player(scoreboard):\n",
    "    max_score = - 9999999\n",
    "    max_scorer = None\n",
    "    for element in scoreboard:\n",
    "        name = element[\"player\"]\n",
    "        score = element[\"score\"]\n",
    "        if score > max_score:\n",
    "            max_score = score\n",
    "            max_scorer = name\n",
    "        \n",
    "\n",
    "    return max_scorer\n",
    "\n",
    "print(best_player(scoreboard))"
   ]
  },
  {
   "cell_type": "code",
   "execution_count": 39,
   "id": "1df853a6-6552-4b5b-a602-761ab39861aa",
   "metadata": {},
   "outputs": [
    {
     "name": "stdout",
     "output_type": "stream",
     "text": [
      "LaB3est\n"
     ]
    }
   ],
   "source": [
    "# otra manera de encontrar el valor máximo\n",
    "# versión más pythoneana\n",
    "\n",
    "def best_player(scoreboard):\n",
    "    max_scorer = max(scoreboard, key = get_score)\n",
    "    return max_scorer[\"player\"]\n",
    "\n",
    "def get_score(element):\n",
    "    return element[\"score\"]\n",
    "\n",
    "print(best_player(scoreboard))\n"
   ]
  },
  {
   "cell_type": "markdown",
   "id": "48438ff0-e9ae-418b-9245-e27705c34ef7",
   "metadata": {},
   "source": [
    "#### 3 - Buenos jugadores\n",
    "\n",
    "Define una función llamada `good_players` con dos argumentos:\n",
    "\n",
    "- El tablero de juego\n",
    "- Una puntuación a determinar por el usuario\n",
    "\n",
    "`good_players` tiene que devolver una lista con los nombres de todos los jugadores con una puntuación más alta o igual que la escogida por el usuario."
   ]
  },
  {
   "cell_type": "code",
   "execution_count": 31,
   "id": "239dcbd0-48a9-407c-be3c-66612e916f89",
   "metadata": {},
   "outputs": [
    {
     "name": "stdout",
     "output_type": "stream",
     "text": [
      "['tr0llhuntah', 'mUssaK4', 'Seito99', 'shinuaA', 'LaB3est']\n"
     ]
    }
   ],
   "source": [
    "# escribe tu código aquí\n",
    "\n",
    "\n",
    "#def good_players(my_scoreboard, score):\n",
    " #   buen_jugador = \n",
    "    \n",
    "  #  for element in scoreboard:\n",
    "   #     if element[\"score\"] > score:\n",
    "    #        buen_jugador.append(element[\"player\"])\n",
    "            \n",
    "    \n",
    "     #   return buen_jugador\n",
    "# print(good_players(scoreboard, 50))\n",
    "\n",
    "\n",
    "def good_players(my_scoreboard, puntuacion): \n",
    "  lista_mejores = []\n",
    "  for element in scoreboard:\n",
    "    if element[\"score\"] >= puntuacion:\n",
    "      lista_mejores.append(element[\"player\"])\n",
    "  return lista_mejores\n",
    "\n",
    "print(good_players(scoreboard,200))"
   ]
  },
  {
   "cell_type": "code",
   "execution_count": 43,
   "id": "99a9cc38-e63e-40dd-a8f6-1fe1c8d3fc88",
   "metadata": {},
   "outputs": [
    {
     "name": "stdout",
     "output_type": "stream",
     "text": [
      "['tr0llhuntah', 'mUssaK4', 'Seito99', 'Kamacus', 'trosdase28', 'shinuaA', 'LaB3est']\n"
     ]
    }
   ],
   "source": [
    "# FRAN\n",
    "\n",
    "\n",
    "# 1 comprobar para cada jugador si score > threshold\n",
    "# 2 si supera, guardo en lista\n",
    "# 3 retorno lista con nombres\n",
    "\n",
    "def good_players(scoreboard, threshold):\n",
    "    jugadores_buenos = []\n",
    "    for element in scoreboard:\n",
    "        score = element[\"score\"]\n",
    "        name = element[\"player\"]\n",
    "        if score >= threshold:\n",
    "            jugadores_buenos.append(name)\n",
    "    return jugadores_buenos\n",
    "\n",
    "print(good_players(scoreboard, 100))\n",
    "    "
   ]
  },
  {
   "cell_type": "code",
   "execution_count": 52,
   "id": "4a4b3f95-fc82-4ef0-9d43-6d6a156b4280",
   "metadata": {},
   "outputs": [
    {
     "name": "stdout",
     "output_type": "stream",
     "text": [
      "['mUssaK4', 'shinuaA', 'LaB3est']\n"
     ]
    }
   ],
   "source": [
    "def good_players_v2(scoreboard, threshold):\n",
    "    return [element[\"player\"] \n",
    "            for element in scoreboard \n",
    "            if element[\"score\"] >= threshold]\n",
    "\n",
    "print(good_players_v2(scoreboard, 300))"
   ]
  },
  {
   "cell_type": "markdown",
   "id": "3888ba15-253d-4a35-8c16-6464e4272c13",
   "metadata": {},
   "source": [
    "#### 4 - Mejor jugador del país\n",
    "\n",
    "Define una función llamada `top_player_country` con dos argumentos:\n",
    "\n",
    "- El tablero de juego\n",
    "- El nombre de un país (`str`)\n",
    "\n",
    "`top_player_country` tiene que devolver el nombre (`str`) del jugador con la puntuación más alta del país elegido. En caso de recibir un país que no figure en el tablero, `top_player_country` tiene que levantar un `ValueError` con el siguiente mensaje:\n",
    "\n",
    "```python\n",
    "'the country provided does not appear on the scoreboard'\n",
    "```"
   ]
  },
  {
   "cell_type": "code",
   "execution_count": null,
   "id": "8add8ab7-8c0a-438a-aac2-4682fa03cd85",
   "metadata": {},
   "outputs": [],
   "source": []
  },
  {
   "cell_type": "code",
   "execution_count": 15,
   "id": "17016837-6e54-44da-a666-abd6796c2fff",
   "metadata": {},
   "outputs": [
    {
     "name": "stdout",
     "output_type": "stream",
     "text": [
      "shinuaA\n"
     ]
    }
   ],
   "source": [
    "\n",
    "scoreboard = [{\n",
    "   'player': 'tr0llhuntah',\n",
    "   'score': 200,\n",
    "   'country': 'no',\n",
    "   'levels': ['Choco Mountain', \"Happy Hill\"]\n",
    "    },\n",
    "   {'player': 'mUssaK4',\n",
    "   'score': 300,\n",
    "   'country': 'USA',\n",
    "   'levels': ['Choco Mountain', 'Rainbow Road', 'Foggy Swamp']\n",
    "   },\n",
    "   {'player': 'Seito99',\n",
    "   'score': 290,\n",
    "   'country': 'Georgia',\n",
    "   'levels': ['Choco Mountain', 'Rainbow Road', 'Foggy Swamp', 'Paradise Beach']\n",
    "   },\n",
    "   {'player': 'Kamacus',\n",
    "   'score': 185,\n",
    "   'country': 'Georgia',\n",
    "   'levels': ['Choco Mountain']\n",
    "   },\n",
    "   {'player': 'trosdase28',\n",
    "    'score': 190,\n",
    "    'country': 'Andorra',\n",
    "    'levels': ['Choco Mountain', \"Happy Hill\"]\n",
    "   },\n",
    "   {'player': 'shinuaA',\n",
    "   'score': 380,\n",
    "   'country': 'USA',\n",
    "   'levels': ['Choco Mountain', 'Rainbow Road', 'Foggy Swamp', 'Paradise Beach', 'Endless Stream']\n",
    "   },\n",
    "   {'player': 'LaB3est',\n",
    "   'score': 410,\n",
    "   'country': 'Chad',\n",
    "   'levels': ['Choco Mountain', 'Rainbow Road', 'Foggy Swamp', 'Paradise Beach', 'Endless Stream']}]\n",
    "\n",
    "# escribe tu código aquí\n",
    "\n",
    "\n",
    "def top_player_country(my_scoreboard, pais):\n",
    "    puntuacion_mas_alta = - 9999\n",
    "    mejor_jugador = None\n",
    "\n",
    "    for element in scoreboard:\n",
    "        if element[\"country\"] == pais and element[\"score\"] > puntuacion_mas_alta:\n",
    "            puntuacion_mas_alta = element[\"score\"]\n",
    "            mejor_jugador = element[\"player\"]\n",
    "    if mejor_jugador is None:  # mejor_jugador es None porque el pais ingresado no existe\n",
    "        raise ValueError(\"the country providad does not appear on the scoreboard\")\n",
    "    else:\n",
    "        return mejor_jugador\n",
    "\n",
    "\n",
    "print(top_player_country(scoreboard, \"USA\"))\n",
    "\n",
    "    \n",
    "    \n",
    "\n"
   ]
  },
  {
   "cell_type": "code",
   "execution_count": 22,
   "id": "87604b6a-8082-4c65-b0c2-e2ce570428a3",
   "metadata": {},
   "outputs": [
    {
     "name": "stdout",
     "output_type": "stream",
     "text": [
      "shinuaA\n"
     ]
    }
   ],
   "source": [
    "#solucion de Fran\n",
    "\n",
    "scoreboard = [{\n",
    "   'player': 'tr0llhuntah',\n",
    "   'score': 200,\n",
    "   'country': 'no',\n",
    "   'levels': ['Choco Mountain', \"Happy Hill\"]\n",
    "    },\n",
    "   {'player': 'mUssaK4',\n",
    "   'score': 300,\n",
    "   'country': 'USA',\n",
    "   'levels': ['Choco Mountain', 'Rainbow Road', 'Foggy Swamp']\n",
    "   },\n",
    "   {'player': 'Seito99',\n",
    "   'score': 290,\n",
    "   'country': 'Georgia',\n",
    "   'levels': ['Choco Mountain', 'Rainbow Road', 'Foggy Swamp', 'Paradise Beach']\n",
    "   },\n",
    "   {'player': 'Kamacus',\n",
    "   'score': 185,\n",
    "   'country': 'Georgia',\n",
    "   'levels': ['Choco Mountain']\n",
    "   },\n",
    "   {'player': 'trosdase28',\n",
    "    'score': 190,\n",
    "    'country': 'Andorra',\n",
    "    'levels': ['Choco Mountain', \"Happy Hill\"]\n",
    "   },\n",
    "   {'player': 'shinuaA',\n",
    "   'score': 380,\n",
    "   'country': 'USA',\n",
    "   'levels': ['Choco Mountain', 'Rainbow Road', 'Foggy Swamp', 'Paradise Beach', 'Endless Stream']\n",
    "   },\n",
    "   {'player': 'LaB3est',\n",
    "   'score': 410,\n",
    "   'country': 'Chad',\n",
    "   'levels': ['Choco Mountain', 'Rainbow Road', 'Foggy Swamp', 'Paradise Beach', 'Endless Stream']}]\n",
    "\n",
    "\n",
    "def top_player_country(scoreboard, country):\n",
    "    # 1. defino variables\n",
    "    best_score = - 1000\n",
    "    best_name = None\n",
    "    for player in scoreboard:\n",
    "        player_name = player[\"player\"]\n",
    "        player_score = player[\"score\"]\n",
    "        player_country = player[\"country\"]\n",
    "        if player_country == country and player_score > best_score:\n",
    "            best_score = player_score\n",
    "            best_name = player_name\n",
    "    if best_name is None:\n",
    "        raise ValueError(\"the country providad does not appear on the scoreboard\")\n",
    "    else:\n",
    "       return best_name\n",
    "\n",
    "print(top_player_country(scoreboard, \"USA\"))\n",
    "\n",
    "\n"
   ]
  },
  {
   "cell_type": "code",
   "execution_count": 23,
   "id": "f4dee4e9-f0d4-47f0-b9f8-b612a4b60fc7",
   "metadata": {},
   "outputs": [
    {
     "name": "stdout",
     "output_type": "stream",
     "text": [
      "Seito99\n",
      "Kamacus\n"
     ]
    }
   ],
   "source": [
    "for element in scoreboard:\n",
    "     if element['country'] == \"Georgia\":\n",
    "         if element[\"score\"] > 0:\n",
    "             print(element[\"player\"])"
   ]
  },
  {
   "cell_type": "markdown",
   "id": "e29fffc8-2785-421c-a6bb-12411226cce2",
   "metadata": {
    "tags": []
   },
   "source": [
    "#### 5 - Más niveles jugados\n",
    "\n",
    "Define una función llamada `most_levels_played` con un parámetro de entrada, el tablero de juego, que devuelva una tupla (`str`, `int`) con el nombre del jugador que ha jugado más niveles y el número de niveles jugados. En caso de que haya más de un jugador con el mismo número de niveles jugados, devuelve una lista de tuplas."
   ]
  },
  {
   "cell_type": "code",
   "execution_count": 38,
   "id": "b9bd7817-4e8f-4956-b5f9-af3b5c817375",
   "metadata": {},
   "outputs": [
    {
     "ename": "TypeError",
     "evalue": "list.append() takes exactly one argument (2 given)",
     "output_type": "error",
     "traceback": [
      "\u001b[0;31m---------------------------------------------------------------------------\u001b[0m",
      "\u001b[0;31mTypeError\u001b[0m                                 Traceback (most recent call last)",
      "Cell \u001b[0;32mIn[38], line 76\u001b[0m\n\u001b[1;32m     73\u001b[0m     \u001b[38;5;28;01melif\u001b[39;00m \u001b[38;5;28mlen\u001b[39m(jugador_mas_niveles) \u001b[38;5;241m>\u001b[39m \u001b[38;5;241m1\u001b[39m:\n\u001b[1;32m     74\u001b[0m         \u001b[38;5;28;01mreturn\u001b[39;00m jugador_mas_niveles\n\u001b[0;32m---> 76\u001b[0m \u001b[38;5;28mprint\u001b[39m(\u001b[43mmost_levels_played\u001b[49m\u001b[43m(\u001b[49m\u001b[43mscoreboard\u001b[49m\u001b[43m)\u001b[49m)\n",
      "Cell \u001b[0;32mIn[38], line 69\u001b[0m, in \u001b[0;36mmost_levels_played\u001b[0;34m(scoreboard)\u001b[0m\n\u001b[1;32m     67\u001b[0m         jugador_mas_niveles \u001b[38;5;241m=\u001b[39m [(elemento[\u001b[38;5;124m\"\u001b[39m\u001b[38;5;124mplayer\u001b[39m\u001b[38;5;124m\"\u001b[39m], \u001b[38;5;28mlen\u001b[39m(elemento[\u001b[38;5;124m\"\u001b[39m\u001b[38;5;124mlevels\u001b[39m\u001b[38;5;124m\"\u001b[39m]))]\n\u001b[1;32m     68\u001b[0m     \u001b[38;5;28;01melif\u001b[39;00m \u001b[38;5;28mlen\u001b[39m(elemento[\u001b[38;5;124m\"\u001b[39m\u001b[38;5;124mlevels\u001b[39m\u001b[38;5;124m\"\u001b[39m]) \u001b[38;5;241m==\u001b[39m total_niveles:\n\u001b[0;32m---> 69\u001b[0m         \u001b[43mjugador_mas_niveles\u001b[49m\u001b[38;5;241;43m.\u001b[39;49m\u001b[43mappend\u001b[49m\u001b[43m(\u001b[49m\u001b[43m(\u001b[49m\u001b[43melemento\u001b[49m\u001b[43m[\u001b[49m\u001b[38;5;124;43m\"\u001b[39;49m\u001b[38;5;124;43mplayer\u001b[39;49m\u001b[38;5;124;43m\"\u001b[39;49m\u001b[43m]\u001b[49m\u001b[43m)\u001b[49m\u001b[43m,\u001b[49m\u001b[43m \u001b[49m\u001b[38;5;28;43mlen\u001b[39;49m\u001b[43m(\u001b[49m\u001b[43melemento\u001b[49m\u001b[43m[\u001b[49m\u001b[38;5;124;43m\"\u001b[39;49m\u001b[38;5;124;43mlevels\u001b[39;49m\u001b[38;5;124;43m\"\u001b[39;49m\u001b[43m]\u001b[49m\u001b[43m)\u001b[49m\u001b[43m)\u001b[49m\n\u001b[1;32m     71\u001b[0m \u001b[38;5;28;01mif\u001b[39;00m \u001b[38;5;28mlen\u001b[39m(jugador_mas_niveles) \u001b[38;5;241m==\u001b[39m \u001b[38;5;241m1\u001b[39m:\n\u001b[1;32m     72\u001b[0m     \u001b[38;5;28;01mreturn\u001b[39;00m jugador_mas_niveles[\u001b[38;5;241m0\u001b[39m]\n",
      "\u001b[0;31mTypeError\u001b[0m: list.append() takes exactly one argument (2 given)"
     ]
    }
   ],
   "source": [
    "# escribe tu código aquí\n",
    "\n",
    "scoreboard = [{\n",
    "   'player': 'tr0llhuntah',\n",
    "   'score': 200,\n",
    "   'country': 'no',\n",
    "   'levels': ['Choco Mountain', \"Happy Hill\"]\n",
    "    },\n",
    "   {'player': 'mUssaK4',\n",
    "   'score': 300,\n",
    "   'country': 'USA',\n",
    "   'levels': ['Choco Mountain', 'Rainbow Road', 'Foggy Swamp']\n",
    "   },\n",
    "   {'player': 'Seito99',\n",
    "   'score': 290,\n",
    "   'country': 'Georgia',\n",
    "   'levels': ['Choco Mountain', 'Rainbow Road', 'Foggy Swamp', 'Paradise Beach']\n",
    "   },\n",
    "   {'player': 'Kamacus',\n",
    "   'score': 185,\n",
    "   'country': 'Georgia',\n",
    "   'levels': ['Choco Mountain']\n",
    "   },\n",
    "   {'player': 'trosdase28',\n",
    "    'score': 190,\n",
    "    'country': 'Andorra',\n",
    "    'levels': ['Choco Mountain', \"Happy Hill\"]\n",
    "   },\n",
    "   {'player': 'shinuaA',\n",
    "   'score': 380,\n",
    "   'country': 'USA',\n",
    "   'levels': ['Choco Mountain', 'Rainbow Road', 'Foggy Swamp', 'Paradise Beach', 'Endless Stream']\n",
    "   },\n",
    "   {'player': 'LaB3est',\n",
    "   'score': 410,\n",
    "   'country': 'Chad',\n",
    "   'levels': ['Choco Mountain', 'Rainbow Road', 'Foggy Swamp', 'Paradise Beach', 'Endless Stream']}]\n",
    "### \n",
    "\n",
    "\n",
    "# MI RECETA:\n",
    "# INPUT --> scoreboard --> Niveles jugados expresados en lista.\n",
    "# OUTPUT --> [(str, int), (str, int)]--> (nombre, numero de niveles jugados)\n",
    "\n",
    "# 1- Inicializar a most_levels=-100000 \n",
    "# y a player_most_levels = [(nombre, len(player[\"levels\"])] \n",
    "# 2-Para cada jugador en scoreboard (FOR):\n",
    "#    NOTA: numero de niveles jugados --> len(lista_de_niveles)\n",
    "#    2.1- Si len(lista_de_niveles) > most_levels, reemplazo el valor de \n",
    "#    most_levels por len(lista_de_niveles) y player_most_levels por una lista con \n",
    "#    su nombre\n",
    "#    2.2 - Si es igual, añado (append) el nombre a player_most_levels al final.\n",
    "# 3- Si la longitud de player_most_levels == 1: --> retornamos el elemento\n",
    "# en la posicion posicion 0. Si es mayor que 1, entonces retornamos player_most_levels.\n",
    "\n",
    "###\n",
    "\n",
    "def most_levels_played(scoreboard):\n",
    "  \n",
    "    total_niveles = - 999\n",
    "    jugador_mas_niveles = []\n",
    "  \n",
    "    for elemento in scoreboard:\n",
    "      \n",
    "        if len(elemento[\"levels\"]) > total_niveles:\n",
    "            total_niveles = len(elemento[\"levels\"])\n",
    "            jugador_mas_niveles = [(elemento[\"player\"], len(elemento[\"levels\"]))]\n",
    "        elif len(elemento[\"levels\"]) == total_niveles:\n",
    "            jugador_mas_niveles.append((elemento[\"player\"]), len(elemento[\"levels\"]))\n",
    "   \n",
    "    if len(jugador_mas_niveles) == 1:\n",
    "        return jugador_mas_niveles[0]\n",
    "    elif len(jugador_mas_niveles) > 1:\n",
    "        return jugador_mas_niveles\n",
    "\n",
    "print(most_levels_played(scoreboard))\n",
    "\n",
    "\n",
    "\n"
   ]
  },
  {
   "cell_type": "code",
   "execution_count": 46,
   "id": "1a094d70-20ff-4e2d-bd7d-feab1e5f470c",
   "metadata": {},
   "outputs": [
    {
     "name": "stdout",
     "output_type": "stream",
     "text": [
      "[('shinuaA', 5), ('LaB3est', 5)]\n"
     ]
    }
   ],
   "source": [
    "# SOLUCIÓN DE FRAN\n",
    "\n",
    "def most_levels_played(scoreboard):\n",
    "  \n",
    "    most_levels = -100000\n",
    "    players_most_levels = []\n",
    "   \n",
    "    for player in scoreboard:\n",
    "        player_levels = len(player[\"levels\"]) # Esta la linea no es necesaria\n",
    "        if player_levels > most_levels:\n",
    "            players_most_levels = [(player[\"player\"], player_levels)]\n",
    "            most_levels = player_levels\n",
    "        elif player_levels == most_levels:\n",
    "            players_most_levels.append((player[\"player\"], player_levels))\n",
    "  \n",
    "    if len(players_most_levels) == 1:\n",
    "        return players_most_levels[0]\n",
    "    else:\n",
    "        return players_most_levels\n",
    "\n",
    "\n",
    "print(most_levels_played(scoreboard))"
   ]
  },
  {
   "cell_type": "markdown",
   "id": "62b6764b-7c86-4c98-bc3e-60d699667028",
   "metadata": {},
   "source": [
    "#### 6 - Niveles jugados\n",
    "\n",
    "Define una función llamada `played_levels` que tenga un parámetro `scoreboard` que represente el tablero de juego. La función debe devolver una lista de strings con los nombres de todos los niveles que haya jugado cualquier usuario. La lista puede tener elementos duplicados."
   ]
  },
  {
   "cell_type": "code",
   "execution_count": 53,
   "id": "39bdda58-57c6-4075-abaf-310d511072af",
   "metadata": {},
   "outputs": [
    {
     "name": "stdout",
     "output_type": "stream",
     "text": [
      "['Choco Mountain', 'Happy Hill', 'Rainbow Road', 'Foggy Swamp', 'Paradise Beach', 'Endless Stream']\n"
     ]
    }
   ],
   "source": [
    "scoreboard = [{\n",
    "   'player': 'tr0llhuntah',\n",
    "   'score': 200,\n",
    "   'country': 'no',\n",
    "   'levels': ['Choco Mountain', \"Happy Hill\"]\n",
    "    },\n",
    "   {'player': 'mUssaK4',\n",
    "   'score': 300,\n",
    "   'country': 'USA',\n",
    "   'levels': ['Choco Mountain', 'Rainbow Road', 'Foggy Swamp']\n",
    "   },\n",
    "   {'player': 'Seito99',\n",
    "   'score': 290,\n",
    "   'country': 'Georgia',\n",
    "   'levels': ['Choco Mountain', 'Rainbow Road', 'Foggy Swamp', 'Paradise Beach']\n",
    "   },\n",
    "   {'player': 'Kamacus',\n",
    "   'score': 185,\n",
    "   'country': 'Georgia',\n",
    "   'levels': ['Choco Mountain']\n",
    "   },\n",
    "   {'player': 'trosdase28',\n",
    "    'score': 190,\n",
    "    'country': 'Andorra',\n",
    "    'levels': ['Choco Mountain', \"Happy Hill\"]\n",
    "   },\n",
    "   {'player': 'shinuaA',\n",
    "   'score': 380,\n",
    "   'country': 'USA',\n",
    "   'levels': ['Choco Mountain', 'Rainbow Road', 'Foggy Swamp', 'Paradise Beach', 'Endless Stream']\n",
    "   },\n",
    "   {'player': 'LaB3est',\n",
    "   'score': 410,\n",
    "   'country': 'Chad',\n",
    "   'levels': ['Choco Mountain', 'Rainbow Road', 'Foggy Swamp', 'Paradise Beach', 'Endless Stream']}]\n",
    "\n",
    "\n",
    "\n",
    "# Define una función llamada played_levels que tenga un parámetro scoreboard \n",
    "# que represente el tablero de juego. \n",
    "# La función debe devolver una lista de strings \n",
    "# con los nombres de todos los niveles que haya jugado cualquier usuario. \n",
    "# La lista puede tener elementos duplicados.\n",
    "\n",
    "\n",
    "#PSEUDOCODIGO OPCION 1:\n",
    "#1- Crear lista vacia\n",
    "#2- Para cada jugador del tablero --> FOR\n",
    "#    -  Iterar para los niveles superados de cada jugador --> FOR\n",
    "#        - Guardarme el nivel superado (APPEND)\n",
    "#3- Printar la lista\n",
    "\n",
    "def played_levels(scoreboard):\n",
    "    lista_niveles = []\n",
    "    for elemento in scoreboard:\n",
    "        for nivel in elemento[\"levels\"]:\n",
    "            if nivel not in lista_niveles: # esto no está pedido en el ejercicio\n",
    "                lista_niveles.append(nivel)\n",
    "    return lista_niveles\n",
    "\n",
    "print(played_levels(scoreboard))\n"
   ]
  },
  {
   "cell_type": "code",
   "execution_count": 66,
   "id": "026dbcaf-94f7-4cbd-a164-0c580f15912f",
   "metadata": {},
   "outputs": [
    {
     "name": "stdout",
     "output_type": "stream",
     "text": [
      "['Choco Mountain', 'Happy Hill', 'Choco Mountain', 'Rainbow Road', 'Foggy Swamp', 'Choco Mountain', 'Rainbow Road', 'Foggy Swamp', 'Paradise Beach', 'Choco Mountain', 'Choco Mountain', 'Happy Hill', 'Choco Mountain', 'Rainbow Road', 'Foggy Swamp', 'Paradise Beach', 'Endless Stream', 'Choco Mountain', 'Rainbow Road', 'Foggy Swamp', 'Paradise Beach', 'Endless Stream']\n"
     ]
    }
   ],
   "source": [
    "# OPCIÖN 1 - SOLUCIÖN FRAN\n",
    "\n",
    "levels_list = []\n",
    "for player in scoreboard:\n",
    "    for level in player [\"levels\"]:\n",
    "        levels_list.append(level)\n",
    "print(levels_list)"
   ]
  },
  {
   "cell_type": "code",
   "execution_count": 73,
   "id": "66502733-f874-4bac-8d13-f33d9ada1d77",
   "metadata": {},
   "outputs": [
    {
     "name": "stdout",
     "output_type": "stream",
     "text": [
      "['Choco Mountain', 'Happy Hill', 'Choco Mountain', 'Rainbow Road', 'Foggy Swamp', 'Choco Mountain', 'Rainbow Road', 'Foggy Swamp', 'Paradise Beach', 'Choco Mountain', 'Choco Mountain', 'Happy Hill', 'Choco Mountain', 'Rainbow Road', 'Foggy Swamp', 'Paradise Beach', 'Endless Stream', 'Choco Mountain', 'Rainbow Road', 'Foggy Swamp', 'Paradise Beach', 'Endless Stream']\n",
      "{'Paradise Beach', 'Endless Stream', 'Happy Hill', 'Foggy Swamp', 'Choco Mountain', 'Rainbow Road'}\n"
     ]
    },
    {
     "data": {
      "text/plain": [
       "['Choco Mountain',\n",
       " 'Happy Hill',\n",
       " 'Choco Mountain',\n",
       " 'Rainbow Road',\n",
       " 'Foggy Swamp',\n",
       " 'Choco Mountain',\n",
       " 'Rainbow Road',\n",
       " 'Foggy Swamp',\n",
       " 'Paradise Beach',\n",
       " 'Choco Mountain',\n",
       " 'Choco Mountain',\n",
       " 'Happy Hill',\n",
       " 'Choco Mountain',\n",
       " 'Rainbow Road',\n",
       " 'Foggy Swamp',\n",
       " 'Paradise Beach',\n",
       " 'Endless Stream',\n",
       " 'Choco Mountain',\n",
       " 'Rainbow Road',\n",
       " 'Foggy Swamp',\n",
       " 'Paradise Beach',\n",
       " 'Endless Stream']"
      ]
     },
     "execution_count": 73,
     "metadata": {},
     "output_type": "execute_result"
    }
   ],
   "source": [
    "scoreboard = [{\n",
    "   'player': 'tr0llhuntah',\n",
    "   'score': 200,\n",
    "   'country': 'no',\n",
    "   'levels': ['Choco Mountain', \"Happy Hill\"]\n",
    "    },\n",
    "   {'player': 'mUssaK4',\n",
    "   'score': 300,\n",
    "   'country': 'USA',\n",
    "   'levels': ['Choco Mountain', 'Rainbow Road', 'Foggy Swamp']\n",
    "   },\n",
    "   {'player': 'Seito99',\n",
    "   'score': 290,\n",
    "   'country': 'Georgia',\n",
    "   'levels': ['Choco Mountain', 'Rainbow Road', 'Foggy Swamp', 'Paradise Beach']\n",
    "   },\n",
    "   {'player': 'Kamacus',\n",
    "   'score': 185,\n",
    "   'country': 'Georgia',\n",
    "   'levels': ['Choco Mountain']\n",
    "   },\n",
    "   {'player': 'trosdase28',\n",
    "    'score': 190,\n",
    "    'country': 'Andorra',\n",
    "    'levels': ['Choco Mountain', \"Happy Hill\"]\n",
    "   },\n",
    "   {'player': 'shinuaA',\n",
    "   'score': 380,\n",
    "   'country': 'USA',\n",
    "   'levels': ['Choco Mountain', 'Rainbow Road', 'Foggy Swamp', 'Paradise Beach', 'Endless Stream']\n",
    "   },\n",
    "   {'player': 'LaB3est',\n",
    "   'score': 410,\n",
    "   'country': 'Chad',\n",
    "   'levels': ['Choco Mountain', 'Rainbow Road', 'Foggy Swamp', 'Paradise Beach', 'Endless Stream']}]\n",
    "\n",
    "\n",
    "\n",
    "#PSEUDOCODIGO OPCION 2(CON UN SOLO FOR):\n",
    "#1- Crear lista vacia\n",
    "#2- Para cada jugador del tablero --> FOR\n",
    "#    - Concatenar la lista vacia y la lista de niveles. (OJO! CONCATENAR \n",
    "#    NO SE HACE CON EL APPEND, USANDO EL APPEND HARIAMOS UNA LISTA DE LISTAS.\n",
    "#    HAY QUE BUSCAR QUE METODO DE LAS LISTAS NOS PODRIA SERVIR). \n",
    "#3- Printar la lista\n",
    "\n",
    "def played_levels2(scoreboard):\n",
    "    lista_niveles = []\n",
    "    for elemento in scoreboard:\n",
    "        lista_niveles = lista_niveles + elemento[\"levels\"]\n",
    "    return lista_niveles\n",
    "\n",
    "print(played_levels2(scoreboard))\n",
    "print(set(played_levels2(scoreboard))) # aquí solo me imprime los valoers únicos\n",
    "played_levels2(scoreboard)"
   ]
  },
  {
   "cell_type": "code",
   "execution_count": 68,
   "id": "928e474c-f39c-469f-a1b9-3d4e2392f694",
   "metadata": {},
   "outputs": [
    {
     "name": "stdout",
     "output_type": "stream",
     "text": [
      "[4, 5, 6, 1, 2, 3]\n"
     ]
    }
   ],
   "source": [
    "# start_time = time.time()\n",
    "# print(most_levels_played_2(scoreboard))\n",
    "# end_time = time.time()\n",
    "# print(f\"Execution time: {end_time - start_time:.6f} seconds\")\n",
    "\n",
    "lista_vacia = [4, 5, 6]\n",
    "otra_lista = [1, 2, 3]\n",
    "lista_vacia.extend(otra_lista)\n",
    "print(lista_vacia)  # [1, 2, 3]\n",
    "\n",
    "\n",
    "\n"
   ]
  },
  {
   "cell_type": "markdown",
   "id": "5c36d068-66d7-4cdc-ac6e-0e326c533c31",
   "metadata": {},
   "source": [
    "#### 7 - Redefiniendo diccionarios\n",
    "\n",
    "Crea dos diccionarios nuevos:\n",
    "\n",
    "- Uno donde las keys sean los nombres de los jugadores y los values sean los países correspondientes.\n",
    "- Uno donde las keys sean las puntuaciones y los values sean las listas de los niveles que hayan jugado."
   ]
  },
  {
   "cell_type": "code",
   "execution_count": 76,
   "id": "ab1de916-70fa-42bf-85f9-35b2d7b45bbe",
   "metadata": {},
   "outputs": [
    {
     "name": "stdout",
     "output_type": "stream",
     "text": [
      "{'tr0llhuntah': 'no', 'mUssaK4': 'USA', 'Seito99': 'Georgia', 'Kamacus': 'Georgia', 'trosdase28': 'Andorra', 'shinuaA': 'USA', 'LaB3est': 'Chad'}\n",
      "{200: ['Choco Mountain', 'Happy Hill'], 300: ['Choco Mountain', 'Rainbow Road', 'Foggy Swamp'], 290: ['Choco Mountain', 'Rainbow Road', 'Foggy Swamp', 'Paradise Beach'], 185: ['Choco Mountain'], 190: ['Choco Mountain', 'Happy Hill'], 380: ['Choco Mountain', 'Rainbow Road', 'Foggy Swamp', 'Paradise Beach', 'Endless Stream'], 410: ['Choco Mountain', 'Rainbow Road', 'Foggy Swamp', 'Paradise Beach', 'Endless Stream']}\n"
     ]
    }
   ],
   "source": [
    "scoreboard = [{\n",
    "   'player': 'tr0llhuntah',\n",
    "   'score': 200,\n",
    "   'country': 'no',\n",
    "   'levels': ['Choco Mountain', \"Happy Hill\"]\n",
    "    },\n",
    "   {'player': 'mUssaK4',\n",
    "   'score': 300,\n",
    "   'country': 'USA',\n",
    "   'levels': ['Choco Mountain', 'Rainbow Road', 'Foggy Swamp']\n",
    "   },\n",
    "   {'player': 'Seito99',\n",
    "   'score': 290,\n",
    "   'country': 'Georgia',\n",
    "   'levels': ['Choco Mountain', 'Rainbow Road', 'Foggy Swamp', 'Paradise Beach']\n",
    "   },\n",
    "   {'player': 'Kamacus',\n",
    "   'score': 185,\n",
    "   'country': 'Georgia',\n",
    "   'levels': ['Choco Mountain']\n",
    "   },\n",
    "   {'player': 'trosdase28',\n",
    "    'score': 190,\n",
    "    'country': 'Andorra',\n",
    "    'levels': ['Choco Mountain', \"Happy Hill\"]\n",
    "   },\n",
    "   {'player': 'shinuaA',\n",
    "   'score': 380,\n",
    "   'country': 'USA',\n",
    "   'levels': ['Choco Mountain', 'Rainbow Road', 'Foggy Swamp', 'Paradise Beach', 'Endless Stream']\n",
    "   },\n",
    "   {'player': 'LaB3est',\n",
    "   'score': 410,\n",
    "   'country': 'Chad',\n",
    "   'levels': ['Choco Mountain', 'Rainbow Road', 'Foggy Swamp', 'Paradise Beach', 'Endless Stream']}]\n",
    "\n",
    "\n",
    "# dos diccionarios\n",
    "# 1) key : player\n",
    "#    value : pais\n",
    "# 2) key : puntuación\n",
    "#  value : niveles jugados\n",
    "\n",
    "\n",
    "\n",
    "\n",
    "#\"\"\"\n",
    "#SOLUCION 1: Asignacion de valor \n",
    "#players = {}\n",
    "#scores = {} --> Inicializo diccionarios vacios\n",
    "#Itero sobre cada jugador y voy creando celdas y asignando valores:\n",
    "#Es decir, para cada jugador del scoreboard(FOR):\n",
    "#    players[nombre_del_jugador] = pais_del_jugador\n",
    "#    scores[puntuacion_del_jugador] = lista_niveles_que_ha_jugado\n",
    "#\"\"\"\n",
    "\n",
    "players = {} # --> Esto me genera un diccionario vacio\n",
    "scores = dict() # --> Esto de aqui tambien me genera un dict vacio\n",
    "for player in scoreboard:\n",
    "    nombre_del_jugador = player[\"player\"]\n",
    "    pais_del_jugador = player[\"country\"]\n",
    "    puntuacion_del_jugador = player[\"score\"]\n",
    "    lista_niveles_jugados = player[\"levels\"]\n",
    "    players[nombre_del_jugador] = pais_del_jugador\n",
    "    scores[puntuacion_del_jugador] = lista_niveles_jugados\n",
    "\n",
    "print(players)\n",
    "print(scores)\n",
    "\n",
    "\n"
   ]
  },
  {
   "cell_type": "code",
   "execution_count": null,
   "id": "fb20e51a-b31f-4b94-ac0c-727f808f5103",
   "metadata": {},
   "outputs": [],
   "source": [
    "\n",
    "# SOLUCION 2: Como el 1, pero en lugar de asignar valores, \n",
    "#usando el metodo update de los diccionarios.\n",
    "\n",
    "\n",
    "players = {} # --> Esto me genera un diccionario vacio\n",
    "scores = dict() # --> Esto de aqui tambien me genera un dict vacio\n",
    "for player in scoreboard:\n",
    "    nombre_del_jugador = player[\"player\"]\n",
    "    pais_del_jugador = player[\"country\"]\n",
    "    puntuacion_del_jugador = player[\"score\"]\n",
    "    lista_niveles_jugados = player[\"levels\"]\n",
    "    players.update({nombre_del_jugador: pais_del_jugador})\n",
    "    scores.update({puntuacion_del_jugador: lista_niveles_jugados})\n",
    "\n",
    "print(players[\"mUssaK4\"])\n",
    "print(scores[300])\n",
    "\n",
    "# SOLUCION 3: Dict comprehension \n",
    "\n",
    "\n",
    "players = {player[\"player\"]: player[\"country\"] \n",
    "           for player in scoreboard}\n",
    "print(players)\n",
    "scores = { player[\"score\"]:  player[\"levels\"]\n",
    "         for player in scoreboard}\n",
    "print(scores)\n",
    "\n"
   ]
  }
 ],
 "metadata": {
  "kernelspec": {
   "display_name": "Python 3 (ipykernel)",
   "language": "python",
   "name": "python3"
  },
  "language_info": {
   "codemirror_mode": {
    "name": "ipython",
    "version": 3
   },
   "file_extension": ".py",
   "mimetype": "text/x-python",
   "name": "python",
   "nbconvert_exporter": "python",
   "pygments_lexer": "ipython3",
   "version": "3.11.10"
  }
 },
 "nbformat": 4,
 "nbformat_minor": 5
}
