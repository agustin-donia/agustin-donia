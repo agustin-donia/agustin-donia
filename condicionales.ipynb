{
 "cells": [
  {
   "cell_type": "markdown",
   "metadata": {},
   "source": [
    "<h2> Condicionales </h2>"
   ]
  },
  {
   "cell_type": "markdown",
   "metadata": {},
   "source": [
    "#### 1 - Trabajo\n",
    "\n",
    "Define una función llamada `trabajo` que reciba un parámetro de entrada `cansado`de tipo `bool`. Si `cansado` es `True`, la función debe retornar `False`. Si `cansado` es `False`, `trabajo` ha de retornar `True`."
   ]
  },
  {
   "cell_type": "code",
   "execution_count": 17,
   "metadata": {},
   "outputs": [],
   "source": [
    "# escribe el código aquí\n",
    "#Define una función llamada trabajo que reciba un parámetro de entrada cansadode tipo bool\n",
    "#si cansado == True --> trabajo = False\n",
    "#si cansado == False --> trabajo = True\n",
    "\n",
    "def treball(cansado):\n",
    "    if cansado == True:\n",
    "        return False\n",
    "    else:\n",
    "        return True\n"
   ]
  },
  {
   "cell_type": "code",
   "execution_count": 18,
   "metadata": {
    "scrolled": true
   },
   "outputs": [
    {
     "name": "stdout",
     "output_type": "stream",
     "text": [
      "False\n"
     ]
    }
   ],
   "source": [
    "print(trebll(True))\n"
   ]
  },
  {
   "cell_type": "code",
   "execution_count": 19,
   "metadata": {},
   "outputs": [
    {
     "name": "stdout",
     "output_type": "stream",
     "text": [
      "True\n"
     ]
    }
   ],
   "source": [
    "print(treball(False))"
   ]
  },
  {
   "cell_type": "code",
   "execution_count": 23,
   "metadata": {},
   "outputs": [
    {
     "name": "stdout",
     "output_type": "stream",
     "text": [
      "True\n"
     ]
    }
   ],
   "source": [
    "def trabajo2(cansado):\n",
    "    return not cansado\n",
    "\n",
    "print(trabajo2(cansado=False))"
   ]
  },
  {
   "cell_type": "code",
   "execution_count": 24,
   "metadata": {},
   "outputs": [
    {
     "name": "stdout",
     "output_type": "stream",
     "text": [
      "False\n"
     ]
    },
    {
     "data": {
      "text/plain": [
       "True"
      ]
     },
     "execution_count": 24,
     "metadata": {},
     "output_type": "execute_result"
    }
   ],
   "source": [
    "def trabajo(cansado):\n",
    "    if cansado:\n",
    "        return False\n",
    "    else:\n",
    "        return True\n",
    "print(trabajo(True))\n",
    "trabajo(False)"
   ]
  },
  {
   "cell_type": "markdown",
   "metadata": {},
   "source": [
    "#### 2 - Es par\n",
    "\n",
    "Define una función llamada `es_par` que tenga un parámetro de entrada `num` que represente un número. Retorna `True` si el numero es par, y `False` si el número es impar. \n",
    "Si el parámetro no fuera un número debería saltar un error."
   ]
  },
  {
   "cell_type": "code",
   "execution_count": 51,
   "metadata": {},
   "outputs": [
    {
     "name": "stdout",
     "output_type": "stream",
     "text": [
      "True\n",
      "False\n"
     ]
    }
   ],
   "source": [
    "# escribe el código aquí\n",
    "def es_par(num):\n",
    "    if type(num) not in (float, int):\n",
    "        raise Exception (\"num debe ser una integer o Float\")\n",
    "    if (num%2==0):\n",
    "        return True\n",
    "    else:\n",
    "        return False\n",
    "    \n",
    "print(es_par(4))\n",
    "print(es_par(174458578453))\n",
    "\n"
   ]
  },
  {
   "cell_type": "code",
   "execution_count": 52,
   "metadata": {},
   "outputs": [
    {
     "ename": "Exception",
     "evalue": "num debe ser una integer o Float",
     "output_type": "error",
     "traceback": [
      "\u001b[0;31m---------------------------------------------------------------------------\u001b[0m",
      "\u001b[0;31mException\u001b[0m                                 Traceback (most recent call last)",
      "Cell \u001b[0;32mIn[52], line 1\u001b[0m\n\u001b[0;32m----> 1\u001b[0m \u001b[38;5;28mprint\u001b[39m(\u001b[43mes_par\u001b[49m\u001b[43m(\u001b[49m\u001b[38;5;124;43m\"\u001b[39;49m\u001b[38;5;124;43mhola\u001b[39;49m\u001b[38;5;124;43m\"\u001b[39;49m\u001b[43m)\u001b[49m)\n",
      "Cell \u001b[0;32mIn[51], line 4\u001b[0m, in \u001b[0;36mes_par\u001b[0;34m(num)\u001b[0m\n\u001b[1;32m      2\u001b[0m \u001b[38;5;28;01mdef\u001b[39;00m \u001b[38;5;21mes_par\u001b[39m(num):\n\u001b[1;32m      3\u001b[0m     \u001b[38;5;28;01mif\u001b[39;00m \u001b[38;5;28mtype\u001b[39m(num) \u001b[38;5;129;01mnot\u001b[39;00m \u001b[38;5;129;01min\u001b[39;00m (\u001b[38;5;28mfloat\u001b[39m, \u001b[38;5;28mint\u001b[39m):\n\u001b[0;32m----> 4\u001b[0m         \u001b[38;5;28;01mraise\u001b[39;00m \u001b[38;5;167;01mException\u001b[39;00m (\u001b[38;5;124m\"\u001b[39m\u001b[38;5;124mnum debe ser una integer o Float\u001b[39m\u001b[38;5;124m\"\u001b[39m)\n\u001b[1;32m      5\u001b[0m     \u001b[38;5;28;01mif\u001b[39;00m (num\u001b[38;5;241m%\u001b[39m\u001b[38;5;241m2\u001b[39m\u001b[38;5;241m==\u001b[39m\u001b[38;5;241m0\u001b[39m):\n\u001b[1;32m      6\u001b[0m         \u001b[38;5;28;01mreturn\u001b[39;00m \u001b[38;5;28;01mTrue\u001b[39;00m\n",
      "\u001b[0;31mException\u001b[0m: num debe ser una integer o Float"
     ]
    }
   ],
   "source": [
    "print(es_par(\"hola\"))"
   ]
  },
  {
   "cell_type": "code",
   "execution_count": 26,
   "metadata": {},
   "outputs": [
    {
     "name": "stdout",
     "output_type": "stream",
     "text": [
      "True\n",
      "False\n",
      "num debe ser una integer o Float\n"
     ]
    }
   ],
   "source": [
    "#atención aquí: en lugar de usar el RAISE, usé el RETURN. \n",
    "#Así, en vez de salirme un mensaje en rojo, sólo me sale el texto impreso. \n",
    "#El error no se hace evidente\n",
    "#cuidado con eso\n",
    "\n",
    "def es_par(num):\n",
    "    if type(num) not in (float, int):\n",
    "        return \"num debe ser una integer o Float\"\n",
    "    if (num%2==0):\n",
    "        return True\n",
    "    else:\n",
    "        return False\n",
    "    \n",
    "print(es_par(4))\n",
    "print(es_par(174458578453))\n",
    "print(es_par(\"hola\"))"
   ]
  },
  {
   "cell_type": "markdown",
   "metadata": {},
   "source": [
    "#### 3 - Coche en el semáforo\n",
    "\n",
    "Define una función llamada `coche_en_el_semaforo`. Deberia tener un parámetro de entrada `luz` que proporciona el color de un semáforo. Si el color es 'rojo', la función debe retornar 'stop'. Si el color es 'verde', la función debe retornar 'Adelante'. Si el color es 'amarillo', la función debe retornar 'Espera'. Si el color no corresponde a ninguno de los anteriores, la función debería retornar una excepción."
   ]
  },
  {
   "cell_type": "code",
   "execution_count": 59,
   "metadata": {},
   "outputs": [
    {
     "name": "stdout",
     "output_type": "stream",
     "text": [
      "stop\n"
     ]
    }
   ],
   "source": [
    "# escribe el código aquí\n",
    "def coche_en_el_semaforo(luz):\n",
    "    if luz==\"rojo\":\n",
    "        return \"stop\"\n",
    "    elif luz==\"verde\":\n",
    "        return \"adelante\"\n",
    "    elif luz==\"amarillo\":\n",
    "        return \"espera\"\n",
    "    else:\n",
    "        raise Exception (\"el semáforo tiene 3 colores\")\n",
    "        \n",
    "print (coche_en_el_semaforo(\"rojo\"))"
   ]
  },
  {
   "cell_type": "code",
   "execution_count": 27,
   "metadata": {},
   "outputs": [
    {
     "name": "stdout",
     "output_type": "stream",
     "text": [
      "pare\n",
      "espere\n",
      "adelante\n",
      "el semáfaro tiene tres colores, flipao\n"
     ]
    }
   ],
   "source": [
    "def coche_en_el_semaforo(luz):\n",
    "    if luz == \"rojo\":\n",
    "        return \"pare\"\n",
    "    elif luz == \"amarillo\":\n",
    "        return \"espere\"\n",
    "    elif luz == \"verde\":\n",
    "        return \"adelante\"\n",
    "    else:\n",
    "        return \"el semáfaro tiene tres colores, flipao\"\n",
    "\n",
    "print(coche_en_el_semaforo(\"rojo\"))\n",
    "print(coche_en_el_semaforo(\"amarillo\"))\n",
    "print(coche_en_el_semaforo(\"verde\"))\n",
    "print(coche_en_el_semaforo(\"ojo\"))"
   ]
  },
  {
   "cell_type": "markdown",
   "metadata": {},
   "source": [
    "#### 4 - Hace frío\n",
    "\n",
    "Define una función llamada `hace_frío` que tome un parámetro `temperatura` que es un número. Si la temperatura supepra los 15 grados, la función debe retornar `False`, y si la temperatura es igual o inferior a 15 debe retornar `True`. Si la temperatura no es un número debe levantar una excepción que diga lo siguiente:\n",
    "\n",
    "```python\n",
    "'la temperatura debe ser un número'\n",
    "```"
   ]
  },
  {
   "cell_type": "code",
   "execution_count": 28,
   "metadata": {},
   "outputs": [
    {
     "name": "stdout",
     "output_type": "stream",
     "text": [
      "False\n",
      "True\n"
     ]
    },
    {
     "ename": "Exception",
     "evalue": "la temperatura debe ser un número",
     "output_type": "error",
     "traceback": [
      "\u001b[0;31m---------------------------------------------------------------------------\u001b[0m",
      "\u001b[0;31mException\u001b[0m                                 Traceback (most recent call last)",
      "Cell \u001b[0;32mIn[28], line 17\u001b[0m\n\u001b[1;32m     15\u001b[0m \u001b[38;5;28mprint\u001b[39m(hace_frío(\u001b[38;5;241m17\u001b[39m))\n\u001b[1;32m     16\u001b[0m \u001b[38;5;28mprint\u001b[39m(hace_frío(\u001b[38;5;241m12\u001b[39m))\n\u001b[0;32m---> 17\u001b[0m \u001b[38;5;28mprint\u001b[39m(\u001b[43mhace_frío\u001b[49m\u001b[43m(\u001b[49m\u001b[38;5;124;43m\"\u001b[39;49m\u001b[38;5;124;43mramon\u001b[39;49m\u001b[38;5;124;43m\"\u001b[39;49m\u001b[43m)\u001b[49m)\n",
      "Cell \u001b[0;32mIn[28], line 8\u001b[0m, in \u001b[0;36mhace_frío\u001b[0;34m(temperatura)\u001b[0m\n\u001b[1;32m      6\u001b[0m \u001b[38;5;28;01mdef\u001b[39;00m \u001b[38;5;21mhace_frío\u001b[39m(temperatura):\n\u001b[1;32m      7\u001b[0m     \u001b[38;5;28;01mif\u001b[39;00m \u001b[38;5;28mtype\u001b[39m(temperatura) \u001b[38;5;241m!=\u001b[39m\u001b[38;5;28mint\u001b[39m \u001b[38;5;129;01mand\u001b[39;00m \u001b[38;5;28mtype\u001b[39m(temperatura)\u001b[38;5;241m!=\u001b[39m\u001b[38;5;28mfloat\u001b[39m:\n\u001b[0;32m----> 8\u001b[0m         \u001b[38;5;28;01mraise\u001b[39;00m \u001b[38;5;167;01mException\u001b[39;00m (\u001b[38;5;124m\"\u001b[39m\u001b[38;5;124mla temperatura debe ser un número\u001b[39m\u001b[38;5;124m\"\u001b[39m) \n\u001b[1;32m      9\u001b[0m     \u001b[38;5;28;01mif\u001b[39;00m temperatura \u001b[38;5;241m>\u001b[39m \u001b[38;5;241m15\u001b[39m:\n\u001b[1;32m     10\u001b[0m         \u001b[38;5;28;01mreturn\u001b[39;00m \u001b[38;5;28;01mFalse\u001b[39;00m\n",
      "\u001b[0;31mException\u001b[0m: la temperatura debe ser un número"
     ]
    }
   ],
   "source": [
    "#Define una función llamada hace_frío que tome un parámetro temperatura que es un número. \n",
    "#Si la temperatura supepra los 15 grados, la función debe retornar False\n",
    "#si la temperatura es igual o inferior a 15 debe retornar True. \n",
    "#Si la temperatura no es un número debe levantar una excepción que diga lo siguiente: 'la temperatura debe ser un número'\n",
    "\n",
    "def hace_frío(temperatura):\n",
    "    if type(temperatura) !=int and type(temperatura)!=float:\n",
    "        raise Exception (\"la temperatura debe ser un número\") \n",
    "    if temperatura > 15:\n",
    "        return False\n",
    "    elif temperatura <= 15:\n",
    "        return True\n",
    "\n",
    "\n",
    "print(hace_frío(17))\n",
    "print(hace_frío(12))\n",
    "print(hace_frío(\"ramon\"))\n"
   ]
  },
  {
   "cell_type": "markdown",
   "metadata": {},
   "source": [
    "#### 5 - Lleva jersey\n",
    "\n",
    "Define una función llamada `lleva_jersey` con dos parámetros de entrada: `temperatura`, que es un número de tipo `int` o `float`, y `frescor`, un booleano que también puede ser `None`. Si `temperatura` es superior a 15, `lleva_jersey` debe retornar la frase \"no lleves jersey, hace calor\", independientemente del valor de `frescor`. Si la temperatura es igual o menor a 15, debe cubrir los siguientes casos:\n",
    "\n",
    "- Temperatura > 15, es igual el valor de frescor -> no lleves jersey, hace calor\n",
    "- Temperatura < 15, frescor = True -> llevar jersey\n",
    "- Temperatura < 15, frescor = False -> no hace falta llevar jersey\n",
    "- Temperatura < 15, frescor = None -> seamos precavidos y llevemos jersey."
   ]
  },
  {
   "cell_type": "code",
   "execution_count": 37,
   "metadata": {},
   "outputs": [],
   "source": [
    "#Define una función llamada lleva_jersey con dos parámetros de entrada: temperatura, que es un número de tipo int o float, y frescor, un booleano que también puede ser None. Si temperatura es superior a 15, lleva_jersey debe retornar la frase \"no lleves jersey, hace calor\", independientemente del valor de frescor. Si la temperatura es igual o menor a 15, debe cubrir los siguientes casos:\n",
    "#Temperatura > 15, es igual el valor de frescor -> no lleves jersey, hace calor\n",
    "#Temperatura < 15, frescor = True -> llevar jersey\n",
    "#Temperatura < 15, frescor = False -> no hace falta llevar jersey\n",
    "#Temperatura < 15, frescor = None -> seamos precavidos y llevemos jersey.\n",
    "\n",
    "def lleva_jersey(temperatura, frescor):\n",
    "    if temperatura > 15:\n",
    "        return \"no lleves jersey, hace calor\"\n",
    "    else:\n",
    "        if frescor == True:\n",
    "            return \"llevar jersey\"\n",
    "        elif frescor == False:\n",
    "            return \"no hace falta llevar jersey\"\n",
    "        elif frescor is None:\n",
    "            return \"seamos precavidos y llevemos jersey\"\n"
   ]
  },
  {
   "cell_type": "code",
   "execution_count": 38,
   "metadata": {},
   "outputs": [
    {
     "name": "stdout",
     "output_type": "stream",
     "text": [
      "llevar jersey\n",
      "no lleves jersey, hace calor\n",
      "seamos precavidos y llevemos jersey\n",
      "no hace falta llevar jersey\n"
     ]
    }
   ],
   "source": [
    "print(lleva_jersey(12, True))\n",
    "print(lleva_jersey(20, False))\n",
    "print(lleva_jersey(12, None))\n",
    "print(lleva_jersey(12, False))"
   ]
  },
  {
   "cell_type": "markdown",
   "metadata": {},
   "source": [
    "#### 6 - Igualdad\n",
    "\n",
    "Crea una función llamada `igualdad` que tome tres parámetros: `x`, `y` y `z`.\n",
    "Debe retornar lo siguiente:\n",
    "\n",
    "- Si x, y, z son iguales --> 'todos iguales'\n",
    "- Si solo x, y son iguales --> 'x , y son iguales'\n",
    "- Si solo z , x son iguales --> 'x , z son iguales'\n",
    "- Si solo y , z son iguales --> 'y , z son iguales'\n",
    "- Si nada es igual --> 'nada es igual '"
   ]
  },
  {
   "cell_type": "code",
   "execution_count": 106,
   "metadata": {},
   "outputs": [
    {
     "data": {
      "text/plain": [
       "'z e y son iguales'"
      ]
     },
     "execution_count": 106,
     "metadata": {},
     "output_type": "execute_result"
    }
   ],
   "source": [
    "# escribe el código aquí\n",
    "def igualdad(x, y, z):\n",
    "    if x == y == z:\n",
    "        return \"todos son iguales\"\n",
    "    elif x == y:\n",
    "        return \"x e y son iguales\"\n",
    "    elif x == z:\n",
    "         return \"x i z son iguales\"\n",
    "    elif y == z:\n",
    "         return \"z e y son iguales\"\n",
    "    else:\n",
    "        return \"nada es igual\"\n",
    "    \n",
    "igualdad(1,2,2)\n"
   ]
  },
  {
   "cell_type": "markdown",
   "metadata": {},
   "source": [
    "#### 7 - Conductor\n",
    "\n",
    "Define una función llamada `conductor` para la situación siguiente:\n",
    "\n",
    "- Sofia puede conducir coches manuales y automáticos.\n",
    "- Diego solo sabe conducir coches automáticos.\n",
    "- Sofia prefiere conducir largas distancias (> 10 km).\n",
    "-  Diego prefiere conducir distancias cortas.\n",
    "\n",
    "La función debe tomar dos parámetros: `distancia` y `es_manual`. El primero debe ser un número y el segundo un booleano. La función debería retornar un string: el nombre de la persona que debe conducir, es decir \"Diego\" o \"Sofia\".\n",
    "\n",
    "*El siguiente conjunto de casos es el que hay que cubrir:*\n",
    "\n",
    "- si es_manual es True -> Sofia\n",
    "- si es_manual es False, distancia > 10 -> Sofia\n",
    "- si es_manual es False, distancia <= 10 -> Diego"
   ]
  },
  {
   "cell_type": "code",
   "execution_count": 12,
   "metadata": {},
   "outputs": [
    {
     "data": {
      "text/plain": [
       "'Diego'"
      ]
     },
     "execution_count": 12,
     "metadata": {},
     "output_type": "execute_result"
    }
   ],
   "source": [
    "# escribe el código aquí\n",
    "def conductor(distancia, es_manual):\n",
    "    if type(distancia) != int and type(distancia) != float:\n",
    "        raise Exception ('la distancia debe ser un número')\n",
    "    elif type(es_manual) != bool:\n",
    "        raise Exception (\"el coche debe ser automático o manual\")\n",
    "    else:\n",
    "        if es_manual == True:\n",
    "            return \"Sofía\"\n",
    "        if distancia > 10 and es_manual == False:\n",
    "            return \"Sofía\"\n",
    "        if es_manual == False and distancia <= 10:\n",
    "            return \"Diego\"\n",
    "            \n",
    "conductor(5, False)"
   ]
  },
  {
   "cell_type": "code",
   "execution_count": null,
   "metadata": {},
   "outputs": [],
   "source": []
  },
  {
   "cell_type": "code",
   "execution_count": null,
   "metadata": {},
   "outputs": [],
   "source": []
  }
 ],
 "metadata": {
  "kernelspec": {
   "display_name": "Python 3 (ipykernel)",
   "language": "python",
   "name": "python3"
  },
  "language_info": {
   "codemirror_mode": {
    "name": "ipython",
    "version": 3
   },
   "file_extension": ".py",
   "mimetype": "text/x-python",
   "name": "python",
   "nbconvert_exporter": "python",
   "pygments_lexer": "ipython3",
   "version": "3.11.10"
  }
 },
 "nbformat": 4,
 "nbformat_minor": 4
}
