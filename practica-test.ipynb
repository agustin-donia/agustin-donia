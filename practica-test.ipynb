{
 "cells": [
  {
   "cell_type": "markdown",
   "metadata": {},
   "source": [
    "<h2>Práctica para el primer Test de Python</h2>"
   ]
  },
  {
   "cell_type": "markdown",
   "metadata": {},
   "source": [
    "#### 1 - Nombre y apellidos\n",
    "\n",
    "Define una función que tome un string con un nombre completo (nombre y apellidos) e imprima cada palabra en una línea diferente:\n",
    "\n",
    "```python\n",
    "Ada\n",
    "Lovelace\n",
    "```"
   ]
  },
  {
   "cell_type": "code",
   "execution_count": 5,
   "metadata": {},
   "outputs": [
    {
     "name": "stdout",
     "output_type": "stream",
     "text": [
      "Ada\n",
      "Lovelace\n",
      "de\n",
      "Rajoy\n"
     ]
    }
   ],
   "source": [
    "# escribe tu código aquí\n",
    "\n",
    "#nombre = \"Eduardo Martín Perez\"\n",
    "\n",
    "# 1 dividir el string por los espacios string.split\n",
    "# 2 iterar sobre el string dividido y printar cada palabra\n",
    "\n",
    "\n",
    "# paso 1:\n",
    "\n",
    "def split_names(nombre):\n",
    "    for palabra in nombre.split():\n",
    "        print(palabra)\n",
    "\n",
    "split_names(\"Ada Lovelace de Rajoy\")"
   ]
  },
  {
   "cell_type": "code",
   "execution_count": 8,
   "metadata": {},
   "outputs": [
    {
     "name": "stdout",
     "output_type": "stream",
     "text": [
      "1 pato\n",
      "2 d'onia\n",
      "3 santiago\n"
     ]
    }
   ],
   "source": [
    "def split_names(nombre):\n",
    "    for index, palabra in enumerate(nombre.split()):\n",
    "        print(index + 1, palabra)\n",
    "\n",
    "split_names(\"pato d'onia santiago\")"
   ]
  },
  {
   "cell_type": "code",
   "execution_count": 10,
   "metadata": {},
   "outputs": [
    {
     "name": "stdout",
     "output_type": "stream",
     "text": [
      "Fran\n",
      "Roldan\n",
      "Hola\n",
      "Que\n",
      "Tal\n",
      "Ada\n",
      "Lovelace\n"
     ]
    }
   ],
   "source": [
    "# escriu el teu codi aquí\n",
    "\n",
    "nombre = \"Fran Roldan Hola Que Tal\"\n",
    "\n",
    "# 1- Dividir el string por los espacios --> string.split()\n",
    "# 2- Iterar sobre el string dividido y printar cada palabra\n",
    "\n",
    "# PASO 1:\n",
    "def split_names(nombre):\n",
    "    for palabra in nombre.split():\n",
    "        print(palabra)\n",
    "\n",
    "\n",
    "split_names(nombre)\n",
    "split_names(\"Ada Lovelace\")"
   ]
  },
  {
   "cell_type": "markdown",
   "metadata": {
    "tags": []
   },
   "source": [
    "#### 2 - Apellidos, nombre\n",
    "\n",
    "Define una función que tome una string de entrada con un nombre completo (nombre y apellidos) y devuelva otra string con el formato \"apellidos, nombre\"."
   ]
  },
  {
   "cell_type": "code",
   "execution_count": 11,
   "metadata": {},
   "outputs": [
    {
     "name": "stdout",
     "output_type": "stream",
     "text": [
      "['Fran', 'Roldan', 'Hola', 'Que', 'Tal']\n"
     ]
    },
    {
     "data": {
      "text/plain": [
       "'El nombre introducido es Roldan Sanchez, Fran'"
      ]
     },
     "execution_count": 11,
     "metadata": {},
     "output_type": "execute_result"
    }
   ],
   "source": [
    "# escriu el teu codi aquí\n",
    "\n",
    "print(nombre.split())\n",
    "\n",
    "def saluda(nombre):\n",
    "    split_name = nombre.split()\n",
    "    surnames = \" \".join(split_name[1:])\n",
    "    return f\"El nombre introducido es {surnames}, {split_name[0]}\"\n",
    "\n",
    "def saluda_v2(nombre):\n",
    "    split_name = nombre.split()\n",
    "    surnames = \" \".join(split_name[1:])\n",
    "    return \"El nombre introducido es {1}, {0}\".format(split_name[0], surnames)\n",
    "\n",
    "saluda_v2(\"Fran Roldan Sanchez\")"
   ]
  },
  {
   "cell_type": "markdown",
   "metadata": {},
   "source": [
    "#### 3 - Promedios\n",
    "\n",
    "Escribe una función que reciba una lista de calificaciones y devuelva el promedio. La lista puede contener valores no numericos que se deben ignorar. Por ejemplo, si las calificaciones de entrada son ```[1,5,10,'e3',8,'na']``` el resultado debe ser 6.0."
   ]
  },
  {
   "cell_type": "code",
   "execution_count": 23,
   "metadata": {},
   "outputs": [
    {
     "data": {
      "text/plain": [
       "6.0"
      ]
     },
     "execution_count": 23,
     "metadata": {},
     "output_type": "execute_result"
    }
   ],
   "source": [
    "# escribe tu código aquí\n",
    "\n",
    "\n",
    "# --> función --> input: lista calificaciones\n",
    "#                    output : promedio\n",
    "# promedio: sum notas / n notas\n",
    "# 1. filtrar todo lo que no sean números\n",
    "#         --> nueva lista sólo de números\n",
    "#    1.1 crear lista vacía\n",
    "#         iteramos sobre la lista\n",
    "#            es int o float --> se añade a lista vacía(append)\n",
    "\n",
    "# promedio = sum elem lista vacía /len(lista vacía\n",
    "\n",
    "lista = [1,5,10,'e3',8,'na']\n",
    "\n",
    "def calcula_promedio(lista_calif):\n",
    "    lista_notas = []\n",
    "    for elem in lista_calif:\n",
    "        if isinstance(elem, (int, float)):\n",
    "            lista_notas.append(elem)\n",
    "\n",
    "        prom = sum(lista_notas) / len(lista_notas)\n",
    "    return prom\n",
    "\n",
    "calcula_promedio(lista)\n",
    "\n"
   ]
  },
  {
   "cell_type": "code",
   "execution_count": 24,
   "metadata": {},
   "outputs": [],
   "source": [
    "# SOLUCION DE FRAN\n",
    "\n",
    "# escriu el teu codi aquí\n",
    "\n",
    "#\"\"\"\n",
    "#PSEUDO-CODIGO:\n",
    "\n",
    "#Funcion --> INPUT: lista_calificaciones\n",
    "#            OUTPUT: promedio de las calificaciones\n",
    "#Promedio = Suma de los numeros / numero de numeros\n",
    "#1- Filtrar todo lo que sean numeros. En otras palabras, me quedo con una nueva lista \n",
    "#que tenga solo numeros. \n",
    "#    1.1- Crear lista vacia, iteramos sobre la lista y comparamos si el type(elemento)\n",
    "#        es o int o  float. Si es integer o float, lo añado a la lista vacia (append)\n",
    "#2- Promedio = \n",
    "#    suma de todos los elementos de mi lista vacia que he ido rellenando dividido\n",
    "#    por len(lista vacia que he ido rellenando)\n",
    "### \n",
    "\n",
    "def promedio(lista_calificaciones):\n",
    "    # Metere mi codigo por aqui\n",
    "    \n",
    "\n",
    "    return promedio_calificaciones"
   ]
  },
  {
   "cell_type": "code",
   "execution_count": null,
   "metadata": {},
   "outputs": [],
   "source": []
  },
  {
   "cell_type": "markdown",
   "metadata": {},
   "source": [
    "#### 4 - Nombre repetido"
   ]
  },
  {
   "cell_type": "markdown",
   "metadata": {},
   "source": [
    "Escribe una función sin argumentos que solicite un nombre y un número entero, e imprima el nombre tantas veces como indique el número. El usuario debe proporcionar dos valores, el nombre y el número de repeticiones, separados por una coma (`,`). Si el número es 0, la función debe solicitar un nuevo número. Si el número es negativo o tiene decimales, debe generar un error. Por ejemplo, si ingreso \"Joan\" y el número 4, la salida debería ser:\n",
    "\n",
    "\n",
    "```\n",
    "Joan Joan Joan Joan\n",
    "```\n",
    "\n",
    "Usa la función `input`."
   ]
  },
  {
   "cell_type": "code",
   "execution_count": 48,
   "metadata": {},
   "outputs": [
    {
     "name": "stdin",
     "output_type": "stream",
     "text": [
      "Introduce un nombre y un número de repeticiones separados por una coma (ejemplo: Joan, 4):  ppdd, 2\n"
     ]
    },
    {
     "name": "stdout",
     "output_type": "stream",
     "text": [
      "ppdd ppdd \n"
     ]
    }
   ],
   "source": [
    "# escribe to código aquí\n",
    "\n",
    "# fc input: nada, no hay argumentos de entrada\n",
    "#    output : printaré reps veces el name\n",
    "# 1.  name, reps = input(\"input a nam and a integer separados por una coma\").split(, )\n",
    "# 2. mientras resp = 0 --> WHILE\n",
    "      # 2.1. si reps es 0, tendremos que volver a pedir el número, pero no el nombre\n",
    "# 3. si reps es negativo (<0) o tiene decimales (float), hay que levantar un error\n",
    "# 4. print(name * reps)\n",
    "\n",
    "def repetir_nombre(): \n",
    "    while True:  # Usamos un bucle para asegurarnos de que se ingrese un número válido\n",
    "        entrada = input(\"Introduce un nombre y un número de repeticiones separados por una coma (ejemplo: Joan, 4): \")\n",
    "\n",
    "        try:\n",
    "            name, reps = entrada.split(\",\")  # Separamos los dos valores usando la coma\n",
    "            name = name.strip()  # Eliminamos cualquier espacio extra\n",
    "            reps = reps.strip()  # Eliminamos cualquier espacio extra\n",
    "\n",
    "            reps_float = float(reps)  # Convertimos el número a flotante\n",
    "\n",
    "            # Verificamos que no tenga decimales y que sea positivo\n",
    "            if reps_float != int(reps_float):\n",
    "                raise ValueError(\"El número debe ser un entero sin decimales.\")\n",
    "            reps = int(reps_float)  # Convertimos el número a entero\n",
    "\n",
    "            if reps <= 0:  # Si el número es 0 o negativo, lo rechazamos\n",
    "                print(\"El número debe ser mayor que 0. Inténtalo de nuevo.\")\n",
    "                continue  # Vuelve a pedir la entrada\n",
    "\n",
    "            print((name + \" \") * reps)  # Imprime el nombre tantas veces como se indique el número\n",
    "            break  # Sale del bucle si todo es correcto\n",
    "\n",
    "        except ValueError as e:\n",
    "            print(f\"Error: {e}. Inténtalo de nuevo.\")  # Muestra el mensaje de error\n",
    "\n",
    "# Llamada a la función\n",
    "repetir_nombre()\n",
    "    "
   ]
  },
  {
   "cell_type": "code",
   "execution_count": 46,
   "metadata": {},
   "outputs": [
    {
     "name": "stdin",
     "output_type": "stream",
     "text": [
      "Introduce un nombre y un numero separados por una coma: ramon, -2\n"
     ]
    },
    {
     "name": "stdout",
     "output_type": "stream",
     "text": [
      "\n"
     ]
    }
   ],
   "source": [
    "# escriu el teu codi aquí\n",
    "\n",
    "\n",
    "#Funcion --> INPUT: nada, no hay argumentos de entrada.\n",
    "#        --> Printare reps veces el name\n",
    "#1- name, reps = input('Input a name and an integer separados por una coma:').split(',')\n",
    "#2- Mientras reps sea igual a 0: --> WHILE\n",
    "#    2.1- Si reps es 0, tendremos que volver a pedir el numero.\n",
    "#3- Si reps es negativo o tiene decimales tenemos que levantar un error. \n",
    "#4- print(name* reps)\n",
    "\n",
    "\n",
    "\n",
    "def repite_nombre():\n",
    "   # name, reps = input('Introduce un nombre y un numero separados por una coma:').split(',')\n",
    "    #print(name, reps)\n",
    "    #print(type(name), type(reps))\n",
    "    #Ambos son strings, reps lo tendre que convertir a integer en algun momento.\n",
    "    \n",
    "\n",
    "    #Si reps es 0: --> reps = input('Introduce un numero entero mayor que 0:')\n",
    "    if reps == 0:\n",
    "        raise ValueError\n",
    "\n",
    "\n",
    "    # Si es negativo o tiene decimales --> raise ValueError\n",
    "\n",
    "    # print:\n",
    "    print((name + \", \") * int(reps))\n",
    "\n",
    "\n",
    "repite_nombre()\n"
   ]
  },
  {
   "cell_type": "code",
   "execution_count": null,
   "metadata": {},
   "outputs": [],
   "source": []
  },
  {
   "cell_type": "markdown",
   "metadata": {
    "tags": []
   },
   "source": [
    "#### 5 -  Fibonacci\n",
    "\n",
    "La secuencia de Fibonacci es una famosa secuencia numérica en matemáticas, en la que cada número es la suma de los dos anteriores, comenzando generalmente con 0 y 1. Es decir, la secuencia comienza con 0, 1, y a partir de ahí cada término es la suma de los dos términos precedentes. Los primeros términos de la secuencia de Fibonacci son:\n",
    "```\n",
    "0, 1, 1, 2, 3, 5, 8, 13, 21, 34, ...\n",
    "```\n",
    "Escribe una función que produzca una secuencia de $n$ números de Fibonacci, donde $n$ será el parámetro de entrada de la función. Esta es la cantidad de elementos que se generaran sin tomar en cuenta el 0 de inicio.  Por ejemplo, si introduzco $n = 4$ entonces el output será\n",
    "\n",
    "```\n",
    "0, 1, 1, 2, 3\n",
    "```\n",
    "\n",
    "https://en.wikipedia.org/wiki/Fibonacci_sequence"
   ]
  },
  {
   "cell_type": "code",
   "execution_count": 49,
   "metadata": {},
   "outputs": [
    {
     "name": "stdout",
     "output_type": "stream",
     "text": [
      "[0, 1, 1, 2, 3]\n",
      "[0, 1, 1, 2, 3]\n"
     ]
    }
   ],
   "source": [
    "# escribe tu código aquí\n",
    "\n",
    "# 1 iniciar lista con [0, 1]\n",
    "# iterar sobre el rango(2, n+1)\n",
    "\n",
    "# escriu el teu codi aquí\n",
    "# 1- Inicializar la lista con [0, 1]\n",
    "# 2- Iterar sobre el rango( n+1) --> Para n = 4 --> [0, 1, 2, 3, 4]\n",
    "#                 --> rango(n-1)--> Para n= 4 --> [0, 1, 2]\n",
    "# 2.1. Itero sobre [0, 1, 2] y en cada iteracion añado a la lista la suma de los dos valores anteriores\n",
    "#   \n",
    "\n",
    "lista_fibonacci = [0, 1]\n",
    "n=4\n",
    "for _ in range(n-1):\n",
    "    lista_fibonacci.append(sum(lista_fibonacci[-2:]))\n",
    "print(lista_fibonacci)\n",
    "\n",
    "lista_fibonacci = [0, 1]\n",
    "contador = 1\n",
    "while contador < n:\n",
    "    contador += 1\n",
    "    lista_fibonacci.append(sum(lista_fibonacci[-2:]))\n",
    "\n",
    "print(lista_fibonacci)\n"
   ]
  },
  {
   "cell_type": "markdown",
   "metadata": {
    "tags": []
   },
   "source": [
    "#### 6 - Comprensión\n",
    "\n",
    "Crea una función que tome como entrada una lista de números enteros aleatorios y utilizando una sola línea de código devuelva una nueva lista que contenga solo los cuadrados de los números impares. Usa `random.randint` para crear la lista de números aleatorios y comprueba que tu función devuelve el output correcto."
   ]
  },
  {
   "cell_type": "code",
   "execution_count": 93,
   "metadata": {},
   "outputs": [
    {
     "ename": "TypeError",
     "evalue": "cuadrados_impares() missing 1 required positional argument: 'random_num_list'",
     "output_type": "error",
     "traceback": [
      "\u001b[0;31m---------------------------------------------------------------------------\u001b[0m",
      "\u001b[0;31mTypeError\u001b[0m                                 Traceback (most recent call last)",
      "Cell \u001b[0;32mIn[93], line 11\u001b[0m\n\u001b[1;32m      7\u001b[0m     \u001b[38;5;28;01mif\u001b[39;00m numero \u001b[38;5;241m%\u001b[39m \u001b[38;5;241m2\u001b[39m \u001b[38;5;241m!=\u001b[39m \u001b[38;5;241m0\u001b[39m:\n\u001b[1;32m      8\u001b[0m         \u001b[38;5;28mprint\u001b[39m(\u001b[38;5;124m\"\u001b[39m\u001b[38;5;124mel cuadrado del número\u001b[39m\u001b[38;5;124m\"\u001b[39m, numero, \u001b[38;5;124m\"\u001b[39m\u001b[38;5;124mes\u001b[39m\u001b[38;5;124m\"\u001b[39m, numero\u001b[38;5;241m*\u001b[39m\u001b[38;5;241m*\u001b[39m\u001b[38;5;241m2\u001b[39m)\n\u001b[0;32m---> 11\u001b[0m \u001b[43mcuadrados_impares\u001b[49m\u001b[43m(\u001b[49m\u001b[43m)\u001b[49m\n\u001b[1;32m     14\u001b[0m \u001b[38;5;66;03m## función tendra INPUT _ random_num_list\u001b[39;00m\n\u001b[1;32m     15\u001b[0m \u001b[38;5;66;03m#                output_ lista con los cuadrados de los múmeros impartes\u001b[39;00m\n\u001b[1;32m     16\u001b[0m \n\u001b[0;32m   (...)\u001b[0m\n\u001b[1;32m     19\u001b[0m \u001b[38;5;66;03m# 3. elevar al cuadrado cada número impar\u001b[39;00m\n\u001b[1;32m     20\u001b[0m \u001b[38;5;66;03m# 4. retornar nueva lista\u001b[39;00m\n\u001b[1;32m     22\u001b[0m \u001b[38;5;28;01mdef\u001b[39;00m \u001b[38;5;21mcuadrados_impares_v2\u001b[39m(random_num_list):\n",
      "\u001b[0;31mTypeError\u001b[0m: cuadrados_impares() missing 1 required positional argument: 'random_num_list'"
     ]
    }
   ],
   "source": [
    "# escribe tu código aquí\n",
    "\n",
    "import random\n",
    "\n",
    "def cuadrados_imp():\n",
    "    numero = random.randint(0, 100)\n",
    "    if numero % 2 != 0:\n",
    "        print(\"el cuadrado del número\", numero, \"es\", numero**2)\n",
    "        \n",
    "    \n",
    "cuadrados_impares()\n",
    "\n",
    "\n",
    "## función tendra INPUT _ random_num_list\n",
    "#                output_ lista con los cuadrados de los múmeros impartes\n",
    "\n",
    "# 1. crea una lista vacía\n",
    "# 2. filtrar y quedarme con los impares\n",
    "# 3. elevar al cuadrado cada número impar\n",
    "# 4. retornar nueva lista\n",
    "\n",
    "def cuadrados_impares_v2(random_num_list):\n",
    "    lista_cuadrados = []\n",
    "    for num in random_num_list:\n",
    "        #print(num)\n",
    "        if num % 2 == 1:\n",
    "            cuadrado = num ** 2\n",
    "            lista_cuadrados.append(cuadrado)\n",
    "    return lista_cuadrados\n",
    "\n",
    "print(cuadrados_impares_v2(random_num_list))\n"
   ]
  },
  {
   "cell_type": "code",
   "execution_count": 92,
   "metadata": {},
   "outputs": [
    {
     "ename": "NameError",
     "evalue": "name 'random_num_list' is not defined",
     "output_type": "error",
     "traceback": [
      "\u001b[0;31m---------------------------------------------------------------------------\u001b[0m",
      "\u001b[0;31mNameError\u001b[0m                                 Traceback (most recent call last)",
      "Cell \u001b[0;32mIn[92], line 10\u001b[0m\n\u001b[1;32m      7\u001b[0m             lista_cuadrados\u001b[38;5;241m.\u001b[39mappend(cuadrado)\n\u001b[1;32m      8\u001b[0m     \u001b[38;5;28;01mreturn\u001b[39;00m lista_cuadrados\n\u001b[0;32m---> 10\u001b[0m \u001b[38;5;28mprint\u001b[39m(cuadrados_impares(\u001b[43mrandom_num_list\u001b[49m))\n",
      "\u001b[0;31mNameError\u001b[0m: name 'random_num_list' is not defined"
     ]
    }
   ],
   "source": [
    "\n",
    "def cuadrados_impares(random_num_list):\n",
    "    lista_cuadrados = []\n",
    "    for num in random_num_list:\n",
    "        #print(num)\n",
    "        if num % 2 == 1:\n",
    "            cuadrado = num ** 2\n",
    "            lista_cuadrados.append(cuadrado)\n",
    "    return lista_cuadrados\n",
    "\n",
    "print(cuadrados_impares(random_num_list))\n"
   ]
  },
  {
   "cell_type": "markdown",
   "metadata": {},
   "source": [
    "#### 7 - Poema\n",
    "\n",
    "En este repositorio encontrarás un archivo de texto con el poema *The Road Not Taken* de Robert Frost. Escribe una función que reciba de entrada una string con la ruta del archivo donde se encuentra el poema y un enter $n$. La función debe leer el poema como una string y devolver una lista con las palabras con una longitud $>n$ que aparezcan al menos dos veces.\n",
    "\n",
    "*Pista: puedes hacer uso de `Counter` https://realpython.com/python-counter/*"
   ]
  },
  {
   "cell_type": "code",
   "execution_count": 96,
   "metadata": {},
   "outputs": [
    {
     "name": "stdout",
     "output_type": "stream",
     "text": [
      "['the', 'road', 'not', 'taken', 'two', 'roads', 'diverged', 'in', 'a', 'yellow', 'wood', 'and', 'sorry', 'i', 'could', 'not', 'travel', 'both', 'and', 'be', 'one', 'traveler', 'long', 'i', 'stood', 'and', 'looked', 'down', 'one', 'as', 'far', 'as', 'i', 'could', 'to', 'where', 'it', 'bent', 'in', 'the', 'undergrowth', 'then', 'took', 'the', 'other', 'as', 'just', 'as', 'fair', 'and', 'having', 'perhaps', 'the', 'better', 'claim', 'because', 'it', 'was', 'grassy', 'and', 'wanted', 'wear', 'though', 'as', 'for', 'that', 'the', 'passing', 'there', 'had', 'worn', 'them', 'really', 'about', 'the', 'same', 'and', 'both', 'that', 'morning', 'equally', 'lay', 'in', 'leaves', 'no', 'step', 'had', 'trodden', 'black', 'oh', 'i', 'kept', 'the', 'first', 'for', 'another', 'day', 'yet', 'knowing', 'how', 'way', 'leads', 'on', 'to', 'way', 'i', 'doubted', 'if', 'i', 'should', 'ever', 'come', 'back', 'i', 'shall', 'be', 'telling', 'this', 'with', 'a', 'sigh', 'somewhere', 'ages', 'and', 'ages', 'hence', 'two', 'roads', 'diverged', 'in', 'a', 'wood', 'and', 'i', 'i', 'took', 'the', 'one', 'less', 'traveled', 'by', 'and', 'that', 'has', 'made', 'all', 'the', 'difference']\n",
      "[('the', 9), ('and', 9), ('i', 9), ('as', 5), ('in', 4), ('a', 3), ('one', 3), ('that', 3), ('not', 2), ('two', 2), ('roads', 2), ('diverged', 2), ('wood', 2), ('could', 2), ('both', 2), ('be', 2), ('to', 2), ('it', 2), ('took', 2), ('for', 2), ('had', 2), ('way', 2), ('ages', 2), ('road', 1), ('taken', 1), ('yellow', 1), ('sorry', 1), ('travel', 1), ('traveler', 1), ('long', 1), ('stood', 1), ('looked', 1), ('down', 1), ('far', 1), ('where', 1), ('bent', 1), ('undergrowth', 1), ('then', 1), ('other', 1), ('just', 1), ('fair', 1), ('having', 1), ('perhaps', 1), ('better', 1), ('claim', 1), ('because', 1), ('was', 1), ('grassy', 1), ('wanted', 1), ('wear', 1), ('though', 1), ('passing', 1), ('there', 1), ('worn', 1), ('them', 1), ('really', 1), ('about', 1), ('same', 1), ('morning', 1), ('equally', 1), ('lay', 1), ('leaves', 1), ('no', 1), ('step', 1), ('trodden', 1), ('black', 1), ('oh', 1), ('kept', 1), ('first', 1), ('another', 1), ('day', 1), ('yet', 1), ('knowing', 1), ('how', 1), ('leads', 1), ('on', 1), ('doubted', 1), ('if', 1), ('should', 1), ('ever', 1), ('come', 1), ('back', 1), ('shall', 1), ('telling', 1), ('this', 1), ('with', 1), ('sigh', 1), ('somewhere', 1), ('hence', 1), ('less', 1), ('traveled', 1), ('by', 1), ('has', 1), ('made', 1), ('all', 1), ('difference', 1)]\n"
     ]
    }
   ],
   "source": [
    "from collections import Counter\n",
    "import re\n",
    "\n",
    "with open(\"../data/poem.txt\" , \"r\") as textfile:\n",
    "       texto = textfile.read().lower()\n",
    "\n",
    "texto_limpio = \"\"\n",
    "for caracter in texto:\n",
    "  if caracter.isalpha():\n",
    "    texto_limpio += caracter\n",
    "  else:\n",
    "    texto_limpio += \" \"   \n",
    "\n",
    "texto_separado = texto_limpio.split()\n",
    "print(texto_separado)     \n",
    "\n",
    "print(Counter(texto_separado).most_common())"
   ]
  },
  {
   "cell_type": "code",
   "execution_count": null,
   "metadata": {},
   "outputs": [],
   "source": [
    "\n",
    "\n",
    "\n",
    "#PSEUDOCODIGO:\n",
    "#1- Abrir el texto y guardarmelo en una variable.\n",
    "#2- Convertir el texto a minuscula, sustituir lo que no sean letras por espacios\n",
    "#y dividir por espacios -->  convierto el texto en una lista de palabras. --> solo_letras\n",
    "#3- Usar Counter(texto_limpio).most_common() para encontrar las palabras mas comunes. --> me devuelve lista de \n",
    "#tuplas con la palabra y cuantas veces aparece.\n",
    "#4- Quedarme con las palabras que tengan longitud mayor a n y que aparezcan mas de una vez (FILTRO con dos\n",
    "#condiciones)\n",
    "\"\n",
    "\n",
    "# escriu el teu codi aquí\n",
    "# Paso 1: Abrir texto y guardarmelo\n",
    "\n",
    "\n",
    "from collections import Counter\n",
    "import re\n",
    "\n",
    "with open(filename, 'r') as textfile:\n",
    "    text = textfile.read()"
   ]
  },
  {
   "cell_type": "code",
   "execution_count": 97,
   "metadata": {},
   "outputs": [],
   "source": [
    "# solución de FRAN\n",
    "\n",
    "from collections import Counter\n",
    "import re\n",
    "#\"\"\"\n",
    "#PSEUDOCODIGO:\n",
    "#1- Abrir el texto y guardarmelo en una variable.\n",
    "#2- Convertir el texto a minuscula, sustituir lo que no sean letras por espacios\n",
    "#y dividir por espacios -->  convierto el texto en una lista de palabras. --> solo_letras\n",
    "#3- Usar Counter(texto_limpio).most_common() para encontrar las palabras mas comunes. --> me devuelve lista de \n",
    "#tuplas con la palabra y cuantas veces aparece.\n",
    "#4- Quedarme con las palabras que tengan longitud mayor a n y que aparezcan mas de una vez (FILTRO con dos\n",
    "#condiciones)\n",
    "#\"\"\"\n",
    "\n",
    "\n",
    "filename = \"../data/poem.txt\"\n",
    "n = 1\n",
    "# escriu el teu codi aquí\n",
    "# Paso 1: Abrir texto y guardarmelo\n",
    "with open(filename, 'r') as textfile:\n",
    "    text = textfile.read()\n",
    "    #print(text)\n",
    "\n",
    "\n",
    "# PASO 2: Limpiar texto, convertir a minusculas\n",
    "def solo_letras(texto):\n",
    "    texto_limpio = \"\"\n",
    "    texto_minusculas = texto.lower()\n",
    "    for caracter in texto_minusculas:\n",
    "        if caracter.isalpha():\n",
    "            texto_limpio += caracter\n",
    "        else:\n",
    "            texto_limpio += \" \"\n",
    "    return texto_limpio\n",
    "\n",
    "#PASO 3\n",
    "texto_limpio = solo_letras(text)\n",
    "texto_dividido = texto_limpio.split()\n",
    "#print(texto_dividido)\n",
    "palabras_mas_comunes = Counter(texto_dividido).most_common()\n",
    "#print(palabras_mas_comunes)\n",
    "\n",
    "#PASO 4:\n",
    "\n",
    "lista_palabras = []\n",
    "for tupla in palabras_mas_comunes:\n",
    "    palabra = tupla[0]\n",
    "    veces_repetida = tupla[1]\n",
    "    if len(palabra) > n and veces_repetida > 1:\n",
    "        lista_palabras.append((palabra, veces_repetida))\n",
    "\n",
    "\n",
    "print(lista_palabras)"
   ]
  },
  {
   "cell_type": "markdown",
   "metadata": {
    "tags": []
   },
   "source": [
    "#### 8 - Pizzería\n",
    "\n",
    "La pizzería \"Bella Napoli\" ha ampliado su menú para incluir pizzas vegetarianas, veganas, y carnes premium, cada una con una variedad de ingredientes exclusivos. Además de tomate, que está incluido en todas las pizzas, el usuario ahora puede elegir hasta tres ingredientes adicionales para su pizza. Los ingredientes que vienen incluidos con cada tipo de pizza son los siguientes:"
   ]
  },
  {
   "cell_type": "code",
   "execution_count": null,
   "metadata": {},
   "outputs": [],
   "source": [
    "ingredients = {\n",
    "    'Vegetarian': ['Mozzarella', 'Pepper', 'Tofu', 'Mushrooms', 'Spinach', 'Olives'],\n",
    "    'Vegan': ['Vegan cheese', 'Tofu', 'Mushrooms', 'Spinach', 'Olives', 'Pepper'],\n",
    "    'Premium Cuts': ['Mozzarella', 'Pepperoni', 'Ham', 'Salmon', 'Beef', 'Bacon']\n",
    "}"
   ]
  },
  {
   "cell_type": "markdown",
   "metadata": {
    "jp-MarkdownHeadingCollapsed": true,
    "tags": []
   },
   "source": [
    "A partir del diccionario `ingredients`, crea un programa con las siguientes características:\n",
    "* **8.1** Pregunta al usuario qué tipo de pizza desea. El `input` del usuario tiene que ser un tipo que represente el tipo: 1 para vegetariana, 2 para vegana y 3 para carnes premium.\n",
    "* **8.2** Muestra la lista de los ingredientes disponibles según la elección previa.\n",
    "* **8.3** Permite al usuario elegir hasta tres ingredientes. El input del usuario debe ser el nombre de los elementos elegidos separados por comas. Si el usuario escoge más de tres ingredientes, imprime una advertencia y da la opción de volverlos a escoger.\n",
    "* **8.4** Muestra un resumen de la pizza elegida con todos los ingredientes.\n",
    "\n",
    "*Pista: puedes usar la función `input` para obtener los inputs del ususario https://www.geeksforgeeks.org/python-input-function/*"
   ]
  },
  {
   "cell_type": "code",
   "execution_count": null,
   "metadata": {},
   "outputs": [],
   "source": [
    "# escribe tu código aquí"
   ]
  },
  {
   "cell_type": "markdown",
   "metadata": {},
   "source": [
    "**Bonus:**\n",
    "- Da la opción al usuario de añadir hasta dos ingredientes adicionales a parte de los que vienen incluidos con el tipo de pizza que haya elegido. Estos ingredientes pueden ser de otro tipo de pizza.\n",
    "- Si el usuario selecciona uno o mas ingredientes que no se encuentran en la lista, el programa debe avisar con un mensage indicando que la opción no es válida y permitir al usuario introducir una opción nueva.\n",
    "- Si el usuario presiona *enter* sin introducir nada, termina el bucle.\n",
    "- Si el usuario introduce un ingrediente que ya ha sido elegido previamente, el programa debe imprimir el mensage correspondiente y siguir con el bucle."
   ]
  }
 ],
 "metadata": {
  "kernelspec": {
   "display_name": "Python 3 (ipykernel)",
   "language": "python",
   "name": "python3"
  },
  "language_info": {
   "codemirror_mode": {
    "name": "ipython",
    "version": 3
   },
   "file_extension": ".py",
   "mimetype": "text/x-python",
   "name": "python",
   "nbconvert_exporter": "python",
   "pygments_lexer": "ipython3",
   "version": "3.11.10"
  }
 },
 "nbformat": 4,
 "nbformat_minor": 4
}
