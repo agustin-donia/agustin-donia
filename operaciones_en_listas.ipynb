{
 "cells": [
  {
   "cell_type": "markdown",
   "id": "3f6133a6-4392-48d5-b429-061e4ccd20f9",
   "metadata": {},
   "source": [
    "<h2> Map </h2>"
   ]
  },
  {
   "cell_type": "markdown",
   "id": "2f404435-655d-422a-8c10-465422dd0338",
   "metadata": {},
   "source": [
    "#### 1 - Lista de listas\n",
    "\n",
    "A continuación tienes una lista de (5) listas de números. Crea una lista nueva donde los elementos sean la suma de los números de cada lista dentro de la lista. Utiliza las funciones `sum` y `map`."
   ]
  },
  {
   "cell_type": "code",
   "execution_count": 9,
   "id": "e04c85ae-706e-4508-86e3-a916079176e9",
   "metadata": {},
   "outputs": [
    {
     "name": "stdout",
     "output_type": "stream",
     "text": [
      "[92.2, 4.1, 45.88, 6, -9.9]\n"
     ]
    }
   ],
   "source": [
    "number_lists = [[-5, 3.2, 94], [12.1, -8, 0], [46, -0.12], [1,2,3], [-9.9]]\n",
    "\n",
    "# 1- crear una lista nueva vacía: new_list = []\n",
    "# 2- iterar sobre number_lists (for elem in number_lists...)\n",
    "# 3- querré sumar los números de cada elemento --> sum(elem) \n",
    "#    y guardar la suma en new_list.append\n",
    "# 4- retornar new_list\n",
    "\n",
    "number_lists = [[-5, 3.2, 94], [12.1, -8, 0], [46, -0.12], [1,2,3], [-9.9]]\n",
    "\n",
    "def sumar_elementos(listitas):\n",
    "    lista_nueva = []\n",
    "    for elem in listitas:\n",
    "        lista_nueva.append(sum(elem))\n",
    "    return lista_nueva\n",
    "\n",
    "print(sumar_elementos(number_lists))\n",
    "    "
   ]
  },
  {
   "cell_type": "code",
   "execution_count": 13,
   "id": "06e07386-769d-412b-b4a7-df78c5cd969a",
   "metadata": {},
   "outputs": [
    {
     "name": "stdout",
     "output_type": "stream",
     "text": [
      "[92.2, 4.1, 45.88, 6, -9.9]\n"
     ]
    }
   ],
   "source": [
    "# la manera más sencilla, hecha por Fran\n",
    "\n",
    "number_lists = [[-5, 3.2, 94], [12.1, -8, 0], [46, -0.12], [1,2,3], [-9.9]]\n",
    "\n",
    "new_list = []\n",
    "for element in number_lists:\n",
    "    suma_element = sum(element) # aquí nosotros hicimos new_list.append(sum(element))\n",
    "    new_list.append(suma_element)\n",
    "\n",
    "print(new_list)"
   ]
  },
  {
   "cell_type": "code",
   "execution_count": 11,
   "id": "5084e99e-a067-41b8-94d7-fd03bdd44ce6",
   "metadata": {},
   "outputs": [
    {
     "name": "stdout",
     "output_type": "stream",
     "text": [
      "[92.2, 4.1, 45.88, 6, -9.9]\n"
     ]
    }
   ],
   "source": [
    "# para hacer todo en una sola linea de código\n",
    "\n",
    "new_list = [sum(element) for element in number_lists]\n",
    "\n",
    "print(new_list)"
   ]
  },
  {
   "cell_type": "code",
   "execution_count": 20,
   "id": "51d4ad4c-fc5b-4a57-adb1-d22838ff3ec1",
   "metadata": {},
   "outputs": [
    {
     "name": "stdout",
     "output_type": "stream",
     "text": [
      "[92.2, 4.1, 45.88, 6, -9.9]\n"
     ]
    }
   ],
   "source": [
    "# la forma más rápida quizás, pero menos utilizada\n",
    "# la gente tiende a hacerlo con sus einas.\n",
    "\n",
    "new_list = list(map (sum, number_lists))\n",
    "print(new_list)"
   ]
  },
  {
   "cell_type": "code",
   "execution_count": 15,
   "id": "cb135a4d-aa68-4798-aff6-9cb7bde09857",
   "metadata": {},
   "outputs": [
    {
     "name": "stdout",
     "output_type": "stream",
     "text": [
      "[92.2, 4.1, 45.88, 6, -9.9]\n"
     ]
    }
   ],
   "source": [
    "# práctica personal por la tarde\n",
    "# A continuación tienes una lista de (5) listas de números. \n",
    "# Crea una lista nueva donde los elementos sean la suma de los números de cada lista dentro de la lista. \n",
    "# Utiliza las funciones sum y map.\n",
    "\n",
    "number_lists = [[-5, 3.2, 94], [12.1, -8, 0], [46, -0.12], [1,2,3], [-9.9]]\n",
    "\n",
    "def sumar_elementos(listas_interiores):\n",
    "    resultado_listitas = []\n",
    "    for cada_elemento in listas_interiores:\n",
    "        resultado_listitas.append(sum(cada_elemento))\n",
    "    return resultado_listitas\n",
    "\n",
    "print(sumar_elementos(number_lists))\n"
   ]
  },
  {
   "cell_type": "markdown",
   "id": "ee1db615-4b3b-48ce-b0a6-2482bdd477ba",
   "metadata": {
    "tags": []
   },
   "source": [
    "#### 2 - Cuadrados\n",
    "\n",
    "Define una función llamada `square_element` que reciba un elemento de entrada y devuelva su cuadrado, siempre y cuando este elemento sea de tipo `int` o `float`. En caso contrario, devuelve el elemento sin modificar. Usa la función `map` para transformar la lista que tienes a continuación con la función `square_element` que acabas de crear."
   ]
  },
  {
   "cell_type": "code",
   "execution_count": 12,
   "id": "e0f64579-d664-47d7-8471-42b1d64a84d6",
   "metadata": {},
   "outputs": [
    {
     "name": "stdout",
     "output_type": "stream",
     "text": [
      "[25, 4.8841, 'hi', False, 47.4721, 0.0625, '9', 9, True, None, 36, [1, 2], 16.81, 81]\n"
     ]
    }
   ],
   "source": [
    "heterogeneous_list = [5, 2.21, 'hi', False, 6.89, 0.25, '9', 3, True, None, 6, [1,2], 4.1, 9]\n",
    "\n",
    "# escribe tu código aquí\n",
    "\n",
    "def square_element(lista):\n",
    "    lista_map = []\n",
    "    for elem in lista:\n",
    "        if type(elem) is int or type(elem) is float: \n",
    "            elem = elem ** 2\n",
    "            lista_map.append(elem)\n",
    "        else:\n",
    "            lista_map.append(elem)\n",
    "    return lista_map\n",
    "\n",
    "print(square_element(heterogeneous_list))\n"
   ]
  },
  {
   "cell_type": "code",
   "execution_count": 22,
   "id": "7892ea31-4c56-416a-8500-c2859d5fb450",
   "metadata": {},
   "outputs": [
    {
     "name": "stdout",
     "output_type": "stream",
     "text": [
      "[25, 4.8841, 'hi', False, 47.4721, 0.0625, '9', 9, True, None, 36, [1, 2], 16.81, 81]\n"
     ]
    }
   ],
   "source": [
    "# respuesta de Fran\n",
    "\n",
    "heterogeneous_list = [5, 2.21, 'hi', False, 6.89, 0.25, '9',\n",
    "                      3, True, None, 6, [1,2], 4.1, 9]\n",
    "\n",
    "# escribe tu código aquí\n",
    "\n",
    "\n",
    "def square_element(element):\n",
    "    if type(element) in [int, float]: # equivalente a if type(element) == int or type(element == float:\n",
    "        return element ** 2\n",
    "    else:\n",
    "        return element\n",
    "\n",
    "nueva_lista = []\n",
    "for element in heterogeneous_list:\n",
    "    nueva_lista.append(square_element(element))\n",
    "print(nueva_lista)\n",
    "    "
   ]
  },
  {
   "cell_type": "code",
   "execution_count": 25,
   "id": "08c3317e-efdd-43bc-a06f-b42d1c19e758",
   "metadata": {},
   "outputs": [
    {
     "name": "stdout",
     "output_type": "stream",
     "text": [
      "[25, 4.8841, 'hi', False, 47.4721, 0.0625, '9', 9, True, None, 36, [1, 2], 16.81, 81]\n"
     ]
    }
   ],
   "source": [
    "# otra forma.\n",
    "\n",
    "nueva_lista = [square_element(element) for element in heterogeneous_list]\n",
    "print(nueva_lista)"
   ]
  },
  {
   "cell_type": "code",
   "execution_count": 26,
   "id": "6de9341f-6062-4ff5-b52e-8c38ad4eefe8",
   "metadata": {},
   "outputs": [
    {
     "name": "stdout",
     "output_type": "stream",
     "text": [
      "[25, 4.8841, 'hi', False, 47.4721, 0.0625, '9', 9, True, None, 36, [1, 2], 16.81, 81]\n"
     ]
    }
   ],
   "source": [
    "# otra forma\n",
    "\n",
    "nueva_lista = list( map( square_element , heterogeneous_list )   )\n",
    "print(nueva_lista)"
   ]
  },
  {
   "cell_type": "markdown",
   "id": "c4041137-7eb3-49ad-ad13-2699a363cfd9",
   "metadata": {
    "tags": []
   },
   "source": [
    "#### 3 - Detectando Mayúsculas\n",
    "\n",
    "Define una función llamada `label_upper` que reciba como valor de entrada una string. Si todos los caracteres de esa string son mayúsculas, añade la palabra *Yes* seguida de un espacio, un guión y otro espacio al principio de la string: `'Yes - '`. En caso contrario, añade la palabra *No* seguida de un espacio, un guión y otro espacio al principio: `'No - '`. Usa el método `.isupper()` de las strings. A continuación, aplica la función a la lista siguiente usando `map` para etiquetar los elementos de la lista."
   ]
  },
  {
   "cell_type": "code",
   "execution_count": 33,
   "id": "2f483036-2bba-4079-9def-5034ddd6a5f3",
   "metadata": {},
   "outputs": [],
   "source": [
    "string_list = ['bonsai', 'BON JAN', 'BonSAi', 'BonaSA', 'BONANÇA', 'o no', 'YOKO']\n",
    "\n",
    "# 1- defino función label_upper(string)\n",
    "# 2 - si todas las letras son mayúsculas, retorno \"Yes - \" + string\n",
    "# 3- en caso contrario, retorno \"No - \" + string\n",
    "# 4- aplicar esta transformación para cada elemento de la lista de string_list\n",
    "\n"
   ]
  },
  {
   "cell_type": "code",
   "execution_count": 37,
   "id": "4bff3b38-e83a-43a5-a678-67a041a34935",
   "metadata": {},
   "outputs": [
    {
     "name": "stdout",
     "output_type": "stream",
     "text": [
      "['No - bonsai', 'Yes - BON JAN', 'No - BonSAi', 'No - BonaSA', 'Yes - BONANÇA', 'No - o no', 'Yes - YOKO']\n"
     ]
    }
   ],
   "source": [
    "def label_upper(palabra):\n",
    "    for letra in palabra:\n",
    "        if letra.islower():\n",
    "            return \"No - \" + palabra\n",
    "    return \"Yes - \" + palabra\n",
    "\n",
    "lista_nueva = []\n",
    "for elem in string_list:\n",
    "    lista_nueva.append(label_upper(elem))\n",
    "\n",
    "print(lista_nueva)"
   ]
  },
  {
   "cell_type": "code",
   "execution_count": 45,
   "id": "c0dbdb24-ff3e-43c5-893d-0318880019fe",
   "metadata": {},
   "outputs": [
    {
     "name": "stdout",
     "output_type": "stream",
     "text": [
      "['No - bonsai', 'Yes - BON JAN', 'No - BonSAi', 'No - BonaSA', 'Yes - BONANÇA', 'No - o no', 'Yes - YOKO']\n"
     ]
    }
   ],
   "source": [
    "# solución FRAN. aplica isupper a toda la palabra, no letra por letra\n",
    "\n",
    "# 1- defino función label_upper(string)\n",
    "# 2 - si todas las letras son mayúsculas, retorno \"Yes - \" + string\n",
    "# 3- en caso contrario, retorno \"No - \" + string\n",
    "# 4- aplicar esta transformación para cada elemento de la lista de string_listabs\n",
    "        # lista vacía\n",
    "        \n",
    "def label_upper(string):\n",
    "    if string.isupper():\n",
    "        return \"Yes - \" + string\n",
    "    else:\n",
    "        return \"No - \" + string\n",
    "\n",
    "lista_vacia = []\n",
    "for palabra in string_list:\n",
    "    lista_vacia.append(label_upper(palabra))\n",
    "\n",
    "print(lista_vacia)\n"
   ]
  },
  {
   "cell_type": "code",
   "execution_count": 47,
   "id": "8da58a8f-55bf-4bd4-8d27-04e4a47fdccc",
   "metadata": {},
   "outputs": [
    {
     "name": "stdout",
     "output_type": "stream",
     "text": [
      "['No - bonsai', 'Yes - BON JAN', 'No - BonSAi', 'No - BonaSA', 'Yes - BONANÇA', 'No - o no', 'Yes - YOKO']\n"
     ]
    }
   ],
   "source": [
    "lista_vacia = [label_upper(palabra) for palabra in string_list]\n",
    "print(lista_vacia)"
   ]
  },
  {
   "cell_type": "code",
   "execution_count": 48,
   "id": "3770cdac-0ad8-4e78-af9a-7735f71bcce2",
   "metadata": {},
   "outputs": [
    {
     "name": "stdout",
     "output_type": "stream",
     "text": [
      "['No - bonsai', 'Yes - BON JAN', 'No - BonSAi', 'No - BonaSA', 'Yes - BONANÇA', 'No - o no', 'Yes - YOKO']\n"
     ]
    }
   ],
   "source": [
    "lista_vacia = list(map(label_upper , string_list))\n",
    "print(lista_vacia)"
   ]
  },
  {
   "cell_type": "code",
   "execution_count": 43,
   "id": "fde6ed5f-0158-41d9-bdb7-c06148134e7f",
   "metadata": {},
   "outputs": [
    {
     "name": "stdout",
     "output_type": "stream",
     "text": [
      "True\n",
      "True\n",
      "True\n",
      "True\n",
      "True\n",
      "True\n",
      "True\n",
      "True\n",
      "True\n",
      "True\n",
      "True\n"
     ]
    }
   ],
   "source": [
    "string = \"abracadabra\"\n",
    "for char in string:\n",
    "    #print(char.isupper())\n",
    "    print(char.islower())d"
   ]
  },
  {
   "cell_type": "markdown",
   "id": "6660b786-c430-4272-bb22-d07b72d9616d",
   "metadata": {},
   "source": [
    "----"
   ]
  },
  {
   "cell_type": "markdown",
   "id": "8b687376-a397-44e7-b175-f959c56d4e63",
   "metadata": {},
   "source": [
    "<h2> Filter </h2>"
   ]
  },
  {
   "cell_type": "markdown",
   "id": "038cbce7-9f39-441f-b370-242de3e35f99",
   "metadata": {},
   "source": [
    "#### 1 - Strings cortas\n",
    "\n",
    "De la siguiente lista, quédate solo con las strings que tengan una longitud $<=3$. Define una función `is_short` que compruebe si la longitud de una string es $<=3$ y usala con la función `filter`."
   ]
  },
  {
   "cell_type": "code",
   "execution_count": 42,
   "id": "c652b3f7-fd00-41b9-88d8-646b43cf3b3c",
   "metadata": {},
   "outputs": [
    {
     "name": "stdout",
     "output_type": "stream",
     "text": [
      "['Pep', 'pop', 'pic', 'pap']\n"
     ]
    }
   ],
   "source": [
    "my_strings = ['Pep', 'Pepita', 'pop', 'papa', 'pollastre',\n",
    "              'picnic', 'pic', 'palplantat', 'pap', 'atzucac']\n",
    "\n",
    "def is_short(palabra):\n",
    "  return len(palabra) <= 3\n",
    "\n",
    "lista_nueva = []\n",
    "\n",
    "for palabra in my_strings:\n",
    "  if is_short(palabra):\n",
    "    lista_nueva.append(palabra)\n",
    "\n",
    "print(lista_nueva)\n",
    "    \n",
    "\n"
   ]
  },
  {
   "cell_type": "code",
   "execution_count": null,
   "id": "b92c5730-1d0d-4fcc-83bc-2cd7c1b76a4a",
   "metadata": {},
   "outputs": [],
   "source": [
    "# solución con FRAN\n",
    "\n",
    "# 1 - crear una lista vacía para guardar strings cortas\n",
    "# 2 - iteraré sobre my_strings\n",
    "# 3 - para cada elemento de my_strings, comprobaré longitud\n",
    "# len(elemento) y si es menor o igual que 3 me lo guardo en strings_cortas\n",
    "# 4 - retornar/printar (dependiendo si estoy dentro o fuera de la función)\n",
    "\n"
   ]
  },
  {
   "cell_type": "code",
   "execution_count": null,
   "id": "7728f7b6-a3c1-40ff-984c-1d7327b284e3",
   "metadata": {},
   "outputs": [],
   "source": []
  },
  {
   "cell_type": "code",
   "execution_count": null,
   "id": "45791992-b416-45b1-af70-c2c7a3d086b9",
   "metadata": {},
   "outputs": [],
   "source": []
  },
  {
   "cell_type": "markdown",
   "id": "e6d52400-2bcf-4aca-a874-fcc797cfbb95",
   "metadata": {},
   "source": [
    "#### 2 - Donde estan los Nones?\n",
    "\n",
    "A continuación tienes una lista de listas. Algunas de las listas dentro de la lista contienen elementos **None** y otras no. Filtra las listas en las que haya algun **None** y quédate solo con las que no tengan ninguno. Define una función llamada `without_none` que reciba de entrada una lista y compruebe si hay algun **None** con el operador `in` y usala junto con `filter` para eliminar las listas con **None**s."
   ]
  },
  {
   "cell_type": "code",
   "execution_count": null,
   "id": "31c1c573-d09d-463a-80f7-8c91c3037c9b",
   "metadata": {},
   "outputs": [],
   "source": [
    "lists_nones = [['eh', True, False], [0, -1], [None, None],\n",
    "               [0.1, None, [7]], ['Very', 'Good!']]\n",
    "\n",
    "# escribe tu código aquí"
   ]
  },
  {
   "cell_type": "markdown",
   "id": "dfe8040d-555e-4c32-87c7-9ce3420476c2",
   "metadata": {},
   "source": [
    "#### 3 - No linealidad\n",
    "\n",
    "Filtra los elementos de la lista que tienes a continuación y quédate solo con los que cumplan la siguiente condición: $2x^3-5x+4>4$, donde $x$ son los elementos de la lista. Define una función llamada `greater_than_cubic` y usala con `filter`."
   ]
  },
  {
   "cell_type": "code",
   "execution_count": null,
   "id": "2789a877-af2c-4b31-beec-c0ec1b0d437e",
   "metadata": {},
   "outputs": [],
   "source": [
    "list_of_numbers = [-1, 2.1, 0.5, -3, 0, -0.1, 0.9, 3, -4]\n",
    "\n",
    "# escribe tu código aquí"
   ]
  },
  {
   "cell_type": "markdown",
   "id": "68854f4a-c9a3-420f-912d-884d910bc22c",
   "metadata": {},
   "source": [
    "----"
   ]
  },
  {
   "cell_type": "markdown",
   "id": "c36b0aab-3178-433f-ab84-542273b00349",
   "metadata": {},
   "source": [
    "<h2> Reduce </h2>"
   ]
  },
  {
   "cell_type": "markdown",
   "id": "e65e7f4b-539f-47da-a8db-d582b06ab817",
   "metadata": {},
   "source": [
    "####  1 - Factorial\n",
    "\n",
    "Usa las funciones `range` y `reduce` para calcular $12!$. Define una función llamada `multiply` que reciba dos números de entrada, los multiplique y te devuelva el resultado."
   ]
  },
  {
   "cell_type": "code",
   "execution_count": null,
   "id": "237a713d-ba98-47a9-9dce-05cc8a696073",
   "metadata": {},
   "outputs": [],
   "source": [
    "from functools import reduce\n",
    "\n",
    "# escribe tu código aquí"
   ]
  },
  {
   "cell_type": "markdown",
   "id": "38d14bff-5e15-4f58-88ea-cfff28e4e969",
   "metadata": {},
   "source": [
    "#### 2 - Concatenación de strings\n",
    "\n",
    "Usa la función `reduce` para juntar las siguientes strings en una única string. Hazlo de forma que haya un espacio `' '` entre cada palabra."
   ]
  },
  {
   "cell_type": "code",
   "execution_count": null,
   "id": "08035720-ab08-463f-9bc3-e0979f5683f3",
   "metadata": {},
   "outputs": [],
   "source": [
    "statement = ['Python ', 'programming ', 'language ', 'is ', 'well ', 'made']\n",
    "\n",
    "# escribe tu código aquí"
   ]
  },
  {
   "cell_type": "markdown",
   "id": "0034f6d0-ec6f-424f-a4d4-42e46fa2d202",
   "metadata": {},
   "source": [
    "**Bonus:** usa el método `.join()` de las strings para obtener el mismo resultado."
   ]
  },
  {
   "cell_type": "markdown",
   "id": "59d8f0e5-17e0-4752-ac3b-546dcb1fdf70",
   "metadata": {},
   "source": [
    "#### 3 - Son todos adultos?\n",
    "\n",
    "Define una función llamada `is_adult` que reciba dos valores de entrada: un acumulador (tipo `bool`) y una edad (tipo `int` o `float`). Define una segunda función llamada `are_all_adults` que use la función anterior junto con `reduce` y que tenga como valor de entrada una lista de números. La función `are_all_adults` debe devolver `True` si todos los números de la lista son $>=18$ y `False` en caso contrario. Tomando de ejemplo las dos listas que tienes a continuación como valores de entrada, la primera deberia devolver `False` y la segunda `True`.\n",
    "\n",
    "*Pista: el 3r argumento de `reduce` determina el valor inicial del acumulador*"
   ]
  },
  {
   "cell_type": "code",
   "execution_count": null,
   "id": "af610c47-0192-4610-b022-127cc9a4236f",
   "metadata": {},
   "outputs": [],
   "source": [
    "list_of_ages_1 = [20, 32, 12, 2, 98, 40, 16, 8]\n",
    "list_of_ages_2 = [20, 32, 19, 22, 98, 40, 116, 80]\n",
    "\n",
    "# escribe tu código aquí"
   ]
  },
  {
   "cell_type": "markdown",
   "id": "af138a8d-4498-4765-b712-b5d754798e10",
   "metadata": {},
   "source": [
    "----"
   ]
  },
  {
   "cell_type": "markdown",
   "id": "a1f46fe7-0bb5-46cc-96f7-3c4175cc560c",
   "metadata": {},
   "source": [
    "<h2> Map + Filter </h2>"
   ]
  },
  {
   "cell_type": "markdown",
   "id": "1ed1ca3f-5dfc-4e0c-9265-3d86028aa90f",
   "metadata": {
    "tags": []
   },
   "source": [
    "#### BONG!\n",
    "\n",
    "Elimina los elementos que sean `False` de la lista siguiente y convierte todos los `None` en strings que sean \n",
    "```python\n",
    "'BONG!'\n",
    "```\n",
    "Usa las funciones `map` y `filter`."
   ]
  },
  {
   "cell_type": "code",
   "execution_count": null,
   "id": "a949b3f3-a22c-4d14-82ed-e72208cc3f36",
   "metadata": {},
   "outputs": [],
   "source": [
    "my_list = [12, None, True, False, None, 'ding', False,\n",
    "           '-0.1', None, 0, 'Tinc', False, None]\n",
    "\n",
    "# escribe tu código aquí"
   ]
  },
  {
   "cell_type": "markdown",
   "id": "c104f015-044b-4add-a3cc-29c69871947d",
   "metadata": {},
   "source": [
    "----"
   ]
  },
  {
   "cell_type": "markdown",
   "id": "17d14d4b-caab-4403-91e5-7c0788f1650f",
   "metadata": {
    "tags": []
   },
   "source": [
    "<h2> Map + Reduce </h2>"
   ]
  },
  {
   "cell_type": "markdown",
   "id": "1e411f26-634e-47e2-aa24-e0035266b8c3",
   "metadata": {
    "tags": []
   },
   "source": [
    "#### Cuanto vale *abcd*?\n",
    "Multiplica el valor ASCII de cada caracter de la string `abcd` y guarda el resultado en una variable. Imprime esta variable. Qué número obtienes? Usa las funciones `ord`, `map`, `reduce` y la función `multiply` que has definido en el ejercicio **factorial**."
   ]
  },
  {
   "cell_type": "code",
   "execution_count": null,
   "id": "2722dbe5-ed1b-4b67-a9a4-b829f9f01ab5",
   "metadata": {},
   "outputs": [],
   "source": [
    "abcd = 'abcd'\n",
    "\n",
    "# escribe tu código aquí"
   ]
  },
  {
   "cell_type": "markdown",
   "id": "3c7f53fe-4ea1-4e69-8b48-d7a1d07586a3",
   "metadata": {},
   "source": [
    "----"
   ]
  },
  {
   "cell_type": "markdown",
   "id": "1d7ec197-84b6-4615-895c-3b504aa2b5e9",
   "metadata": {
    "tags": []
   },
   "source": [
    "<h2> Filter + Reduce </h2>"
   ]
  },
  {
   "cell_type": "markdown",
   "id": "c895dc65-e8f1-428e-9ac4-89ff2b1cf3a3",
   "metadata": {
    "tags": []
   },
   "source": [
    "#### String más larga\n",
    "\n",
    "Define una función llamada `longest_string` que reciba como valor de entrada una lista. Los elementos de esa lista pueden ser de cualquier tipo. `longest_string` debe devolver la string más larga de la lista. En caso de que la lista de entrada no tenga ninguna string, `longest_string` debe devolver una string vacía (`''`). Usa las funciones `filter` y `reduce`."
   ]
  },
  {
   "cell_type": "code",
   "execution_count": null,
   "id": "bea2b52d-e61d-4cbe-873d-445c6110be7d",
   "metadata": {},
   "outputs": [],
   "source": [
    "my_list_1 = ['sumstring', 4, None, 'aaa', 'Siyahamba', 'queno',\n",
    "            'Mitochondria', True, 'llapis', 1.2, 'oh', 'com']\n",
    "my_list_2 = [1, 1, 1, 1, 0, 0, 0, 10, 11]\n",
    "\n",
    "# escribe tu código aquí"
   ]
  },
  {
   "cell_type": "markdown",
   "id": "fd99e767-b416-4a7e-bb2b-6eacbf1690a4",
   "metadata": {},
   "source": [
    "----"
   ]
  },
  {
   "cell_type": "markdown",
   "id": "71396518-dcf5-4e23-8e19-ac0b7839ee8d",
   "metadata": {},
   "source": [
    "<h3> Extra (opcional, para practicar) </h3>\n",
    "\n",
    "- Añade typing a las funciones que has definido\n",
    "- Soluciona todos los ejercicios anteriores usando list comprehension excepto los ejercicios de reduce"
   ]
  }
 ],
 "metadata": {
  "kernelspec": {
   "display_name": "Python 3 (ipykernel)",
   "language": "python",
   "name": "python3"
  },
  "language_info": {
   "codemirror_mode": {
    "name": "ipython",
    "version": 3
   },
   "file_extension": ".py",
   "mimetype": "text/x-python",
   "name": "python",
   "nbconvert_exporter": "python",
   "pygments_lexer": "ipython3",
   "version": "3.11.10"
  }
 },
 "nbformat": 4,
 "nbformat_minor": 5
}
