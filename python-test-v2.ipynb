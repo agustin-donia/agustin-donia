{
 "cells": [
  {
   "cell_type": "markdown",
   "metadata": {
    "id": "5XlmKu4HJCrQ"
   },
   "source": [
    "<h2> Python test </h2>"
   ]
  },
  {
   "cell_type": "markdown",
   "metadata": {
    "id": "lG8Jwv9TJCEg"
   },
   "source": [
    "#### 1 - Nombre y Apellido\n",
    "\n",
    "Define una función que tome una cadena con un nombre completo (nombre y apellido) e imprima cada palabra en una línea separada, comenzando desde la última palabra hasta la primera:\n",
    "\n",
    "Ej. 1:\n",
    "entrada: \"Ada Lovelace\"\n",
    "```python\n",
    "'Lovelace'\n",
    "'Ada'\n",
    "```\n",
    "\n",
    "Ej. 2:\n",
    "entrada: \"Augusta Ada King Countess of Lovelace\"\n",
    "```python\n",
    "'Lovelace'\n",
    "'of'\n",
    "'Countess'\n",
    "'King'\n",
    "'Ada'\n",
    "'Augusta'\n",
    "```"
   ]
  },
  {
   "cell_type": "code",
   "execution_count": 123,
   "metadata": {
    "colab": {
     "base_uri": "https://localhost:8080/"
    },
    "id": "Yz75aqhSJByR",
    "outputId": "a3f3981e-f1b5-4b74-9476-d0f2e61525de"
   },
   "outputs": [
    {
     "name": "stdout",
     "output_type": "stream",
     "text": [
      "González\n",
      "Rodríguez\n",
      "Ramon\n"
     ]
    }
   ],
   "source": [
    "# la inversión la tuve que hacer con Chat GPT\n",
    "\n",
    "def nombre_separado(nombre):\n",
    "    palabras = reversed(nombre.split())\n",
    "    for palabra in palabras:\n",
    "        print(palabra)\n",
    "\n",
    "nombre_separado(\"Ramon Rodríguez González\")"
   ]
  },
  {
   "cell_type": "markdown",
   "metadata": {
    "id": "trRP0M_fJBrh"
   },
   "source": [
    "#### 2 - Filtrar Impares\n",
    "\n",
    "Define una función llamada `read_odd()` que acepte una cadena de entrada y devuelva otra cadena donde las consonantes en posiciones impares hayan sido reemplazadas por espacios:\n",
    "\n",
    "```python\n",
    "'Anaconda' -> 'A a o da '\n",
    "'Python' -> 'P t o '\n",
    "```\n",
    "\n",
    "*Nota: Recuerda que en programación, el índice de las letras en una palabra comienza en 0, por lo que las posiciones \"impares\" serán 1, 3, 5, etc.*"
   ]
  },
  {
   "cell_type": "code",
   "execution_count": 26,
   "metadata": {},
   "outputs": [
    {
     "data": {
      "text/plain": [
       "'python'"
      ]
     },
     "execution_count": 26,
     "metadata": {},
     "output_type": "execute_result"
    }
   ],
   "source": [
    "# Esta es la solución que hice\n",
    "# pero tiene un problema con el replace para strings.\n",
    "# para esta solución consulté a chat gpt para la función enumerate.\n",
    "\n",
    "# En la próxima celda pego la solución que me dio CHAT GPT cuando le consulté\n",
    "\n",
    "\n",
    "string1 = \"Anaconda\"\n",
    "string2 = \"Python\"\n",
    "\n",
    "vocales =\"aeiou\"\n",
    "\n",
    "def read_odd(string):\n",
    "    string = string.lower()\n",
    "    for index, letra in enumerate(string):\n",
    "            if index % 2 != 0 and letra not in vocales:\n",
    "             #   string.replace(letra, \" \")   # no funciona\n",
    "                index = \" \" # tampoco funciona\n",
    "    return string\n",
    "\n",
    "read_odd(string2)"
   ]
  },
  {
   "cell_type": "code",
   "execution_count": 20,
   "metadata": {},
   "outputs": [
    {
     "name": "stdout",
     "output_type": "stream",
     "text": [
      "culeb i la\n",
      "mas o o te\n"
     ]
    }
   ],
   "source": [
    "# esta es la solución que me dio CHAT GPT.\n",
    "# la comprendo, pero no estoy familiarizado con:\n",
    "                # 1. la necesidad de convertir strings a listas.\n",
    "                # 2. la línea del return \"\". join(string) NO LA COMPRENDO\n",
    "\n",
    "def read_odd(string):\n",
    "    string = list(string.lower())  # Convertimos la cadena a lista para modificarla\n",
    "    \n",
    "    for index, letra in enumerate(string):  # Recorremos la cadena con su índice\n",
    "        if index % 2 != 0 and letra not in vocales:  # Si la posición es impar y no es vocal\n",
    "            string[index] = \" \"  # Reemplazamos la consonante por un espacio\n",
    "            \n",
    "    return \"\".join(string)  # Convertimos la lista de nuevo en una cadena\n",
    "\n",
    "print(read_odd(string2))  # Probamos la función\n",
    "print(read_odd(string1))"
   ]
  },
  {
   "cell_type": "markdown",
   "metadata": {
    "id": "bAjqz6NvJBdi"
   },
   "source": [
    "#### 3 - Filtrar impares plus\n",
    "\n",
    "Define una función llamada `read_odd_plus()` que acepte una lista de cadenas de entrada. La función debe devolver una nueva lista donde las cadenas en posiciones pares tengan las consonantes en posiciones pares reemplazadas por espacios, y las cadenas en posiciones impares tengan las consonantes en posiciones impares reemplazadas por guiones:\n",
    "\n",
    "```python\n",
    "['Anaconda', 'Anaconda', 'Anaconda'] -> ['Anacon a', 'A-a-o-da','Anacon a']\n",
    "```\n",
    "\n",
    "*Nota: Continuamos con la misma lógica que en el ejercicio anterior, y por lo tanto las palabras \"impares\" serán las que se encuentran en las posiciones 1, 3, 5, etc., y las palabras \"pares\" las que se encuentran en 0, 2, 4, etc.*"
   ]
  },
  {
   "cell_type": "code",
   "execution_count": 34,
   "metadata": {},
   "outputs": [
    {
     "ename": "ValueError",
     "evalue": "too many values to unpack (expected 2)",
     "output_type": "error",
     "traceback": [
      "\u001b[0;31m---------------------------------------------------------------------------\u001b[0m",
      "\u001b[0;31mValueError\u001b[0m                                Traceback (most recent call last)",
      "Cell \u001b[0;32mIn[34], line 17\u001b[0m\n\u001b[1;32m     14\u001b[0m                 string[index] \u001b[38;5;241m=\u001b[39m \u001b[38;5;124m\"\u001b[39m\u001b[38;5;124m-\u001b[39m\u001b[38;5;124m\"\u001b[39m\n\u001b[1;32m     15\u001b[0m     \u001b[38;5;28;01mreturn\u001b[39;00m lista_nueva\u001b[38;5;241m.\u001b[39mappend(\u001b[38;5;124m\"\u001b[39m\u001b[38;5;124m\"\u001b[39m\u001b[38;5;241m.\u001b[39mjoin(string)) \n\u001b[0;32m---> 17\u001b[0m \u001b[43mread_odd_plus\u001b[49m\u001b[43m(\u001b[49m\u001b[43mlista_strings\u001b[49m\u001b[43m)\u001b[49m      \n",
      "Cell \u001b[0;32mIn[34], line 10\u001b[0m, in \u001b[0;36mread_odd_plus\u001b[0;34m(lista)\u001b[0m\n\u001b[1;32m      8\u001b[0m \u001b[38;5;28;01mfor\u001b[39;00m string \u001b[38;5;129;01min\u001b[39;00m lista:\n\u001b[1;32m      9\u001b[0m     string \u001b[38;5;241m=\u001b[39m \u001b[38;5;28mlist\u001b[39m(string\u001b[38;5;241m.\u001b[39mlower())\n\u001b[0;32m---> 10\u001b[0m     \u001b[38;5;28;01mfor\u001b[39;00m index, string \u001b[38;5;129;01min\u001b[39;00m lista:\n\u001b[1;32m     11\u001b[0m         \u001b[38;5;28;01mif\u001b[39;00m index \u001b[38;5;241m%\u001b[39m \u001b[38;5;241m2\u001b[39m \u001b[38;5;241m==\u001b[39m \u001b[38;5;241m0\u001b[39m \u001b[38;5;129;01mand\u001b[39;00m string \u001b[38;5;129;01mnot\u001b[39;00m \u001b[38;5;129;01min\u001b[39;00m vocales:\n\u001b[1;32m     12\u001b[0m             string[index] \u001b[38;5;241m=\u001b[39m \u001b[38;5;124m\"\u001b[39m\u001b[38;5;124m \u001b[39m\u001b[38;5;124m\"\u001b[39m\n",
      "\u001b[0;31mValueError\u001b[0m: too many values to unpack (expected 2)"
     ]
    }
   ],
   "source": [
    "# NO HE PODIDO TERMINARLO\n",
    "\n",
    "lista_strings = [\"ramon\", \"pedro\", \"Ana\", \"Sarai\"]\n",
    "vocales = \"aeiouAEIOU\"\n",
    "lista_nueva = []\n",
    "\n",
    "def read_odd_plus(lista):\n",
    "    for string in lista:\n",
    "        string = list(string.lower())\n",
    "        for index, string in lista:\n",
    "            if index % 2 == 0 and string not in vocales:\n",
    "                string[index] = \" \"\n",
    "            elif index % 2 != 0 and string not in vocales:\n",
    "                string[index] = \"-\"\n",
    "    return lista_nueva.append(\"\".join(string)) \n",
    "      \n",
    "read_odd_plus(lista_strings)      "
   ]
  },
  {
   "cell_type": "markdown",
   "metadata": {
    "id": "Nx3QFI-zJBOp"
   },
   "source": [
    "#### 4 - Búsqueda de elementos\n",
    "\n",
    "Escribe una función que tome como entrada una lista de cadenas y devuelva una lista de tuplas con los elementos y su frecuencia. Para calcular la frecuencia, no distingas entre mayúsculas y minúsculas.\n",
    "\n",
    "Lista de Entrada: `['Escriure', 'a', 'Anaconda', 'Escriure', 'a', 'escriure', 'Anaconda', 'Escriure']`\n",
    "\n",
    "Lista de Salida: `[('Escriure', 4), ('a', 2), ('Anaconda', 2)] `"
   ]
  },
  {
   "cell_type": "code",
   "execution_count": 129,
   "metadata": {},
   "outputs": [
    {
     "name": "stdout",
     "output_type": "stream",
     "text": [
      "{'escriure': 5, 'a': 3, 'anaconda': 3}\n"
     ]
    }
   ],
   "source": [
    "# Me da un error en la cantidad de \"a\" = 3. \n",
    "# No entiendo por qué, y me cuesta entender la explicación del Chat GPT\n",
    "# el error se corrige alterando la línea del if (contador[elem] = 0)\n",
    "    # pero no entiendo la lógica\n",
    "\n",
    "# tampoco se me ha ocurrido cómo mantener las mayúsculas\n",
    "\n",
    "\n",
    "lista_entrada = ['Escriure', 'a', 'Anaconda', 'Escriure', 'a', 'escriure', 'Anaconda', 'Escriure']\n",
    "contador ={} \n",
    "\n",
    "def frecuencia(lista):\n",
    "    \n",
    "    for elem in lista:\n",
    "        \n",
    "        elem = elem.lower()\n",
    "        if elem not in contador:\n",
    "            lista.append(elem)\n",
    "            contador[elem] = 1\n",
    "        else:\n",
    "            contador[elem] += 1\n",
    "    return contador\n",
    "\n",
    "print(frecuencia(lista_entrada))\n"
   ]
  },
  {
   "cell_type": "markdown",
   "metadata": {
    "id": "0TeIEj3iI_6A"
   },
   "source": [
    "\n",
    "#### 5 - Superposición de listas\n",
    "\n",
    "Define una función llamada `list_overlap` que tome como entrada dos listas y devuelva una nueva lista con los elementos que no se superponen.\n",
    "\n",
    "**Ejemplo:**\n",
    "Entrada list_1: `[1, 2, 3, 4]`\n",
    "Entrada list_2: `[3, 4, 5, 6]`\n",
    "\n",
    "Salida esperada: `[1, 2, 5, 6]`\n"
   ]
  },
  {
   "cell_type": "code",
   "execution_count": 52,
   "metadata": {},
   "outputs": [
    {
     "data": {
      "text/plain": [
       "[1, 2, 5, 6]"
      ]
     },
     "execution_count": 52,
     "metadata": {},
     "output_type": "execute_result"
    }
   ],
   "source": [
    "# escribe tu código aquí\n",
    "list_1 = [1, 2, 3, 4]\n",
    "list_2 = [3, 4, 5, 6]\n",
    "lista_nueva = []\n",
    "\n",
    "def list_overlap(list_a, list_b):\n",
    "    for elem in list_a:\n",
    "        if elem not in list_b:\n",
    "            lista_nueva.append(elem)\n",
    "    for elemb in list_b:\n",
    "        if elemb not in list_a:\n",
    "            lista_nueva.append(elemb)\n",
    "    return lista_nueva\n",
    "\n",
    "list_overlap(list_1, list_2)\n"
   ]
  },
  {
   "cell_type": "markdown",
   "metadata": {
    "id": "amjBHtnaI_jq"
   },
   "source": [
    "#### 6 - Contador de tipo de caracteres\n",
    "\n",
    "Escribe una función que cuente todas las letras, dígitos y símbolos especiales de una cadena dada.\n",
    "\n",
    "Ejemplo:\n",
    "string de entrada: `\"C@#od26eO^&p5ds\"`\n",
    "salida esperada: `\"There are 8 characters, 3 digits and 4 symbols\"`"
   ]
  },
  {
   "cell_type": "code",
   "execution_count": 60,
   "metadata": {},
   "outputs": [
    {
     "name": "stdout",
     "output_type": "stream",
     "text": [
      "There are, 8 characters, 3 dígitos and 4 simbolos\n"
     ]
    }
   ],
   "source": [
    "# Chat GPT me ayudó para:\n",
    "        # usar la f en el print\n",
    "        # escribir bien el isalpha con los paréntesis al final\n",
    "            # lo mismo con isdigit\n",
    "        # poner los contadores dentro de la función\n",
    "            # porque yo los había puesto antes\n",
    "\n",
    "cosas = \"C@#od26eO^&p5ds\"\n",
    "\n",
    "def contador_de_cosas(string):\n",
    "    contador_digitos = 0\n",
    "    contador_letras = 0\n",
    "    contador_simbolos = 0\n",
    "\n",
    "    for elem in string:\n",
    "        if elem.isalpha():\n",
    "            contador_letras += 1\n",
    "        elif elem.isdigit():\n",
    "            contador_digitos += 1\n",
    "        else:\n",
    "            contador_simbolos += 1\n",
    "    print(f\"There are, {contador_letras} characters, {contador_digitos} dígitos and {contador_simbolos} simbolos\")\n",
    "\n",
    "contador_de_cosas(cosas)"
   ]
  },
  {
   "cell_type": "markdown",
   "metadata": {
    "id": "C_0QgkHQI9Hs"
   },
   "source": [
    "#### 7 - Diccepción\n",
    "\n",
    "Carga el archivo `pc_jabberwocky.txt`, calcula la frecuencia de cada palabra y organízalas dentro de entradas de diccionario basadas en la longitud de la palabra, como se muestra a continuación. Filtra cualquier carácter que no esté entre 'A-Z' o 'a-z':\n",
    "\n",
    "```\n",
    "{\n",
    "  \"1\": {\"a\": 2},\n",
    "  \"2\": {\"to\": 5, \"he\": 1, ...},\n",
    "  ... ,\n",
    "  \"9\": { \"woodchunk\": 2, ...}\n",
    "}\n",
    "```\n"
   ]
  },
  {
   "cell_type": "code",
   "execution_count": 98,
   "metadata": {},
   "outputs": [
    {
     "name": "stdout",
     "output_type": "stream",
     "text": [
      "             jabberwocky        twas brillig  and the slithy toves       did gyre and gimble in the wabe       all mimsy were the borogoves        and the mome raths outgrabe         beware the jabberwock  my son        the jaws that bite  the claws that catch       beware the jubjub bird  and shun       the frumious bandersnatch         he took his vorpal sword in hand        long time the manxome foe he sought        so rested he by the tumtum tree        and stood awhile in thought        and as in uffish thought he stood        the jabberwock  with eyes of flame       came whiffling through the tulgey wood        and burbled as it came        one  two  one  two  and through and through       the vorpal blade went snicker snack       he left it dead  and with its head       he went galumphing back         and hast thou slain the jabberwock        come to my arms  my beamish boy       o frabjous day  callooh  callay         he chortled in his joy         twas brillig  and the slithy toves       did gyre and gimble in the wabe       all mimsy were the borogoves        and the mome raths outgrabe  \n"
     ]
    },
    {
     "data": {
      "text/plain": [
       "{'JABBERWOCKY': 1,\n",
       " \"'Twas\": 2,\n",
       " 'brillig,': 2,\n",
       " 'and': 7,\n",
       " 'the': 15,\n",
       " 'slithy': 2,\n",
       " 'toves': 2,\n",
       " 'Did': 2,\n",
       " 'gyre': 2,\n",
       " 'gimble': 2,\n",
       " 'in': 6,\n",
       " 'wabe;': 2,\n",
       " 'All': 2,\n",
       " 'mimsy': 2,\n",
       " 'were': 2,\n",
       " 'borogoves,': 2,\n",
       " 'And': 6,\n",
       " 'mome': 2,\n",
       " 'raths': 2,\n",
       " 'outgrabe.': 2,\n",
       " \"'Beware\": 1,\n",
       " 'Jabberwock,': 2,\n",
       " 'my': 3,\n",
       " 'son!': 1,\n",
       " 'The': 4,\n",
       " 'jaws': 1,\n",
       " 'that': 2,\n",
       " 'bite,': 1,\n",
       " 'claws': 1,\n",
       " 'catch!': 1,\n",
       " 'Beware': 1,\n",
       " 'Jubjub': 1,\n",
       " 'bird,': 1,\n",
       " 'shun': 1,\n",
       " 'frumious': 1,\n",
       " \"Bandersnatch!'\": 1,\n",
       " 'He': 4,\n",
       " 'took': 1,\n",
       " 'his': 2,\n",
       " 'vorpal': 2,\n",
       " 'sword': 1,\n",
       " 'hand:': 1,\n",
       " 'Long': 1,\n",
       " 'time': 1,\n",
       " 'manxome': 1,\n",
       " 'foe': 1,\n",
       " 'he': 3,\n",
       " 'sought--': 1,\n",
       " 'So': 1,\n",
       " 'rested': 1,\n",
       " 'by': 1,\n",
       " 'Tumtum': 1,\n",
       " 'tree,': 1,\n",
       " 'stood': 1,\n",
       " 'awhile': 1,\n",
       " 'thought.': 1,\n",
       " 'as': 2,\n",
       " 'uffish': 1,\n",
       " 'thought': 1,\n",
       " 'stood,': 1,\n",
       " 'with': 2,\n",
       " 'eyes': 1,\n",
       " 'of': 1,\n",
       " 'flame,': 1,\n",
       " 'Came': 1,\n",
       " 'whiffling': 1,\n",
       " 'through': 3,\n",
       " 'tulgey': 1,\n",
       " 'wood,': 1,\n",
       " 'burbled': 1,\n",
       " 'it': 2,\n",
       " 'came!': 1,\n",
       " 'One,': 2,\n",
       " 'two!': 2,\n",
       " 'blade': 1,\n",
       " 'went': 2,\n",
       " 'snicker-snack!': 1,\n",
       " 'left': 1,\n",
       " 'dead,': 1,\n",
       " 'its': 1,\n",
       " 'head': 1,\n",
       " 'galumphing': 1,\n",
       " 'back.': 1,\n",
       " \"'And\": 1,\n",
       " 'hast': 1,\n",
       " 'thou': 1,\n",
       " 'slain': 1,\n",
       " 'Jabberwock?': 1,\n",
       " 'Come': 1,\n",
       " 'to': 1,\n",
       " 'arms,': 1,\n",
       " 'beamish': 1,\n",
       " 'boy!': 1,\n",
       " 'O': 1,\n",
       " 'frabjous': 1,\n",
       " 'day!': 1,\n",
       " 'Callooh!': 1,\n",
       " \"Callay!'\": 1,\n",
       " 'chortled': 1,\n",
       " 'joy.': 1}"
      ]
     },
     "execution_count": 98,
     "metadata": {},
     "output_type": "execute_result"
    }
   ],
   "source": [
    "\n",
    "# me costó más. La primera función pude resolver relativamente bien,\n",
    "    # copiando soluciones anteriores de Fran y con algo de ayuda de los errores y de chatgpt\n",
    "\n",
    "# en la segunda parte hice lo mismo, pero cansado y con más ayuda del CHAT GPT\n",
    "# falta ordenar por la longitud de la palabra\n",
    "\n",
    "filename = \"../data/pc_jabberwocky.txt\"\n",
    "\n",
    "with open(filename, \"r\") as file:\n",
    "    contenido = file.read()\n",
    "\n",
    "    def solo_letras(texto):\n",
    "        texto = texto.lower()\n",
    "        texto_limpio = \"\"\n",
    "        for caracter in texto:\n",
    "            if caracter.isalpha():\n",
    "                texto_limpio += caracter\n",
    "            else:\n",
    "                texto_limpio += \" \"\n",
    "        return texto_limpio\n",
    "\n",
    "    print(solo_letras(contenido))      # Mostrar el texto limpio\n",
    "\n",
    "def contar_palabras(texto_limpio):\n",
    "    contador_palabras = {}\n",
    "    for palabra in texto_limpio.split():\n",
    "        if palabra not in contador_palabras:\n",
    "            contador_palabras [palabra] = 1\n",
    "        else:\n",
    "            contador_palabras [palabra] += 1\n",
    "    return contador_palabras\n",
    "\n",
    "contador_palabras = contar_palabras(texto_limpio)\n",
    "\n",
    "contador_palabras_tupla = list(contador_palabras.items())\n",
    "contador_palabras_tupla.sort()\n",
    "\n",
    "contar_palabras(contenido)\n",
    "\n",
    "#def por_longitud(tupla):\n",
    "#    dicc_long = {}\n",
    "#    for tupla[0] in tupla:\n",
    "        \n",
    "\n"
   ]
  },
  {
   "cell_type": "markdown",
   "metadata": {
    "id": "GXk5C4tBTTEj"
   },
   "source": [
    "#### 8 - Pirámide de Estrellas\n",
    "\n",
    "Escribe una función que tome un entero $n$ como entrada y dibuje un triángulo invertido de estrellas como el siguiente con $n$ niveles:\n",
    "\n",
    "$n = 9$\n",
    "\n",
    "```\n",
    "*****************\n",
    " ***************\n",
    "  *************\n",
    "   ***********\n",
    "    *********\n",
    "     *******\n",
    "      *****\n",
    "       ***\n",
    "        *\n",
    "```"
   ]
  },
  {
   "cell_type": "code",
   "execution_count": 102,
   "metadata": {},
   "outputs": [
    {
     "name": "stdout",
     "output_type": "stream",
     "text": [
      "\n",
      "*\n",
      "**\n",
      "***\n",
      "****\n"
     ]
    }
   ],
   "source": [
    "# hasta aquí he llegado.\n",
    "\n",
    "def asterisco(n):\n",
    "    for n in range(n+1):\n",
    "        print(\"*\" * int(n))\n",
    "\n",
    "asterisco(4)\n"
   ]
  },
  {
   "cell_type": "code",
   "execution_count": 130,
   "metadata": {},
   "outputs": [
    {
     "name": "stdout",
     "output_type": "stream",
     "text": [
      "*************\n",
      " ***********\n",
      "  *********\n",
      "   *******\n",
      "    *****\n",
      "     ***\n",
      "      *\n"
     ]
    }
   ],
   "source": [
    "# esta es la solución de CHAT GPT a partir de la mía.\n",
    "# me pierdo en la cuestión matemática\n",
    "\n",
    "def asterisco(n):\n",
    "    for i in range(n):\n",
    "        print(\" \" * i, end=\"\")\n",
    "        print(\"*\" * (2 * (n - i) - 1))\n",
    "\n",
    "asterisco(7)\n",
    "\n"
   ]
  },
  {
   "cell_type": "markdown",
   "metadata": {
    "id": "3A6RULd6HjTh"
   },
   "source": [
    "#### 9 - Estimando $\\pi$\n",
    "\n",
    "Puedes estimar el valor de $\\pi$ aplicando el principio de Arquímedes utilizando solo las siguientes dos ecuaciones:\n",
    "\n",
    "$$ \\text{Área del círculo} = \\pi r^2 $$\n",
    "$$ \\text{Hipotenusa} = \\text{Distancia al origen} = \\sqrt{a^2 + b^2}$$\n",
    "\n",
    "donde $a$ es la coordenada 'x' y $b$ es la coordenada 'y'.\n",
    "\n",
    "\n",
    "Puedes consultar el siguiente video como una guía: https://youtube.com/watch?v=BAFvNCrCYHU"
   ]
  },
  {
   "cell_type": "code",
   "execution_count": 9,
   "metadata": {},
   "outputs": [],
   "source": [
    "# escribe tu código aquí"
   ]
  }
 ],
 "metadata": {
  "colab": {
   "provenance": []
  },
  "kernelspec": {
   "display_name": "Python 3 (ipykernel)",
   "language": "python",
   "name": "python3"
  },
  "language_info": {
   "codemirror_mode": {
    "name": "ipython",
    "version": 3
   },
   "file_extension": ".py",
   "mimetype": "text/x-python",
   "name": "python",
   "nbconvert_exporter": "python",
   "pygments_lexer": "ipython3",
   "version": "3.11.10"
  }
 },
 "nbformat": 4,
 "nbformat_minor": 4
}
