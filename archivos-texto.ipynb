{
 "cells": [
  {
   "cell_type": "markdown",
   "metadata": {
    "id": "Sukdblj_ELJd"
   },
   "source": [
    "# Archivos de Texto"
   ]
  },
  {
   "cell_type": "code",
   "execution_count": 6,
   "metadata": {},
   "outputs": [
    {
     "data": {
      "text/plain": [
       "'../data'"
      ]
     },
     "execution_count": 6,
     "metadata": {},
     "output_type": "execute_result"
    }
   ],
   "source": [
    "# Directorio en el que trabajaremos\n",
    "\n",
    "CURR_DIR = \"../data\"\n",
    "CURR_DIR"
   ]
  },
  {
   "cell_type": "markdown",
   "metadata": {},
   "source": [
    "Para usuarios de linux y mac"
   ]
  },
  {
   "cell_type": "code",
   "execution_count": 43,
   "metadata": {},
   "outputs": [
    {
     "name": "stdout",
     "output_type": "stream",
     "text": [
      "Shakespeare.txt  blakepoems.txt  my_text.txt  pc_rose.txt\n"
     ]
    }
   ],
   "source": [
    "!ls \"../data\""
   ]
  },
  {
   "cell_type": "code",
   "execution_count": 44,
   "metadata": {},
   "outputs": [],
   "source": [
    "#!dir \"../data\""
   ]
  },
  {
   "cell_type": "markdown",
   "metadata": {
    "id": "dfanoiouELJi"
   },
   "source": [
    "---"
   ]
  },
  {
   "cell_type": "markdown",
   "metadata": {
    "id": "y7OmLIuBELJj"
   },
   "source": [
    "Uno de los usos más importantes de Python para el procesamiento de datos es la lectura, modificación y escritura de archivos de texto. Los datos a menudo se almacenan en archivos de texto porque estos se pueden transferir fácilmente entre diferentes programas. Existen varios formatos estandarizados para los archivos de texto, como los archivos de \"valores separados por comas\" (CSV o comma separated values). Python admite formatos de archivo de texto particulares mediante módulos, algunos de los cuales se discutirán más adelante. Este capítulo se centrará en abrir, leer, escribir y cerrar cualquier archivo de texto, independientemente del formato."
   ]
  },
  {
   "cell_type": "markdown",
   "metadata": {
    "id": "r1GEtkZJELJk"
   },
   "source": [
    "---"
   ]
  },
  {
   "cell_type": "markdown",
   "metadata": {
    "id": "71T-NC_8ELJl"
   },
   "source": [
    "## Archivos de texto plano"
   ]
  },
  {
   "cell_type": "markdown",
   "metadata": {
    "id": "lcuKfsxiELJm"
   },
   "source": [
    "Cuando los programadores se refieren a \"archivos de texto\" o \"archivos de texto plano,\" se refieren a archivos donde todos los caracteres deben ser leídos como caracteres normales, como los que escribirías con un teclado. Por ejemplo, los archivos de programas de Python son archivos de texto plano, al igual que los archivos HTML. Sin embargo, los documentos de procesadores de texto no son archivos de texto plano, ni tampoco lo son las imágenes. Si quieres saber si un archivo es un archivo de texto o no, puedes intentar abrirlo en un editor de texto (como el editor IDLE que viene con Python). Si solo ves texto legible, es probable que el archivo sea un archivo de texto. De lo contrario, es un \"archivo binario.\"\n",
    "\n",
    "Los archivos de texto consisten en líneas de texto. Al final de una línea, hay un símbolo de \"nueva línea,\" que en Python es el carácter \"`\\n`\". Los diferentes sistemas operativos usan formas ligeramente diferentes de almacenar este carácter en un archivo de texto: algunos programas de Windows lo almacenan como un \"retorno de carro\" y también como \"alimentación de línea\" (\"`\\r\\n`\", a veces visto como un remanente de antiguas máquinas de escribir), mientras que en Linux siempre se almacena como un solo \"`\\n`\". Siempre que accedas a un archivo desde Python como un archivo de texto normal, Python convertirá los caracteres que lee al estándar \"`\\n`\", y viceversa cuando escriba. Por lo tanto, normalmente no tendrás que preocuparte por estas diferencias (excepto cuando necesites transferir archivos de texto entre sistemas operativos).\n",
    "\n",
    "No obstante, si abres un archivo en otros editores, como el Bloc de Notas, a veces no interpreta correctamente los caracteres de fin de línea y muestra todo en una sola línea."
   ]
  },
  {
   "cell_type": "markdown",
   "metadata": {
    "id": "90-R77tZELJn"
   },
   "source": [
    "### Controladores y punteros de archivos (File handles and pointers)"
   ]
  },
  {
   "cell_type": "markdown",
   "metadata": {
    "id": "Co5bOVxdELJp"
   },
   "source": [
    "Cuando trabajas con un archivo en un programa, necesitas abrirlo. Abrir un archivo proporciona lo que se llama un \"manejador de archivos.\" Un manejador de archivos puede verse como un punto de acceso al archivo. Contiene un \"puntero\" que indica una ubicación específica en el archivo. Este puntero se utiliza al leer o escribir en el archivo. Por ejemplo, cuando lees el archivo, comienza a leer desde el puntero y mueve el puntero hacia adelante en el archivo.\n",
    "\n",
    "Cuando abres un archivo, **el puntero se coloca en una ubicación específica del archivo**, dependiendo de cómo hayas abierto el archivo.\n",
    "\n",
    "* Si has abierto el archivo solo para lectura, el puntero se coloca al principio del archivo.\n",
    "* Lo mismo sucede cuando abres el archivo tanto para leer como para escribir.\n",
    "* Si abres el archivo para \"añadir\" (es decir, para colocar nuevos datos al final del archivo), el puntero del archivo se colocará al final del archivo.\n",
    "* Finalmente, si abres un archivo solo para escribir, el archivo se vacía completamente y el puntero del archivo se coloca al principio del archivo, ahora vacío. **texto en negrita**\n",
    "\n",
    "Para crear un archivo nuevo (es decir, un archivo con un nombre que aún no existe), lo abres solo para \"escritura.\"\n",
    "\n",
    "Después de abrir el archivo, el manejador de archivos es el único punto de acceso al archivo. Todas las acciones que realizas en el archivo las haces como métodos para el manejador de archivos.\n",
    "\n",
    "**Ten en cuenta que cualquier sistema operativo solo permite abrir un número limitado de archivos simultáneamente. Por lo tanto, deberías cerrar los archivos con los que ya no necesites trabajar.**"
   ]
  },
  {
   "cell_type": "markdown",
   "metadata": {
    "id": "N2P-P6bpELJq"
   },
   "source": [
    "### Mover el puntero del archivo"
   ]
  },
  {
   "cell_type": "markdown",
   "metadata": {
    "id": "tXLXhh_yELJr"
   },
   "source": [
    "El puntero del archivo, que indica dónde estás trabajando en un archivo, se mueve automáticamente. Por ejemplo, cuando lees 10 caracteres de un archivo, el puntero del archivo indica el primero de esos 10 caracteres y, mientras lee, se mueve 10 caracteres hacia adelante, por lo que su nueva posición es 10 caracteres más adelante en el archivo que antes. Cuando se trata de archivos de texto, los movimientos automáticos del puntero del archivo son exactamente lo que necesitas. Es posible colocar manualmente el puntero del archivo utilizando métodos específicos, pero estos métodos, en general, solo se usan al tratar con archivos binarios."
   ]
  },
  {
   "cell_type": "markdown",
   "metadata": {
    "id": "Xjc7C8DcELJt"
   },
   "source": [
    "### Almacenamiento en memoria intermedia (Buffering)"
   ]
  },
  {
   "cell_type": "markdown",
   "metadata": {
    "id": "WOX-BTfWELJu"
   },
   "source": [
    "Cuando haces cambios en los archivos, a menudo no se guardan en los archivos de inmediato. En su lugar, el sistema operativo **\"almacena\"** los cambios en la memoria y solo escribe estos búferes en los archivos reales cuando lo considera necesario. Puedes forzar el vaciado de los búferes cerrando un archivo. Los búferes también se vacían cuando el programa termina normalmente.\n",
    "\n",
    "Sin embargo, cuando tu programa falla (por ejemplo, debido a un error en tiempo de ejecución), es posible que los búferes no se vacíen y que tus archivos no se actualicen hasta el punto en que ocurrió el error. Por lo tanto, no puedes confiar en el contenido del archivo al intentar depurar un programa."
   ]
  },
  {
   "cell_type": "markdown",
   "metadata": {
    "id": "eg033Q4aELJv"
   },
   "source": [
    "### Programas de procesamiento de archivos"
   ]
  },
  {
   "cell_type": "markdown",
   "metadata": {
    "id": "7dykgdX6ELJw"
   },
   "source": [
    "La mayoría de los programas que manejan archivos de texto siguen un proceso que, en un bucle:\n",
    "\n",
    "- lee el contenido de un archivo,\n",
    "- procesa este contenido de alguna manera,\n",
    "- y luego escribe el contenido en otro archivo.\n",
    "\n",
    "Por ejemplo, un programa puede leer líneas de un archivo de texto y, para cada línea, ordenar las palabras, luego escribir las palabras ordenadas en otro archivo de texto. Esto no es muy diferente de un programa que pide al usuario que proporcione, en un bucle, una línea de texto, luego ordena las palabras en la línea y las muestra con la función `print()`.\n",
    "\n",
    "Sin embargo, a menudo se experimenta como algo más complicado.\n",
    "\n",
    "Aunque trabajar con archivos puede dar una sensación de falta de control, durante el desarrollo del programa siempre puedes incluir declaraciones `print()` para obtener una visión de lo que está haciendo el programa. Por ejemplo, cuando lee una línea, puedes imprimir esa línea, y cuando escribe una línea, también puedes imprimir esa línea. De esta manera, tu comprensión del funcionamiento interno del programa no es diferente, independientemente de si utilizas entradas manuales y salidas en pantalla, o entradas y salidas de archivos."
   ]
  },
  {
   "cell_type": "markdown",
   "metadata": {
    "id": "l_nBJL5TELJw"
   },
   "source": [
    "---"
   ]
  },
  {
   "cell_type": "markdown",
   "metadata": {
    "id": "s6oCZ27HELJx"
   },
   "source": [
    "## Leyendo archivos de texto"
   ]
  },
  {
   "cell_type": "markdown",
   "metadata": {
    "id": "26yrS7WbELJx"
   },
   "source": [
    "Para leer el contenido de un archivo, primero debes abrirlo, luego leer el contenido, y después cerrarlo."
   ]
  },
  {
   "cell_type": "markdown",
   "metadata": {
    "id": "kxhqtCI8ELJy"
   },
   "source": [
    "### Abriendo un archivo usando `open()`"
   ]
  },
  {
   "cell_type": "markdown",
   "metadata": {
    "id": "a10kxYJtELJy"
   },
   "source": [
    "Para abrir un archivo, utiliza la función `open()`.\n",
    "\n",
    "La función `open()` recibe dos argumentos, el segundo de los cuales es opcional. El primer argumento es el nombre del archivo. Si el archivo no se encuentra en el directorio actual, debes incluir la ruta completa del archivo para que Python pueda encontrarlo. El segundo argumento es el \"modo\". El modo indica cómo deseas manejar el archivo. El modo predeterminado (que se elige cuando no proporcionas el segundo argumento) es abrir el archivo como un archivo de texto solo para lectura. Cómo establecer otros modos se comentará más adelante.\n",
    "\n",
    "La función `open()` devuelve un identificador de archivo, que utilizas para todas las funcionalidades restantes.\n",
    "\n",
    "En lugar de escribir \"`<handle> = open(<filename>)`\", a menudo verás programas de Python que lo escriben como \"`open(<filename>) as <handle>`\". El segundo método tiene una ventaja de la que hablaremos más adelante."
   ]
  },
  {
   "cell_type": "markdown",
   "metadata": {
    "id": "Q_X0do5SELJz"
   },
   "source": [
    "### Leyendo un archivo con `read()`"
   ]
  },
  {
   "cell_type": "markdown",
   "metadata": {
    "id": "N7mLyTb7ELJz"
   },
   "source": [
    "La manera más sencilla de leer el contenido de un archivo es utilizar el método `read()`, sin argumentos, en el controlador del archivo (handle). Esto devuelve una cadena que contiene el contenido completo del archivo. `read()` puede recibir un argumento, pero solo se usa para archivos binarios.\n",
    "\n",
    "Leer un archivo mueve el puntero del archivo justo después de la parte que se ha leído. Esto significa que si utilizas el método `read()` sin argumentos, el puntero del archivo se moverá al final del archivo. Esto implica que si intentas usar `read()` por segunda vez, no se leería nada, ya que no queda nada por leer después del punto donde se encuentra el puntero del archivo."
   ]
  },
  {
   "cell_type": "code",
   "execution_count": 12,
   "metadata": {
    "colab": {
     "base_uri": "https://localhost:8080/"
    },
    "executionInfo": {
     "elapsed": 1024,
     "status": "ok",
     "timestamp": 1645459001621,
     "user": {
      "displayName": "Marcos Mejia Cordova",
      "photoUrl": "https://lh3.googleusercontent.com/a/default-user=s64",
      "userId": "01043907723196976640"
     },
     "user_tz": -60
    },
    "id": "SFSq7zeG8pXB",
    "outputId": "0a88f8a8-fcbe-4bf4-ddb7-b68c2fae837a"
   },
   "outputs": [
    {
     "name": "stdout",
     "output_type": "stream",
     "text": [
      "Hello!\n",
      "P\n",
      "Y\n",
      "T\n",
      "H\n",
      "O\n",
      "N\n",
      "This is Python\n"
     ]
    }
   ],
   "source": [
    "#filepath = f\"{CURR_DIR}/my_text.txt\"\n",
    "#f = open(filepath, \"r\") # handler\n",
    "#print(f.read())\n",
    "\n",
    "#alternativa para no tener que cerrarlo luego\n",
    "with open(filepath, \"r\") as f:\n",
    "    print(f.read())"
   ]
  },
  {
   "cell_type": "code",
   "execution_count": 10,
   "metadata": {},
   "outputs": [],
   "source": [
    "# f.close()"
   ]
  },
  {
   "cell_type": "markdown",
   "metadata": {
    "id": "N07yDj8pELJz"
   },
   "source": [
    "### Cerrar un archivo usando `close()`"
   ]
  },
  {
   "cell_type": "markdown",
   "metadata": {
    "id": "ZR1VGqWEELJ0"
   },
   "source": [
    "Para cerrar un archivo, utiliza el método `close()` en el manejador del archivo. Cada archivo que abras deberías cerrarlo en algún momento de tu programa. Esto es especialmente cierto en estos cuadernos, ya que cada página de cuaderno se considera un programa completo; esto significa que si no cierras un archivo, permanecerá abierto incluso después de que termine el fragmento de código que ejecutaste.\n",
    "\n",
    "Si todo lo que necesitas hacer con un archivo se realiza en un solo bloque, puedes escribir ese bloque de la siguiente manera:\n",
    "\n",
    "     with open( <nom del fitxer> ) as <handle>:\n",
    "         <declaraciones>\n",
    "        \n",
    "Esta construcción sintáctica tiene la ventaja de que el archivo se cerrará automáticamente después de que finalice el bloque `<declaraciones>`, por lo que no es necesario incluir una llamada explícita a `close()`. Esta construcción es típicamente de Python; no lo verás en muchos otros lenguajes de programación."
   ]
  },
  {
   "cell_type": "code",
   "execution_count": 45,
   "metadata": {
    "colab": {
     "base_uri": "https://localhost:8080/"
    },
    "executionInfo": {
     "elapsed": 307,
     "status": "ok",
     "timestamp": 1645380699158,
     "user": {
      "displayName": "Marcos Mejia Cordova",
      "photoUrl": "https://lh3.googleusercontent.com/a/default-user=s64",
      "userId": "01043907723196976640"
     },
     "user_tz": -60
    },
    "id": "nBAHOa9SFNtg",
    "outputId": "67cc4574-7e53-45b3-d5b7-bc5f5e01157d"
   },
   "outputs": [
    {
     "name": "stdout",
     "output_type": "stream",
     "text": [
      "1609\n",
      "\n",
      "THE SONNETS\n",
      "\n",
      "by William Shakespeare\n",
      "\n",
      "\n",
      "\n",
      "                     1\n",
      "  From fairest creatures we desire increase,\n",
      "  That thereby beauty's rose might never die,\n",
      "  But as the riper should by time decease,\n",
      "  His tender heir might bear his memory:\n",
      "  But thou contracted to thine own bright eyes,\n",
      "  Feed'st thy light's flame with self-substantial fuel,\n",
      "  Making a famine where abundance lies,\n",
      "  Thy self thy foe, to thy sweet self too cruel:\n",
      "  Thou that art now the world's fresh ornament,\n",
      "  And only herald to the gaudy spring,\n",
      "  Within thine own bud buriest thy content,\n",
      "  And tender churl mak'st waste in niggarding:\n",
      "    Pity the world, or else this glutton be,\n",
      "    To eat the world's due, by the grave and thee.\n",
      "\n",
      "\n",
      "                     2\n",
      "  When forty winters shall besiege thy brow,\n",
      "  And dig deep trenches in thy beauty's field,\n",
      "  Thy youth's proud livery so gazed on now,\n",
      "  Will be a tattered weed of small worth held:\n",
      "  Then being asked, where all thy beauty lies,\n",
      "  Where all the treasure of thy lusty days;\n",
      "  To say within thine own deep sunken eyes,\n",
      "  Were an all-eating shame, and thriftless praise.\n",
      "  How much more praise deserved thy beauty's use,\n",
      "  If thou couldst answer 'This fair child of mine\n",
      "  Shall sum my count, and make my old excuse'\n",
      "  Proving his beauty by succession thine.\n",
      "    This were to be new made when thou art old,\n",
      "    And see thy blood warm when thou feel'st it cold.\n",
      "\n",
      "\n",
      "                     3\n",
      "  Look in thy glass and tell the face thou viewest,\n",
      "  Now is the time that face should form another,\n",
      "  Whose fresh repair if now thou not renewest,\n",
      "  Thou dost beguile the world, unbless some mother.\n",
      "  For where is she so fair whose uneared womb\n",
      "  Disdains the tillage of thy husbandry?\n",
      "  Or who is he so fond will be the tomb,\n",
      "  Of his self-love to stop posterity?\n",
      "  Thou art thy mother's glass and she in thee\n",
      "  Calls back the lovely April of her prime,\n",
      "  So thou through windows of thine age shalt see,\n",
      "  Despite of wrinkles this thy golden time.\n",
      "    But if thou live remembered not to be,\n",
      "    Die single and thine image dies with thee.\n",
      "\n",
      "\n",
      "                     4\n",
      "  Unthrifty loveliness why dost thou spend,\n",
      "  Upon thy self thy beauty's legacy?\n",
      "  Nature's bequest gives nothing but doth lend,\n",
      "  And being frank she lends to those are free:\n",
      "  Then beauteous niggard why dost thou abuse,\n",
      "  The bounteous largess given thee to give?\n",
      "  Profitless usurer why dost thou use\n",
      "  So great a sum of sums yet canst not live?\n",
      "  For having traffic with thy self alone,\n",
      "  Thou of thy self thy sweet self dost deceive,\n",
      "  Then how when nature calls thee to be gone,\n",
      "  What acceptable audit canst thou leave?\n",
      "    Thy unused beauty must be tombed with thee,\n",
      "    Which used lives th' executor to be.\n",
      "\n",
      "\n",
      "                     5\n",
      "  Those hours that with gentle work did frame\n",
      "  The lovely gaze where every eye doth dwell\n",
      "  Will play the tyrants to the very same,\n",
      "  And that unfair which fairly doth excel:\n",
      "  For never-resting time leads summer on\n",
      "  To hideous winter and confounds him there,\n",
      "  Sap checked with frost and lusty leaves quite gone,\n",
      "  Beauty o'er-snowed and bareness every where:\n",
      "  Then were not summer's distillation left\n",
      "  A liquid prisoner pent in walls of glass,\n",
      "  Beauty's effect with beauty were bereft,\n",
      "  Nor it nor no remembrance what it was.\n",
      "    But flowers distilled though they with winter meet,\n",
      "    Leese but their show, their substance still lives sweet.\n",
      "\n",
      "\n",
      "                     6\n",
      "  Then let not winter's ragged hand deface,\n",
      "  In thee thy summer ere thou be distilled:\n",
      "  Make sweet some vial; treasure thou some place,\n",
      "  With beauty's treasure ere it be self-killed:\n",
      "  That use is not forbidden usury,\n",
      "  Which happies those that pay the willing loan;\n",
      "  That's for thy self to breed another thee,\n",
      "  Or ten times happier be it ten for one,\n",
      "  Ten times thy self were happier than thou art,\n",
      "  If ten of thine ten times refigured thee:\n",
      "  Then what could death do if thou shouldst depart,\n",
      "  Leaving thee living in posterity?\n",
      "    Be not self-willed for thou art much too fair,\n",
      "    To be death's conquest and make worms thine heir.\n",
      "\n",
      "\n",
      "                     7\n",
      "  Lo in the orient when the gracious light\n",
      "  Lifts up his burning head, each under eye\n",
      "  Doth homage to his new-appearing sight,\n",
      "  Serving with looks his sacred majesty,\n",
      "  And having climbed the steep-up heavenly hill,\n",
      "  Resembling strong youth in his middle age,\n",
      "  Yet mortal looks adore his beauty still,\n",
      "  Attending on his golden pilgrimage:\n",
      "  But when from highmost pitch with weary car,\n",
      "  Like feeble age he reeleth from the day,\n",
      "  The eyes (fore duteous) now converted are\n",
      "  From his low tract and look another way:\n",
      "    So thou, thy self out-going in thy noon:\n",
      "    Unlooked on diest unless thou get a son.\n",
      "\n",
      "\n",
      "                     8\n",
      "  Music to hear, why hear'st thou music sadly?\n",
      "  Sweets with sweets war not, joy delights in joy:\n",
      "  Why lov'st thou that which thou receiv'st not gladly,\n",
      "  Or else receiv'st with pleasure thine annoy?\n",
      "  If the true concord of well-tuned sounds,\n",
      "  By unions married do offend thine ear,\n",
      "  They do but sweetly chide thee, who confounds\n",
      "  In singleness the parts that thou shouldst bear:\n",
      "  Mark how one string sweet husband to another,\n",
      "  Strikes each in each by mutual ordering;\n",
      "  Resembling sire, and child, and happy mother,\n",
      "  Who all in one, one pleasing note do sing:\n",
      "    Whose speechless song being many, seeming one,\n",
      "    Sings this to thee, 'Thou single wilt prove none'.\n",
      "\n",
      "\n",
      "                     9\n",
      "  Is it for fear to wet a widow's eye,\n",
      "  That thou consum'st thy self in single life?\n",
      "  Ah, if thou issueless shalt hap to die,\n",
      "  The world will wail thee like a makeless wife,\n",
      "  The world will be thy widow and still weep,\n",
      "  That thou no form of thee hast left behind,\n",
      "  When every private widow well may keep,\n",
      "  By children's eyes, her husband's shape in mind:\n",
      "  Look what an unthrift in the world doth spend\n",
      "  Shifts but his place, for still the world enjoys it;\n",
      "  But beauty's waste hath in the world an end,\n",
      "  And kept unused the user so destroys it:\n",
      "    No love toward others in that bosom sits\n",
      "    That on himself such murd'rous shame commits.\n",
      "\n",
      "\n",
      "                     10\n",
      "  For shame deny that thou bear'st love to any\n",
      "  Who for thy self art so unprovident.\n",
      "  Grant if thou wilt, thou art beloved of many,\n",
      "  But that thou none lov'st is most evident:\n",
      "  For thou art so possessed with murd'rous hate,\n",
      "  That 'gainst thy self thou stick'st not to conspire,\n",
      "  Seeking that beauteous roof to ruinate\n",
      "  Which to repair should be thy chief desire:\n",
      "  O change thy thought, that I may change my mind,\n",
      "  Shall hate be fairer lodged than gentle love?\n",
      "  Be as thy presence is gracious and kind,\n",
      "  Or to thy self at least kind-hearted prove,\n",
      "    Make thee another self for love of me,\n",
      "    That beauty still may live in thine or thee.\n",
      "\n",
      "\n"
     ]
    }
   ],
   "source": [
    "with open(filepath, \"r\") as f:\n",
    "  print(f.read())"
   ]
  },
  {
   "cell_type": "markdown",
   "metadata": {
    "id": "Zfpdx2_bELJ0"
   },
   "source": [
    "### Muestra el contenido de un archivo"
   ]
  },
  {
   "cell_type": "markdown",
   "metadata": {
    "id": "YevZM3KGELJ1"
   },
   "source": [
    "Ahora que conocemos las primeras funciones y métodos para manejar archivos de texto, podemos mostrar algún código que lee el contenido de un archivo.\n",
    "\n",
    "A continuación, puedes ver tres maneras de mostrar el contenido de archivos de texto."
   ]
  },
  {
   "cell_type": "code",
   "execution_count": 17,
   "metadata": {
    "executionInfo": {
     "elapsed": 13,
     "status": "ok",
     "timestamp": 1645459169944,
     "user": {
      "displayName": "Marcos Mejia Cordova",
      "photoUrl": "https://lh3.googleusercontent.com/a/default-user=s64",
      "userId": "01043907723196976640"
     },
     "user_tz": -60
    },
    "id": "RWbqWCfjy6Kk"
   },
   "outputs": [],
   "source": [
    "filepath = f\"{CURR_DIR}/Shakespeare.txt\"    "
   ]
  },
  {
   "cell_type": "code",
   "execution_count": 13,
   "metadata": {
    "id": "qMnfwq12ELJ1"
   },
   "outputs": [
    {
     "name": "stdout",
     "output_type": "stream",
     "text": [
      "Hello!\n",
      "P\n",
      "Y\n",
      "T\n",
      "H\n",
      "O\n",
      "N\n",
      "This is Python\n"
     ]
    }
   ],
   "source": [
    "# context manager\n",
    "def display_contents_file(file_name):\n",
    "    #fp = open(file_name, \"r\")\n",
    "    with open( file_name ) as fp:\n",
    "        buffer = fp.read()\n",
    "    print( buffer )\n",
    "\n",
    "display_contents_file(filepath)"
   ]
  },
  {
   "cell_type": "code",
   "execution_count": 14,
   "metadata": {
    "id": "z-1Oy8AzELJ3"
   },
   "outputs": [
    {
     "name": "stdout",
     "output_type": "stream",
     "text": [
      "Hello!\n",
      "P\n",
      "Y\n",
      "T\n",
      "H\n",
      "O\n",
      "N\n",
      "This is Python\n"
     ]
    }
   ],
   "source": [
    "# text handler\n",
    "def display_contents_file(file_name):\n",
    "    fp = open(file_name, \"r\")\n",
    "    #with open( file_name ) as fp:\n",
    "    buffer = fp.read()\n",
    "    print( buffer )\n",
    "    fp.close()\n",
    "\n",
    "display_contents_file(filepath)"
   ]
  },
  {
   "cell_type": "markdown",
   "metadata": {
    "id": "cdS-S2zPELJ6"
   },
   "source": [
    "### Leyendo líneas usando `readline()`\n",
    "\n",
    "---\n",
    "\n"
   ]
  },
  {
   "cell_type": "markdown",
   "metadata": {
    "id": "dz7Sza8BELJ6"
   },
   "source": [
    "Para leer un archivo de texto línea por línea, puedes usar el método `readline()`. El método `readline()` lee caracteres desde el puntero del archivo hasta el siguiente carácter de \"nueva línea\" (incluido), y los devuelve como una cadena. Puedes reconocer que has llegado al final del archivo por el hecho de que ya no se leen más caracteres, es decir, la cadena que se devuelve está vacía y, por lo tanto, hemos llegado al final del archivo."
   ]
  },
  {
   "cell_type": "code",
   "execution_count": 17,
   "metadata": {
    "id": "JEwfO9TLELKd"
   },
   "outputs": [
    {
     "name": "stdout",
     "output_type": "stream",
     "text": [
      "Hello!\n",
      "\n",
      "P\n",
      "\n",
      "Y\n",
      "\n",
      "T\n",
      "\n",
      "H\n",
      "\n",
      "O\n",
      "\n",
      "N\n",
      "\n",
      "This is Python\n"
     ]
    }
   ],
   "source": [
    "def display_contents_file2(file_name):\n",
    "    fp = open( file_name )\n",
    "    while True:\n",
    "        buffer = fp.readline()             \n",
    "        if buffer == \"\":\n",
    "            break     \n",
    "        print( buffer )\n",
    "    fp.close()\n",
    "display_contents_file2(filepath)\n",
    "\n",
    "#esto es cutre, porque es posible que nos encontremos líneas vacías en un texto\n",
    "# fran no lo recomienda"
   ]
  },
  {
   "cell_type": "code",
   "execution_count": 21,
   "metadata": {
    "colab": {
     "base_uri": "https://localhost:8080/"
    },
    "executionInfo": {
     "elapsed": 4,
     "status": "ok",
     "timestamp": 1645374303297,
     "user": {
      "displayName": "Marcos Mejia Cordova",
      "photoUrl": "https://lh3.googleusercontent.com/a/default-user=s64",
      "userId": "01043907723196976640"
     },
     "user_tz": -60
    },
    "id": "MhQnudBfELKd",
    "outputId": "6ea3320f-dc17-4f84-b861-2e9df376b51c"
   },
   "outputs": [
    {
     "name": "stdout",
     "output_type": "stream",
     "text": [
      "1609\n",
      "\n"
     ]
    }
   ],
   "source": [
    "fp = open(filepath, \"r\")                                       \n",
    "list_ = fp.readline()\n",
    "print (list_)\n",
    "#for line in line:\n",
    " #   print(line)\n",
    "\n",
    "#print(fp.readline())\n",
    "fp.close ()"
   ]
  },
  {
   "cell_type": "markdown",
   "metadata": {
    "id": "tshtZ4uDELKf"
   },
   "source": [
    "Ten en cuenta que la salida del código anterior tiene una línea en blanco entre cada una de las líneas que se muestran. ¿De dónde viene esta línea adicional? Piénsalo.\n",
    "\n",
    "La línea adicional está ahí porque el método `readline()` devuelve una cadena de caracteres leídos, incluyendo el carácter de nueva línea. Así que, cuando se imprime el \"buffer\", también imprime un carácter de nueva línea. Y como la función `print()` también se mueve a una nueva línea después de ejecutarse, se imprime una línea en blanco después de cada línea de texto."
   ]
  },
  {
   "cell_type": "markdown",
   "metadata": {
    "id": "93baAoInELKf"
   },
   "source": [
    "Una variación del método `readline()` es el método `readlines()`. `readlines()` lee todas las líneas del archivo y las devuelve como una lista de cadenas. Las cadenas incluyen los caracteres de nueva línea."
   ]
  },
  {
   "cell_type": "code",
   "execution_count": 16,
   "metadata": {
    "id": "tlXHt1CAELJ4"
   },
   "outputs": [
    {
     "name": "stdout",
     "output_type": "stream",
     "text": [
      "Hello!\n",
      "P\n",
      "Y\n",
      "T\n",
      "H\n",
      "O\n",
      "N\n",
      "This is Python['Hello!\\n', 'P\\n', 'Y\\n', 'T\\n', 'H\\n', 'O\\n', 'N\\n', 'This is Python']\n"
     ]
    }
   ],
   "source": [
    "# readlines()\n",
    "def display_contents_file(file_name):\n",
    "    #with open( file_name ) as fp:\n",
    "    fp = open(file_name, \"r\")\n",
    "    buffer = fp.readlines()\n",
    "    for line in buffer:\n",
    "        print(line, end=\"\")\n",
    "    print(buffer)\n",
    "    fp.close()\n",
    "\n",
    "display_contents_file(filepath)"
   ]
  },
  {
   "cell_type": "markdown",
   "metadata": {
    "id": "wytxo-DWELKg"
   },
   "source": [
    "### Cuándo y qué método de lectura de archivos utilizar"
   ]
  },
  {
   "cell_type": "markdown",
   "metadata": {
    "id": "9XigTHXcELKm"
   },
   "source": [
    "Tanto el método `read()` como `readlines()` leen un archivo completo a la vez. Obviamente, esto es aceptable para archivos pequeños, pero para archivos largos, es posible que no tengas suficiente memoria para almacenar el contenido del archivo de manera eficiente. En estas circunstancias (o cuando no conoces el tamaño del archivo), deberías leer un archivo línea por línea con el método `readline()`.\n",
    "\n",
    "A menudo es una buena idea, durante el desarrollo del código, procesar solo las primeras líneas de un archivo. De esta manera, limitas la cantidad de tiempo que el programa necesita para procesar un archivo y reduces su salida, lo que facilita la depuración. Por ejemplo, el siguiente código procesa las primeras 10 líneas de uno de los archivos más largos."
   ]
  },
  {
   "cell_type": "code",
   "execution_count": 18,
   "metadata": {
    "colab": {
     "base_uri": "https://localhost:8080/"
    },
    "executionInfo": {
     "elapsed": 4,
     "status": "ok",
     "timestamp": 1645374983919,
     "user": {
      "displayName": "Marcos Mejia Cordova",
      "photoUrl": "https://lh3.googleusercontent.com/a/default-user=s64",
      "userId": "01043907723196976640"
     },
     "user_tz": -60
    },
    "id": "PuJW5eqaELKm",
    "outputId": "7e63fce5-f0c3-4493-f610-b264e5498bac"
   },
   "outputs": [
    {
     "name": "stdout",
     "output_type": "stream",
     "text": [
      "Hello!\n",
      "P\n",
      "Y\n",
      "T\n",
      "H\n",
      "O\n",
      "N\n",
      "This is Python"
     ]
    }
   ],
   "source": [
    "def display_contents_file4(file_name):\n",
    "    fp = open(file_name)\n",
    "    count = 0\n",
    "    while count < 10:\n",
    "        buffer = fp.readline()\n",
    "        if buffer == \"\":\n",
    "            break\n",
    "        print( buffer, end=\"\" )\n",
    "        count += 1\n",
    "    fp.close()\n",
    "\n",
    "display_contents_file4( filepath)"
   ]
  },
  {
   "cell_type": "markdown",
   "metadata": {
    "id": "efwyZXL8ELKn"
   },
   "source": [
    "Una vez que el programa esté finalizado y depurado, puedes eliminar las referencias a `count` y cambiar el bucle a `while True` para procesar todo el archivo.\n",
    "\n"
   ]
  },
  {
   "cell_type": "markdown",
   "metadata": {
    "id": "yka-mZx-AVQV"
   },
   "source": [
    "### **Ejercicio 1** \n",
    "\n",
    "Comienza copiando el código anterior en el bloque de código de abajo. Luego, adáptalo para contar con qué frecuencia aparece la palabra \"from\" (en cualquier mayúscula) en todo el texto. Imprime solo el número de ocurrencias de esta palabra."
   ]
  },
  {
   "cell_type": "code",
   "execution_count": 27,
   "metadata": {
    "id": "wx_xURDuCg9Z"
   },
   "outputs": [
    {
     "name": "stdout",
     "output_type": "stream",
     "text": [
      "La palabra 'from' aparece un total de 4 veces\n"
     ]
    }
   ],
   "source": [
    "# escribe tu código aquí\n",
    "# readlines()\n",
    "# import re \n",
    "# readlines()\n",
    "#import re\n",
    "\n",
    "# Adaptar este codigo para que en cada linea cuente cuantos \"From\" distintos tengo.\n",
    "# 1- Inicializar un contador_from a 0 fuera del FOR.\n",
    "# 2- Para cada linea cuento cuantos From aparecen (funcion count de listas) y le sumo el resultado al contador. Como hay\n",
    "# diferentes variantes de from (e.g. from, From, FROM, frOm), antes de contar, tendre que estandarizar todas las palabras\n",
    "# convirtiendolas a minusculas. \n",
    "# 3- Printo el valor de contador.\n",
    "\n",
    "def display_contents_file(file_name):\n",
    "    #with open( file_name ) as fp:\n",
    "    fp = open(file_name, \"r\") # --> Abro el fichero\n",
    "    buffer = fp.readlines() # --> Leo las lineas y me las guardo en una lista. [ linea1, linea2, linea3, ..., lineaN]\n",
    "    #print(buffer)\n",
    "    #text = fp.read() # --> Esto nos guardaria todo el texto en una variable\n",
    "    contador = 0\n",
    "    for line in buffer: # --> Itero linea a linea\n",
    "        line = line.lower().replace(\",\", \"\").replace(\".\", \"\").replace(\":\", \"\") # --> Esto no es lo mas eficiente, mejor usar el modulo \"re\"\n",
    "        num_froms_line = line.count(\"from\")\n",
    "        contador = contador + num_froms_line # contador += num_froms_line\n",
    "\n",
    "    print(f\"La palabra 'from' aparece un total de {contador} veces\")\n",
    "    fp.close()\n",
    "\n",
    "\n",
    "filepath = \"../data/Shakespeare.txt\"\n",
    "display_contents_file(filepath)\n",
    "\n",
    "\n",
    "\n",
    "\n",
    "\n"
   ]
  },
  {
   "cell_type": "markdown",
   "metadata": {
    "id": "CewJve39HBKX"
   },
   "source": [
    "### Escribiendo archivos de texto\n",
    "\n",
    "Escribir un archivo de texto es similar a leer. Abres el archivo, escribes en él y lo cierras."
   ]
  },
  {
   "cell_type": "markdown",
   "metadata": {
    "id": "Fczm1WfkHBAV"
   },
   "source": [
    "### Abrir un archivo para escribir\n",
    "\n",
    "Para abrir un archivo para escribir, y solo para escribir, proporciona el valor \"w\" como segundo argumento a la función open(). Si el archivo aún no existe, se creará. Si existe, se borrará su contenido.\n",
    "\n",
    "> **¡ATENCIÓN!** Cuando abres un archivo para escribir y ya existe, ¡su contenido se borra! No hay ningún mensaje de advertencia que diga \"¿Estás seguro?\" El archivo simplemente se vacía. Por lo tanto, debes tener mucho cuidado al abrir un archivo para escribir. Normalmente escribimos los programas de manera que primero se verifique si un archivo existe antes de abrirlo para escribir, y se muestra un mensaje de error si ya existe. Las funciones para verificar si un archivo existe se tratan más adelante en este notebook."
   ]
  },
  {
   "cell_type": "code",
   "execution_count": 36,
   "metadata": {},
   "outputs": [
    {
     "name": "stdin",
     "output_type": "stream",
     "text": [
      "Please enter a line of text:  puto el que lee\n",
      "Please enter a line of text:  \n"
     ]
    }
   ],
   "source": [
    "my_file=f\"{CURR_DIR}/my_text.txt\"\n",
    "\n",
    "fp = open( my_file , \"w\" )\n",
    "while True:\n",
    "  text = input( \"Please enter a line of text: \" )\n",
    "  if text == \"\":\n",
    "    break\n",
    "  fp.write( text )\n",
    "fp.close()"
   ]
  },
  {
   "cell_type": "code",
   "execution_count": null,
   "metadata": {},
   "outputs": [
    {
     "name": "stdout",
     "output_type": "stream",
     "text": [
      "Hola!ABVV\n"
     ]
    }
   ],
   "source": [
    "fp = open( my_file )\n",
    "buffer = fp.read()\n",
    "fp.close()\n",
    "print( buffer )"
   ]
  },
  {
   "cell_type": "markdown",
   "metadata": {
    "id": "MVzdjyxwPT-p"
   },
   "source": [
    "Si ejecutaste el bloque anterior, te habrás dado cuenta de que todo el texto que introdujiste está en el archivo, pero todo está en una sola línea. No hay nuevas líneas entre medio. La razón es que debes escribir explícitamente los caracteres de nueva línea cuando quieras nuevas líneas en tu archivo. Presionar Enter no genera un carácter de nueva línea en la cadena que devuelve `input()`. Así que tienes que agregarlo manualmente a la cadena que estás escribiendo o codificarlo tú mismo, de hecho..."
   ]
  },
  {
   "cell_type": "markdown",
   "metadata": {
    "id": "yJIKmJ6tVCpb"
   },
   "source": [
    "### Ejercicio 2\n",
    "Adapta el código anterior de manera que cada línea de texto que introduzcas sea una línea independiente en el archivo que estás escribiendo."
   ]
  },
  {
   "cell_type": "code",
   "execution_count": null,
   "metadata": {
    "id": "La8p0vjFVfgM"
   },
   "outputs": [],
   "source": [
    "# escribe tu código aquí"
   ]
  },
  {
   "cell_type": "markdown",
   "metadata": {
    "id": "sD4qweHCV9hK"
   },
   "source": [
    "## Escribir utilizando writelines()\n",
    "\n",
    "Usando el método writelines(), que toma una lista como argumento, puedes escribir una lista de cadenas de una sola vez. Cada una de las cadenas de la lista debe terminar con un carácter de nueva línea si deseas esos caracteres de nueva línea en el archivo de salida. `writelines()` es lo opuesto a `readlines()`; si usas la lista que `readlines()` devuelve como argumento para `writelines()`, el contenido del archivo de salida será exactamente el mismo que el contenido del archivo de entrada."
   ]
  },
  {
   "cell_type": "markdown",
   "metadata": {
    "id": "eCfQ1tMoV9dN"
   },
   "source": [
    "Ten en cuenta que no existe el método `writeline()` ya que sería exactamente lo mismo que el método `write()`."
   ]
  },
  {
   "cell_type": "markdown",
   "metadata": {
    "id": "EH_F17TcXrbY"
   },
   "source": [
    "### Ejercicio 3\n",
    "\n",
    "Escribe un programa que lea el contenido de \"pc_rose.txt\" y escriba exactamente el mismo contenido en el archivo \"pc_writetest.tmp\". Luego, abre el archivo \"pc_writetest.tmp\" y visualiza el contenido. Puedes construir este programa fácilmente combinando partes del código que se han mostrado anteriormente."
   ]
  },
  {
   "cell_type": "code",
   "execution_count": 63,
   "metadata": {
    "id": "3S2JSP1GYUsG",
    "scrolled": true
   },
   "outputs": [
    {
     "name": "stdout",
     "output_type": "stream",
     "text": [
      "Tis but thy name that is my enemy.\n",
      "Thou art thyself, though not a Montague.\n",
      "What's Montague? it is nor hand, nor foot,\n",
      "Nor arm, nor face, nor any other part\n",
      "Belonging to a man. O, be some other name!\n",
      "What's in a name? That which we call a rose\n",
      "By any other name would smell as sweet.\n",
      "So Romeo would, were he not Romeo call'd,\n",
      "Retain that dear perfection which he owes\n",
      "Without that title. Romeo, doff thy name;\n",
      "And for that name, which is no part of thee,\n",
      "Take all myself.\n"
     ]
    }
   ],
   "source": [
    "# escribe tu código aquí\n",
    "#\n",
    "# 1. leer el contendio de pc_rose.txt y guardarlo en una variable data\n",
    "#     puede ser con el metodo read y guardar como un str\n",
    "# 2. guardar data en otro fichero .txt que se llame pc_writetext.txt\n",
    "#\n",
    "\n",
    "fp = open( \"../data/pc_rose.txt\" , \"r\" )\n",
    "texto = fp.read()\n",
    "fp.close()\n",
    "\n",
    "fp_nuevo = open(\"pc_writetest.tmp\", \"w\")\n",
    "fp_nuevo.write(texto)\n",
    "fp_nuevo.close()      #importante el close cada vez que se use el open\n",
    "print(texto)"
   ]
  },
  {
   "cell_type": "code",
   "execution_count": 64,
   "metadata": {},
   "outputs": [],
   "source": [
    "#solución de Fran\n",
    "\n",
    "# escriu el teu codi aquíç\n",
    "\n",
    "#PSEUDOCODIGO:\n",
    "\n",
    "#1- Leer el contenido de pc_rose.txt y guardarmelo en una variable data--> read() \n",
    "#2- Guardar data en otro fichero txt que se llame pc_writetest.txt\n",
    "\n",
    "\n",
    "rose_filename = f\"{CURR_DIR}/pc_rose.txt\"\n",
    "temp_filename = f\"{CURR_DIR}/pc_writetest.tmp\" \n",
    "\n",
    "with open(rose_filename, \"r\") as read_file:\n",
    "    with open(temp_filename, \"w\") as write_file:\n",
    "        for line in read_file:\n",
    "            write_file.write(line)\n",
    "\n",
    "\n"
   ]
  },
  {
   "cell_type": "code",
   "execution_count": 66,
   "metadata": {},
   "outputs": [
    {
     "name": "stdout",
     "output_type": "stream",
     "text": [
      "Content of 'pc_writetest.tmp':\n",
      "Tis but thy name that is my enemy.\n",
      "Thou art thyself, though not a Montague.\n",
      "What's Montague? it is nor hand, nor foot,\n",
      "Nor arm, nor face, nor any other part\n",
      "Belonging to a man. O, be some other name!\n",
      "What's in a name? That which we call a rose\n",
      "By any other name would smell as sweet.\n",
      "So Romeo would, were he not Romeo call'd,\n",
      "Retain that dear perfection which he owes\n",
      "Without that title. Romeo, doff thy name;\n",
      "And for that name, which is no part of thee,\n",
      "Take all myself.\n"
     ]
    }
   ],
   "source": [
    "#versión de vanessa\n",
    "\n",
    "\n",
    "input_file = \"../data/pc_rose.txt\"\n",
    "output_file = \"../data/pc_writetest.tmp\"\n",
    "\n",
    "\n",
    "with open(input_file, \"r\") as file:\n",
    "    content = file.read()\n",
    "\n",
    "\n",
    "with open(output_file, \"w\") as file:\n",
    "    file.write(content)\n",
    "\n",
    "\n",
    "with open(output_file, \"r\") as file:\n",
    "    copied_content = file.read()\n",
    "\n",
    "\n",
    "print(\"Content of 'pc_writetest.tmp':\")\n",
    "print(copied_content)"
   ]
  },
  {
   "cell_type": "markdown",
   "metadata": {
    "id": "hEnJMUqyV9Y3"
   },
   "source": [
    "### Ejercicio 4\n",
    "\n",
    "Escribe un programa que lea el contenido de \"pc_rose.txt\", invierta cada una de las líneas y escriba las líneas invertidas en el archivo \"pc_writetest_reverse.tmp\". Luego, abre el archivo \"pc_writetest_reverse.tmp\" y visualiza el contenido."
   ]
  },
  {
   "cell_type": "code",
   "execution_count": 15,
   "metadata": {
    "id": "yqghGNA0V81A"
   },
   "outputs": [
    {
     "name": "stdout",
     "output_type": "stream",
     "text": [
      "<_io.TextIOWrapper name='../data/pc_ writetestreverse.tmp' mode='w' encoding='UTF-8'>\n"
     ]
    }
   ],
   "source": [
    "# escribe tu código aquí\n",
    "\n",
    "input_file = \"../data/pc_rose.txt\"\n",
    "output_file = \"../data/pc_ writetestreverse.tmp\"\n",
    "\n",
    "with open(input_file, \"r\") as read_file:\n",
    "    lineas = read_file.readlines()\n",
    "    with open(output_file, \"w\") as write_file:\n",
    "      write_file.writelines(lineas[::-1])\n",
    "\n",
    "        "
   ]
  },
  {
   "cell_type": "code",
   "execution_count": 10,
   "metadata": {},
   "outputs": [
    {
     "name": "stdout",
     "output_type": "stream",
     "text": [
      "['n', 'a', 'r', 'F']\n",
      "narF\n",
      "narF\n",
      "ra\n"
     ]
    }
   ],
   "source": [
    "mystring = \"Fran\"\n",
    "print(list(reversed(mystring)))\n",
    "print(\"\".join(reversed(mystring)))\n",
    "print(mystring[::-1])\n",
    "print(mystring[1:3])"
   ]
  },
  {
   "cell_type": "code",
   "execution_count": 13,
   "metadata": {},
   "outputs": [
    {
     "ename": "SyntaxError",
     "evalue": "expected ':' (1732239187.py, line 5)",
     "output_type": "error",
     "traceback": [
      "\u001b[0;36m  Cell \u001b[0;32mIn[13], line 5\u001b[0;36m\u001b[0m\n\u001b[0;31m    with open(input_file, \"r\") as read_file\u001b[0m\n\u001b[0m                                           ^\u001b[0m\n\u001b[0;31mSyntaxError\u001b[0m\u001b[0;31m:\u001b[0m expected ':'\n"
     ]
    }
   ],
   "source": [
    "\n",
    "\n",
    "\n",
    "input_file = \"../data/pc_rose.txt\"\n",
    "output_file = \"../data/pc_ writetestreverse.tmp\"\n",
    "\n",
    "\n",
    "with open(input_file, \"r\") as read_file"
   ]
  },
  {
   "cell_type": "markdown",
   "metadata": {
    "id": "ztj3b5nCaa3n"
   },
   "source": [
    "##  Adjuntando texto"
   ]
  },
  {
   "cell_type": "markdown",
   "metadata": {
    "id": "wyjk30M8aiwy"
   },
   "source": [
    "\"Adjuntar\" (Appending) se refiere a escribir al final de un archivo existente. Cuando abres un archivo para continuar escribiendo, el contenido no se borra, pero el puntero del archivo se coloca al final del archivo, donde puedes escribir nuevos datos. Abres un archivo en modo de \"adjuntar\" utilizando \"a\" como argumento de modo al abrir el archivo.\n",
    "\n",
    "El siguiente código primero muestra el contenido de \"pc_writetest.tmp\" (que debería existir ya). Luego, pide al usuario las líneas para adjuntar al archivo. Finalmente, muestra el contenido del nuevo archivo."
   ]
  },
  {
   "cell_type": "code",
   "execution_count": 16,
   "metadata": {
    "id": "L2QO1-IPbMc1"
   },
   "outputs": [
    {
     "ename": "NameError",
     "evalue": "name 'CURR_DIR' is not defined",
     "output_type": "error",
     "traceback": [
      "\u001b[0;31m---------------------------------------------------------------------------\u001b[0m",
      "\u001b[0;31mNameError\u001b[0m                                 Traceback (most recent call last)",
      "Cell \u001b[0;32mIn[16], line 1\u001b[0m\n\u001b[0;32m----> 1\u001b[0m FILENAME \u001b[38;5;241m=\u001b[39m \u001b[38;5;124mf\u001b[39m\u001b[38;5;124m\"\u001b[39m\u001b[38;5;132;01m{\u001b[39;00m\u001b[43mCURR_DIR\u001b[49m\u001b[38;5;132;01m}\u001b[39;00m\u001b[38;5;124m/pc_writetest.tmp\u001b[39m\u001b[38;5;124m\"\u001b[39m\n\u001b[1;32m      2\u001b[0m \u001b[38;5;28;01mdef\u001b[39;00m \u001b[38;5;21mdisplaycontents\u001b[39m( filename ):\n\u001b[1;32m      3\u001b[0m   fp \u001b[38;5;241m=\u001b[39m \u001b[38;5;28mopen\u001b[39m( filename )\n",
      "\u001b[0;31mNameError\u001b[0m: name 'CURR_DIR' is not defined"
     ]
    }
   ],
   "source": [
    "FILENAME = f\"{CURR_DIR}/pc_writetest.tmp\"\n",
    "def displaycontents( filename ):\n",
    "  fp = open( filename )\n",
    "  print( fp.read() )\n",
    "  fp.close()\n",
    "\n",
    "displaycontents( FILENAME )"
   ]
  },
  {
   "cell_type": "code",
   "execution_count": null,
   "metadata": {
    "id": "hndCXYXzbZAx"
   },
   "outputs": [],
   "source": [
    "fp = open( FILENAME , \"a\" )\n",
    "while True:\n",
    "  text = input( \"Please enter a line of text: \" )\n",
    "  if text == \"\":\n",
    "    break\n",
    "  fp.write( text+\"\\n\" )\n",
    "fp.close()\n",
    "\n",
    "displaycontents( FILENAME )"
   ]
  },
  {
   "cell_type": "markdown",
   "metadata": {
    "id": "DlQs5r4G8qvr"
   },
   "source": [
    "## Sistema de archivos\n",
    "\n",
    "El sistema de archivos de un ordenador consta de una organización estructurada en forma de árbol de directorios y archivos.\n",
    "\n"
   ]
  },
  {
   "cell_type": "markdown",
   "metadata": {
    "id": "kvqAE9sOOvMM"
   },
   "source": [
    "Hay un directorio \"raíz\", que es el punto de acceso principal para todos los demás directorios. El directorio raíz se identifica con una barra inclinada (`/`) o una barra invertida (`\\`), dependiendo del sistema operativo. En Windows es una barra invertida, en Mac OS y Linux es una barra inclinada.\n",
    "\n",
    "Sin embargo, ahora Windows también admite la barra inclinada. Es recomendable usar la barra inclinada en la mayoría de los casos, ya que en las cadenas, la barra invertida indica un símbolo especial, por lo que si quieres usar una barra invertida en una cadena como separador de directorios, debes usar una doble barra invertida (para poder escapar su uso reservado). Esto suele ser confuso, por lo que te recomiendo usar la barra inclinada.\n",
    "\n",
    "\"Debajo\" del directorio raíz hay muchos otros directorios, cada uno identificado con un nombre, y normalmente también varios archivos, cada uno identificado con un nombre. Debajo de cada directorio puede haber más directorios y archivos.\n"
   ]
  },
  {
   "cell_type": "markdown",
   "metadata": {
    "id": "-aqHmKutRtFW"
   },
   "source": [
    "Cada sistema operativo tiene ciertas restricciones sobre qué nombres de archivos y directorios se pueden utilizar, pero en general se admiten la mayoría de caracteres. Es convencional que los archivos normales tengan una extensión, que se coloca al final del nombre del archivo y se separa del nombre del archivo con un punto.\n",
    "\n",
    "La extensión identifica qué tipo de archivo es, por ejemplo:\n",
    "\n",
    "* un programa ejecutable (.exe),\n",
    "* un archivo de texto plano (.txt), o\n",
    "* un archivo Python (.py)."
   ]
  },
  {
   "cell_type": "markdown",
   "metadata": {
    "id": "lGNjr3icRtAt"
   },
   "source": [
    "También es convencional que los nombres de directorios no tengan esta extensión. Sin embargo, esto no es una regla, y es posible que encuentres archivos sin extensión y directorios con extensión. **Ten en cuenta que en el entorno visual, las extensiones de los archivos a menudo están ocultas, pero están ahí; simplemente no las ves.**\n",
    "\n",
    "**Para identificar de manera única un archivo, es necesario conocer su \"ruta\" exacta desde la raíz hasta el archivo, siguiendo los directorios.**\n",
    "\n",
    "El nombre de la ruta del archivo es:\n",
    "\n",
    "> `/<directorio>/<directorio>/.../<nombre del archivo>`.\n",
    "\n",
    "En Windows, se puede colocar una letra de unidad delante de esta ruta, haciéndola:\n",
    "\n",
    "> `<unidad>:/<directorio>/<directorio>/.../<nombre del archivo>`.\n",
    "\n",
    "Por ejemplo, si en Windows, en la unidad \"`C`\", bajo la raíz hay un directorio \"`Python34`\", debajo del cual hay un directorio \"`Lib`\", en el que puedes encontrar un archivo \"`os.py`\", la ruta para este archivo es `C:/Python34/Lib/os.py`."
   ]
  },
  {
   "cell_type": "markdown",
   "metadata": {
    "id": "Cct9Iq-78qmH"
   },
   "source": [
    "**En Windows, esta ruta no distingue entre mayúsculas y minúsculas, por lo que puedes usar letras minúsculas si lo deseas. Sin embargo, esto no es el caso en todos los sistemas operativos.**\n",
    "\n",
    "Cuando trabajas en el sistema de archivos (y siempre estás trabajando en el sistema de archivos, aunque no te des cuenta), hay un \"directorio actual\", que se identifica con un punto (.). Si deseas acceder a un archivo en el directorio actual, no necesitas conocer la ruta completa; basta con saber el nombre del archivo. Un directorio \"superior\" al directorio actual (es decir, el directorio principal) se identifica con un doble punto (..). El directorio principal de la raíz es la raíz misma."
   ]
  },
  {
   "cell_type": "markdown",
   "metadata": {
    "id": "DYymMhdtELKp"
   },
   "source": [
    "## Métodos de `os`"
   ]
  },
  {
   "cell_type": "markdown",
   "metadata": {
    "id": "p-ecaUxi_SSl"
   },
   "source": [
    "El módulo `os` admite muchas funciones que te permiten interactuar con el sistema de archivos. Mencionaremos solo algunas de ellas, ya que muchas son realmente un poco peligrosas de usar (puedes eliminar fácilmente archivos que querías conservar) y no las necesitas de todos modos. Si estás realmente interesado en manipular el sistema de archivos, puedes leer sobre las docenas de otras funciones que admite `os`."
   ]
  },
  {
   "cell_type": "markdown",
   "metadata": {
    "id": "ZS9gL-34_Zdh"
   },
   "source": [
    "### getcwd()\n",
    "\n",
    "`getcwd()` devuelve el directorio de trabajo actual como una cadena de texto."
   ]
  },
  {
   "cell_type": "code",
   "execution_count": 17,
   "metadata": {
    "colab": {
     "base_uri": "https://localhost:8080/"
    },
    "executionInfo": {
     "elapsed": 389,
     "status": "ok",
     "timestamp": 1645461356819,
     "user": {
      "displayName": "Marcos Mejia Cordova",
      "photoUrl": "https://lh3.googleusercontent.com/a/default-user=s64",
      "userId": "01043907723196976640"
     },
     "user_tz": -60
    },
    "id": "tV_brEbrAsTh",
    "outputId": "4e68a010-ded9-4124-d357-a5443db329a0"
   },
   "outputs": [
    {
     "name": "stdout",
     "output_type": "stream",
     "text": [
      "/home/jovyan/work/ESP\n"
     ]
    }
   ],
   "source": [
    "from os import getcwd\n",
    "print(getcwd())"
   ]
  },
  {
   "cell_type": "markdown",
   "metadata": {
    "id": "M9ezQAvT_ZZJ"
   },
   "source": [
    "### chdir()\n",
    "\n",
    "`chdir()` cambia el directorio de trabajo actual. El nuevo directorio se proporciona como una cadena de texto."
   ]
  },
  {
   "cell_type": "code",
   "execution_count": 27,
   "metadata": {
    "colab": {
     "base_uri": "https://localhost:8080/"
    },
    "executionInfo": {
     "elapsed": 365,
     "status": "ok",
     "timestamp": 1645461410024,
     "user": {
      "displayName": "Marcos Mejia Cordova",
      "photoUrl": "https://lh3.googleusercontent.com/a/default-user=s64",
      "userId": "01043907723196976640"
     },
     "user_tz": -60
    },
    "id": "XtlBf3rSBQVd",
    "outputId": "933e4dd4-761a-4c2f-b0cd-4949cb07ff20"
   },
   "outputs": [
    {
     "name": "stdout",
     "output_type": "stream",
     "text": [
      "c:\\Users\\alana.olivieri\\Documents\\CodeOp\\2024\\DSPP02\\00-AAA\\1-05-3-text-files\\ESP\n",
      "c:\\Users\\alana.olivieri\\Documents\\CodeOp\\2024\\DSPP02\\00-AAA\\1-05-3-text-files\n",
      "c:\\Users\\alana.olivieri\\Documents\\CodeOp\\2024\\DSPP02\\00-AAA\\1-05-3-text-files\\ESP\n"
     ]
    }
   ],
   "source": [
    "from os import getcwd , chdir\n",
    "home = getcwd()\n",
    "print( home )\n",
    "chdir( \"..\" )\n",
    "print( getcwd() )\n",
    "chdir( home )\n",
    "print( getcwd() )"
   ]
  },
  {
   "cell_type": "markdown",
   "metadata": {
    "id": "S24lqsaqSSpo"
   },
   "source": [
    "## Métodos de `os.path`"
   ]
  },
  {
   "cell_type": "markdown",
   "metadata": {
    "id": "VT73eW-IELKp"
   },
   "source": [
    "En este punto ya sabes todo lo que necesitas para gestionar archivos de texto en Python. Sin embargo, hay varias funciones útiles que te facilitan la vida cuando trabajas con archivos. Estas están recopiladas en el módulo `os.path`. Como es habitual, no las enumeraremos todas, pero mencionaremos las que más utilizarás.\n",
    "\n",
    "En estas funciones, el término \"ruta (path)\" se refiere a un nombre de archivo o de directorio, junto con los directorios principales (y la letra de la unidad). Los directorios padres (y la letra de la unidad) no necesitan estar explícitamente, pero aunque no lo estén, implícitamente sí lo están, ya que cada archivo y cada directorio se encuentra en un lugar determinado del sistema de archivos."
   ]
  },
  {
   "cell_type": "markdown",
   "metadata": {
    "id": "hhO8J7jXELKp"
   },
   "source": [
    "### `exists()`"
   ]
  },
  {
   "cell_type": "markdown",
   "metadata": {
    "id": "lmkxEo7SELKp"
   },
   "source": [
    "La función `exists()` recibe una ruta como argumento y devuelve `True` si esa ruta existe, y `False` si no."
   ]
  },
  {
   "cell_type": "code",
   "execution_count": 28,
   "metadata": {
    "colab": {
     "base_uri": "https://localhost:8080/"
    },
    "executionInfo": {
     "elapsed": 8,
     "status": "ok",
     "timestamp": 1645461558142,
     "user": {
      "displayName": "Marcos Mejia Cordova",
      "photoUrl": "https://lh3.googleusercontent.com/a/default-user=s64",
      "userId": "01043907723196976640"
     },
     "user_tz": -60
    },
    "id": "JQLQy7nqELKp",
    "outputId": "5a4a45b0-8528-49b8-e440-bde0f4f3f3b8"
   },
   "outputs": [
    {
     "name": "stdout",
     "output_type": "stream",
     "text": [
      "Shakespeare.txt does not exist\n",
      "my_text.txt does not exist\n"
     ]
    },
    {
     "data": {
      "text/plain": [
       "True"
      ]
     },
     "execution_count": 28,
     "metadata": {},
     "output_type": "execute_result"
    }
   ],
   "source": [
    "from os.path import exists\n",
    "\n",
    "def check_if_path_exists(file_name):\n",
    "    if exists(file_name ):\n",
    "        return( file_name + \" exists\" )\n",
    "    else:\n",
    "        return( file_name + \" does not exist\" )\n",
    "\n",
    "print(check_if_path_exists(\"Shakespeare.txt\")) # not in current directory\n",
    "print(check_if_path_exists(\"my_text.txt\")) # not in current directory\n",
    "\n",
    "exists(f\"{CURR_DIR}/Shakespeare.txt\") # it is in our handcrafted path"
   ]
  },
  {
   "cell_type": "markdown",
   "metadata": {
    "id": "4_whtEqiELKq"
   },
   "source": [
    "### `isfile()`"
   ]
  },
  {
   "cell_type": "markdown",
   "metadata": {
    "id": "5qm969QtELKq"
   },
   "source": [
    "`isfile()` prueba si la ruta proporcionada como argumento es un archivo. Si lo es, devuelve \"True\". Si no lo es, devuelve \"False\". Si la ruta no existe, la función también devuelve `False`."
   ]
  },
  {
   "cell_type": "code",
   "execution_count": 29,
   "metadata": {
    "colab": {
     "base_uri": "https://localhost:8080/"
    },
    "executionInfo": {
     "elapsed": 312,
     "status": "ok",
     "timestamp": 1645397474267,
     "user": {
      "displayName": "Marcos Mejia Cordova",
      "photoUrl": "https://lh3.googleusercontent.com/a/default-user=s64",
      "userId": "01043907723196976640"
     },
     "user_tz": -60
    },
    "id": "GNhM13d3ELKq",
    "outputId": "01f1a683-e053-47df-af1b-a13e0f8f8730"
   },
   "outputs": [
    {
     "name": "stdout",
     "output_type": "stream",
     "text": [
      "Shakespeare.txt is not a file\n"
     ]
    }
   ],
   "source": [
    "from os.path import isfile\n",
    "\n",
    "def check_if_file_exists(file_name):\n",
    "    if isfile( file_name ):\n",
    "        return( file_name + \" is a file\" )\n",
    "    else:\n",
    "        return( file_name + \" is not a file\" )\n",
    "    \n",
    "print(check_if_file_exists(\"Shakespeare.txt\"))"
   ]
  },
  {
   "cell_type": "code",
   "execution_count": 30,
   "metadata": {
    "colab": {
     "base_uri": "https://localhost:8080/"
    },
    "executionInfo": {
     "elapsed": 313,
     "status": "ok",
     "timestamp": 1645397496479,
     "user": {
      "displayName": "Marcos Mejia Cordova",
      "photoUrl": "https://lh3.googleusercontent.com/a/default-user=s64",
      "userId": "01043907723196976640"
     },
     "user_tz": -60
    },
    "id": "O-KmN_xTVQRi",
    "outputId": "cd0e137a-d3a1-4a32-c0e2-2ada4757ef87"
   },
   "outputs": [
    {
     "name": "stdout",
     "output_type": "stream",
     "text": [
      "C:/Users/alana.olivieri/Documents/CodeOp/2024/DSPP02/00-AAA/1-05-3-text-files/data/Shakespeare.txt is a file\n"
     ]
    }
   ],
   "source": [
    "print(check_if_file_exists(f\"{CURR_DIR}/Shakespeare.txt\"))"
   ]
  },
  {
   "cell_type": "markdown",
   "metadata": {
    "id": "UxX5PinIELKr"
   },
   "source": [
    "### `isdir()`"
   ]
  },
  {
   "cell_type": "markdown",
   "metadata": {
    "id": "egN6EY-MELKr"
   },
   "source": [
    "`isdir()` prueba si la ruta proporcionada como argumento es un directorio. Si lo es, devuelve \"True\". Si no lo es, devuelve \"False\". Si la ruta no existe, la función también devuelve `False`."
   ]
  },
  {
   "cell_type": "code",
   "execution_count": 31,
   "metadata": {
    "colab": {
     "base_uri": "https://localhost:8080/"
    },
    "executionInfo": {
     "elapsed": 294,
     "status": "ok",
     "timestamp": 1645397519754,
     "user": {
      "displayName": "Marcos Mejia Cordova",
      "photoUrl": "https://lh3.googleusercontent.com/a/default-user=s64",
      "userId": "01043907723196976640"
     },
     "user_tz": -60
    },
    "id": "Xij4zF-zELKr",
    "outputId": "19d2cf67-367c-4d51-d0b0-4253496b6dde"
   },
   "outputs": [
    {
     "name": "stdout",
     "output_type": "stream",
     "text": [
      "C:/Users/alana.olivieri/Documents/CodeOp/2024/DSPP02/00-AAA/1-05-3-text-files/data/Shakespeare.txt is not a directory\n"
     ]
    }
   ],
   "source": [
    "from os.path import isdir\n",
    "\n",
    "def check_if_path_is_dir(file_name):\n",
    "    if isdir( file_name):\n",
    "        print( file_name + \" Sheakspeare is a directory\" )\n",
    "    else:\n",
    "        print(file_name + \" is not a directory\" )\n",
    "        \n",
    "check_if_path_is_dir(filepath)"
   ]
  },
  {
   "cell_type": "code",
   "execution_count": 32,
   "metadata": {
    "colab": {
     "base_uri": "https://localhost:8080/"
    },
    "executionInfo": {
     "elapsed": 291,
     "status": "ok",
     "timestamp": 1645397537206,
     "user": {
      "displayName": "Marcos Mejia Cordova",
      "photoUrl": "https://lh3.googleusercontent.com/a/default-user=s64",
      "userId": "01043907723196976640"
     },
     "user_tz": -60
    },
    "id": "0_-Aj_uwVb_j",
    "outputId": "892f6ba2-13ba-4498-fa1e-2304579daa86"
   },
   "outputs": [
    {
     "name": "stdout",
     "output_type": "stream",
     "text": [
      "C:/Users/alana.olivieri/Documents/CodeOp/2024/DSPP02/00-AAA/1-05-3-text-files/data Sheakspeare is a directory\n"
     ]
    }
   ],
   "source": [
    "check_if_path_is_dir(CURR_DIR)"
   ]
  },
  {
   "cell_type": "markdown",
   "metadata": {
    "id": "EVZgoeORZSg9"
   },
   "source": [
    "### `basename()`"
   ]
  },
  {
   "cell_type": "markdown",
   "metadata": {
    "id": "Utg05metELKs"
   },
   "source": [
    "`basename()` extrae el nombre del archivo de una ruta y lo devuelve."
   ]
  },
  {
   "cell_type": "code",
   "execution_count": 33,
   "metadata": {
    "colab": {
     "base_uri": "https://localhost:8080/"
    },
    "executionInfo": {
     "elapsed": 825,
     "status": "ok",
     "timestamp": 1645461660654,
     "user": {
      "displayName": "Marcos Mejia Cordova",
      "photoUrl": "https://lh3.googleusercontent.com/a/default-user=s64",
      "userId": "01043907723196976640"
     },
     "user_tz": -60
    },
    "id": "RXzs7WOzELKs",
    "outputId": "73f5ec33-ca28-4c06-f94c-e0990d781924"
   },
   "outputs": [
    {
     "name": "stdout",
     "output_type": "stream",
     "text": [
      "Real path:\t C:/Users/alana.olivieri/Documents/CodeOp/2024/DSPP02/00-AAA/1-05-3-text-files/data/Shakespeare.txt\n",
      "Basename:\t Shakespeare.txt\n"
     ]
    }
   ],
   "source": [
    "from os.path import basename\n",
    "\n",
    "print(\"Real path:\\t\",filepath)\n",
    "print(\"Basename:\\t\", basename( filepath ) )"
   ]
  },
  {
   "cell_type": "markdown",
   "metadata": {
    "id": "W-5AQYitELKs"
   },
   "source": [
    "### `dirname()`"
   ]
  },
  {
   "cell_type": "markdown",
   "metadata": {
    "id": "Tz20S8C8ELKt"
   },
   "source": [
    "`dirname()` extrae el nombre del directorio de una ruta y lo devuelve."
   ]
  },
  {
   "cell_type": "code",
   "execution_count": 34,
   "metadata": {
    "colab": {
     "base_uri": "https://localhost:8080/"
    },
    "executionInfo": {
     "elapsed": 293,
     "status": "ok",
     "timestamp": 1645397725413,
     "user": {
      "displayName": "Marcos Mejia Cordova",
      "photoUrl": "https://lh3.googleusercontent.com/a/default-user=s64",
      "userId": "01043907723196976640"
     },
     "user_tz": -60
    },
    "id": "UlfmrFfBELKt",
    "outputId": "bfcb32fb-fe04-4d95-d421-603f788010cf"
   },
   "outputs": [
    {
     "name": "stdout",
     "output_type": "stream",
     "text": [
      "dirname:\t C:/Users/alana.olivieri/Documents/CodeOp/2024/DSPP02/00-AAA/1-05-3-text-files/data\n"
     ]
    }
   ],
   "source": [
    "from os.path import dirname\n",
    "\n",
    "print(\"dirname:\\t\", dirname(filepath ) )"
   ]
  },
  {
   "cell_type": "markdown",
   "metadata": {
    "id": "U_M5YzsUELKr"
   },
   "source": [
    "### `join()`"
   ]
  },
  {
   "cell_type": "markdown",
   "metadata": {
    "id": "PDf5_734ZVDQ"
   },
   "source": [
    "`join()` toma una o más partes de una ruta como argumento y las concatena de manera inteligente en un nombre \"legal\" para una ruta. Esto significa que agregará y eliminará barras según sea necesario. `join()` es especialmente útil en combinación con `listdir()`.\n",
    "\n",
    "La razón por la cual `join()` es útil con `listdir()` es que `listdir()` da como resultado una lista de nombres de archivos que no incluyen los nombres de los directorios.\n",
    "\n",
    "Normalmente, cuando solicitas una lista de nombres de archivos, tienes la intención de abrirlos en algún momento. Pero para abrir un archivo que no está en el directorio actual, necesitas conocer el nombre completo de la ruta que lleva al archivo. Cuando aplicas `listdir()`, sabes dónde estás buscando los archivos, por lo que conoces los elementos del nombre de la ruta.\n",
    "\n",
    "Para construir el nombre de ruta completo para cada archivo, debes concatenar los elementos del nombre de la ruta con el nombre del archivo. En lugar de intentar decidir dónde debes agregar barras y qué tipo de barras deben ser, puedes dejarlo todo a la función `join()`.\n",
    "\n",
    "El siguiente código busca todos los archivos en el directorio actual y los enumera, incluyendo su nombre de ruta completo. Observa cómo se utiliza `join()` para construir este nombre de ruta a partir del directorio actual y el nombre del archivo."
   ]
  },
  {
   "cell_type": "code",
   "execution_count": 37,
   "metadata": {
    "colab": {
     "base_uri": "https://localhost:8080/"
    },
    "executionInfo": {
     "elapsed": 5,
     "status": "ok",
     "timestamp": 1645461950301,
     "user": {
      "displayName": "Marcos Mejia Cordova",
      "photoUrl": "https://lh3.googleusercontent.com/a/default-user=s64",
      "userId": "01043907723196976640"
     },
     "user_tz": -60
    },
    "id": "2_mvAU0YaBE0",
    "outputId": "7cd76787-66e7-4539-f1d6-06b40e91e6ff"
   },
   "outputs": [
    {
     "name": "stdout",
     "output_type": "stream",
     "text": [
      "c:\\Users\\alana.olivieri\\Documents\\CodeOp\\2024\\DSPP02\\00-AAA\\1-05-3-text-files\\ESP\\README.md\n"
     ]
    }
   ],
   "source": [
    "from os import listdir , getcwd\n",
    "from os.path import join\n",
    "\n",
    "def print_paths(dir_path):\n",
    "  filelist = listdir( dir_path )\n",
    "\n",
    "  if dir_path == \".\":\n",
    "    dir_path = getcwd()\n",
    " \n",
    "  for name in filelist:\n",
    "    pathname = join( dir_path, name )\n",
    "  print( pathname )\n",
    "\n",
    "print_paths(\".\")\n",
    "\n"
   ]
  },
  {
   "cell_type": "code",
   "execution_count": null,
   "metadata": {},
   "outputs": [],
   "source": [
    "import os\n",
    "#string_que_representa_ruta = \"C:/Users/Fran/...\"\n",
    "path_donde_estoy_ahora = os.getcwd()\n",
    "print(path_donde_estoy_ahora)\n",
    "#path_test = path_donde_estoy_ahora + \"/test\"\n",
    "path_test = os.path.join(path_donde_estoy_ahora, \"test\", \"example.txt\")\n",
    "print(path_test)\n",
    "path_test = os.path.join(path_donde_estoy_ahora, \"data\")\n",
    "print(path_test)"
   ]
  },
  {
   "cell_type": "code",
   "execution_count": 36,
   "metadata": {
    "colab": {
     "base_uri": "https://localhost:8080/"
    },
    "executionInfo": {
     "elapsed": 311,
     "status": "ok",
     "timestamp": 1645399104220,
     "user": {
      "displayName": "Marcos Mejia Cordova",
      "photoUrl": "https://lh3.googleusercontent.com/a/default-user=s64",
      "userId": "01043907723196976640"
     },
     "user_tz": -60
    },
    "id": "zFMePKbca2P6",
    "outputId": "6e78f059-e230-4ec3-9b4d-28a737e502d0"
   },
   "outputs": [
    {
     "name": "stdout",
     "output_type": "stream",
     "text": [
      "C:/Users/alana.olivieri/Documents/CodeOp/2024/DSPP02/00-AAA/1-05-3-text-files/data\\Shakespeare.txt\n"
     ]
    }
   ],
   "source": [
    "print_paths(dirname(filepath))"
   ]
  },
  {
   "cell_type": "markdown",
   "metadata": {
    "id": "I-3wWOIAELKt"
   },
   "source": [
    "### `getsize()`"
   ]
  },
  {
   "cell_type": "markdown",
   "metadata": {
    "id": "1lmZ8LZiELKt"
   },
   "source": [
    "`getsize()` obtiene el tamaño del archivo que se proporciona como argumento y lo devuelve como un número entero. El archivo debe existir, de lo contrario obtendrás un error de ejecución."
   ]
  },
  {
   "cell_type": "code",
   "execution_count": 39,
   "metadata": {},
   "outputs": [
    {
     "data": {
      "text/plain": [
       "'C:/Users/alana.olivieri/Documents/CodeOp/2024/DSPP02/00-AAA/1-05-3-text-files/data/Shakespeare.txt'"
      ]
     },
     "execution_count": 39,
     "metadata": {},
     "output_type": "execute_result"
    }
   ],
   "source": [
    "filepath"
   ]
  },
  {
   "cell_type": "code",
   "execution_count": 38,
   "metadata": {
    "colab": {
     "base_uri": "https://localhost:8080/"
    },
    "executionInfo": {
     "elapsed": 368,
     "status": "ok",
     "timestamp": 1645397775640,
     "user": {
      "displayName": "Marcos Mejia Cordova",
      "photoUrl": "https://lh3.googleusercontent.com/a/default-user=s64",
      "userId": "01043907723196976640"
     },
     "user_tz": -60
    },
    "id": "U-k_SPWmELKu",
    "outputId": "a3791ae9-5473-4bb5-b16a-c9733a9209b5"
   },
   "outputs": [
    {
     "name": "stdout",
     "output_type": "stream",
     "text": [
      "6910\n"
     ]
    }
   ],
   "source": [
    "from os.path import getsize\n",
    "\n",
    "numbytes = getsize( filepath )\n",
    "print( numbytes )"
   ]
  },
  {
   "cell_type": "markdown",
   "metadata": {
    "id": "x6EAIeigELKu"
   },
   "source": [
    "---"
   ]
  },
  {
   "cell_type": "markdown",
   "metadata": {
    "id": "ijky15beELKu"
   },
   "source": [
    "## Codificación de archivos"
   ]
  },
  {
   "cell_type": "markdown",
   "metadata": {
    "id": "0Jd3_2v1ELKv"
   },
   "source": [
    "Los archivos de texto utilizan una \"codificación\", es decir, un sistema que prescribe cómo deben interpretarse los caracteres en los archivos. Esta codificación puede variar entre sistemas operativos. Puedes ver la codificación preferida que usa tu sistema con una llamada a `sys.getfilesystemencoding()`."
   ]
  },
  {
   "cell_type": "code",
   "execution_count": 40,
   "metadata": {
    "colab": {
     "base_uri": "https://localhost:8080/"
    },
    "executionInfo": {
     "elapsed": 371,
     "status": "ok",
     "timestamp": 1645461980262,
     "user": {
      "displayName": "Marcos Mejia Cordova",
      "photoUrl": "https://lh3.googleusercontent.com/a/default-user=s64",
      "userId": "01043907723196976640"
     },
     "user_tz": -60
    },
    "id": "-Cf1TUkiELKw",
    "outputId": "02529af3-33e2-457e-d826-f81026e84308"
   },
   "outputs": [
    {
     "name": "stdout",
     "output_type": "stream",
     "text": [
      "utf-8\n"
     ]
    }
   ],
   "source": [
    "from sys import getfilesystemencoding\n",
    "\n",
    "print( getfilesystemencoding() )"
   ]
  },
  {
   "cell_type": "markdown",
   "metadata": {
    "id": "j9sq4x3gX52R"
   },
   "source": [
    "Si lees un archivo de texto que usa una codificación diferente a la preferida por tu sistema de archivos, es posible que obtengas un \"UnicodeDecodeError\". Si recibes o no este error para un archivo en particular está relacionado con tu sistema operativo. Una consecuencia molesta de esto es que cuando trasladas el código de Python que lee un archivo a otro sistema, un archivo que tu código podía leer previamente puede causar que tu código se bloquee después del traslado.\n",
    "\n",
    "Una manera sencilla de evitar este problema es añadiendo un parámetro adicional al abrir un archivo, que indique el mecanismo de codificación que deseas usar al leer el archivo. Puedes hacer esto agregando el parámetro \"`encoding=<encodingname>`\", donde `<encodingname`> es una cadena que puede tener una variedad de valores, de los cuales algunos son típicos:\n",
    "\n",
    "    codificación ascii de 7 bits, admite caracteres con valores en el rango 00-7F\n",
    "    codificación latin-1 de 8 bits, admite caracteres con valores en el rango 00-FF\n",
    "    codificación mbcs de 2 bytes, que actualmente está siendo reemplazada por UTF-8\n",
    "    codificación utf-8 de bytes variables\n",
    "\n",
    "Normalmente, los archivos de texto se crean con la codificación \"ascii\" o \"latin-1\". Dado que `ascii` está incorporado en `latin-1`, puedes abrir cualquier archivo de texto de manera segura especificando `latin-1` como la codificación. Es posible que para los caracteres más allá del rango `ascii`, obtengas caracteres diferentes a los que la persona que creó el archivo quería que vieras, esto depende del mecanismo de codificación que utilice tu sistema de archivos. Pero al menos se evita el `UnicodeDecodeError`.\n",
    "\n",
    "Ten en cuenta que, aunque `utf-8` admite un rango de caracteres mucho más amplio que `latin-1`, aún puedes obtener el `UnicodeDecodeError` al leer un archivo de texto que utiliza la codificación `latin-1` en un sistema que utiliza la `codificación utf-8`, ya que `utf-8` no tiene caracteres correspondientes con valores en el rango 80-FF."
   ]
  },
  {
   "cell_type": "markdown",
   "metadata": {
    "id": "GiN5FlpgELKw"
   },
   "source": [
    "Si quieres ver qué caracteres especiales se admiten con valores en el rango 80-FF en tu sistema, ejecuta el siguiente código. El valor numérico de un carácter en la tabla se puede derivar calculando `16*fila+col`, donde `fila` y `col` son el número hexadecimal de fila y columna, respectivamente. No muestro los caracteres del rango 80-9F, ya que normalmente no están ocupados."
   ]
  },
  {
   "cell_type": "code",
   "execution_count": 41,
   "metadata": {
    "colab": {
     "base_uri": "https://localhost:8080/"
    },
    "executionInfo": {
     "elapsed": 389,
     "status": "ok",
     "timestamp": 1645462065275,
     "user": {
      "displayName": "Marcos Mejia Cordova",
      "photoUrl": "https://lh3.googleusercontent.com/a/default-user=s64",
      "userId": "01043907723196976640"
     },
     "user_tz": -60
    },
    "id": "8mk9-7bTELKx",
    "outputId": "cbd439da-5662-4ea5-be2a-900c2d3421d6"
   },
   "outputs": [
    {
     "name": "stdout",
     "output_type": "stream",
     "text": [
      " 0 1 2 3 4 5 6 7 8 9 A B C D E F\n",
      "A   ¡ ¢ £ ¤ ¥ ¦ § ¨ © ª « ¬ ­ ® ¯\n",
      "B ° ± ² ³ ´ µ ¶ · ¸ ¹ º » ¼ ½ ¾ ¿\n",
      "C À Á Â Ã Ä Å Æ Ç È É Ê Ë Ì Í Î Ï\n",
      "D Ð Ñ Ò Ó Ô Õ Ö × Ø Ù Ú Û Ü Ý Þ ß\n",
      "E à á â ã ä å æ ç è é ê ë ì í î ï\n",
      "F ð ñ ò ó ô õ ö ÷ ø ù ú û ü ý þ ÿ\n"
     ]
    }
   ],
   "source": [
    "for i in range(16):\n",
    "    if i < 10:\n",
    "        print( ' '+chr( ord( '0' )+i ), end='' )\n",
    "    else:\n",
    "        print( ' '+chr( ord( 'A' )+i-10 ), end='' )\n",
    "print()\n",
    "for i in range( 10, 16 ):\n",
    "    print( chr( ord( 'A' )+i-10 ), end='' )\n",
    "    for j in range( 16 ):\n",
    "        c = i*16+j\n",
    "        print( ' '+chr( c ), end='' )\n",
    "    print()"
   ]
  },
  {
   "cell_type": "markdown",
   "metadata": {
    "id": "8SzXe2wHELKx"
   },
   "source": [
    "---"
   ]
  },
  {
   "cell_type": "markdown",
   "metadata": {
    "id": "T6RRknNGELKy"
   },
   "source": [
    "## Ejercicios"
   ]
  },
  {
   "cell_type": "markdown",
   "metadata": {
    "id": "lc_TvzHOELKy"
   },
   "source": [
    "### Ejercicio 5"
   ]
  },
  {
   "cell_type": "markdown",
   "metadata": {
    "id": "yY67-odLELKy"
   },
   "source": [
    "Escribe un programa que lea el contenido del archivo \"blakepoems.txt\", lo divida en palabras (donde todo lo que no sea una letra se considera un límite de palabra) y cree un diccionario sin distinguir entre mayúsculas y minúsculas que almacene para cada palabra con qué frecuencia aparece en el texto. Luego, imprime todas las palabras con sus cantidades en orden alfabético."
   ]
  },
  {
   "cell_type": "code",
   "execution_count": 47,
   "metadata": {
    "id": "OxT5ZjT6ELKz"
   },
   "outputs": [
    {
     "name": "stdout",
     "output_type": "stream",
     "text": [
      "{'a': 128, 'about': 1, 'abroad': 1, 'abstract': 1, 'ache': 1, 'admired': 1, 'adona': 1, 'afar': 1, 'affright': 1, 'after': 2, 'again': 3, 'against': 1, 'age': 2, 'aged': 1, 'agree': 1, 'ah': 7, 'air': 6, 'airy': 1, 'alas': 1, 'albion': 1, 'ale': 1, 'alehouse': 1, 'all': 39, 'allay': 1, 'alone': 1, 'altar': 1, 'always': 1, 'am': 16, 'ambush': 1, 'among': 8, 'an': 21, 'ancient': 3, 'and': 348, 'angel': 9, 'angels': 2, 'angry': 2, 'annoy': 1, 'another': 8, 'answer': 2, 'answerd': 3, 'answered': 2, 'anvil': 1, 'anxious': 1, 'any': 3, 'appall': 1, 'appals': 1, 'apparel': 1, 'appear': 2, 'appeared': 1, 'appears': 1, 'appendix': 1, 'apple': 1, 'are': 25, 'arise': 9, 'arm': 2, 'armed': 4, 'arms': 1, 'arose': 1, 'around': 5, 'arrow': 1, 'arrows': 1, 'art': 6, 'artful': 1, 'as': 16, 'ask': 2, 'asleep': 2, 'aspire': 2, 'astonish': 1, 'at': 7, 'author': 1, 'away': 24, 'awoke': 1, 'babe': 2, 'babes': 2, 'back': 3, 'bags': 2, 'baits': 1, 'balmy': 1, 'ban': 1, 'band': 1, 'bands': 2, 'bandy': 1, 'bane': 1, 'bank': 1, 'bar': 1, 'bard': 2, 'bare': 2, 'barrel': 1, 'be': 25, 'beadles': 1, 'beams': 3, 'bear': 5, 'bearing': 1, 'bears': 1, 'beast': 1, 'beasts': 2, 'beat': 1, 'beauty': 5, 'became': 2, 'because': 5, 'become': 1, 'becomes': 2, 'bed': 8, 'been': 2, 'beetle': 2, 'befall': 2, 'before': 7, 'began': 3, 'begone': 1, 'beguile': 2, 'beguiled': 2, 'beguiles': 1, 'beheld': 1, 'behind': 1, 'behold': 1, 'bells': 2, 'beneath': 2, 'benighted': 1, 'bereaved': 1, 'beside': 4, 'besides': 2, 'best': 1, 'betray': 1, 'bid': 1, 'bind': 2, 'binding': 1, 'binds': 1, 'birch': 1, 'bird': 4, 'birds': 11, 'birth': 1, 'black': 8, 'blackening': 1, 'bladder': 1, 'blade': 1, 'blake': 4, 'blasts': 2, 'bleak': 1, 'bleating': 1, 'bless': 3, 'blessing': 2, 'blights': 1, 'blind': 1, 'blood': 1, 'blossom': 4, 'blossoms': 3, 'blown': 3, 'blue': 1, 'blushed': 1, 'bodies': 1, 'bondage': 1, 'bones': 2, 'book': 6, 'bore': 7, 'born': 6, 'bosom': 4, 'both': 6, 'bound': 3, 'bow': 1, 'bowd': 2, 'bowed': 1, 'bower': 2, 'bowl': 1, 'boy': 11, 'boys': 2, 'brain': 2, 'break': 2, 'breast': 5, 'breath': 2, 'breathed': 1, 'breathing': 2, 'briars': 1, 'bright': 15, 'brings': 1, 'broke': 1, 'brook': 1, 'brooks': 1, 'brothers': 2, 'brought': 1, 'brows': 1, 'bruis': 1, 'brush': 1, 'brushed': 1, 'brushes': 1, 'bud': 1, 'buds': 2, 'builds': 2, 'built': 1, 'burned': 2, 'burning': 3, 'burnt': 1, 'bush': 1, 'but': 38, 'butterfly': 1, 'by': 24, 'cage': 1, 'call': 5, 'called': 2, 'calling': 1, 'calls': 2, 'came': 9, 'can': 29, 'cannot': 6, 'canst': 2, 'care': 12, 'caterpillar': 1, 'cattle': 1, 'caverns': 1, 'caves': 2, 'ceasd': 1, 'ceasing': 1, 'chain': 3, 'chained': 1, 'changed': 1, 'chapel': 2, 'charge': 2, 'chartered': 2, 'chase': 1, 'chaste': 1, 'cheer': 2, 'cheerful': 1, 'cherish': 3, 'cherries': 1, 'child': 18, 'children': 12, 'chimney': 3, 'chimneys': 1, 'chorus': 1, 'church': 6, 'clasp': 1, 'clay': 4, 'clean': 1, 'clear': 1, 'clime': 3, 'clod': 3, 'close': 2, 'closed': 1, 'clothed': 2, 'clothes': 1, 'clothing': 2, 'cloud': 15, 'clouds': 3, 'coat': 1, 'cock': 1, 'coffins': 2, 'coined': 1, 'cold': 7, 'come': 11, 'comfort': 1, 'companies': 1, 'company': 1, 'compelled': 1, 'complain': 2, 'complaind': 1, 'complainest': 1, 'consumed': 1, 'contagious': 1, 'control': 1, 'conveyed': 1, 'couches': 1, 'couching': 1, 'could': 6, 'countest': 1, 'court': 1, 'covered': 3, 'cow': 1, 'cradle': 2, 'crave': 1, 'creation': 1, 'creations': 1, 'cried': 1, 'cries': 1, 'crime': 1, 'crimson': 1, 'crops': 1, 'crow': 1, 'crown': 3, 'cruel': 2, 'cruelty': 3, 'crumbs': 1, 'cry': 7, 'crying': 1, 'curb': 1, 'curled': 1, 'curse': 1, 'curtain': 1, 'curtains': 1, 'd': 22, 'dacre': 1, 'dale': 3, 'dame': 1, 'dance': 2, 'dangerous': 1, 'dank': 1, 'dare': 4, 'dark': 7, 'darkening': 1, 'darkness': 2, 'daughter': 1, 'daughters': 1, 'day': 19, 'days': 4, 'dead': 2, 'deadly': 1, 'dear': 3, 'death': 6, 'deceit': 1, 'deceitful': 1, 'deceiving': 1, 'deep': 9, 'deeps': 1, 'delight': 14, 'delights': 1, 'dell': 1, 'den': 1, 'descend': 2, 'descended': 1, 'descending': 2, 'desert': 5, 'deserts': 1, 'desire': 2, 'desires': 1, 'despair': 2, 'despite': 1, 'destroy': 3, 'destruction': 1, 'devil': 1, 'dew': 4, 'dews': 2, 'dewy': 3, 'dick': 1, 'did': 12, 'didst': 3, 'die': 1, 'died': 2, 'dimpling': 1, 'disguise': 1, 'dismal': 2, 'dismay': 2, 'disputes': 1, 'distant': 2, 'distress': 2, 'divine': 6, 'do': 9, 'does': 18, 'dolors': 1, 'dome': 1, 'done': 3, 'door': 3, 'dost': 5, 'doth': 7, 'doubt': 1, 'dovelike': 2, 'doves': 1, 'down': 20, 'draw': 1, 'drawn': 1, 'dread': 5, 'dreadful': 1, 'dream': 4, 'dreams': 3, 'dreamt': 1, 'drear': 1, 'dreary': 1, 'dress': 4, 'dried': 1, 'drink': 4, 'drive': 2, 'driven': 2, 'drives': 1, 'droop': 1, 'drooping': 1, 'drop': 1, 'dropped': 1, 'duty': 1, 'dwell': 3, 'dwelling': 1, 'each': 5, 'eagle': 1, 'ear': 2, 'ears': 2, 'earth': 10, 'ease': 2, 'east': 1, 'eat': 1, 'echoed': 1, 'echoing': 3, 'else': 2, 'emerg': 1, 'emily': 1, 'emmet': 1, 'en': 1, 'end': 2, 'endless': 1, 'english': 2, 'engraved': 1, 'enter': 4, 'er': 16, 'eternal': 4, 'evening': 5, 'ever': 4, 'every': 17, 'everything': 1, 'evil': 1, 'ewes': 1, 'exhald': 1, 'experience': 3, 'eye': 5, 'eyed': 1, 'eyelids': 1, 'eyes': 9, 'face': 12, 'faces': 1, 'fade': 5, 'fades': 3, 'faint': 1, 'fair': 1, 'fall': 2, 'fallen': 3, 'falling': 1, 'falls': 1, 'false': 1, 'famished': 1, 'fancied': 1, 'farewell': 1, 'fast': 1, 'fasting': 1, 'father': 22, 'fear': 11, 'fearest': 1, 'fearful': 2, 'fears': 5, 'fed': 2, 'feed': 4, 'feel': 3, 'feet': 5, 'fen': 1, 'fibrous': 1, 'fields': 2, 'fiend': 2, 'fierce': 1, 'fiery': 1, 'fighting': 1, 'filled': 6, 'find': 4, 'fire': 4, 'fix': 1, 'flame': 1, 'fled': 6, 'flesh': 1, 'flew': 2, 'flies': 1, 'flocks': 2, 'floor': 1, 'flourish': 1, 'flow': 3, 'flowed': 1, 'flower': 5, 'flowers': 9, 'flute': 1, 'fly': 7, 'foe': 3, 'fold': 2, 'folk': 1, 'follow': 3, 'followed': 1, 'folly': 1, 'fondness': 1, 'food': 4, 'foot': 2, 'for': 32, 'forest': 1, 'forests': 1, 'forge': 1, 'forged': 2, 'forget': 1, 'forgot': 1, 'forlorn': 1, 'form': 8, 'former': 1, 'forth': 2, 'found': 3, 'fountains': 1, 'frame': 2, 'free': 6, 'freeze': 1, 'fresh': 1, 'friend': 1, 'from': 32, 'frowning': 2, 'fruit': 1, 'fruitful': 1, 'fruits': 2, 'full': 1, 'furnace': 2, 'further': 1, 'future': 2, 'futurity': 1, 'gambolled': 1, 'garden': 7, 'garments': 1, 'gates': 2, 'gather': 1, 'gave': 3, 'generation': 1, 'gentle': 5, 'gently': 1, 'gifts': 1, 'gilded': 1, 'girl': 4, 'girls': 2, 'give': 3, 'given': 3, 'gives': 4, 'giving': 1, 'glad': 1, 'glass': 1, 'glee': 1, 'glistening': 1, 'glittering': 1, 'glitters': 1, 'glow': 1, 'go': 8, 'god': 11, 'gods': 1, 'goes': 1, 'going': 1, 'gold': 6, 'golden': 8, 'gone': 6, 'good': 1, 'gorge': 1, 'got': 1, 'gowns': 1, 'graces': 1, 'grasp': 1, 'grass': 7, 'grasshopper': 1, 'grave': 3, 'graves': 2, 'graze': 1, 'great': 2, 'greater': 1, 'green': 16, 'grew': 1, 'grey': 3, 'grief': 4, 'griefs': 1, 'groan': 1, 'groaned': 1, 'ground': 5, 'grove': 3, 'grow': 2, 'growl': 1, 'grows': 1, 'guard': 1, 'guarded': 2, 'guardians': 1, 'ha': 4, 'had': 7, 'hair': 6, 'hairs': 1, 'hallowed': 1, 'hammer': 1, 'hand': 9, 'hands': 3, 'hapless': 1, 'happy': 19, 'har': 4, 'harlot': 1, 'harm': 2, 'harmonious': 1, 'has': 5, 'hath': 1, 'have': 17, 'he': 56, 'head': 14, 'headed': 1, 'health': 1, 'healthy': 1, 'hear': 16, 'heard': 12, 'hearing': 1, 'hears': 4, 'hearse': 1, 'heart': 11, 'heat': 5, 'heath': 2, 'heathen': 1, 'heaven': 10, 'heavenly': 1, 'heavy': 2, 'heedful': 1, 'hell': 2, 'helpless': 4, 'her': 34, 'here': 2, 'hid': 2, 'hide': 1, 'hie': 1, 'high': 3, 'hill': 2, 'hills': 2, 'him': 11, 'himself': 1, 'his': 57, 'hither': 1, 'hoar': 1, 'hoarse': 1, 'hoary': 1, 'hollow': 3, 'holy': 13, 'home': 4, 'honey': 2, 'horn': 2, 'horses': 1, 'hour': 2, 'house': 1, 'hover': 3, 'hovering': 1, 'how': 14, 'howl': 2, 'howling': 1, 'hum': 2, 'human': 16, 'humble': 4, 'humid': 1, 'humility': 1, 'hunger': 1, 'hungry': 1, 'huntsman': 1, 'hush': 1, 'i': 130, 'if': 17, 'ii': 1, 'iii': 1, 'image': 8, 'immortal': 3, 'impress': 1, 'in': 141, 'included': 1, 'increase': 1, 'indeed': 1, 'indignant': 1, 'infant': 16, 'infants': 3, 'infixes': 1, 'inhaling': 1, 'inherit': 1, 'injury': 1, 'innocence': 3, 'innocent': 4, 'into': 5, 'introduction': 2, 'invisible': 1, 'iron': 2, 'is': 52, 'it': 29, 'its': 14, 'itself': 7, 'iv': 1, 'jack': 1, 'jealous': 1, 'jealousy': 3, 'jesus': 1, 'jew': 1, 'joe': 1, 'john': 1, 'join': 1, 'journey': 1, 'joy': 25, 'joys': 3, 'judge': 1, 'just': 1, 'keep': 3, 'key': 1, 'kind': 1, 'kindled': 1, 'king': 1, 'kingly': 1, 'kiss': 2, 'kissed': 3, 'kisses': 2, 'knee': 1, 'kneels': 1, 'knew': 4, 'knits': 1, 'know': 11, 'laid': 1, 'lamb': 15, 'lambs': 5, 'lamentation': 1, 'lamentations': 1, 'land': 5, 'lap': 1, 'laps': 1, 'lapsed': 1, 'lark': 1, 'laugh': 6, 'laughed': 1, 'laughing': 5, 'laughs': 2, 'lay': 10, 'lead': 1, 'leaf': 2, 'lean': 1, 'leaped': 1, 'leaping': 1, 'leapt': 1, 'learn': 2, 'learning': 1, 'leave': 2, 'leaves': 2, 'led': 6, 'left': 1, 'leopards': 1, 'lest': 1, 'let': 7, 'lick': 2, 'licks': 1, 'lie': 2, 'lies': 1, 'life': 8, 'lifted': 1, 'light': 11, 'like': 35, 'lilly': 1, 'lillys': 2, 'lily': 5, 'limbs': 1, 'link': 1, 'lion': 5, 'lioness': 1, 'listning': 2, 'little': 45, 'liv': 1, 'live': 6, 'livelong': 2, 'lively': 1, 'lives': 2, 'll': 4, 'lo': 1, 'locked': 1, 'locks': 1, 'london': 2, 'lonely': 3, 'long': 1, 'look': 5, 'lookst': 1, 'loosed': 1, 'loss': 1, 'lost': 8, 'lot': 2, 'lotus': 1, 'loud': 1, 'louder': 1, 'love': 29, 'loved': 1, 'lovely': 4, 'loves': 3, 'loving': 1, 'lowly': 3, 'lurch': 1, 'luvah': 1, 'lyca': 9, 'made': 6, 'maid': 7, 'maiden': 4, 'make': 5, 'maker': 4, 'making': 2, 'man': 6, 'manacles': 1, 'mane': 3, 'manna': 1, 'many': 7, 'mark': 1, 'marks': 2, 'marriage': 1, 'mary': 1, 'mass': 1, 'matron': 1, 'may': 6, 'maze': 1, 'me': 34, 'mead': 1, 'meadows': 1, 'mean': 1, 'meanest': 1, 'meek': 2, 'meekin': 1, 'meekness': 1, 'meet': 3, 'mellowing': 1, 'melts': 1, 'men': 4, 'mercy': 8, 'merrily': 7, 'merry': 9, 'met': 1, 'methought': 1, 'metres': 1, 'midnight': 1, 'midst': 1, 'might': 2, 'mighty': 1, 'mild': 7, 'milk': 1, 'milked': 1, 'milky': 2, 'mind': 5, 'mine': 2, 'mire': 1, 'misery': 2, 'mistress': 1, 'mne': 1, 'moan': 3, 'moans': 3, 'modest': 4, 'mole': 1, 'moon': 2, 'moony': 1, 'more': 9, 'morn': 8, 'morning': 10, 'mortal': 4, 'most': 3, 'mother': 19, 'mothers': 2, 'motto': 1, 'mould': 1, 'mouth': 1, 'mouths': 1, 'move': 1, 'multitude': 1, 'multitudes': 2, 'music': 1, 'must': 3, 'mute': 1, 'mutual': 1, 'my': 83, 'mystery': 3, 'naked': 5, 'name': 5, 'narrow': 1, 'nature': 1, 'ne': 1, 'near': 6, 'neck': 2, 'ned': 1, 'need': 1, 'nest': 4, 'never': 17, 'new': 4, 'next': 1, 'nibbled': 1, 'nigh': 2, 'night': 28, 'nightingale': 1, 'nights': 1, 'ning': 1, 'nipped': 1, 'no': 18, 'noise': 2, 'none': 3, 'noonday': 1, 'nor': 15, 'northern': 1, 'nostril': 1, 'nostrils': 1, 'not': 37, 'note': 1, 'notes': 2, 'nothing': 2, 'nought': 1, 'nourish': 1, 'now': 7, 'numerous': 1, 'nuptial': 1, 'nurse': 2, 'nuts': 1, 'o': 26, 'oak': 1, 'of': 146, 'off': 1, 'offered': 1, 'oft': 1, 'oh': 11, 'oil': 2, 'old': 6, 'on': 44, 'ona': 1, 'once': 4, 'one': 4, 'ones': 3, 'only': 3, 'opened': 1, 'opening': 1, 'or': 21, 'others': 1, 'our': 22, 'ourselves': 1, 'out': 5, 'outstretched': 1, 'outworn': 1, 'over': 8, 'own': 4, 'page': 1, 'painted': 1, 'pair': 1, 'palace': 2, 'pale': 5, 'paleness': 1, 'parents': 4, 'parson': 1, 'parsons': 1, 'part': 2, 'parting': 1, 'partner': 1, 'pass': 2, 'passed': 1, 'past': 1, 'pathless': 1, 'paul': 1, 'peace': 9, 'peaceful': 1, 'pearly': 1, 'pebble': 2, 'pen': 1, 'pensive': 1, 'perches': 1, 'perfume': 1, 'perplex': 1, 'picks': 1, 'pined': 1, 'pipe': 4, 'piped': 2, 'piper': 2, 'piping': 3, 'pit': 2, 'piteous': 1, 'pity': 9, 'pitying': 5, 'place': 2, 'plagues': 1, 'plain': 1, 'plants': 1, 'play': 9, 'pleasant': 5, 'please': 2, 'plot': 1, 'plough': 1, 'plowman': 1, 'pluck': 1, 'poems': 1, 'pointed': 1, 'poison': 2, 'pole': 2, 'ponder': 2, 'poor': 4, 'porter': 1, 'possible': 1, 'pour': 2, 'pouring': 1, 'pours': 1, 'poverty': 2, 'praise': 2, 'pray': 3, 'prays': 2, 'preach': 1, 'present': 1, 'presse': 1, 'pretty': 8, 'prey': 3, 'pride': 1, 'priest': 2, 'priestly': 1, 'priests': 1, 'prime': 1, 'printer': 1, 'prisoned': 1, 'prophetic': 1, 'pull': 1, 'punish': 1, 'purify': 1, 'put': 2, 'puts': 1, 'quarrel': 1, 'queen': 5, 'quiet': 1, 'radiance': 1, 'rain': 1, 'rais': 1, 'raise': 1, 'raised': 1, 'raising': 1, 'raptures': 1, 'raven': 1, 're': 1, 'read': 2, 'reading': 1, 'ready': 2, 'reason': 2, 'receive': 2, 'reclind': 1, 'red': 1, 'reduced': 1, 'reed': 1, 'reflection': 1, 'regale': 1, 'rejoice': 3, 'rejoicing': 1, 'relief': 1, 'remains': 1, 'removed': 1, 'renew': 2, 'replied': 1, 'reply': 1, 'rest': 3, 'restless': 1, 'return': 4, 'revives': 1, 'rich': 1, 'ring': 1, 'rise': 4, 'risen': 1, 'rises': 1, 'rising': 4, 'river': 3, 'robin': 2, 'rod': 1, 'roof': 1, 'root': 1, 'roots': 2, 'rose': 9, 'rosy': 1, 'round': 9, 'rounds': 1, 'ruby': 1, 'ruddy': 2, 'run': 1, 'runs': 2, 'rural': 1, 'rush': 1, 'rushes': 1, 's': 48, 'said': 8, 'saild': 1, 'same': 1, 'sang': 2, 'sat': 4, 'saw': 7, 'say': 7, 'saying': 3, 'says': 1, 'scarce': 1, 'scarcely': 1, 'scatter': 1, 'scatters': 1, 'scene': 1, 'school': 1, 'schoolboy': 1, 'sea': 1, 'sealed': 1, 'search': 1, 'seat': 1, 'seated': 1, 'seats': 1, 'secresy': 1, 'secret': 2, 'secrets': 1, 'see': 16, 'seek': 6, 'seeketh': 2, 'seeking': 2, 'seemed': 1, 'seen': 6, 'sees': 2, 'seest': 1, 'seize': 1, 'seized': 1, 'self': 2, 'selfish': 4, 'senseless': 1, 'sentence': 1, 'seraphim': 1, 'set': 2, 'sets': 1, 'seven': 3, 'sexes': 2, 'shade': 6, 'shadows': 2, 'shady': 1, 'shakes': 1, 'shall': 19, 'shalt': 2, 'shame': 1, 'share': 1, 'shaved': 1, 'she': 15, 'sheep': 4, 'shepherd': 3, 'shewd': 1, 'shields': 1, 'shine': 6, 'shining': 3, 'shirt': 1, 'shook': 1, 'shore': 3, 'should': 6, 'shoulder': 1, 'shoulders': 1, 'shouted': 1, 'shower': 1, 'showring': 1, 'shriek': 2, 'shrine': 1, 'shrouded': 1, 'shut': 1, 'sick': 2, 'sickness': 1, 'sigh': 5, 'sighing': 1, 'sighs': 2, 'sight': 2, 'silence': 1, 'silent': 8, 'silver': 3, 'sinews': 1, 'sing': 11, 'singing': 1, 'sings': 1, 'sisters': 1, 'sit': 12, 'sits': 2, 'sittest': 1, 'sitting': 2, 'skies': 4, 'sky': 3, 'skylark': 2, 'sleep': 21, 'sleeping': 7, 'slender': 1, 'slept': 1, 'slumber': 1, 'slumbrous': 1, 'small': 7, 'smell': 1, 'smelling': 1, 'smells': 1, 'smild': 1, 'smile': 8, 'smiled': 2, 'smiles': 11, 'smiling': 1, 'snare': 1, 'snow': 4, 'so': 21, 'sobbing': 2, 'soft': 5, 'softest': 2, 'sold': 1, 'soldier': 1, 'some': 2, 'somebody': 1, 'son': 1, 'song': 10, 'songs': 7, 'soon': 5, 'soot': 2, 'sore': 1, 'sorrow': 10, 'sorrows': 2, 'sought': 3, 'soul': 2, 'souls': 2, 'sound': 2, 'southern': 2, 'sow': 1, 'sower': 1, 'space': 1, 'sparrow': 1, 'speak': 4, 'spears': 2, 'spend': 2, 'spirit': 2, 'spoil': 1, 'sport': 2, 'sports': 2, 'sprang': 1, 'spray': 1, 'spread': 1, 'spreads': 3, 'spring': 8, 'springing': 1, 'springs': 3, 'st': 3, 'stain': 2, 'stalked': 1, 'stand': 2, 'standing': 1, 'stands': 1, 'star': 1, 'starry': 3, 'stars': 1, 'started': 1, 'starved': 1, 'stays': 1, 'steed': 1, 'steeds': 1, 'steps': 1, 'still': 1, 'stole': 1, 'stony': 1, 'stood': 2, 'stord': 1, 'storm': 1, 'strangers': 1, 'stray': 1, 'strays': 1, 'stream': 2, 'streams': 1, 'street': 1, 'streets': 1, 'strength': 1, 'stripped': 2, 'striving': 1, 'stroke': 1, 'struggling': 1, 'stumble': 1, 'such': 6, 'sulk': 1, 'summer': 6, 'summers': 2, 'sun': 11, 'sunburnt': 1, 'sunflower': 3, 'sunned': 1, 'sunny': 2, 'surprise': 1, 'susan': 1, 'swaddling': 1, 'sweep': 1, 'sweeper': 3, 'sweepers': 1, 'sweet': 28, 'sweeter': 1, 'sweetest': 1, 'swell': 1, 'swift': 1, 'symmetry': 2, 'ta': 1, 'table': 1, 'taints': 1, 'take': 3, 'takes': 1, 'tames': 1, 'tangle': 1, 'tangled': 1, 'taught': 2, 'tear': 6, 'tears': 12, 'teazing': 1, 'tell': 6, 'ten': 1, 'tend': 1, 'tender': 9, 'tenfold': 1, 'tent': 3, 'terrific': 1, 'terror': 3, 'terrors': 1, 'terzah': 1, 'thames': 2, 'than': 1, 'thankfulness': 1, 'that': 39, 'the': 439, 'thee': 42, 'their': 34, 'thel': 16, 'them': 8, 'then': 30, 'there': 12, 'therefore': 2, 'these': 6, 'they': 44, 'thickest': 1, 'thine': 2, 'thing': 5, 'think': 4, 'thirst': 1, 'this': 16, 'thistles': 1, 'thorn': 2, 'thorns': 3, 'those': 1, 'thou': 35, 'though': 2, 'thought': 5, 'thoughtless': 2, 'thousand': 2, 'thousands': 2, 'threat': 2, 'threw': 1, 'thro': 2, 'throne': 2, 'through': 7, 'thrush': 1, 'thunderings': 1, 'thursday': 3, 'thus': 4, 'thy': 31, 'tiger': 5, 'tigers': 3, 'till': 15, 'time': 5, 'times': 1, 'tired': 4, 'tis': 1, 'to': 111, 'told': 5, 'tom': 6, 'tombstones': 1, 'tongue': 4, 'too': 3, 'took': 2, 'town': 1, 'trace': 1, 'traced': 1, 'transient': 1, 'travel': 1, 'traveller': 1, 'tree': 10, 'trees': 1, 'trembling': 6, 'trodden': 1, 'troubled': 1, 'truth': 1, 'turk': 1, 'turn': 2, 'turned': 2, 'turning': 1, 'turns': 1, 'twas': 1, 'twist': 1, 'twists': 1, 'two': 4, 'under': 4, 'underneath': 3, 'unhinderd': 1, 'united': 1, 'unknown': 1, 'unrest': 1, 'unseen': 2, 'up': 6, 'upon': 14, 'us': 5, 'use': 2, 'used': 2, 'usurous': 1, 'utter': 1, 'vagabond': 1, 'vain': 6, 'vale': 1, 'vales': 9, 'valley': 4, 'valleys': 4, 'vanish': 4, 'vapour': 1, 've': 1, 'veil': 1, 'veiled': 1, 'venerates': 1, 'verdant': 1, 'very': 3, 'view': 1, 'viewed': 2, 'virgin': 9, 'virgins': 1, 'virtues': 1, 'vision': 1, 'visit': 1, 'visited': 1, 'voice': 16, 'voiceless': 1, 'voices': 3, 'wailing': 1, 'waiting': 1, 'wake': 1, 'walk': 3, 'walked': 2, 'walketh': 1, 'walking': 3, 'walks': 1, 'walls': 1, 'wandered': 3, 'wanderer': 1, 'wanderers': 1, 'wandering': 1, 'wands': 1, 'want': 2, 'warbled': 1, 'warbling': 2, 'warm': 3, 'was': 30, 'wash': 1, 'washed': 1, 'waste': 1, 'wasted': 1, 'watching': 1, 'watchman': 1, 'water': 3, 'watered': 2, 'waters': 2, 'watery': 2, 'watry': 2, 'waves': 1, 'way': 2, 'ways': 4, 'we': 17, 'weak': 4, 'weakness': 2, 'weary': 5, 'weave': 2, 'weed': 1, 'weep': 24, 'weeping': 14, 'weigh': 1, 'welcome': 4, 'well': 3, 'went': 4, 'wept': 9, 'were': 10, 'west': 1, 'wet': 1, 'what': 26, 'whate': 1, 'when': 28, 'where': 27, 'which': 1, 'while': 14, 'whirlpool': 1, 'whisperings': 1, 'white': 12, 'who': 18, 'whose': 1, 'why': 15, 'wide': 1, 'wight': 1, 'wild': 9, 'wildered': 1, 'wiles': 1, 'wilful': 1, 'will': 3, 'william': 2, 'willm': 1, 'wilt': 3, 'wind': 3, 'winds': 1, 'wine': 1, 'wing': 2, 'wings': 3, 'winter': 5, 'wip': 1, 'wiped': 1, 'wiping': 2, 'wisdom': 1, 'wise': 1, 'wish': 2, 'wishes': 1, 'wit': 1, 'with': 66, 'within': 1, 'without': 2, 'witless': 1, 'woe': 9, 'woes': 1, 'wolly': 1, 'wolves': 1, 'wolvish': 1, 'woman': 1, 'women': 1, 'wondering': 1, 'woods': 1, 'wool': 1, 'word': 1, 'work': 3, 'world': 1, 'worlds': 1, 'worm': 10, 'worms': 3, 'worn': 3, 'would': 5, 'wrapped': 1, 'wrath': 4, 'wren': 1, 'writ': 1, 'write': 1, 'written': 1, 'wrote': 1, 'year': 5, 'yet': 5, 'you': 10, 'young': 1, 'youngest': 1, 'your': 11, 'youth': 8, 'youthful': 4, 'zeal': 1}\n",
      "  \n",
      "{'poems': 1, 'glee': 1, 'about': 1, 'drop': 1, 'same': 1, 'write': 1, 'pluck': 1, 'reed': 1, 'rural': 1, 'pen': 1, 'clear': 1, 'wrote': 1, 'stays': 1, 'ewes': 1, 'reply': 1, 'watching': 1, 'ring': 1, 'thrush': 1, 'bush': 1, 'louder': 1, 'cheerful': 1, 'john': 1, 'oak': 1, 'folk': 1, 'laps': 1, 'sisters': 1, 'darkening': 1, 'bid': 1, 'mead': 1, 'wolly': 1, 'himself': 1, 'bereaved': 1, 'lap': 1, 'pointed': 1, 'east': 1, 'trees': 1, 'comfort': 1, 'noonday': 1, 'space': 1, 'bodies': 1, 'sunburnt': 1, 'shady': 1, 'lean': 1, 'knee': 1, 'stroke': 1, 'sparrow': 1, 'swift': 1, 'arrow': 1, 'narrow': 1, 'young': 1, 'sold': 1, 'scarcely': 1, 'chimneys': 1, 'sweep': 1, 'dacre': 1, 'cried': 1, 'curled': 1, 'shaved': 1, 'hush': 1, 'spoil': 1, 'quiet': 1, 'sweepers': 1, 'dick': 1, 'joe': 1, 'ned': 1, 'jack': 1, 'locked': 1, 'key': 1, 'opened': 1, 'plain': 1, 'leaping': 1, 'run': 1, 'wash': 1, 'left': 1, 'behind': 1, 'good': 1, 'awoke': 1, 'got': 1, 'brushes': 1, 'duty': 1, 'need': 1, 'going': 1, 'fast': 1, 'wet': 1, 'mire': 1, 'vapour': 1, 'fen': 1, 'wandering': 1, 'appeared': 1, 'brought': 1, 'woods': 1, 'dimpling': 1, 'wit': 1, 'meadows': 1, 'lively': 1, 'grasshopper': 1, 'scene': 1, 'mary': 1, 'susan': 1, 'emily': 1, 'mouths': 1, 'painted': 1, 'table': 1, 'cherries': 1, 'nuts': 1, 'spread': 1, 'join': 1, 'chorus': 1, 'streams': 1, 'moony': 1, 'brows': 1, 'chase': 1, 'slumber': 1, 'sweeter': 1, 'creation': 1, 'slept': 1, 'trace': 1, 'heavenly': 1, 'beguiles': 1, 'virtues': 1, 'thankfulness': 1, 'heathen': 1, 'turk': 1, 'jew': 1, 'dwelling': 1, 'twas': 1, 'faces': 1, 'clean': 1, 'blue': 1, 'headed': 1, 'beadles': 1, 'wands': 1, 'dome': 1, 'paul': 1, 'multitude': 1, 'seemed': 1, 'town': 1, 'seated': 1, 'companies': 1, 'radiance': 1, 'raising': 1, 'mighty': 1, 'raise': 1, 'harmonious': 1, 'thunderings': 1, 'seats': 1, 'aged': 1, 'wise': 1, 'guardians': 1, 'lest': 1, 'west': 1, 'star': 1, 'farewell': 1, 'ta': 1, 'en': 1, 'nibbled': 1, 'move': 1, 'ceasing': 1, 'bud': 1, 'visit': 1, 'beast': 1, 'wolves': 1, 'thirst': 1, 'rush': 1, 'dreadful': 1, 'heedful': 1, 'worlds': 1, 'inherit': 1, 'cries': 1, 'meekness': 1, 'health': 1, 'sickness': 1, 'bleating': 1, 'graze': 1, 'washed': 1, 'guard': 1, 'flute': 1, 'mute': 1, 'nightingale': 1, 'lark': 1, 'full': 1, 'cock': 1, 'crow': 1, 'pull': 1, 'wool': 1, 'within': 1, 'everything': 1, 'still': 1, 'off': 1, 'appears': 1, 'leaped': 1, 'shouted': 1, 'laughed': 1, 'echoed': 1, 'emmet': 1, 'methought': 1, 'troubled': 1, 'wildered': 1, 'forlorn': 1, 'benighted': 1, 'travel': 1, 'tangle': 1, 'spray': 1, 'broke': 1, 'abroad': 1, 'dropped': 1, 'glow': 1, 'replied': 1, 'wailing': 1, 'wight': 1, 'watchman': 1, 'goes': 1, 'wanderer': 1, 'hie': 1, 'kind': 1, 'relief': 1, 'falling': 1, 'share': 1, 'groan': 1, 'wren': 1, 'woes': 1, 'next': 1, 'pouring': 1, 'present': 1, 'past': 1, 'whose': 1, 'word': 1, 'calling': 1, 'lapsed': 1, 'control': 1, 'rises': 1, 'slumbrous': 1, 'mass': 1, 'floor': 1, 'raised': 1, 'drear': 1, 'stony': 1, 'locks': 1, 'prisoned': 1, 'den': 1, 'hoar': 1, 're': 1, 'jealous': 1, 'chained': 1, 'virgins': 1, 'hide': 1, 'sower': 1, 'sow': 1, 'plowman': 1, 'plough': 1, 'freeze': 1, 'bane': 1, 'bondage': 1, 'hath': 1, 'trodden': 1, 'cattle': 1, 'brook': 1, 'warbled': 1, 'metres': 1, 'loss': 1, 'despite': 1, 'rich': 1, 'fruitful': 1, 'reduced': 1, 'usurous': 1, 'son': 1, 'bleak': 1, 'rain': 1, 'hunger': 1, 'appall': 1, 'futurity': 1, 'prophetic': 1, 'sentence': 1, 'become': 1, 'prime': 1, 'long': 1, 'hearing': 1, 'ache': 1, 'wake': 1, 'caverns': 1, 'kingly': 1, 'gambolled': 1, 'hallowed': 1, 'leopards': 1, 'bowed': 1, 'flame': 1, 'ruby': 1, 'lioness': 1, 'loosed': 1, 'slender': 1, 'conveyed': 1, 'deserts': 1, 'begone': 1, 'hoarse': 1, 'traced': 1, 'nights': 1, 'starved': 1, 'pathless': 1, 'fancied': 1, 'strays': 1, 'famished': 1, 'piteous': 1, 'unrest': 1, 'woman': 1, 'presse': 1, 'further': 1, 'arms': 1, 'sore': 1, 'couching': 1, 'turning': 1, 'stalked': 1, 'smelling': 1, 'allay': 1, 'licks': 1, 'stands': 1, 'surprise': 1, 'wondering': 1, 'behold': 1, 'shoulders': 1, 'flowed': 1, 'lies': 1, 'followed': 1, 'vision': 1, 'dell': 1, 'wolvish': 1, 'growl': 1, 'crying': 1, 'clothes': 1, 'injury': 1, 'king': 1, 'whisperings': 1, 'fresh': 1, 'turns': 1, 'wasted': 1, 'disguise': 1, 'invisible': 1, 'flies': 1, 'howling': 1, 'storm': 1, 'crimson': 1, 'brushed': 1, 'blind': 1, 'brush': 1, 'strength': 1, 'die': 1, 'dreamt': 1, 'mean': 1, 'witless': 1, 'ne': 1, 'wiped': 1, 'blushed': 1, 'rosy': 1, 'red': 1, 'dried': 1, 'ten': 1, 'shields': 1, 'hairs': 1, 'forest': 1, 'deeps': 1, 'burnt': 1, 'seize': 1, 'shoulder': 1, 'twist': 1, 'sinews': 1, 'beat': 1, 'hammer': 1, 'anvil': 1, 'grasp': 1, 'deadly': 1, 'terrors': 1, 'clasp': 1, 'stars': 1, 'threw': 1, 'forests': 1, 'offered': 1, 've': 1, 'passed': 1, 'tend': 1, 'countest': 1, 'steps': 1, 'traveller': 1, 'journey': 1, 'pined': 1, 'shrouded': 1, 'wishes': 1, 'puts': 1, 'ning': 1, 'laid': 1, 'bank': 1, 'rushes': 1, 'dank': 1, 'thistles': 1, 'waste': 1, 'compelled': 1, 'chaste': 1, 'built': 1, 'midst': 1, 'shut': 1, 'writ': 1, 'tombstones': 1, 'priests': 1, 'gowns': 1, 'rounds': 1, 'binding': 1, 'briars': 1, 'desires': 1, 'vagabond': 1, 'alehouse': 1, 'healthy': 1, 'parsons': 1, 'bladder': 1, 'swell': 1, 'ale': 1, 'regale': 1, 'stray': 1, 'parson': 1, 'preach': 1, 'dame': 1, 'lurch': 1, 'always': 1, 'bandy': 1, 'fasting': 1, 'birch': 1, 'rejoicing': 1, 'quarrel': 1, 'devil': 1, 'barrel': 1, 'apparel': 1, 'street': 1, 'mark': 1, 'ban': 1, 'manacles': 1, 'blackening': 1, 'appals': 1, 'hapless': 1, 'soldier': 1, 'blood': 1, 'walls': 1, 'midnight': 1, 'streets': 1, 'harlot': 1, 'curse': 1, 'blights': 1, 'plagues': 1, 'marriage': 1, 'hearse': 1, 'abstract': 1, 'somebody': 1, 'mutual': 1, 'brings': 1, 'increase': 1, 'knits': 1, 'snare': 1, 'baits': 1, 'humility': 1, 'takes': 1, 'root': 1, 'caterpillar': 1, 'bears': 1, 'fruit': 1, 'deceit': 1, 'eat': 1, 'raven': 1, 'thickest': 1, 'gods': 1, 'sea': 1, 'nature': 1, 'search': 1, 'grows': 1, 'groaned': 1, 'dangerous': 1, 'world': 1, 'leapt': 1, 'loud': 1, 'struggling': 1, 'striving': 1, 'against': 1, 'swaddling': 1, 'best': 1, 'sulk': 1, 'friend': 1, 'sunned': 1, 'deceitful': 1, 'wiles': 1, 'grew': 1, 'apple': 1, 'beheld': 1, 'stole': 1, 'veiled': 1, 'glad': 1, 'outstretched': 1, 'nought': 1, 'venerates': 1, 'possible': 1, 'greater': 1, 'than': 1, 'picks': 1, 'crumbs': 1, 'zeal': 1, 'seized': 1, 'coat': 1, 'admired': 1, 'priestly': 1, 'standing': 1, 'altar': 1, 'lo': 1, 'sets': 1, 'judge': 1, 'shirt': 1, 'albion': 1, 'reading': 1, 'indignant': 1, 'page': 1, 'former': 1, 'crime': 1, 'pair': 1, 'met': 1, 'just': 1, 'removed': 1, 'curtains': 1, 'afar': 1, 'strangers': 1, 'forgot': 1, 'agree': 1, 'waves': 1, 'wanderers': 1, 'loving': 1, 'limbs': 1, 'shook': 1, 'ona': 1, 'shakes': 1, 'hoary': 1, 'schoolboy': 1, 'singing': 1, 'huntsman': 1, 'winds': 1, 'sings': 1, 'company': 1, 'school': 1, 'drives': 1, 'outworn': 1, 'sighing': 1, 'times': 1, 'drooping': 1, 'anxious': 1, 'learning': 1, 'dreary': 1, 'shower': 1, 'cage': 1, 'annoy': 1, 'droop': 1, 'forget': 1, 'nipped': 1, 'plants': 1, 'springing': 1, 'gather': 1, 'griefs': 1, 'mellowing': 1, 'terzah': 1, 'whate': 1, 'birth': 1, 'consumed': 1, 'generation': 1, 'sprang': 1, 'shame': 1, 'pride': 1, 'changed': 1, 'mould': 1, 'false': 1, 'deceiving': 1, 'nostrils': 1, 'senseless': 1, 'betray': 1, 'jesus': 1, 'hither': 1, 'opening': 1, 'truth': 1, 'doubt': 1, 'disputes': 1, 'artful': 1, 'teazing': 1, 'folly': 1, 'endless': 1, 'maze': 1, 'tangled': 1, 'perplex': 1, 'stumble': 1, 'lead': 1, 'others': 1, 'appendix': 1, 'secresy': 1, 'fiery': 1, 'forge': 1, 'sealed': 1, 'hungry': 1, 'gorge': 1, 'note': 1, 'written': 1, 'engraved': 1, 'included': 1, 'motto': 1, 'eagle': 1, 'mole': 1, 'wisdom': 1, 'rod': 1, 'bowl': 1, 'author': 1, 'printer': 1, 'willm': 1, 'daughters': 1, 'mne': 1, 'seraphim': 1, 'youngest': 1, 'paleness': 1, 'adona': 1, 'lamentation': 1, 'falls': 1, 'lotus': 1, 'bow': 1, 'parting': 1, 'reflection': 1, 'glass': 1, 'doves': 1, 'transient': 1, 'music': 1, 'gently': 1, 'walketh': 1, 'lilly': 1, 'weed': 1, 'gilded': 1, 'butterfly': 1, 'scarce': 1, 'perches': 1, 'visited': 1, 'walks': 1, 'brooks': 1, 'manna': 1, 'melts': 1, 'fountains': 1, 'flourish': 1, 'mistress': 1, 'utter': 1, 'ceasd': 1, 'smild': 1, 'shrine': 1, 'peaceful': 1, 'giving': 1, 'those': 1, 'crave': 1, 'voiceless': 1, 'nourish': 1, 'smells': 1, 'garments': 1, 'crops': 1, 'sittest': 1, 'smiling': 1, 'meekin': 1, 'mouth': 1, 'contagious': 1, 'taints': 1, 'wine': 1, 'purify': 1, 'perfume': 1, 'which': 1, 'scatter': 1, 'blade': 1, 'revives': 1, 'milked': 1, 'cow': 1, 'tames': 1, 'steed': 1, 'faint': 1, 'kindled': 1, 'pearly': 1, 'glitters': 1, 'scatters': 1, 'humid': 1, 'descended': 1, 'numerous': 1, 'verdant': 1, 'ii': 1, 'complainest': 1, 'shewd': 1, 'emerg': 1, 'hovering': 1, 'glittering': 1, 'steeds': 1, 'luvah': 1, 'horses': 1, 'lookst': 1, 'fearest': 1, 'remains': 1, 'tenfold': 1, 'raptures': 1, 'weigh': 1, 'balmy': 1, 'court': 1, 'fair': 1, 'eyed': 1, 'kneels': 1, 'risen': 1, 'link': 1, 'band': 1, 'united': 1, 'bearing': 1, 'smell': 1, 'sweetest': 1, 'delights': 1, 'women': 1, 'liv': 1, 'reclind': 1, 'airy': 1, 'alone': 1, 'pensive': 1, 'arose': 1, 'saild': 1, 'partner': 1, 'vale': 1, 'iii': 1, 'astonish': 1, 'view': 1, 'wrapped': 1, 'rais': 1, 'exhald': 1, 'fondness': 1, 'fix': 1, 'ourselves': 1, 'seest': 1, 'meanest': 1, 'indeed': 1, 'pours': 1, 'binds': 1, 'nuptial': 1, 'says': 1, 'loved': 1, 'daughter': 1, 'wip': 1, 'veil': 1, 'alas': 1, 'punish': 1, 'evil': 1, 'wilful': 1, 'bruis': 1, 'milk': 1, 'complaind': 1, 'matron': 1, 'roof': 1, 'house': 1, 'tis': 1, 'iv': 1, 'terrific': 1, 'porter': 1, 'lifted': 1, 'northern': 1, 'bar': 1, 'secrets': 1, 'unknown': 1, 'couches': 1, 'fibrous': 1, 'infixes': 1, 'restless': 1, 'twists': 1, 'dolors': 1, 'lamentations': 1, 'waiting': 1, 'oft': 1, 'silence': 1, 'plot': 1, 'breathed': 1, 'closed': 1, 'destruction': 1, 'glistening': 1, 'eyelids': 1, 'stord': 1, 'arrows': 1, 'drawn': 1, 'fighting': 1, 'ambush': 1, 'gifts': 1, 'graces': 1, 'showring': 1, 'coined': 1, 'impress': 1, 'whirlpool': 1, 'fierce': 1, 'draw': 1, 'creations': 1, 'nostril': 1, 'wide': 1, 'inhaling': 1, 'affright': 1, 'curb': 1, 'curtain': 1, 'flesh': 1, 'started': 1, 'seat': 1, 'unhinderd': 1, 'william': 2, 'introduction': 2, 'piped': 2, 'cheer': 2, 'piper': 2, 'sang': 2, 'read': 2, 'sight': 2, 'stain': 2, 'lot': 2, 'praise': 2, 'nigh': 2, 'bells': 2, 'skylark': 2, 'sound': 2, 'sports': 2, 'sitting': 2, 'girls': 2, 'boys': 2, 'descend': 2, 'end': 2, 'mothers': 2, 'brothers': 2, 'ready': 2, 'sport': 2, 'stream': 2, 'clothing': 2, 'softest': 2, 'making': 2, 'called': 2, 'calls': 2, 'meek': 2, 'became': 2, 'southern': 2, 'soul': 2, 'english': 2, 'taught': 2, 'took': 2, 'beasts': 2, 'receive': 2, 'put': 2, 'learn': 2, 'souls': 2, 'stand': 2, 'leaves': 2, 'sees': 2, 'cradle': 2, 'robin': 2, 'sobbing': 2, 'died': 2, 'soot': 2, 'bare': 2, 'thousands': 2, 'coffins': 2, 'bags': 2, 'want': 2, 'though': 2, 'harm': 2, 'else': 2, 'flew': 2, 'runs': 2, 'hill': 2, 'laughs': 2, 'noise': 2, 'weave': 2, 'livelong': 2, 'beguile': 2, 'dovelike': 2, 'sighs': 2, 'thine': 2, 'smiled': 2, 'babe': 2, 'distress': 2, 'prays': 2, 'walked': 2, 'thames': 2, 'waters': 2, 'london': 2, 'hum': 2, 'multitudes': 2, 'beneath': 2, 'drive': 2, 'descending': 2, 'mine': 2, 'moon': 2, 'bower': 2, 'sits': 2, 'fields': 2, 'flocks': 2, 'angels': 2, 'unseen': 2, 'pour': 2, 'blessing': 2, 'without': 2, 'thoughtless': 2, 'caves': 2, 'been': 2, 'howl': 2, 'seeking': 2, 'spirit': 2, 'ruddy': 2, 'fold': 2, 'driven': 2, 'lie': 2, 'after': 2, 'here': 2, 'lick': 2, 'neck': 2, 'kiss': 2, 'nurse': 2, 'dews': 2, 'leave': 2, 'besides': 2, 'hills': 2, 'befall': 2, 'guarded': 2, 'way': 2, 'set': 2, 'beetle': 2, 'sorrows': 2, 'wiping': 2, 'becomes': 2, 'canst': 2, 'bard': 2, 'future': 2, 'ears': 2, 'might': 2, 'pole': 2, 'renew': 2, 'turn': 2, 'watery': 2, 'break': 2, 'answer': 2, 'darkness': 2, 'despair': 2, 'cruel': 2, 'buds': 2, 'grow': 2, 'heavy': 2, 'bones': 2, 'pebble': 2, 'seeketh': 2, 'please': 2, 'ease': 2, 'builds': 2, 'hell': 2, 'self': 2, 'bind': 2, 'babes': 2, 'misery': 2, 'fed': 2, 'poverty': 2, 'fall': 2, 'summers': 2, 'frowning': 2, 'close': 2, 'viewed': 2, 'asleep': 2, 'stood': 2, 'arm': 2, 'shadows': 2, 'shriek': 2, 'palace': 2, 'notes': 2, 'heath': 2, 'clothed': 2, 'dance': 2, 'priest': 2, 'sick': 2, 'secret': 2, 'some': 2, 'wing': 2, 'breath': 2, 'beguiled': 2, 'hid': 2, 'thousand': 2, 'spears': 2, 'frame': 2, 'fearful': 2, 'symmetry': 2, 'distant': 2, 'aspire': 2, 'furnace': 2, 'brain': 2, 'watered': 2, 'turned': 2, 'desire': 2, 'graves': 2, 'forth': 2, 'thorn': 2, 'threat': 2, 'horn': 2, 'chapel': 2, 'used': 2, 'gates': 2, 'shalt': 2, 'wish': 2, 'chartered': 2, 'marks': 2, 'weakness': 2, 'forged': 2, 'blasts': 2, 'foot': 2, 'dismal': 2, 'fiend': 2, 'bands': 2, 'poison': 2, 'angry': 2, 'reason': 2, 'stripped': 2, 'iron': 2, 'burned': 2, 'place': 2, 'age': 2, 'sunny': 2, 'kisses': 2, 'spend': 2, 'dismay': 2, 'hour': 2, 'fruits': 2, 'appear': 2, 'sexes': 2, 'part': 2, 'roots': 2, 'dead': 2, 'pit': 2, 'ask': 2, 'watry': 2, 'breathing': 2, 'complain': 2, 'milky': 2, 'honey': 2, 'throne': 2, 'answered': 2, 'thro': 2, 'bowd': 2, 'charge': 2, 'pass': 2, 'nothing': 2, 'warbling': 2, 'use': 2, 'great': 2, 'lives': 2, 'lillys': 2, 'leaf': 2, 'oil': 2, 'ponder': 2, 'therefore': 2, 'listning': 2, 'ear': 2, 'innocence': 3, 'experience': 3, 'piping': 3, 'again': 3, 'hollow': 3, 'water': 3, 'shepherd': 3, 'follow': 3, 'echoing': 3, 'joys': 3, 'ones': 3, 'rest': 3, 'gave': 3, 'rejoice': 3, 'bless': 3, 'underneath': 3, 'kissed': 3, 'began': 3, 'beams': 3, 'grove': 3, 'will': 3, 'saying': 3, 'tent': 3, 'silver': 3, 'chimney': 3, 'sweeper': 3, 'very': 3, 'back': 3, 'river': 3, 'clouds': 3, 'wind': 3, 'work': 3, 'warm': 3, 'walk': 3, 'found': 3, 'lonely': 3, 'dale': 3, 'sought': 3, 'dreams': 3, 'crown': 3, 'hover': 3, 'moans': 3, 'moan': 3, 'pray': 3, 'dear': 3, 'clime': 3, 'must': 3, 'dwell': 3, 'too': 3, 'thursday': 3, 'walking': 3, 'grey': 3, 'high': 3, 'flow': 3, 'hands': 3, 'cherish': 3, 'door': 3, 'covered': 3, 'keep': 3, 'any': 3, 'tigers': 3, 'prey': 3, 'most': 3, 'immortal': 3, 'mane': 3, 'sky': 3, 'voices': 3, 'well': 3, 'fades': 3, 'worn': 3, 'feel': 3, 'infants': 3, 'give': 3, 'destroy': 3, 'ancient': 3, 'starry': 3, 'fallen': 3, 'dewy': 3, 'wilt': 3, 'shore': 3, 'given': 3, 'jealousy': 3, 'blossoms': 3, 'chain': 3, 'bound': 3, 'clod': 3, 'meet': 3, 'only': 3, 'thorns': 3, 'grave': 3, 'seven': 3, 'wandered': 3, 'done': 3, 'wings': 3, 'burning': 3, 'sunflower': 3, 'blown': 3, 'loves': 3, 'cruelty': 3, 'spreads': 3, 'mystery': 3, 'foe': 3, 'terror': 3, 'take': 3, 'didst': 3, 'answerd': 3, 'lowly': 3, 'springs': 3, 'st': 3, 'shining': 3, 'worms': 3, 'none': 3, 'blake': 4, 'valleys': 4, 'pipe': 4, 'vanish': 4, 'sheep': 4, 'tongue': 4, 'hears': 4, 'innocent': 4, 'skies': 4, 'welcome': 4, 'under': 4, 'nest': 4, 'feed': 4, 'll': 4, 'rising': 4, 'gives': 4, 'men': 4, 'thus': 4, 'blossom': 4, 'bosom': 4, 'rise': 4, 'speak': 4, 'dew': 4, 'ever': 4, 'ha': 4, 'lovely': 4, 'once': 4, 'maker': 4, 'own': 4, 'return': 4, 'dress': 4, 'two': 4, 'snow': 4, 'poor': 4, 'new': 4, 'wrath': 4, 'beside': 4, 'think': 4, 'bird': 4, 'girl': 4, 'home': 4, 'days': 4, 'dream': 4, 'grief': 4, 'selfish': 4, 'eternal': 4, 'clay': 4, 'ways': 4, 'parents': 4, 'tired': 4, 'weak': 4, 'armed': 4, 'drink': 4, 'maiden': 4, 'fire': 4, 'dare': 4, 'went': 4, 'modest': 4, 'humble': 4, 'youthful': 4, 'find': 4, 'one': 4, 'helpless': 4, 'knew': 4, 'sat': 4, 'mortal': 4, 'valley': 4, 'har': 4, 'food': 4, 'enter': 4, 'pleasant': 5, 'laughing': 5, 'evening': 5, 'lambs': 5, 'call': 5, 'make': 5, 'around': 5, 'soon': 5, 'time': 5, 'weary': 5, 'dost': 5, 'name': 5, 'heat': 5, 'look': 5, 'bear': 5, 'out': 5, 'yet': 5, 'mind': 5, 'naked': 5, 'told': 5, 'pale': 5, 'soft': 5, 'has': 5, 'into': 5, 'flower': 5, 'feet': 5, 'each': 5, 'pitying': 5, 'lion': 5, 'year': 5, 'breast': 5, 'us': 5, 'sigh': 5, 'ground': 5, 'dread': 5, 'thing': 5, 'land': 5, 'winter': 5, 'desert': 5, 'fears': 5, 'because': 5, 'thought': 5, 'queen': 5, 'tiger': 5, 'eye': 5, 'lily': 5, 'beauty': 5, 'would': 5, 'fade': 5, 'gentle': 5, 'book': 6, 'may': 6, 'made': 6, 'filled': 6, 'seen': 6, 'old': 6, 'hair': 6, 'laugh': 6, 'such': 6, 'tell': 6, 'live': 6, 'these': 6, 'free': 6, 'shade': 6, 'seek': 6, 'near': 6, 'could': 6, 'tom': 6, 'cannot': 6, 'up': 6, 'shine': 6, 'led': 6, 'air': 6, 'divine': 6, 'man': 6, 'should': 6, 'gold': 6, 'gone': 6, 'tear': 6, 'both': 6, 'fled': 6, 'vain': 6, 'trembling': 6, 'summer': 6, 'church': 6, 'death': 6, 'art': 6, 'born': 6, 'songs': 7, 'saw': 7, 'at': 7, 'say': 7, 'many': 7, 'mild': 7, 'bore': 7, 'before': 7, 'cry': 7, 'sleeping': 7, 'had': 7, 'let': 7, 'dark': 7, 'cold': 7, 'through': 7, 'doth': 7, 'small': 7, 'now': 7, 'merrily': 7, 'fly': 7, 'grass': 7, 'itself': 7, 'garden': 7, 'maid': 7, 'ah': 7, 'said': 8, 'morn': 8, 'spring': 8, 'among': 8, 'youth': 8, 'life': 8, 'black': 8, 'golden': 8, 'pretty': 8, 'them': 8, 'lost': 8, 'form': 8, 'silent': 8, 'over': 8, 'smile': 8, 'image': 8, 'mercy': 8, 'bed': 8, 'go': 8, 'another': 8, 'do': 9, 'wild': 9, 'merry': 9, 'wept': 9, 'tender': 9, 'peace': 9, 'arise': 9, 'play': 9, 'more': 9, 'round': 9, 'vales': 9, 'angel': 9, 'flowers': 9, 'came': 9, 'rose': 9, 'deep': 9, 'hand': 9, 'eyes': 9, 'pity': 9, 'woe': 9, 'lyca': 9, 'virgin': 9, 'you': 10, 'song': 10, 'were': 10, 'tree': 10, 'morning': 10, 'earth': 10, 'sorrow': 10, 'lay': 10, 'heaven': 10, 'worm': 10, 'sing': 11, 'know': 11, 'sun': 11, 'birds': 11, 'god': 11, 'boy': 11, 'oh': 11, 'light': 11, 'come': 11, 'him': 11, 'your': 11, 'fear': 11, 'smiles': 11, 'heart': 11, 'sit': 12, 'white': 12, 'care': 12, 'there': 12, 'face': 12, 'did': 12, 'children': 12, 'tears': 12, 'heard': 12, 'holy': 13, 'while': 14, 'how': 14, 'delight': 14, 'upon': 14, 'head': 14, 'weeping': 14, 'its': 14, 'cloud': 15, 'lamb': 15, 'till': 15, 'bright': 15, 'she': 15, 'nor': 15, 'why': 15, 'this': 16, 'thel': 16, 'hear': 16, 'green': 16, 'er': 16, 'voice': 16, 'am': 16, 'as': 16, 'infant': 16, 'see': 16, 'human': 16, 'every': 17, 'we': 17, 'have': 17, 'if': 17, 'never': 17, 'child': 18, 'does': 18, 'no': 18, 'who': 18, 'happy': 19, 'shall': 19, 'day': 19, 'mother': 19, 'down': 20, 'so': 21, 'an': 21, 'sleep': 21, 'or': 21, 'd': 22, 'our': 22, 'father': 22, 'by': 24, 'away': 24, 'weep': 24, 'joy': 25, 'be': 25, 'are': 25, 'o': 26, 'what': 26, 'where': 27, 'sweet': 28, 'when': 28, 'night': 28, 'can': 29, 'love': 29, 'it': 29, 'then': 30, 'was': 30, 'thy': 31, 'from': 32, 'for': 32, 'me': 34, 'their': 34, 'her': 34, 'like': 35, 'thou': 35, 'not': 37, 'but': 38, 'that': 39, 'all': 39, 'thee': 42, 'on': 44, 'they': 44, 'little': 45, 's': 48, 'is': 52, 'he': 56, 'his': 57, 'with': 66, 'my': 83, 'to': 111, 'a': 128, 'i': 130, 'in': 141, 'of': 146, 'and': 348, 'the': 439}\n"
     ]
    }
   ],
   "source": [
    "\n",
    "\n",
    "\n",
    "\n",
    "\n",
    "# escriu el teu codi aquí\n",
    "\n",
    "#\"\"\"\n",
    "#PSEUDOCODIGO:\n",
    "#1- Leer todo el texto del fichero y guardarmelo en variable \"texto\".\n",
    "#2- Convertir todo el texto a minisculas, sustituir lo que no sean letras\n",
    "#por espacios (--> Iterar letra a letra y comprobar si es letra o no \n",
    "#usando el metodo isalpha(), y dividir texto por espacios.\n",
    "#3- Contar cuantas veces aparece cada palabra --> patron contador multiple\n",
    "#4- Ordenar alfabeticamente.\n",
    "\n",
    "\n",
    "#PARTES 1 y 2:\n",
    "#1- Para guardarme todo el texto en una variable, tendre que abrir el fichero, \n",
    "#y usar el metodo read().\n",
    "#2- Creo un string vacio para ir almacenando el texto limpio. texto_limpio = \"\"\n",
    "#3- Itero sobre cada caracter del texto y voy mirando caracter a caracrter si \n",
    "#forma parte del alfabeto.\n",
    "#--> Si forma parte del alfabeto, añado la letra al texto_limpio\n",
    "#--> Si no forma parte del alfabeto, añado un espacio al texto_limpio\n",
    "#4- Retorno el texto limpio\n",
    "#\"\"\"\n",
    "\n",
    "#PARTES 3 Y 4:\n",
    "#partimos de un string, ahora me interesan las palabras, para contar cuántas veces aparece cada una\n",
    "\n",
    "# 1 convertir el str a una lista de palabras\n",
    "    # dividir el str usando los espacios como separadores --> fc split\n",
    "        # esto devuelve lista con cada palabra\n",
    "\n",
    "# 2 creo diccionario vacio para contar palabras = {}\n",
    "    # si la palabra no es key, inicio contador contador_palabras[palabra] = 1\n",
    "    # si la palbra ya es key, sumo 1 \n",
    "\n",
    "# 3 itero sobre la lista, y para cada palabra\n",
    "\n",
    "# 4 ordenar alfabéticamente.\n",
    "    # convertir diccionario a lista y ordenar con sort(key=???)\n",
    "\n",
    "\n",
    "\n",
    "\n",
    "# Comptant paraules en blakepoems.txt.\n",
    "fp = open( \"../data/blakepoems.txt\")\n",
    "\n",
    "texto = fp.read().lower()\n",
    "texto_limpio = \"\"\n",
    "\n",
    "for caracter in texto:\n",
    "    if caracter.isalpha():\n",
    "        texto_limpio += caracter\n",
    "    else:\n",
    "        texto_limpio += \" \"\n",
    "\n",
    "fp.close()\n",
    "# print(texto_limpio)\n",
    "\n",
    "\n",
    "texto_separado = texto_limpio.split(\" \")\n",
    "\n",
    "lista_final = []\n",
    "for palabra in texto_separado:\n",
    "    if palabra != \"\" and palabra != \" \":\n",
    "        lista_final.append(palabra)\n",
    "\n",
    "dict_palabras = {}\n",
    "for palabra in lista_final:\n",
    "    if palabra not in dict_palabras:\n",
    "        dict_palabras[palabra] = 1\n",
    "    else:\n",
    "        dict_palabras[palabra] += 1\n",
    "\n",
    "#dict_palabras_ordenado = dict(sorted(key)(dict_palabras.items()))\n",
    "\n",
    "\n",
    "dict_ordenado = dict(sorted(dict_palabras.items(), key=lambda item: item[0]))\n",
    "dict_ordenado2 = dict(sorted(dict_palabras.items(), key=lambda item: item[1]))\n",
    "print(dict_ordenado)\n",
    "\n",
    "print(\"  \")\n",
    "    \n",
    "print(dict_ordenado2)"
   ]
  },
  {
   "cell_type": "code",
   "execution_count": 53,
   "metadata": {},
   "outputs": [
    {
     "name": "stdout",
     "output_type": "stream",
     "text": [
      "[('a', 128), ('about', 1), ('abroad', 1), ('abstract', 1), ('ache', 1), ('admired', 1), ('adona', 1), ('afar', 1), ('affright', 1), ('after', 2), ('again', 3), ('against', 1), ('age', 2), ('aged', 1), ('agree', 1), ('ah', 7), ('air', 6), ('airy', 1), ('alas', 1), ('albion', 1), ('ale', 1), ('alehouse', 1), ('all', 39), ('allay', 1), ('alone', 1), ('altar', 1), ('always', 1), ('am', 16), ('ambush', 1), ('among', 8), ('an', 21), ('ancient', 3), ('and', 348), ('angel', 9), ('angels', 2), ('angry', 2), ('annoy', 1), ('another', 8), ('answer', 2), ('answerd', 3), ('answered', 2), ('anvil', 1), ('anxious', 1), ('any', 3), ('appall', 1), ('appals', 1), ('apparel', 1), ('appear', 2), ('appeared', 1), ('appears', 1), ('appendix', 1), ('apple', 1), ('are', 25), ('arise', 9), ('arm', 2), ('armed', 4), ('arms', 1), ('arose', 1), ('around', 5), ('arrow', 1), ('arrows', 1), ('art', 6), ('artful', 1), ('as', 16), ('ask', 2), ('asleep', 2), ('aspire', 2), ('astonish', 1), ('at', 7), ('author', 1), ('away', 24), ('awoke', 1), ('babe', 2), ('babes', 2), ('back', 3), ('bags', 2), ('baits', 1), ('balmy', 1), ('ban', 1), ('band', 1), ('bands', 2), ('bandy', 1), ('bane', 1), ('bank', 1), ('bar', 1), ('bard', 2), ('bare', 2), ('barrel', 1), ('be', 25), ('beadles', 1), ('beams', 3), ('bear', 5), ('bearing', 1), ('bears', 1), ('beast', 1), ('beasts', 2), ('beat', 1), ('beauty', 5), ('became', 2), ('because', 5), ('become', 1), ('becomes', 2), ('bed', 8), ('been', 2), ('beetle', 2), ('befall', 2), ('before', 7), ('began', 3), ('begone', 1), ('beguile', 2), ('beguiled', 2), ('beguiles', 1), ('beheld', 1), ('behind', 1), ('behold', 1), ('bells', 2), ('beneath', 2), ('benighted', 1), ('bereaved', 1), ('beside', 4), ('besides', 2), ('best', 1), ('betray', 1), ('bid', 1), ('bind', 2), ('binding', 1), ('binds', 1), ('birch', 1), ('bird', 4), ('birds', 11), ('birth', 1), ('black', 8), ('blackening', 1), ('bladder', 1), ('blade', 1), ('blake', 4), ('blasts', 2), ('bleak', 1), ('bleating', 1), ('bless', 3), ('blessing', 2), ('blights', 1), ('blind', 1), ('blood', 1), ('blossom', 4), ('blossoms', 3), ('blown', 3), ('blue', 1), ('blushed', 1), ('bodies', 1), ('bondage', 1), ('bones', 2), ('book', 6), ('bore', 7), ('born', 6), ('bosom', 4), ('both', 6), ('bound', 3), ('bow', 1), ('bowd', 2), ('bowed', 1), ('bower', 2), ('bowl', 1), ('boy', 11), ('boys', 2), ('brain', 2), ('break', 2), ('breast', 5), ('breath', 2), ('breathed', 1), ('breathing', 2), ('briars', 1), ('bright', 15), ('brings', 1), ('broke', 1), ('brook', 1), ('brooks', 1), ('brothers', 2), ('brought', 1), ('brows', 1), ('bruis', 1), ('brush', 1), ('brushed', 1), ('brushes', 1), ('bud', 1), ('buds', 2), ('builds', 2), ('built', 1), ('burned', 2), ('burning', 3), ('burnt', 1), ('bush', 1), ('but', 38), ('butterfly', 1), ('by', 24), ('cage', 1), ('call', 5), ('called', 2), ('calling', 1), ('calls', 2), ('came', 9), ('can', 29), ('cannot', 6), ('canst', 2), ('care', 12), ('caterpillar', 1), ('cattle', 1), ('caverns', 1), ('caves', 2), ('ceasd', 1), ('ceasing', 1), ('chain', 3), ('chained', 1), ('changed', 1), ('chapel', 2), ('charge', 2), ('chartered', 2), ('chase', 1), ('chaste', 1), ('cheer', 2), ('cheerful', 1), ('cherish', 3), ('cherries', 1), ('child', 18), ('children', 12), ('chimney', 3), ('chimneys', 1), ('chorus', 1), ('church', 6), ('clasp', 1), ('clay', 4), ('clean', 1), ('clear', 1), ('clime', 3), ('clod', 3), ('close', 2), ('closed', 1), ('clothed', 2), ('clothes', 1), ('clothing', 2), ('cloud', 15), ('clouds', 3), ('coat', 1), ('cock', 1), ('coffins', 2), ('coined', 1), ('cold', 7), ('come', 11), ('comfort', 1), ('companies', 1), ('company', 1), ('compelled', 1), ('complain', 2), ('complaind', 1), ('complainest', 1), ('consumed', 1), ('contagious', 1), ('control', 1), ('conveyed', 1), ('couches', 1), ('couching', 1), ('could', 6), ('countest', 1), ('court', 1), ('covered', 3), ('cow', 1), ('cradle', 2), ('crave', 1), ('creation', 1), ('creations', 1), ('cried', 1), ('cries', 1), ('crime', 1), ('crimson', 1), ('crops', 1), ('crow', 1), ('crown', 3), ('cruel', 2), ('cruelty', 3), ('crumbs', 1), ('cry', 7), ('crying', 1), ('curb', 1), ('curled', 1), ('curse', 1), ('curtain', 1), ('curtains', 1), ('d', 22), ('dacre', 1), ('dale', 3), ('dame', 1), ('dance', 2), ('dangerous', 1), ('dank', 1), ('dare', 4), ('dark', 7), ('darkening', 1), ('darkness', 2), ('daughter', 1), ('daughters', 1), ('day', 19), ('days', 4), ('dead', 2), ('deadly', 1), ('dear', 3), ('death', 6), ('deceit', 1), ('deceitful', 1), ('deceiving', 1), ('deep', 9), ('deeps', 1), ('delight', 14), ('delights', 1), ('dell', 1), ('den', 1), ('descend', 2), ('descended', 1), ('descending', 2), ('desert', 5), ('deserts', 1), ('desire', 2), ('desires', 1), ('despair', 2), ('despite', 1), ('destroy', 3), ('destruction', 1), ('devil', 1), ('dew', 4), ('dews', 2), ('dewy', 3), ('dick', 1), ('did', 12), ('didst', 3), ('die', 1), ('died', 2), ('dimpling', 1), ('disguise', 1), ('dismal', 2), ('dismay', 2), ('disputes', 1), ('distant', 2), ('distress', 2), ('divine', 6), ('do', 9), ('does', 18), ('dolors', 1), ('dome', 1), ('done', 3), ('door', 3), ('dost', 5), ('doth', 7), ('doubt', 1), ('dovelike', 2), ('doves', 1), ('down', 20), ('draw', 1), ('drawn', 1), ('dread', 5), ('dreadful', 1), ('dream', 4), ('dreams', 3), ('dreamt', 1), ('drear', 1), ('dreary', 1), ('dress', 4), ('dried', 1), ('drink', 4), ('drive', 2), ('driven', 2), ('drives', 1), ('droop', 1), ('drooping', 1), ('drop', 1), ('dropped', 1), ('duty', 1), ('dwell', 3), ('dwelling', 1), ('each', 5), ('eagle', 1), ('ear', 2), ('ears', 2), ('earth', 10), ('ease', 2), ('east', 1), ('eat', 1), ('echoed', 1), ('echoing', 3), ('else', 2), ('emerg', 1), ('emily', 1), ('emmet', 1), ('en', 1), ('end', 2), ('endless', 1), ('english', 2), ('engraved', 1), ('enter', 4), ('er', 16), ('eternal', 4), ('evening', 5), ('ever', 4), ('every', 17), ('everything', 1), ('evil', 1), ('ewes', 1), ('exhald', 1), ('experience', 3), ('eye', 5), ('eyed', 1), ('eyelids', 1), ('eyes', 9), ('face', 12), ('faces', 1), ('fade', 5), ('fades', 3), ('faint', 1), ('fair', 1), ('fall', 2), ('fallen', 3), ('falling', 1), ('falls', 1), ('false', 1), ('famished', 1), ('fancied', 1), ('farewell', 1), ('fast', 1), ('fasting', 1), ('father', 22), ('fear', 11), ('fearest', 1), ('fearful', 2), ('fears', 5), ('fed', 2), ('feed', 4), ('feel', 3), ('feet', 5), ('fen', 1), ('fibrous', 1), ('fields', 2), ('fiend', 2), ('fierce', 1), ('fiery', 1), ('fighting', 1), ('filled', 6), ('find', 4), ('fire', 4), ('fix', 1), ('flame', 1), ('fled', 6), ('flesh', 1), ('flew', 2), ('flies', 1), ('flocks', 2), ('floor', 1), ('flourish', 1), ('flow', 3), ('flowed', 1), ('flower', 5), ('flowers', 9), ('flute', 1), ('fly', 7), ('foe', 3), ('fold', 2), ('folk', 1), ('follow', 3), ('followed', 1), ('folly', 1), ('fondness', 1), ('food', 4), ('foot', 2), ('for', 32), ('forest', 1), ('forests', 1), ('forge', 1), ('forged', 2), ('forget', 1), ('forgot', 1), ('forlorn', 1), ('form', 8), ('former', 1), ('forth', 2), ('found', 3), ('fountains', 1), ('frame', 2), ('free', 6), ('freeze', 1), ('fresh', 1), ('friend', 1), ('from', 32), ('frowning', 2), ('fruit', 1), ('fruitful', 1), ('fruits', 2), ('full', 1), ('furnace', 2), ('further', 1), ('future', 2), ('futurity', 1), ('gambolled', 1), ('garden', 7), ('garments', 1), ('gates', 2), ('gather', 1), ('gave', 3), ('generation', 1), ('gentle', 5), ('gently', 1), ('gifts', 1), ('gilded', 1), ('girl', 4), ('girls', 2), ('give', 3), ('given', 3), ('gives', 4), ('giving', 1), ('glad', 1), ('glass', 1), ('glee', 1), ('glistening', 1), ('glittering', 1), ('glitters', 1), ('glow', 1), ('go', 8), ('god', 11), ('gods', 1), ('goes', 1), ('going', 1), ('gold', 6), ('golden', 8), ('gone', 6), ('good', 1), ('gorge', 1), ('got', 1), ('gowns', 1), ('graces', 1), ('grasp', 1), ('grass', 7), ('grasshopper', 1), ('grave', 3), ('graves', 2), ('graze', 1), ('great', 2), ('greater', 1), ('green', 16), ('grew', 1), ('grey', 3), ('grief', 4), ('griefs', 1), ('groan', 1), ('groaned', 1), ('ground', 5), ('grove', 3), ('grow', 2), ('growl', 1), ('grows', 1), ('guard', 1), ('guarded', 2), ('guardians', 1), ('ha', 4), ('had', 7), ('hair', 6), ('hairs', 1), ('hallowed', 1), ('hammer', 1), ('hand', 9), ('hands', 3), ('hapless', 1), ('happy', 19), ('har', 4), ('harlot', 1), ('harm', 2), ('harmonious', 1), ('has', 5), ('hath', 1), ('have', 17), ('he', 56), ('head', 14), ('headed', 1), ('health', 1), ('healthy', 1), ('hear', 16), ('heard', 12), ('hearing', 1), ('hears', 4), ('hearse', 1), ('heart', 11), ('heat', 5), ('heath', 2), ('heathen', 1), ('heaven', 10), ('heavenly', 1), ('heavy', 2), ('heedful', 1), ('hell', 2), ('helpless', 4), ('her', 34), ('here', 2), ('hid', 2), ('hide', 1), ('hie', 1), ('high', 3), ('hill', 2), ('hills', 2), ('him', 11), ('himself', 1), ('his', 57), ('hither', 1), ('hoar', 1), ('hoarse', 1), ('hoary', 1), ('hollow', 3), ('holy', 13), ('home', 4), ('honey', 2), ('horn', 2), ('horses', 1), ('hour', 2), ('house', 1), ('hover', 3), ('hovering', 1), ('how', 14), ('howl', 2), ('howling', 1), ('hum', 2), ('human', 16), ('humble', 4), ('humid', 1), ('humility', 1), ('hunger', 1), ('hungry', 1), ('huntsman', 1), ('hush', 1), ('i', 130), ('if', 17), ('ii', 1), ('iii', 1), ('image', 8), ('immortal', 3), ('impress', 1), ('in', 141), ('included', 1), ('increase', 1), ('indeed', 1), ('indignant', 1), ('infant', 16), ('infants', 3), ('infixes', 1), ('inhaling', 1), ('inherit', 1), ('injury', 1), ('innocence', 3), ('innocent', 4), ('into', 5), ('introduction', 2), ('invisible', 1), ('iron', 2), ('is', 52), ('it', 29), ('its', 14), ('itself', 7), ('iv', 1), ('jack', 1), ('jealous', 1), ('jealousy', 3), ('jesus', 1), ('jew', 1), ('joe', 1), ('john', 1), ('join', 1), ('journey', 1), ('joy', 25), ('joys', 3), ('judge', 1), ('just', 1), ('keep', 3), ('key', 1), ('kind', 1), ('kindled', 1), ('king', 1), ('kingly', 1), ('kiss', 2), ('kissed', 3), ('kisses', 2), ('knee', 1), ('kneels', 1), ('knew', 4), ('knits', 1), ('know', 11), ('laid', 1), ('lamb', 15), ('lambs', 5), ('lamentation', 1), ('lamentations', 1), ('land', 5), ('lap', 1), ('laps', 1), ('lapsed', 1), ('lark', 1), ('laugh', 6), ('laughed', 1), ('laughing', 5), ('laughs', 2), ('lay', 10), ('lead', 1), ('leaf', 2), ('lean', 1), ('leaped', 1), ('leaping', 1), ('leapt', 1), ('learn', 2), ('learning', 1), ('leave', 2), ('leaves', 2), ('led', 6), ('left', 1), ('leopards', 1), ('lest', 1), ('let', 7), ('lick', 2), ('licks', 1), ('lie', 2), ('lies', 1), ('life', 8), ('lifted', 1), ('light', 11), ('like', 35), ('lilly', 1), ('lillys', 2), ('lily', 5), ('limbs', 1), ('link', 1), ('lion', 5), ('lioness', 1), ('listning', 2), ('little', 45), ('liv', 1), ('live', 6), ('livelong', 2), ('lively', 1), ('lives', 2), ('ll', 4), ('lo', 1), ('locked', 1), ('locks', 1), ('london', 2), ('lonely', 3), ('long', 1), ('look', 5), ('lookst', 1), ('loosed', 1), ('loss', 1), ('lost', 8), ('lot', 2), ('lotus', 1), ('loud', 1), ('louder', 1), ('love', 29), ('loved', 1), ('lovely', 4), ('loves', 3), ('loving', 1), ('lowly', 3), ('lurch', 1), ('luvah', 1), ('lyca', 9), ('made', 6), ('maid', 7), ('maiden', 4), ('make', 5), ('maker', 4), ('making', 2), ('man', 6), ('manacles', 1), ('mane', 3), ('manna', 1), ('many', 7), ('mark', 1), ('marks', 2), ('marriage', 1), ('mary', 1), ('mass', 1), ('matron', 1), ('may', 6), ('maze', 1), ('me', 34), ('mead', 1), ('meadows', 1), ('mean', 1), ('meanest', 1), ('meek', 2), ('meekin', 1), ('meekness', 1), ('meet', 3), ('mellowing', 1), ('melts', 1), ('men', 4), ('mercy', 8), ('merrily', 7), ('merry', 9), ('met', 1), ('methought', 1), ('metres', 1), ('midnight', 1), ('midst', 1), ('might', 2), ('mighty', 1), ('mild', 7), ('milk', 1), ('milked', 1), ('milky', 2), ('mind', 5), ('mine', 2), ('mire', 1), ('misery', 2), ('mistress', 1), ('mne', 1), ('moan', 3), ('moans', 3), ('modest', 4), ('mole', 1), ('moon', 2), ('moony', 1), ('more', 9), ('morn', 8), ('morning', 10), ('mortal', 4), ('most', 3), ('mother', 19), ('mothers', 2), ('motto', 1), ('mould', 1), ('mouth', 1), ('mouths', 1), ('move', 1), ('multitude', 1), ('multitudes', 2), ('music', 1), ('must', 3), ('mute', 1), ('mutual', 1), ('my', 83), ('mystery', 3), ('naked', 5), ('name', 5), ('narrow', 1), ('nature', 1), ('ne', 1), ('near', 6), ('neck', 2), ('ned', 1), ('need', 1), ('nest', 4), ('never', 17), ('new', 4), ('next', 1), ('nibbled', 1), ('nigh', 2), ('night', 28), ('nightingale', 1), ('nights', 1), ('ning', 1), ('nipped', 1), ('no', 18), ('noise', 2), ('none', 3), ('noonday', 1), ('nor', 15), ('northern', 1), ('nostril', 1), ('nostrils', 1), ('not', 37), ('note', 1), ('notes', 2), ('nothing', 2), ('nought', 1), ('nourish', 1), ('now', 7), ('numerous', 1), ('nuptial', 1), ('nurse', 2), ('nuts', 1), ('o', 26), ('oak', 1), ('of', 146), ('off', 1), ('offered', 1), ('oft', 1), ('oh', 11), ('oil', 2), ('old', 6), ('on', 44), ('ona', 1), ('once', 4), ('one', 4), ('ones', 3), ('only', 3), ('opened', 1), ('opening', 1), ('or', 21), ('others', 1), ('our', 22), ('ourselves', 1), ('out', 5), ('outstretched', 1), ('outworn', 1), ('over', 8), ('own', 4), ('page', 1), ('painted', 1), ('pair', 1), ('palace', 2), ('pale', 5), ('paleness', 1), ('parents', 4), ('parson', 1), ('parsons', 1), ('part', 2), ('parting', 1), ('partner', 1), ('pass', 2), ('passed', 1), ('past', 1), ('pathless', 1), ('paul', 1), ('peace', 9), ('peaceful', 1), ('pearly', 1), ('pebble', 2), ('pen', 1), ('pensive', 1), ('perches', 1), ('perfume', 1), ('perplex', 1), ('picks', 1), ('pined', 1), ('pipe', 4), ('piped', 2), ('piper', 2), ('piping', 3), ('pit', 2), ('piteous', 1), ('pity', 9), ('pitying', 5), ('place', 2), ('plagues', 1), ('plain', 1), ('plants', 1), ('play', 9), ('pleasant', 5), ('please', 2), ('plot', 1), ('plough', 1), ('plowman', 1), ('pluck', 1), ('poems', 1), ('pointed', 1), ('poison', 2), ('pole', 2), ('ponder', 2), ('poor', 4), ('porter', 1), ('possible', 1), ('pour', 2), ('pouring', 1), ('pours', 1), ('poverty', 2), ('praise', 2), ('pray', 3), ('prays', 2), ('preach', 1), ('present', 1), ('presse', 1), ('pretty', 8), ('prey', 3), ('pride', 1), ('priest', 2), ('priestly', 1), ('priests', 1), ('prime', 1), ('printer', 1), ('prisoned', 1), ('prophetic', 1), ('pull', 1), ('punish', 1), ('purify', 1), ('put', 2), ('puts', 1), ('quarrel', 1), ('queen', 5), ('quiet', 1), ('radiance', 1), ('rain', 1), ('rais', 1), ('raise', 1), ('raised', 1), ('raising', 1), ('raptures', 1), ('raven', 1), ('re', 1), ('read', 2), ('reading', 1), ('ready', 2), ('reason', 2), ('receive', 2), ('reclind', 1), ('red', 1), ('reduced', 1), ('reed', 1), ('reflection', 1), ('regale', 1), ('rejoice', 3), ('rejoicing', 1), ('relief', 1), ('remains', 1), ('removed', 1), ('renew', 2), ('replied', 1), ('reply', 1), ('rest', 3), ('restless', 1), ('return', 4), ('revives', 1), ('rich', 1), ('ring', 1), ('rise', 4), ('risen', 1), ('rises', 1), ('rising', 4), ('river', 3), ('robin', 2), ('rod', 1), ('roof', 1), ('root', 1), ('roots', 2), ('rose', 9), ('rosy', 1), ('round', 9), ('rounds', 1), ('ruby', 1), ('ruddy', 2), ('run', 1), ('runs', 2), ('rural', 1), ('rush', 1), ('rushes', 1), ('s', 48), ('said', 8), ('saild', 1), ('same', 1), ('sang', 2), ('sat', 4), ('saw', 7), ('say', 7), ('saying', 3), ('says', 1), ('scarce', 1), ('scarcely', 1), ('scatter', 1), ('scatters', 1), ('scene', 1), ('school', 1), ('schoolboy', 1), ('sea', 1), ('sealed', 1), ('search', 1), ('seat', 1), ('seated', 1), ('seats', 1), ('secresy', 1), ('secret', 2), ('secrets', 1), ('see', 16), ('seek', 6), ('seeketh', 2), ('seeking', 2), ('seemed', 1), ('seen', 6), ('sees', 2), ('seest', 1), ('seize', 1), ('seized', 1), ('self', 2), ('selfish', 4), ('senseless', 1), ('sentence', 1), ('seraphim', 1), ('set', 2), ('sets', 1), ('seven', 3), ('sexes', 2), ('shade', 6), ('shadows', 2), ('shady', 1), ('shakes', 1), ('shall', 19), ('shalt', 2), ('shame', 1), ('share', 1), ('shaved', 1), ('she', 15), ('sheep', 4), ('shepherd', 3), ('shewd', 1), ('shields', 1), ('shine', 6), ('shining', 3), ('shirt', 1), ('shook', 1), ('shore', 3), ('should', 6), ('shoulder', 1), ('shoulders', 1), ('shouted', 1), ('shower', 1), ('showring', 1), ('shriek', 2), ('shrine', 1), ('shrouded', 1), ('shut', 1), ('sick', 2), ('sickness', 1), ('sigh', 5), ('sighing', 1), ('sighs', 2), ('sight', 2), ('silence', 1), ('silent', 8), ('silver', 3), ('sinews', 1), ('sing', 11), ('singing', 1), ('sings', 1), ('sisters', 1), ('sit', 12), ('sits', 2), ('sittest', 1), ('sitting', 2), ('skies', 4), ('sky', 3), ('skylark', 2), ('sleep', 21), ('sleeping', 7), ('slender', 1), ('slept', 1), ('slumber', 1), ('slumbrous', 1), ('small', 7), ('smell', 1), ('smelling', 1), ('smells', 1), ('smild', 1), ('smile', 8), ('smiled', 2), ('smiles', 11), ('smiling', 1), ('snare', 1), ('snow', 4), ('so', 21), ('sobbing', 2), ('soft', 5), ('softest', 2), ('sold', 1), ('soldier', 1), ('some', 2), ('somebody', 1), ('son', 1), ('song', 10), ('songs', 7), ('soon', 5), ('soot', 2), ('sore', 1), ('sorrow', 10), ('sorrows', 2), ('sought', 3), ('soul', 2), ('souls', 2), ('sound', 2), ('southern', 2), ('sow', 1), ('sower', 1), ('space', 1), ('sparrow', 1), ('speak', 4), ('spears', 2), ('spend', 2), ('spirit', 2), ('spoil', 1), ('sport', 2), ('sports', 2), ('sprang', 1), ('spray', 1), ('spread', 1), ('spreads', 3), ('spring', 8), ('springing', 1), ('springs', 3), ('st', 3), ('stain', 2), ('stalked', 1), ('stand', 2), ('standing', 1), ('stands', 1), ('star', 1), ('starry', 3), ('stars', 1), ('started', 1), ('starved', 1), ('stays', 1), ('steed', 1), ('steeds', 1), ('steps', 1), ('still', 1), ('stole', 1), ('stony', 1), ('stood', 2), ('stord', 1), ('storm', 1), ('strangers', 1), ('stray', 1), ('strays', 1), ('stream', 2), ('streams', 1), ('street', 1), ('streets', 1), ('strength', 1), ('stripped', 2), ('striving', 1), ('stroke', 1), ('struggling', 1), ('stumble', 1), ('such', 6), ('sulk', 1), ('summer', 6), ('summers', 2), ('sun', 11), ('sunburnt', 1), ('sunflower', 3), ('sunned', 1), ('sunny', 2), ('surprise', 1), ('susan', 1), ('swaddling', 1), ('sweep', 1), ('sweeper', 3), ('sweepers', 1), ('sweet', 28), ('sweeter', 1), ('sweetest', 1), ('swell', 1), ('swift', 1), ('symmetry', 2), ('ta', 1), ('table', 1), ('taints', 1), ('take', 3), ('takes', 1), ('tames', 1), ('tangle', 1), ('tangled', 1), ('taught', 2), ('tear', 6), ('tears', 12), ('teazing', 1), ('tell', 6), ('ten', 1), ('tend', 1), ('tender', 9), ('tenfold', 1), ('tent', 3), ('terrific', 1), ('terror', 3), ('terrors', 1), ('terzah', 1), ('thames', 2), ('than', 1), ('thankfulness', 1), ('that', 39), ('the', 439), ('thee', 42), ('their', 34), ('thel', 16), ('them', 8), ('then', 30), ('there', 12), ('therefore', 2), ('these', 6), ('they', 44), ('thickest', 1), ('thine', 2), ('thing', 5), ('think', 4), ('thirst', 1), ('this', 16), ('thistles', 1), ('thorn', 2), ('thorns', 3), ('those', 1), ('thou', 35), ('though', 2), ('thought', 5), ('thoughtless', 2), ('thousand', 2), ('thousands', 2), ('threat', 2), ('threw', 1), ('thro', 2), ('throne', 2), ('through', 7), ('thrush', 1), ('thunderings', 1), ('thursday', 3), ('thus', 4), ('thy', 31), ('tiger', 5), ('tigers', 3), ('till', 15), ('time', 5), ('times', 1), ('tired', 4), ('tis', 1), ('to', 111), ('told', 5), ('tom', 6), ('tombstones', 1), ('tongue', 4), ('too', 3), ('took', 2), ('town', 1), ('trace', 1), ('traced', 1), ('transient', 1), ('travel', 1), ('traveller', 1), ('tree', 10), ('trees', 1), ('trembling', 6), ('trodden', 1), ('troubled', 1), ('truth', 1), ('turk', 1), ('turn', 2), ('turned', 2), ('turning', 1), ('turns', 1), ('twas', 1), ('twist', 1), ('twists', 1), ('two', 4), ('under', 4), ('underneath', 3), ('unhinderd', 1), ('united', 1), ('unknown', 1), ('unrest', 1), ('unseen', 2), ('up', 6), ('upon', 14), ('us', 5), ('use', 2), ('used', 2), ('usurous', 1), ('utter', 1), ('vagabond', 1), ('vain', 6), ('vale', 1), ('vales', 9), ('valley', 4), ('valleys', 4), ('vanish', 4), ('vapour', 1), ('ve', 1), ('veil', 1), ('veiled', 1), ('venerates', 1), ('verdant', 1), ('very', 3), ('view', 1), ('viewed', 2), ('virgin', 9), ('virgins', 1), ('virtues', 1), ('vision', 1), ('visit', 1), ('visited', 1), ('voice', 16), ('voiceless', 1), ('voices', 3), ('wailing', 1), ('waiting', 1), ('wake', 1), ('walk', 3), ('walked', 2), ('walketh', 1), ('walking', 3), ('walks', 1), ('walls', 1), ('wandered', 3), ('wanderer', 1), ('wanderers', 1), ('wandering', 1), ('wands', 1), ('want', 2), ('warbled', 1), ('warbling', 2), ('warm', 3), ('was', 30), ('wash', 1), ('washed', 1), ('waste', 1), ('wasted', 1), ('watching', 1), ('watchman', 1), ('water', 3), ('watered', 2), ('waters', 2), ('watery', 2), ('watry', 2), ('waves', 1), ('way', 2), ('ways', 4), ('we', 17), ('weak', 4), ('weakness', 2), ('weary', 5), ('weave', 2), ('weed', 1), ('weep', 24), ('weeping', 14), ('weigh', 1), ('welcome', 4), ('well', 3), ('went', 4), ('wept', 9), ('were', 10), ('west', 1), ('wet', 1), ('what', 26), ('whate', 1), ('when', 28), ('where', 27), ('which', 1), ('while', 14), ('whirlpool', 1), ('whisperings', 1), ('white', 12), ('who', 18), ('whose', 1), ('why', 15), ('wide', 1), ('wight', 1), ('wild', 9), ('wildered', 1), ('wiles', 1), ('wilful', 1), ('will', 3), ('william', 2), ('willm', 1), ('wilt', 3), ('wind', 3), ('winds', 1), ('wine', 1), ('wing', 2), ('wings', 3), ('winter', 5), ('wip', 1), ('wiped', 1), ('wiping', 2), ('wisdom', 1), ('wise', 1), ('wish', 2), ('wishes', 1), ('wit', 1), ('with', 66), ('within', 1), ('without', 2), ('witless', 1), ('woe', 9), ('woes', 1), ('wolly', 1), ('wolves', 1), ('wolvish', 1), ('woman', 1), ('women', 1), ('wondering', 1), ('woods', 1), ('wool', 1), ('word', 1), ('work', 3), ('world', 1), ('worlds', 1), ('worm', 10), ('worms', 3), ('worn', 3), ('would', 5), ('wrapped', 1), ('wrath', 4), ('wren', 1), ('writ', 1), ('write', 1), ('written', 1), ('wrote', 1), ('year', 5), ('yet', 5), ('you', 10), ('young', 1), ('youngest', 1), ('your', 11), ('youth', 8), ('youthful', 4), ('zeal', 1)]\n"
     ]
    }
   ],
   "source": [
    "# solución de FRAN\n",
    "#PARTE 1\n",
    "\n",
    "fp = open(\"../data/blakepoems.txt\")\n",
    "texto = fp.read()\n",
    "fp.close()\n",
    "\n",
    "#print(texto)\n",
    "\n",
    "def solo_letras(texto):\n",
    "    texto_limpio = \"\"\n",
    "    texto_min = texto.lower()\n",
    "    #print(texto_min)\n",
    "    for caracter in texto_min:\n",
    "        if caracter.isalpha():\n",
    "            texto_limpio += caracter\n",
    "        else:\n",
    "            texto_limpio += \" \"\n",
    "\n",
    "    return texto_limpio\n",
    "\n",
    "#texto_limpio = solo_letras(texto)\n",
    "\n",
    "def contar_palabras(texto):\n",
    "    contador_palabras = {}\n",
    "    for palabra in texto.split():\n",
    "        if palabra not in contador_palabras:\n",
    "            contador_palabras [palabra] = 1\n",
    "        else:\n",
    "            contador_palabras [palabra] += 1\n",
    "    return contador_palabras\n",
    "\n",
    "contador_palabras = contar_palabras(texto_limpio)\n",
    "\n",
    "contador_palabras_tupla = list(contador_palabras.items())\n",
    "contador_palabras_tupla.sort()\n",
    "print(contador_palabras_tupla)"
   ]
  },
  {
   "cell_type": "markdown",
   "metadata": {
    "id": "zrgf4ZKEELKz"
   },
   "source": [
    "### Ejercicio 6"
   ]
  },
  {
   "cell_type": "markdown",
   "metadata": {
    "id": "v7gt8lWxELKz"
   },
   "source": [
    "Haz lo mismo que hiciste en el ejercicio anterior, pero ahora procesa el texto línea por línea. Esto es algo que deberías hacer si tuvieras que procesar un texto muy largo (como es el caso)."
   ]
  },
  {
   "cell_type": "code",
   "execution_count": null,
   "metadata": {
    "id": "WyeJZtTaELKz"
   },
   "outputs": [],
   "source": [
    "# Contando palabras línea por línea.\n",
    "\n",
    "# escribe tu código aquí"
   ]
  },
  {
   "cell_type": "markdown",
   "metadata": {
    "id": "3Pnfar4PELK0"
   },
   "source": [
    "### Ejercicio 7 (Opcional)"
   ]
  },
  {
   "cell_type": "markdown",
   "metadata": {
    "id": "JBNmwA9tELK0"
   },
   "source": [
    "En este directorio encontrarás un archivo `blakepoems.txt`. Escribe un programa que procese el contenido de este archivo, línea por línea. Crea un archivo de salida en el directorio de trabajo actual llamado `blkpms.txt`, que tenga el mismo contenido que `blakepoems.txt`, excepto que se eliminen todas las vocales (sin distinguir entre mayúsculas y minúsculas). Al final, muestra cuántos caracteres has leído y cuántos caracteres has escrito. Si deseas comprobar el contenido de `blkpms.txt`, puedes abrirlo en un editor de texto o mostrar las primeras 10 líneas al final de tu programa."
   ]
  },
  {
   "cell_type": "code",
   "execution_count": null,
   "metadata": {
    "id": "gH15kpuAELK0"
   },
   "outputs": [],
   "source": [
    "# Eliminando vocales.\n",
    "\n",
    "# escribe tu código aquí"
   ]
  },
  {
   "cell_type": "markdown",
   "metadata": {
    "id": "ubZWW0zpELK0"
   },
   "source": [
    "---"
   ]
  }
 ],
 "metadata": {
  "colab": {
   "collapsed_sections": [],
   "name": "TODO_Text Files.ipynb",
   "provenance": []
  },
  "kernelspec": {
   "display_name": "Python 3 (ipykernel)",
   "language": "python",
   "name": "python3"
  },
  "language_info": {
   "codemirror_mode": {
    "name": "ipython",
    "version": 3
   },
   "file_extension": ".py",
   "mimetype": "text/x-python",
   "name": "python",
   "nbconvert_exporter": "python",
   "pygments_lexer": "ipython3",
   "version": "3.11.10"
  },
  "vscode": {
   "interpreter": {
    "hash": "75dac0dbd405a8394808c62e8a1270731cc80cc33b4d24dc0a2a1e00cd8c1002"
   }
  }
 },
 "nbformat": 4,
 "nbformat_minor": 4
}
