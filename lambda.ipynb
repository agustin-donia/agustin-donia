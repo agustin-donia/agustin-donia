{
 "cells": [
  {
   "cell_type": "markdown",
   "metadata": {},
   "source": [
    "<h2> Lambda</h2>"
   ]
  },
  {
   "cell_type": "code",
   "execution_count": 4,
   "metadata": {},
   "outputs": [],
   "source": [
    "from typing import Any\n",
    "from typing import Dict\n",
    "from typing import List\n",
    "from typing import Tuple"
   ]
  },
  {
   "cell_type": "markdown",
   "metadata": {
    "tags": []
   },
   "source": [
    "#### Lista de ventas\n",
    "\n",
    "Tenemos a continuación una lista de registros de ventas, donde cada registro es un diccionario que contiene el nombre del producto, la cantidad vendida y el precio por unidad."
   ]
  },
  {
   "cell_type": "code",
   "execution_count": 5,
   "metadata": {},
   "outputs": [],
   "source": [
    "sales = [\n",
    "    {'product': 'apple', 'quantity': 10, 'price': 1.2},\n",
    "    {'product': 'banana', 'quantity': 5, 'price': 0.5},\n",
    "    {'product': 'cherry', 'quantity': 20, 'price': 3},\n",
    "    {'product': 'apple', 'quantity': 6, 'price': 1.2},\n",
    "    {'product': 'banana', 'quantity': 10, 'price': 0.5},\n",
    "    {'product': 'cherry', 'quantity': 5, 'price': 3}\n",
    "]"
   ]
  },
  {
   "cell_type": "markdown",
   "metadata": {},
   "source": [
    "#### 1 - Ingresos\n",
    "\n",
    "Define una función que calcule el ingreso total de cada producto y devuelva una lista de tuplas con el nombre del producto y su ingreso total. A continuación, usa `sorted` y `lambda` para ordenar la lista de menor a mayor ingreso."
   ]
  },
  {
   "cell_type": "code",
   "execution_count": 21,
   "metadata": {},
   "outputs": [
    {
     "name": "stdout",
     "output_type": "stream",
     "text": [
      "[('apple', 19.2), ('banana', 7.5), ('cherry', 75)]\n"
     ]
    }
   ],
   "source": [
    "# escribe tu código aquí\n",
    "sales = [\n",
    "    {'product': 'apple', 'quantity': 10, 'price': 1.2},\n",
    "    {'product': 'banana', 'quantity': 5, 'price': 0.5},\n",
    "    {'product': 'cherry', 'quantity': 20, 'price': 3},\n",
    "    {'product': 'apple', 'quantity': 6, 'price': 1.2},\n",
    "    {'product': 'banana', 'quantity': 10, 'price': 0.5},\n",
    "    {'product': 'cherry', 'quantity': 5, 'price': 3}\n",
    "]\n",
    "\n",
    "def calcular_ingreso(ventas):\n",
    "  lista_productos = []\n",
    "  lista_apple_ingreso = []\n",
    "  lista_banana_ingreso = []\n",
    "  lista_cherry_ingreso = []\n",
    "  for producto in ventas:\n",
    "    if producto[\"product\"] == \"apple\":\n",
    "      lista_apple_ingreso.append(producto[\"quantity\"] * producto[\"price\"])\n",
    "    elif producto[\"product\"] == \"banana\":\n",
    "      lista_banana_ingreso.append(producto[\"quantity\"] * producto[\"price\"])\n",
    "    elif producto[\"product\"] == \"cherry\":\n",
    "      lista_cherry_ingreso.append(producto[\"quantity\"] * producto[\"price\"])\n",
    "  lista_productos.append((\"apple\",sum(lista_apple_ingreso)))   \n",
    "  lista_productos.append((\"banana\",sum(lista_banana_ingreso)))\n",
    "  lista_productos.append((\"cherry\",sum(lista_cherry_ingreso)))\n",
    "  return lista_productos\n",
    "\n",
    "print(calcular_ingreso(sales))\n",
    "\n",
    "\n",
    "            \n",
    "        "
   ]
  },
  {
   "cell_type": "code",
   "execution_count": 23,
   "metadata": {},
   "outputs": [
    {
     "data": {
      "text/plain": [
       "[('banana', 7.5), ('apple', 19.2), ('cherry', 75)]"
      ]
     },
     "execution_count": 23,
     "metadata": {},
     "output_type": "execute_result"
    }
   ],
   "source": [
    "#solución de Fran\n",
    "sales = [\n",
    "    {'product': 'apple', 'quantity': 10, 'price': 1.2},\n",
    "    {'product': 'banana', 'quantity': 5, 'price': 0.5},\n",
    "    {'product': 'cherry', 'quantity': 20, 'price': 3},\n",
    "    {'product': 'apple', 'quantity': 6, 'price': 1.2},\n",
    "    {'product': 'banana', 'quantity': 10, 'price': 0.5},\n",
    "    {'product': 'cherry', 'quantity': 5, 'price': 3}\n",
    "]\n",
    "\n",
    "def compute_total_income(sales):\n",
    "    total_income = {} # El objetivo es ir llenando esto con {\"nombre_producto\": ingresos}\n",
    "    for sale in sales:\n",
    "        sale_product = sale[\"product\"]                 # Me estoy guardando el nombre del producto (\"Apple\", \" Banana\" o \"Cherry\")\n",
    "        sale_income = sale[\"quantity\"] * sale[\"price\"] # El precio de la venta = Cantidad de unidades * Precio por unidad\n",
    "        if sale_product in total_income.keys():        #Compruebo si ya me he encontrado una venta antes de sale_product\n",
    "            total_income[sale_product] = total_income[sale_product] + sale_income # Si lo encuentro, lo añado al contador\n",
    "        else:\n",
    "            total_income[sale_product] = sale_income   # Si no he encontrado la palabra clave, tengo que crearla e inicializarla. \n",
    "    tuple_list =  total_income.items()\n",
    "    return sorted(tuple_list, key=lambda element: element[1])\n",
    "\n",
    "compute_total_income(sales)"
   ]
  },
  {
   "cell_type": "code",
   "execution_count": 26,
   "metadata": {},
   "outputs": [
    {
     "name": "stdout",
     "output_type": "stream",
     "text": [
      "[('banana', 7.5), ('apple', 19.2), ('cherry', 75)]\n"
     ]
    }
   ],
   "source": [
    "# otra forma, la nuestra incompleta \n",
    "\n",
    "\n",
    "def calcular_ingreso(ventas):\n",
    "  lista_productos = []\n",
    "  lista_apple_ingreso = []\n",
    "  lista_banana_ingreso = []\n",
    "  lista_cherry_ingreso = []\n",
    "  for producto in ventas:\n",
    "    if producto[\"product\"] == \"apple\":\n",
    "      lista_apple_ingreso.append(producto[\"quantity\"] * producto[\"price\"])\n",
    "    elif producto[\"product\"] == \"banana\":\n",
    "      lista_banana_ingreso.append(producto[\"quantity\"] * producto[\"price\"])\n",
    "    elif producto[\"product\"] == \"cherry\":\n",
    "      lista_cherry_ingreso.append(producto[\"quantity\"] * producto[\"price\"])\n",
    "  lista_productos.append((\"apple\",sum(lista_apple_ingreso)))   \n",
    "  lista_productos.append((\"banana\",sum(lista_banana_ingreso)))\n",
    "  lista_productos.append((\"cherry\",sum(lista_cherry_ingreso)))\n",
    "  return sorted(lista_productos, key=lambda tupla_de_tuple_list: tupla_de_tuple_list[1])\n",
    "\n",
    "print(calcular_ingreso(sales))\n",
    "\n"
   ]
  },
  {
   "cell_type": "code",
   "execution_count": null,
   "metadata": {},
   "outputs": [],
   "source": []
  },
  {
   "cell_type": "markdown",
   "metadata": {},
   "source": [
    "#### 2 - Producto más caro\n",
    "\n",
    "Escribe una función que encuentre el producto más caro y devuelva una tupla con el nombre y el precio. Usa `lambda` para encontrar ese producto. A continuación, imprime el siguiente mensaje:\n",
    "\n",
    "```python\n",
    "'The most expensive product is ' + product + ' and costs ' + str(price) + '€'\n",
    "```"
   ]
  },
  {
   "cell_type": "code",
   "execution_count": 5,
   "metadata": {},
   "outputs": [],
   "source": [
    "sales = [\n",
    "    {'product': 'apple', 'quantity': 10, 'price': 1.2},\n",
    "    {'product': 'banana', 'quantity': 5, 'price': 0.5},\n",
    "    {'product': 'cherry', 'quantity': 20, 'price': 3},\n",
    "    {'product': 'apple', 'quantity': 6, 'price': 1.2},\n",
    "    {'product': 'banana', 'quantity': 10, 'price': 0.5},\n",
    "    {'product': 'cherry', 'quantity': 5, 'price': 3}\n",
    "]\n",
    "\n",
    "# usamos la función max(key = funcion_de_transformación\n",
    "\n",
    "# 'The most expensive product is ' + product + ' and costs ' + str(price) + '€'\n",
    "\n",
    "# forma clásica\n",
    "# 1 definir precio máximo = - 9999; producto_precio_max = None\n",
    "# 2 iterar sobre la lista de ventas\n",
    "#    2.1 comprobar si precio > precio_max\n",
    "#    2.2. si es mayor, sustituyo"
   ]
  },
  {
   "cell_type": "code",
   "execution_count": 8,
   "metadata": {},
   "outputs": [
    {
     "name": "stdout",
     "output_type": "stream",
     "text": [
      "('cherry', 3)\n",
      "('cherry', 60)\n",
      "The most expensive product is cherry and costs 3€\n"
     ]
    }
   ],
   "source": [
    "#ejercicio 2\n",
    "producto_mas_caro = max(sales, key = lambda total: total[\"quantity\"] * total[\"price\"] )\n",
    "#imprime solo precio\n",
    "print((producto_mas_caro[\"product\"],producto_mas_caro[\"price\"]))\n",
    "#imprime ingreso\n",
    "print((producto_mas_caro[\"product\"],producto_mas_caro[\"quantity\"]*producto_mas_caro[\"price\"]))\n",
    "\n",
    "#esta es la solución que pide el problema\n",
    "print('The most expensive product is ' + producto_mas_caro[\"product\"] + ' and costs ' + str(producto_mas_caro[\"price\"]) + '€')"
   ]
  },
  {
   "cell_type": "code",
   "execution_count": 6,
   "metadata": {},
   "outputs": [
    {
     "name": "stdout",
     "output_type": "stream",
     "text": [
      "The most expensive product is cherry and costs 3€\n"
     ]
    }
   ],
   "source": [
    "def obtener_producto_mas_caro():\n",
    "  producto_mas_caro = max(sales, key = lambda total: total[\"quantity\"] * total[\"price\"] )\n",
    "  return (producto_mas_caro[\"product\"],producto_mas_caro[\"price\"])\n",
    "\n",
    "producto, price = obtener_producto_mas_caro() \n",
    "print('The most expensive product is ' + producto + ' and costs ' + str(price) + '€')\n",
    "\n",
    "\n"
   ]
  },
  {
   "cell_type": "markdown",
   "metadata": {},
   "source": [
    "#### 3 - Producto más barato\n",
    "\n",
    "Escribe una función que calcule el valor total de todas las compras del producto más barato. Usa `lambda` para encontrar este valor."
   ]
  },
  {
   "cell_type": "code",
   "execution_count": 7,
   "metadata": {},
   "outputs": [
    {
     "name": "stdout",
     "output_type": "stream",
     "text": [
      "7.5\n"
     ]
    }
   ],
   "source": [
    "#Ejercicio 3\n",
    "def total_compras_producto_mas_barato():\n",
    "  producto_mas_barato = min(sales, key = lambda total: total[\"quantity\"] * total[\"price\"])\n",
    "  total = 0\n",
    "  for producto in sales:\n",
    "    if producto[\"product\"] == producto_mas_barato[\"product\"]:\n",
    "      total+= producto[\"quantity\"] * producto[\"price\"]\n",
    "  return total\n",
    "\n",
    "print(total_compras_producto_mas_barato())"
   ]
  },
  {
   "cell_type": "markdown",
   "metadata": {},
   "source": [
    "#### Bibliotecas\n",
    "\n",
    "A continuación tienes un archivo de datos que representa información sobre una biblioteca, incluyendo libros, autores y préstamos."
   ]
  },
  {
   "cell_type": "code",
   "execution_count": 2,
   "metadata": {},
   "outputs": [],
   "source": [
    "biblioteca = {\n",
    "    \"libros\": {\n",
    "        \"001\": {\"titulo\": \"Cien años de soledad\", \"autor\": \"Gabriel García Márquez\", \"año\": 1967},\n",
    "        \"002\": {\"titulo\": \"1984\", \"autor\": \"George Orwell\", \"año\": 1949},\n",
    "        \"003\": {\"titulo\": \"La Odisea\", \"autor\": \"Homero\", \"año\": -800},\n",
    "        \"004\": {\"titulo\": \"El principito\", \"autor\": \"Antoine de Saint-Exupéry\", \"año\": 1943},\n",
    "        \"005\": {\"titulo\": \"Memoria de mis putas tristes\", \"autor\": \"Gabriel García Márquez\", \"año\": 2004}\n",
    "    },\n",
    "    \"autores\": {\n",
    "        \"Gabriel García Márquez\": {\"nacionalidad\": \"Colombiana\", \"nacimiento\": 1927, \"defuncion\": 2014},\n",
    "        \"George Orwell\": {\"nacionalidad\": \"Británica\", \"nacimiento\": 1903, \"defuncion\": 1950},\n",
    "        \"Homero\": {\"nacionalidad\": \"Griega\", \"nacimiento\": -800, \"defuncion\": -700},\n",
    "        \"Antoine de Saint-Exupéry\": {\"nacionalidad\": \"Francesa\", \"nacimiento\": 1900, \"defuncion\": 1944}\n",
    "    },\n",
    "    \"prestamos\": [\n",
    "        {\"id_libro\": \"001\", \"usuario\": \"Juan Perez\", \"fecha\": \"2023-03-01\"},\n",
    "        {\"id_libro\": \"002\", \"usuario\": \"Ana María\", \"fecha\": \"2023-03-05\"},\n",
    "        {\"id_libro\": \"003\", \"usuario\": \"Luis Rodriguez\", \"fecha\": \"2023-02-20\"},\n",
    "        {\"id_libro\": \"003\", \"usuario\": \"Carlos Mejia\", \"fecha\": \"2023-03-15\"},\n",
    "        {\"id_libro\": \"004\", \"usuario\": \"Carmen Sosa\", \"fecha\": \"2023-03-01\"},\n",
    "        {\"id_libro\": \"005\", \"usuario\": \"Carmen Sosa\", \"fecha\": \"2023-03-01\"}\n",
    "    ]\n",
    "}"
   ]
  },
  {
   "cell_type": "markdown",
   "metadata": {},
   "source": [
    "#### 4 - Libro más antiguo\n",
    "\n",
    "Usando `lambda`, escribe una función que encuentre el libro más antiguo de la biblioteca."
   ]
  },
  {
   "cell_type": "code",
   "execution_count": 3,
   "metadata": {},
   "outputs": [
    {
     "ename": "NameError",
     "evalue": "name 'libro' is not defined",
     "output_type": "error",
     "traceback": [
      "\u001b[0;31m---------------------------------------------------------------------------\u001b[0m",
      "\u001b[0;31mNameError\u001b[0m                                 Traceback (most recent call last)",
      "Cell \u001b[0;32mIn[3], line 15\u001b[0m\n\u001b[1;32m     11\u001b[0m   \u001b[38;5;28;01mreturn\u001b[39;00m  año_mas_antiguo, libro_mas_antiguo \n\u001b[1;32m     13\u001b[0m \u001b[38;5;66;03m#año, libro = libro_mas_antiguo()\u001b[39;00m\n\u001b[0;32m---> 15\u001b[0m \u001b[38;5;28mprint\u001b[39m(\u001b[38;5;124m\"\u001b[39m\u001b[38;5;124mEl libro más antiguo es \u001b[39m\u001b[38;5;124m'\u001b[39m\u001b[38;5;124m\"\u001b[39m \u001b[38;5;241m+\u001b[39m \u001b[43mlibro\u001b[49m \u001b[38;5;241m+\u001b[39m \u001b[38;5;124m\"\u001b[39m\u001b[38;5;124m'\u001b[39m\u001b[38;5;124m y data de \u001b[39m\u001b[38;5;124m\"\u001b[39m \u001b[38;5;241m+\u001b[39m \u001b[38;5;28mstr\u001b[39m(año))\n",
      "\u001b[0;31mNameError\u001b[0m: name 'libro' is not defined"
     ]
    }
   ],
   "source": [
    "#Ejercicio 4\n",
    "\n",
    "def libro_mas_antiguo():\n",
    "  libros = biblioteca[\"libros\"]\n",
    "  año_mas_antiguo = 10000000\n",
    "  libro_mas_antiguo = None\n",
    "  for libro in libros:\n",
    "    if libros[libro][\"año\"] < año_mas_antiguo:\n",
    "      año_mas_antiguo = libros[libro][\"año\"]\n",
    "      libro_mas_antiguo = libros[libro][\"titulo\"]\n",
    "  return  año_mas_antiguo, libro_mas_antiguo \n",
    "\n",
    "año, libro = libro_mas_antiguo()\n",
    "\n",
    "print(\"El libro más antiguo es '\" + libro + \"' y data de \" + str(año))"
   ]
  },
  {
   "cell_type": "markdown",
   "metadata": {},
   "source": [
    "#### 5 - Préstamos\n",
    "\n",
    "Escribe una función que tenga de valor de entrada un diccionario como `biblioteca` y devuelva otro diccionario donde las *keys* sean los nombres de los usuarios y los *values* sean el número de préstamos de cada usuario.\n",
    "\n",
    "*Nota: no hace falta usar `lambda` para este ejercicio*"
   ]
  },
  {
   "cell_type": "code",
   "execution_count": 21,
   "metadata": {},
   "outputs": [],
   "source": [
    "# escribe tu código aquí\n",
    "# cal crear un nuevo dict {key -->  \"usuarios\" : value --> números de préstamo\n",
    "# no cal usar lambda\n",
    "\n",
    "\n",
    "biblioteca = {\n",
    "    \"libros\": {\n",
    "        \"001\": {\"titulo\": \"Cien años de soledad\", \"autor\": \"Gabriel García Márquez\", \"año\": 1967},\n",
    "        \"002\": {\"titulo\": \"1984\", \"autor\": \"George Orwell\", \"año\": 1949},\n",
    "        \"003\": {\"titulo\": \"La Odisea\", \"autor\": \"Homero\", \"año\": -800},\n",
    "        \"004\": {\"titulo\": \"El principito\", \"autor\": \"Antoine de Saint-Exupéry\", \"año\": 1943},\n",
    "        \"005\": {\"titulo\": \"Memoria de mis putas tristes\", \"autor\": \"Gabriel García Márquez\", \"año\": 2004}\n",
    "    },\n",
    "    \"autores\": {\n",
    "        \"Gabriel García Márquez\": {\"nacionalidad\": \"Colombiana\", \"nacimiento\": 1927, \"defuncion\": 2014},\n",
    "        \"George Orwell\": {\"nacionalidad\": \"Británica\", \"nacimiento\": 1903, \"defuncion\": 1950},\n",
    "        \"Homero\": {\"nacionalidad\": \"Griega\", \"nacimiento\": -800, \"defuncion\": -700},\n",
    "        \"Antoine de Saint-Exupéry\": {\"nacionalidad\": \"Francesa\", \"nacimiento\": 1900, \"defuncion\": 1944}\n",
    "    },\n",
    "    \"prestamos\": [\n",
    "        {\"id_libro\": \"001\", \"usuario\": \"Juan Perez\", \"fecha\": \"2023-03-01\"},\n",
    "        {\"id_libro\": \"002\", \"usuario\": \"Ana María\", \"fecha\": \"2023-03-05\"},\n",
    "        {\"id_libro\": \"003\", \"usuario\": \"Luis Rodriguez\", \"fecha\": \"2023-02-20\"},\n",
    "        {\"id_libro\": \"003\", \"usuario\": \"Carlos Mejia\", \"fecha\": \"2023-03-15\"},\n",
    "        {\"id_libro\": \"004\", \"usuario\": \"Carmen Sosa\", \"fecha\": \"2023-03-01\"},\n",
    "        {\"id_libro\": \"005\", \"usuario\": \"Carmen Sosa\", \"fecha\": \"2023-03-01\"}\n",
    "    ]\n",
    "}\n",
    "\n",
    "# tenemos los valores:  libros, autores, préstamos\n",
    "# 1. crear un dict vacío --> contadores ={}\n",
    "# 2. itero sobre biblioteca[\"prestamos\"]\n",
    "# --> para cada préstamos en biblioteca[\"prestamos\"] (FOR)\n",
    "# 2.1 accedo al valor de biblioteca[\"usuario\"] y compruebo si el nombre ya es key del dict_vacío\n",
    "          # si no existe, crear el contador dentro de contadores\n",
    "              # inicializar la palabra clave y asignarle 1 como valor\n",
    "          # si ya existía, el usuario ya había tomado préstamos\n",
    "              # sumo 1 al valor de su contador\n",
    "\n",
    "# 3. retornar contadores\n",
    "\n",
    "def contador_prestamos(biblioteca):\n",
    "    #contadores = {}\n",
    "    contadores = dict()\n",
    "    # itero sobre biblioteca de prestamos\n",
    "    for prestamos in biblioteca[\"prestamos\"]:\n",
    "        usuario = prestamo[\"usuario\"]\n",
    "        print(usuario)\n",
    "            if usuario not in contadores:\n",
    "                contadores[usuario] = 1\n",
    "            else:\n",
    "                contadores[usuario] += 1\n",
    "    return contadores\n",
    "\n",
    "print(contador_prestamos(biblioteca))"
   ]
  },
  {
   "cell_type": "code",
   "execution_count": 22,
   "metadata": {},
   "outputs": [
    {
     "name": "stdout",
     "output_type": "stream",
     "text": [
      "[{'id_libro': '001', 'usuario': 'Juan Perez', 'fecha': '2023-03-01'}, {'id_libro': '002', 'usuario': 'Ana María', 'fecha': '2023-03-05'}, {'id_libro': '003', 'usuario': 'Luis Rodriguez', 'fecha': '2023-02-20'}, {'id_libro': '003', 'usuario': 'Carlos Mejia', 'fecha': '2023-03-15'}, {'id_libro': '004', 'usuario': 'Carmen Sosa', 'fecha': '2023-03-01'}, {'id_libro': '005', 'usuario': 'Carmen Sosa', 'fecha': '2023-03-01'}]\n",
      "{'Juan Perez': 1}\n",
      "{'Juan Perez': 1, 'Ana María': 1}\n",
      "{'Juan Perez': 1, 'Ana María': 1, 'Luis Rodriguez': 1}\n",
      "{'Juan Perez': 1, 'Ana María': 1, 'Luis Rodriguez': 1, 'Carlos Mejia': 1}\n",
      "{'Juan Perez': 1, 'Ana María': 1, 'Luis Rodriguez': 1, 'Carlos Mejia': 1, 'Carmen Sosa': 1}\n",
      "{'Juan Perez': 1, 'Ana María': 1, 'Luis Rodriguez': 1, 'Carlos Mejia': 1, 'Carmen Sosa': 2}\n",
      "{'Juan Perez': 1, 'Ana María': 1, 'Luis Rodriguez': 1, 'Carlos Mejia': 1, 'Carmen Sosa': 2}\n"
     ]
    }
   ],
   "source": [
    "# versión de fran\n",
    "\n",
    "print(biblioteca[\"prestamos\"])\n",
    "def contador_prestamos(biblioteca):\n",
    "    #contadores = {}\n",
    "    contadores = dict()\n",
    "    for prestamo in biblioteca[\"prestamos\"]:\n",
    "        usuario = prestamo[\"usuario\"]\n",
    "        if usuario not in contadores:\n",
    "            contadores[usuario] = 1\n",
    "        else:\n",
    "            contadores[usuario] += 1 # contadores[usuario] = contadores[usuario] + 1\n",
    "        print(contadores)\n",
    "    return contadores\n",
    "\n",
    "print(contador_prestamos(biblioteca))"
   ]
  },
  {
   "cell_type": "markdown",
   "metadata": {},
   "source": [
    "#### 6 - Préstamos por libro\n",
    "\n",
    "Escribe una función que tenga de valor de entrada un diccionario como `biblioteca` y devuelva otro diccionario donde las *keys* sean los títulos de los libros y los *values* sean cuantas veces ha sido prestado cada libro."
   ]
  },
  {
   "cell_type": "code",
   "execution_count": null,
   "metadata": {},
   "outputs": [],
   "source": [
    "# escribe tu código aquí"
   ]
  },
  {
   "cell_type": "markdown",
   "metadata": {},
   "source": [
    "#### 7 - Autor más presente\n",
    "\n",
    "Escribe una función que reciba de valor de entrada un diccionario como `biblioteca` y devuelva una tupla con tres valores: el nombre del autor que haya escrito más libros, el número de libros que ha escrito y una lista con los títulos sus libros."
   ]
  },
  {
   "cell_type": "code",
   "execution_count": null,
   "metadata": {},
   "outputs": [],
   "source": [
    "# escribe tu código aquí"
   ]
  }
 ],
 "metadata": {
  "kernelspec": {
   "display_name": "Python 3 (ipykernel)",
   "language": "python",
   "name": "python3"
  },
  "language_info": {
   "codemirror_mode": {
    "name": "ipython",
    "version": 3
   },
   "file_extension": ".py",
   "mimetype": "text/x-python",
   "name": "python",
   "nbconvert_exporter": "python",
   "pygments_lexer": "ipython3",
   "version": "3.11.10"
  }
 },
 "nbformat": 4,
 "nbformat_minor": 4
}
