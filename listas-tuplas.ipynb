{
 "cells": [
  {
   "cell_type": "markdown",
   "metadata": {},
   "source": [
    "<h2> Listas y Tuplas </h2>"
   ]
  },
  {
   "cell_type": "markdown",
   "metadata": {},
   "source": [
    "**Usa typing en todas las funciones que definas**"
   ]
  },
  {
   "cell_type": "code",
   "execution_count": 1,
   "metadata": {},
   "outputs": [],
   "source": [
    "from typing import List\n",
    "from typing import Tuple\n",
    "from typing import Union\n"
   ]
  },
  {
   "cell_type": "markdown",
   "metadata": {},
   "source": [
    "#### 0 - Practica"
   ]
  },
  {
   "cell_type": "markdown",
   "metadata": {},
   "source": [
    "Desempaquetando (o desestructurando) tuplas"
   ]
  },
  {
   "cell_type": "code",
   "execution_count": 2,
   "metadata": {},
   "outputs": [
    {
     "name": "stdout",
     "output_type": "stream",
     "text": [
      "a is 1\n",
      "b is 2\n"
     ]
    }
   ],
   "source": [
    "nums = (1, 2)\n",
    "a, b = nums    # a y b pasan a ser integers, pasan a valer 1 y 2\n",
    "print('a is', a)\n",
    "print('b is', b)"
   ]
  },
  {
   "cell_type": "code",
   "execution_count": 5,
   "metadata": {},
   "outputs": [
    {
     "name": "stdout",
     "output_type": "stream",
     "text": [
      "<class 'tuple'>\n"
     ]
    },
    {
     "data": {
      "text/plain": [
       "list"
      ]
     },
     "execution_count": 5,
     "metadata": {},
     "output_type": "execute_result"
    }
   ],
   "source": [
    "nums = 1, 2\n",
    "print(type(nums))\n",
    "numbers = [1, 2]\n",
    "type(numbers)"
   ]
  },
  {
   "cell_type": "code",
   "execution_count": 9,
   "metadata": {},
   "outputs": [
    {
     "name": "stdout",
     "output_type": "stream",
     "text": [
      "fruit 1 is peach\n",
      "fruit 2 is banana\n",
      "fruit 3 is watermelon\n"
     ]
    }
   ],
   "source": [
    "fruits = ('peach', 'banana', 'watermelon')\n",
    "fruit_1, fruit_2, fruit_3 = fruits  # los fruit toman valor de las frutas)\n",
    "print('fruit 1 is', fruit_1)\n",
    "print('fruit 2 is', fruit_2)\n",
    "print('fruit 3 is', fruit_3)"
   ]
  },
  {
   "cell_type": "code",
   "execution_count": 5,
   "metadata": {},
   "outputs": [
    {
     "name": "stdout",
     "output_type": "stream",
     "text": [
      "0\n",
      "10\n"
     ]
    }
   ],
   "source": [
    "min_test_score, max_test_score = 0, 10\n",
    "print(min_test_score)\n",
    "print(max_test_score)"
   ]
  },
  {
   "cell_type": "markdown",
   "metadata": {},
   "source": [
    "Podemos desestructurar un lista de tuplas a medida que iteramos sobre ella:"
   ]
  },
  {
   "cell_type": "code",
   "execution_count": 6,
   "metadata": {},
   "outputs": [
    {
     "name": "stdout",
     "output_type": "stream",
     "text": [
      "Name is Lada, age is 23\n",
      "Name is Oshimenu, age is 31\n",
      "Name is Takeshi, age is 51\n"
     ]
    }
   ],
   "source": [
    "people = [('Lada', 23), ('Oshimenu', 31), ('Takeshi', 51)]\n",
    "for person, age in people:\n",
    "    print('Name is', person + ',', 'age is', age)"
   ]
  },
  {
   "cell_type": "markdown",
   "metadata": {},
   "source": [
    "Eso lo podemos ver cuando usamos la función `enumerate`, que nos proporciona tuplas con los elementos y los índices del iterable:"
   ]
  },
  {
   "cell_type": "code",
   "execution_count": 7,
   "metadata": {},
   "outputs": [
    {
     "name": "stdout",
     "output_type": "stream",
     "text": [
      "0 peach\n",
      "1 banana\n",
      "2 watermelon\n"
     ]
    }
   ],
   "source": [
    "for i, fruit in enumerate(fruits):\n",
    "    print(i, fruit)"
   ]
  },
  {
   "cell_type": "code",
   "execution_count": 8,
   "metadata": {},
   "outputs": [
    {
     "name": "stdout",
     "output_type": "stream",
     "text": [
      "0 Lada 23\n",
      "1 Oshimenu 31\n",
      "2 Takeshi 51\n"
     ]
    }
   ],
   "source": [
    "for i, (person, age) in enumerate(people):\n",
    "    print(i, person, age)"
   ]
  },
  {
   "cell_type": "markdown",
   "metadata": {},
   "source": [
    "**Nota**: No solo podemos iterar sobre listas, sino sobre cualquier objecto iterable. En Python, los objetos iterables tienen el método todos `__iter__`. De la misma forma, también podemos deconstruir los objetos que tengan este método. Con typing se usa `Iterable` para especificar que un argumento o variable es iterable."
   ]
  },
  {
   "cell_type": "code",
   "execution_count": 9,
   "metadata": {},
   "outputs": [
    {
     "data": {
      "text/plain": [
       "<method-wrapper '__iter__' of tuple object at 0x00000293579EB900>"
      ]
     },
     "execution_count": 9,
     "metadata": {},
     "output_type": "execute_result"
    }
   ],
   "source": [
    "fruits.__iter__"
   ]
  },
  {
   "cell_type": "code",
   "execution_count": 10,
   "metadata": {},
   "outputs": [
    {
     "data": {
      "text/plain": [
       "<method-wrapper '__iter__' of list object at 0x000002935935C540>"
      ]
     },
     "execution_count": 10,
     "metadata": {},
     "output_type": "execute_result"
    }
   ],
   "source": [
    "people.__iter__"
   ]
  },
  {
   "cell_type": "markdown",
   "metadata": {},
   "source": [
    "La función `zip` nos proporciona un objeto sobre el cual podemos iterar y acceder a los elementos de dos o más iterables en forma de tupla:"
   ]
  },
  {
   "cell_type": "code",
   "execution_count": 11,
   "metadata": {},
   "outputs": [
    {
     "name": "stdout",
     "output_type": "stream",
     "text": [
      "Lada loves peach\n",
      "Oshimenu loves banana\n",
      "Takeshi loves watermelon\n"
     ]
    }
   ],
   "source": [
    "for person, fruit in zip(people, fruits):\n",
    "    print(person[0], 'loves', fruit)"
   ]
  },
  {
   "cell_type": "code",
   "execution_count": 12,
   "metadata": {},
   "outputs": [
    {
     "name": "stdout",
     "output_type": "stream",
     "text": [
      "Lada loves peach\n",
      "Oshimenu loves banana\n",
      "Takeshi loves watermelon\n"
     ]
    }
   ],
   "source": [
    "for (person, age), fruit in zip(people, fruits):\n",
    "    print(person, 'loves ' + fruit)"
   ]
  },
  {
   "cell_type": "markdown",
   "metadata": {},
   "source": [
    "En el caso de que uno de los iterables sea más corto que los otros, `zip` usará la longitud del iterable más corto:"
   ]
  },
  {
   "cell_type": "code",
   "execution_count": 13,
   "metadata": {},
   "outputs": [
    {
     "name": "stdout",
     "output_type": "stream",
     "text": [
      "(1, 'a', True) - element is a tuple\n",
      "(2, 'b', True) - element is a tuple\n",
      "(3, 'c', True) - element is a tuple\n"
     ]
    }
   ],
   "source": [
    "list_1 = [1,2,3]\n",
    "list_2 = ['a','b','c','d']\n",
    "list_3 = [True,True,True,True,False]\n",
    "for element in zip(list_1, list_2, list_3):\n",
    "    print(element, '- element is a', element.__class__.__name__)"
   ]
  },
  {
   "cell_type": "markdown",
   "metadata": {},
   "source": [
    "Normalmente, cuando iteramos sobre una lista de tuplas y hay elementos que no vayamos a utilizar, usamos `_` para representar una variable 'vacía':"
   ]
  },
  {
   "cell_type": "code",
   "execution_count": 14,
   "metadata": {},
   "outputs": [
    {
     "name": "stdout",
     "output_type": "stream",
     "text": [
      "['Lada', 'Oshimenu', 'Takeshi']\n",
      "[23, 31, 51]\n"
     ]
    }
   ],
   "source": [
    "names = [name for name, _ in people]\n",
    "ages = [age for _, age in people]\n",
    "print(names)\n",
    "print(ages)"
   ]
  },
  {
   "cell_type": "markdown",
   "metadata": {},
   "source": [
    "Podemos usar `zip(*iterable)` par desempaquetar listas o iterables con tuplas o otros tipos de iterables dentro en tuplas separadas:"
   ]
  },
  {
   "cell_type": "code",
   "execution_count": 15,
   "metadata": {},
   "outputs": [
    {
     "name": "stdout",
     "output_type": "stream",
     "text": [
      "('Lada', 'Oshimenu', 'Takeshi')\n",
      "(23, 31, 51)\n"
     ]
    }
   ],
   "source": [
    "names, ages = zip(*people)\n",
    "print(names)\n",
    "print(ages)"
   ]
  },
  {
   "cell_type": "markdown",
   "metadata": {},
   "source": [
    "**Nota:** no se pueden usar los caracteres `(` o `)` para crear tuplas como lo hacemos con list comprehension ya que eso nos devolveria un generador https://wiki.python.org/moin/Generators."
   ]
  },
  {
   "cell_type": "markdown",
   "metadata": {
    "tags": []
   },
   "source": [
    "#### 1 - Tablero de juego\n",
    "\n",
    "A continuación tienes una lista de tuplas que representan un tablero de un juego imaginario. Cada tupla de la llista tiene dos elementos: el nombre de un jugador y su puntuación. Obten las cantidades siguientes:\n",
    "\n",
    "- El nombre de la persona con la puntuación más alta\n",
    "- El nombre de la persona con la puntuación más baja\n",
    "- La puntuación total\n",
    "- La puntuación media\n",
    "\n",
    "Escribe una función para cada caso que reciba como argumento una lista de tuplas. Para el typing,  asume que la puntuación siempre es un `float`."
   ]
  },
  {
   "cell_type": "code",
   "execution_count": 23,
   "metadata": {},
   "outputs": [
    {
     "name": "stdout",
     "output_type": "stream",
     "text": [
      "David Heredia\n",
      "7.85\n",
      "Carlos Pérez\n",
      "3.626\n",
      "Jinping Xi\n",
      "10.603\n",
      "Luol Deng\n",
      "9.91\n",
      "Alkatum Fas\n",
      "12.02\n",
      "\n",
      "Alkatum Fas ha ganado con 12.02\n"
     ]
    }
   ],
   "source": [
    "scoreboard = [('David Heredia', 7.85),\n",
    "              ('Carlos Pérez', 3.626),\n",
    "              ('Jinping Xi', 10.603),\n",
    "              ('Luol Deng', 9.91),\n",
    "              ('Alkatum Fas', 12.02)]\n",
    "\n",
    "# escribe tu código aquí\n",
    "# 1 iteraré sobre scoreboard y si [1] > [max_score] --> sustituyo ambos\n",
    "\n",
    "\n",
    "max_scorer, max_score = (None, 0)\n",
    "\n",
    "for name, score in scoreboard:\n",
    "    print(name)\n",
    "    print(score)\n",
    "\n",
    "    if score > max_score:\n",
    "        max_scorer = name\n",
    "        max_score = score\n",
    "\n",
    "print(\"\")\n",
    "print(f\"{max_scorer} ha ganado con {max_score}\")\n",
    "\n",
    "    \n",
    "   # print(score[1])"
   ]
  },
  {
   "cell_type": "code",
   "execution_count": 25,
   "metadata": {},
   "outputs": [
    {
     "name": "stdout",
     "output_type": "stream",
     "text": [
      "\n",
      "Alkatum Fas ha ganado con 12.02\n"
     ]
    }
   ],
   "source": [
    "scoreboard = [('David Heredia', 7.85),\n",
    "              ('Carlos Pérez', 3.626),\n",
    "              ('Jinping Xi', 10.603),\n",
    "              ('Luol Deng', 9.91),\n",
    "              ('Alkatum Fas', 12.02)]\n",
    "\n",
    "# escribe tu código aquí\n",
    "# 1 iteraré sobre scoreboard y si [1] > [max_score] --> sustituyo ambos\n",
    "\n",
    "\n",
    "max_scorer = None\n",
    "max_score = 0\n",
    "\n",
    "for name, score in scoreboard:\n",
    "\n",
    "    if score > max_score:\n",
    "        max_scorer = name\n",
    "        max_score = score\n",
    "\n",
    "print(\"\")\n",
    "print(f\"{max_scorer} ha ganado con {max_score}\")\n"
   ]
  },
  {
   "cell_type": "code",
   "execution_count": null,
   "metadata": {},
   "outputs": [],
   "source": [
    "scoreboard = [('David Heredia', 7.85),\n",
    "              ('Carlos Pérez', 3.626),\n",
    "              ('Jinping Xi', 10.603),\n",
    "              ('Luol Deng', 9.91),\n",
    "              ('Alkatum Fas', 12.02)]\n",
    "\n",
    "# escribe tu código aquí\n",
    "# 1 iteraré sobre scoreboard y si [1] < [min_score] --> sustituyo ambos\n",
    "\n",
    "\n",
    "for name, score in scoreboard\n"
   ]
  },
  {
   "cell_type": "code",
   "execution_count": 26,
   "metadata": {},
   "outputs": [
    {
     "name": "stdout",
     "output_type": "stream",
     "text": [
      "44.009\n"
     ]
    }
   ],
   "source": [
    "# puntuación total\n",
    "\n",
    "total = 0\n",
    "\n",
    "for name, score in scoreboard:\n",
    "    total = total + score\n",
    "\n",
    "print(total)\n",
    "        \n"
   ]
  },
  {
   "cell_type": "code",
   "execution_count": 27,
   "metadata": {},
   "outputs": [
    {
     "name": "stdout",
     "output_type": "stream",
     "text": [
      "8.8018\n"
     ]
    }
   ],
   "source": [
    "total = 0\n",
    "\n",
    "for name, score in scoreboard:\n",
    "    total = total + score\n",
    "\n",
    "media = total/len(scoreboard)\n",
    "\n",
    "print(media)"
   ]
  },
  {
   "cell_type": "markdown",
   "metadata": {},
   "source": [
    "#### 2 - Ordenando el juego\n",
    "\n",
    "Define una función llamada `sort_scoreboard` que reciba de entrada una lista de tuplas con los nombres de los jugadores y sus puntuaciones y devuelva una copia de la lista ordenada en función de los nombres.\n",
    "\n",
    "*Pista: crea una función llamada `get_name` con un argumento de entrada que reciba una tupla con el nombre y la puntuación y devuelva solo el nombre*"
   ]
  },
  {
   "cell_type": "code",
   "execution_count": null,
   "metadata": {},
   "outputs": [],
   "source": [
    "# escribe tu código aquí"
   ]
  },
  {
   "cell_type": "markdown",
   "metadata": {},
   "source": [
    "#### 3 - Buenos jugadores\n",
    "\n",
    "Define una función llamada `good_players` que reciba dos argumentos:\n",
    "\n",
    "- El tablero con las puntuaciones\n",
    "- Una puntuación a determinar por el usuario\n",
    "\n",
    "`good_players` tiene que devolver una lista con los nombres de todos los jugadores con una puntuación más alta o igual que la escogida por el usuario."
   ]
  },
  {
   "cell_type": "code",
   "execution_count": null,
   "metadata": {},
   "outputs": [],
   "source": [
    "# escribe tu código aquí"
   ]
  },
  {
   "cell_type": "markdown",
   "metadata": {},
   "source": [
    "#### 4 - Separando tuplas\n",
    "\n",
    "Define una función llamada `split_scoreboard` que reciba de argumento la lista con los nombres y las puntuaciones del ejercicio 1 y la separe en dos listas usando `zip`. La primera lista tiene que tener el nombre de todos los jugadores y la segunda sus puntuaciones. Usa desempaquetamiento de tuplas y guarda las listas en dos variables llamadas `players` y `scores` fuera de la función. Qué tipo de dato devuelve la función `split_scoreboard`?"
   ]
  },
  {
   "cell_type": "code",
   "execution_count": null,
   "metadata": {},
   "outputs": [],
   "source": [
    "# escribe tu código aquí"
   ]
  },
  {
   "cell_type": "markdown",
   "metadata": {},
   "source": [
    "#### 5 - Nombres y apellidos\n",
    "\n",
    "Define una función que separe los nombres de los jugadores en dos listas: una con los nombres y otra con los apellidos.\n",
    "\n",
    "*Pista: usa el método `.split()` de las strings*"
   ]
  },
  {
   "cell_type": "code",
   "execution_count": null,
   "metadata": {},
   "outputs": [],
   "source": [
    "# escribe tu código aquí"
   ]
  },
  {
   "cell_type": "markdown",
   "metadata": {},
   "source": [
    "#### 6 - Apellido más largo\n",
    "\n",
    "Define una función llamada `longest_string` con 2 parámetros de entrada: una lista de strings `list_of_strings` y un booleano `return_length`. El segundo parámetro tiene que ser `False` por defecto. La función `longest_string` tiene que devolver la string más larga de la lista. En el caso que `return_length` sea `True`, `longest_string` tiene que devolver también la longitud de la string más larga, es decir una tupla con la string y su longitud. Comprueba qué devuelve `longest_string` en los dos casos cuando `return_length = False` y `return_length = True` con la lista de apellidos del ejercicio anterior."
   ]
  },
  {
   "cell_type": "code",
   "execution_count": null,
   "metadata": {},
   "outputs": [],
   "source": [
    "# escribe tu código aquí"
   ]
  },
  {
   "cell_type": "markdown",
   "metadata": {},
   "source": [
    "#### 7 - Añadir el índice\n",
    "\n",
    "Ordena el tablero con las puntuaciones del ejercicio 1 de puntuación más baja a más alta. Después, crea un tablero de juego nuevo donde cada tupla tenga tres valores:\n",
    "\n",
    "- La posición en el ránquing del jugador de acuerdo con su puntuación\n",
    "- El nombre completo del jugador\n",
    "- La puntuación del jugador\n",
    "\n",
    "El tablero final tiene que ser el siguiente:\n",
    "\n",
    "```python\n",
    "scoreboard_ranked = [(1, 'Alkatum Fas', 12.02), (2, 'Jinping Xi', 10.603), (3, 'Luol Deng', 9.91), (4, 'David Heredia', 7.85) (5, 'Carlos Pérez', 3.626)]\n",
    "```"
   ]
  },
  {
   "cell_type": "code",
   "execution_count": null,
   "metadata": {},
   "outputs": [],
   "source": [
    "# escribe tu código aquí"
   ]
  },
  {
   "cell_type": "markdown",
   "metadata": {
    "tags": []
   },
   "source": [
    "#### 8 - Intercalando tuplas\n",
    "\n",
    "A continuación tienes las letras del abecedario separadas en dos tuplas de manera intercalada:\n",
    "\n",
    "- a, c, e, g, i, k, m, o, q, s, u, w, y\n",
    "- b, d, f, h, j, l, n, p, r, t, v, x, z\n",
    "\n",
    "Define una tupla nueva llamada `abecedario` con el abecedario ordenado juntando las dos tuplas anteriores."
   ]
  },
  {
   "cell_type": "code",
   "execution_count": null,
   "metadata": {},
   "outputs": [],
   "source": [
    "ace = ('a', 'c', 'e', 'g', 'i', 'k', 'm', 'o', 'q', 's', 'u', 'w', 'y')\n",
    "bdf = ('b', 'd', 'f', 'h', 'j', 'l', 'n', 'p', 'r', 't', 'v', 'x', 'z')\n",
    "\n",
    "# escribe tu código aquí"
   ]
  },
  {
   "cell_type": "markdown",
   "metadata": {},
   "source": [
    "#### 9 - Inputs de una función\n",
    "\n",
    "Define una función lamada `loves_chocolate` que reciba tres parámetros de entrada: Un nombre (`str`), una edad (`int`) y si le gusta o no el chocolate (`bool`). La función no tiene que devolver nada, simplemente imprimir el siguiente mensaje:\n",
    "\n",
    "- En caso que no le guste el chocolate \n",
    "\n",
    "```python\n",
    "nombre + ' is ' + str(edad) +  ' years old and somehow does not like chocolate'\n",
    "```\n",
    "\n",
    "- En caso que le guste el chocolate\n",
    "\n",
    "```python\n",
    "nombre + ' is ' + str(edad) +  ' years old and loves chocolate'\n",
    "```\n",
    "\n",
    "Crea una tupla con los inputs de la función y llama la función `loves_chocolate` deconstruyendo la tupla usando el operador `*`."
   ]
  },
  {
   "cell_type": "code",
   "execution_count": null,
   "metadata": {},
   "outputs": [],
   "source": [
    "# escribe tu código aquí"
   ]
  }
 ],
 "metadata": {
  "kernelspec": {
   "display_name": "Python 3 (ipykernel)",
   "language": "python",
   "name": "python3"
  },
  "language_info": {
   "codemirror_mode": {
    "name": "ipython",
    "version": 3
   },
   "file_extension": ".py",
   "mimetype": "text/x-python",
   "name": "python",
   "nbconvert_exporter": "python",
   "pygments_lexer": "ipython3",
   "version": "3.11.10"
  }
 },
 "nbformat": 4,
 "nbformat_minor": 4
}
