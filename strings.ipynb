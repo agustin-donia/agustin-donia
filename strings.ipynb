{
 "cells": [
  {
   "cell_type": "markdown",
   "id": "f8267400-a390-4cad-9760-5b763ec8a3bb",
   "metadata": {},
   "source": [
    "<h2> Strings </h2>"
   ]
  },
  {
   "cell_type": "markdown",
   "id": "c687cad9-8cab-4c0a-a8d4-790b52a50506",
   "metadata": {
    "tags": []
   },
   "source": [
    "#### 1 - Vocales\n",
    "\n",
    "Escribe una función que reciba de entrada una string y imprima los índices de todas las vocales. Usa un bucle `while` https://www.w3schools.com/python/python_while_loops.asp."
   ]
  },
  {
   "cell_type": "code",
   "execution_count": 25,
   "id": "6d9819da-7c92-4c6c-aee9-c81a3e137d5c",
   "metadata": {},
   "outputs": [
    {
     "name": "stdout",
     "output_type": "stream",
     "text": [
      "[0, 3, 5, 7, 10, 12, 14, 16, 17, 20, 22, 25, 28]\n"
     ]
    }
   ],
   "source": [
    "\n",
    "\n",
    "# escriu el teu codi aquí\n",
    "# 1- Crear variable vowels con las vocales\n",
    "# 2- Iterar letra a letra y comprobar si la letra esta en vowels.\n",
    "\n",
    "magic = \"Abracadabra apareix una cobra\"\n",
    "\n",
    "vowels = \"aeiouAEIOU\"\n",
    "lista_indices = []\n",
    "indice = 0\n",
    "\n",
    "for letra in magic:\n",
    "    if letra in vowels:\n",
    "        lista_indices.append(indice)\n",
    "    indice = indice + 1\n",
    "\n",
    "print(lista_indices)\n",
    "\n",
    "\n",
    "# Para hacer con un while\n",
    "# contador_de_iteraciones = 0\n",
    "# while contador_de_iteraciones < len(magic):\n",
    "    #Empezaria a hacer cosas\n",
    "\n",
    "  #  contador_de_iteraciones = contador_de_iteraciones + 1"
   ]
  },
  {
   "cell_type": "code",
   "execution_count": 30,
   "id": "619add90-811d-40dd-89e6-d671b14c2fc9",
   "metadata": {},
   "outputs": [
    {
     "name": "stdout",
     "output_type": "stream",
     "text": [
      "[0, 3, 5, 7, 10, 12, 14, 16, 17, 20, 22, 25, 28]\n"
     ]
    }
   ],
   "source": [
    "magic = \"Abracadabra apareix una cobra\"\n",
    "\n",
    "vowels = \"aeiouAEIOU\"\n",
    "\n",
    "\n",
    "def indice_vocales(my_string)\n",
    "    lista_indices = []\n",
    "    indice = 0\n",
    "    for letra in magic:\n",
    "        if letra in vowels:\n",
    "            lista_indices.append(indice)\n",
    "        indice = indice + 1\n",
    "    print(lista_indices)\n",
    "\n",
    "indice_vocales(vowels)\n"
   ]
  },
  {
   "cell_type": "code",
   "execution_count": 36,
   "id": "75de8754-626d-4914-86ce-46b357986eb9",
   "metadata": {},
   "outputs": [
    {
     "name": "stdout",
     "output_type": "stream",
     "text": [
      "0 A\n",
      "3 a\n",
      "5 a\n",
      "7 a\n",
      "10 a\n",
      "12 a\n",
      "14 a\n",
      "16 e\n",
      "17 i\n",
      "20 u\n",
      "22 a\n",
      "25 o\n",
      "28 a\n"
     ]
    }
   ],
   "source": [
    "magic = \"Abracadabra apareix una cobra\"\n",
    "\n",
    "def index_vowels(strings):\n",
    "    vowels = \"aeiouAEIOU\"\n",
    "    for index, character in enumerate(strings):\n",
    "        if character in vowels:\n",
    "            print(index, character)\n",
    "\n",
    "index_vowels(magic)"
   ]
  },
  {
   "cell_type": "code",
   "execution_count": 37,
   "id": "405bcbce-086a-4185-a9b6-7a4b9265b061",
   "metadata": {},
   "outputs": [
    {
     "name": "stdout",
     "output_type": "stream",
     "text": [
      "0 A\n",
      "3 a\n",
      "5 a\n",
      "7 a\n",
      "10 a\n",
      "12 a\n",
      "14 a\n",
      "16 e\n",
      "17 i\n",
      "20 u\n",
      "22 a\n",
      "25 o\n",
      "28 a\n"
     ]
    }
   ],
   "source": [
    "# Para hacer con un while\n",
    "def index_vowels_with_while(string):\n",
    "    contador_de_iteraciones = 0\n",
    "    vowels = \"aeiouAEIOU\"\n",
    "    while contador_de_iteraciones < len(string):\n",
    "        #Empezaria a hacer cosas\n",
    "        if string[contador_de_iteraciones] in vowels:\n",
    "            print(contador_de_iteraciones, string[contador_de_iteraciones])\n",
    "        contador_de_iteraciones = contador_de_iteraciones + 1\n",
    "\n",
    "index_vowels_with_while(magic)"
   ]
  },
  {
   "cell_type": "code",
   "execution_count": 38,
   "id": "bed1d1f5-dbb3-48aa-b0dc-c8cbeb484b16",
   "metadata": {},
   "outputs": [
    {
     "name": "stdout",
     "output_type": "stream",
     "text": [
      "0 A\n",
      "3 a\n",
      "5 a\n",
      "7 a\n",
      "10 a\n",
      "12 a\n",
      "14 a\n",
      "16 e\n",
      "17 i\n",
      "20 u\n",
      "22 a\n",
      "25 o\n",
      "28 a\n"
     ]
    }
   ],
   "source": [
    "vocales = \"aeiouAEIOU\"\n",
    "magic = \"Abracadabra apareix una cobra\"\n",
    "\n",
    "for i in range(len(magic)):\n",
    "    if magic[i] in vocales:\n",
    "        print(i, magic[i])"
   ]
  },
  {
   "cell_type": "markdown",
   "id": "ae615e76-5f54-4921-b5bc-cb64c1266b93",
   "metadata": {},
   "source": [
    "#### 2 - Caracteres iguales\n",
    "\n",
    "Define una función que reciba dos strings de entrada. La función tiene que imprimir todos los caracteres y índices que coincidan en la misma posición en las dos strings."
   ]
  },
  {
   "cell_type": "code",
   "execution_count": 39,
   "id": "50a53016-8acb-4018-b30e-0b74fba91099",
   "metadata": {},
   "outputs": [
    {
     "name": "stdout",
     "output_type": "stream",
     "text": [
      "[(0, ('c', 'c')), (1, ('a', 'a')), (2, ('r', 'r')), (3, ('a', 'a')), (4, ('v', 'b')), (5, ('a', 'e')), (6, ('n', 'l')), (7, ('a', 'a'))]\n"
     ]
    }
   ],
   "source": [
    "string_1 = 'caravana'\n",
    "string_2 = 'carabelas'\n",
    "\n",
    "# escriu el teu codi aquí\n",
    "\n",
    "print(list(enumerate(zip(string_1, string_2))))\n",
    "\n",
    "# luego puedo iterar sobre la lista que acabo de hacer, e imprimir el caracter y el indice\n"
   ]
  },
  {
   "cell_type": "code",
   "execution_count": 45,
   "id": "1ef401d8-c081-4982-8664-67bdce1bd96e",
   "metadata": {},
   "outputs": [
    {
     "name": "stdout",
     "output_type": "stream",
     "text": [
      "[(0, ('c', 'c')), (1, ('a', 'a')), (2, ('r', 'r')), (3, ('a', 'a')), (4, ('v', 'b')), (5, ('a', 'e')), (6, ('n', 'l')), (7, ('a', 'a'))]\n",
      " \n",
      "0 c\n",
      "1 a\n",
      "2 r\n",
      "3 a\n",
      "7 a\n"
     ]
    }
   ],
   "source": [
    "string_1 = 'caravana'\n",
    "string_2 = 'carabelas'\n",
    "\n",
    "# escriu el teu codi aquí\n",
    "\n",
    "print(list(enumerate(zip(string_1, string_2))))\n",
    "print (\" \")\n",
    "\n",
    "\n",
    "def equal_characters(string1, string2):\n",
    "    for index, (character_1, character_2) in enumerate(zip(string_1, string_2)):\n",
    "        if character_1 == character_2:\n",
    "            print(index, character_1)\n",
    "\n",
    "equal_characters(string_1, string_2)"
   ]
  },
  {
   "cell_type": "markdown",
   "id": "33846ce2-d2da-4c51-85b9-108d7f76b4cd",
   "metadata": {},
   "source": [
    "#### 3 - Substituyendo caracteres\n",
    "\n",
    "Define una función que reciba de entrada una string y devuelva una nueva string donde todos los caracteres que no sean letras hayan sido sustituidos por espacios. Por ejemplo, si recibimos de entrada la string `'ph@ t l00t'` la función debe devolver `'ph  t l  t'`.\n",
    "\n",
    "*Pista: puedes encontrar si un caracter es una letra con la función `ord` y los operadores `<` y `>`, con el método `isalpha()` o creando una string que contenga todas las letras*"
   ]
  },
  {
   "cell_type": "code",
   "execution_count": 61,
   "id": "d13f0b08-0fa3-4c34-bca2-9b33fa3f0628",
   "metadata": {},
   "outputs": [
    {
     "name": "stdout",
     "output_type": "stream",
     "text": [
      "ph  t l  t  l ca st   n o  zA\n"
     ]
    }
   ],
   "source": [
    "text = \"ph@ t l00t &l4ca st3 ?n¿o #zA\"\n",
    "\n",
    "# escribe tu código aquí\n",
    "\n",
    "# 1 - iterar sobre la variable text letra a letra\n",
    "# 2 - comprobar si es parte del alfabeto usando isalpha\n",
    "# 3 - si no lo es: uso replace para cambiar caracter por espacio\n",
    "\n",
    "def sustituir(texto):\n",
    "    for letra in texto:\n",
    "        if not letra.isalpha():\n",
    "            texto = texto.replace(letra, \" \")\n",
    "    return texto\n",
    "    \n",
    "print(sustituir(text))\n",
    " \n",
    "# print(sustituir(text))"
   ]
  },
  {
   "cell_type": "code",
   "execution_count": 65,
   "id": "5cfdd417-9f1f-4253-81b7-076ed29a2373",
   "metadata": {},
   "outputs": [
    {
     "name": "stdout",
     "output_type": "stream",
     "text": [
      " ph  t l  t  l ca st   n o  zA\n"
     ]
    }
   ],
   "source": [
    "# respuesta de Fran (que no logró hacerlo con el replace\n",
    "text = \"ph@ t l00t &l4ca st3 ?n¿o #zA\"\n",
    "\n",
    "def replace_non_alpha(text):\n",
    "    string = \" \"\n",
    "    for letter in text:\n",
    "        if letter.isalpha():\n",
    "            string = string + letter\n",
    "        else:\n",
    "            string = string + \" \"\n",
    "            \n",
    "    print(string)\n",
    "\n",
    "replace_non_alpha(text)\n",
    "            "
   ]
  },
  {
   "cell_type": "code",
   "execution_count": 70,
   "id": "67485583-266a-420b-8687-acfcbd329847",
   "metadata": {},
   "outputs": [
    {
     "name": "stdout",
     "output_type": "stream",
     "text": [
      "ph  t l  t  l ca st   n o  zA\n"
     ]
    },
    {
     "data": {
      "text/plain": [
       "'ph  t l  t  l ca st   n o  zA'"
      ]
     },
     "execution_count": 70,
     "metadata": {},
     "output_type": "execute_result"
    }
   ],
   "source": [
    "# solución ELISA\n",
    "text = \"ph@ t l00t &l4ca st3 ?n¿o #zA\"\n",
    "\n",
    "def solo_letras(string_input): \n",
    "    solo_letras = []\n",
    "    for letra in string_input:\n",
    "        if letra.isalpha(): \n",
    "            solo_letras.append(letra)\n",
    "        else:\n",
    "            solo_letras.append(\" \")\n",
    "    return(''.join(solo_letras))\n",
    "\n",
    "print(solo_letras(text))\n",
    "\n",
    "#list comprehension (más complejo, más sintetizado) de python en concreto\n",
    "''.join(letra if letra.isalpha() else \" \" for letra in text)"
   ]
  },
  {
   "cell_type": "markdown",
   "id": "e7cbec28-e955-4130-9b2f-5e2eb19af0f1",
   "metadata": {},
   "source": [
    "#### 4 - Contando vocales\n",
    "\n",
    "Escribe una función que reciba de entrada una string y cuente cuantas veces aparece cada vocal. La función debe devolver una string formateada de la siguiente manera:\n",
    "\n",
    "```python\n",
    "'a: 32, e: 23, i: 18, o: 12, u: 6'\n",
    "```\n",
    "\n",
    "Usa `f'{}'` o `'{}'.format()` para formatear la string. El recuento total de vocales tiene que tener en cuenta tanto minúsculas com mayúsculas. Imprime la string fuera de la función."
   ]
  },
  {
   "cell_type": "code",
   "execution_count": 83,
   "id": "6ba87ce7-4a68-4842-a5fe-fc04eea87e56",
   "metadata": {},
   "outputs": [
    {
     "data": {
      "text/plain": [
       "'a: 32, e: 23, i: 18, o: 12, u: 6'"
      ]
     },
     "execution_count": 83,
     "metadata": {},
     "output_type": "execute_result"
    }
   ],
   "source": [
    "text = \"\"\"And Saint Attila raised the hand grenade up on high,\n",
    "saying, \"O Lord, bless this thy hand grenade, that with it\n",
    "thou mayst blow thine enemies to tiny bits, in thy mercy.\" \n",
    "And the Lord did grin. And the people did feast upon the lambs, \n",
    "and sloths, and carp, and anchovies, and orangutans, and \n",
    "breakfast cereals, and fruit bats, and large chu...\"\"\"\n",
    "\n",
    "# escribe tu código aquí\n",
    "\n",
    "vowels = \"aeiouAEIOU\"\n",
    "\n",
    "def count_vowels(text):\n",
    "    text = text.lower()\n",
    "    a = text.count(\"a\")\n",
    "    e = text.count(\"e\")\n",
    "    i = text.count(\"i\")\n",
    "    o = text.count(\"o\")\n",
    "    u = text.count(\"u\")\n",
    "    output_string = f\"a: {a}, e: {e}, i: {i}, o: {o}, u: {u}\"\n",
    "    return output_string\n",
    "\n",
    "count_vowels(text)"
   ]
  },
  {
   "cell_type": "code",
   "execution_count": 87,
   "id": "2fe3ae1a-9e88-4347-8e74-01d1a59a5139",
   "metadata": {},
   "outputs": [
    {
     "name": "stdout",
     "output_type": "stream",
     "text": [
      "a: 32e: 23i: 18o: 12u: 6\n"
     ]
    }
   ],
   "source": [
    "# sin usar la función count\n",
    "\n",
    "def count_vowels_2(text):\n",
    "    vowels = \"aeiou\"\n",
    "    text = text.lower()\n",
    "    string = \"\"\n",
    "    for vowel in vowels:\n",
    "        vowel_counter = 0\n",
    "        for character in text:\n",
    "            if character == vowel:\n",
    "                vowel_counter += 1\n",
    "        string = string + vowel + \": \" + str(vowel_counter)\n",
    "\n",
    "    return string\n",
    "\n",
    "count_vowels_2(text)\n",
    "\n",
    "print(count_vowels_2(text))\n",
    "                "
   ]
  },
  {
   "cell_type": "code",
   "execution_count": 88,
   "id": "20c4df2c-c1d9-44b9-8e58-9a9c85245d29",
   "metadata": {},
   "outputs": [
    {
     "data": {
      "text/plain": [
       "['a: 28', 'e: 23', 'i: 18', 'o: 11', 'u: 6', 'A: 4', 'O: 1']"
      ]
     },
     "execution_count": 88,
     "metadata": {},
     "output_type": "execute_result"
    }
   ],
   "source": [
    "# aquí con las mayúsculas\n",
    "\n",
    "vowels = \"aeiouAEIOU\"\n",
    "\n",
    "def contar_vocales(my_string):\n",
    "  lista_vocales_totales = []\n",
    "  for vocal in vowels:\n",
    "    total = 0\n",
    "    for letra in my_string:\n",
    "      if letra == vocal:\n",
    "        total += 1\n",
    "    if total > 0:\n",
    "      lista_vocales_totales.append(f\"{vocal}: {total}\")\n",
    "  return lista_vocales_totales   \n",
    "\n",
    "contar_vocales(text)"
   ]
  },
  {
   "cell_type": "markdown",
   "id": "afa9a2d4-aad6-4861-9d20-db201ed498f5",
   "metadata": {},
   "source": [
    "#### 5 - Porcentaje de vocales\n",
    "\n",
    "Escribe una función que reciba de entrada una string y calcule el porcentaje de presencia de cada vocal respeto al total de vocales. La función debe devolver una string formateada con una precisión de 2 cifras sobre el porcentaje. Además, la string tiene que tener separadores de línea de manera que cuando la imprimas a la consola aparezcan los porcentajes de cada vocal en líneas distintas:\n",
    "\n",
    "a: 35.16% \\\n",
    "b: 25.27% \\\n",
    "...\n",
    "\n",
    "Usa el texto del ejercicio anterior como ejemplo."
   ]
  },
  {
   "cell_type": "code",
   "execution_count": 93,
   "id": "9775c3f7-26b3-4e2e-991f-e8f81bc60d16",
   "metadata": {},
   "outputs": [
    {
     "data": {
      "text/plain": [
       "[['a', 35.16483516483517],\n",
       " ['e', 25.274725274725274],\n",
       " ['i', 19.78021978021978],\n",
       " ['o', 13.186813186813186],\n",
       " ['u', 6.593406593406593]]"
      ]
     },
     "execution_count": 93,
     "metadata": {},
     "output_type": "execute_result"
    }
   ],
   "source": [
    "# solución de Agustín Lancho\n",
    "\n",
    "text = \"\"\"And Saint Attila raised the hand grenade up on high,\n",
    "saying, \"O Lord, bless this thy hand grenade, that with it\n",
    "thou mayst blow thine enemies to tiny bits, in thy mercy.\" \n",
    "And the Lord did grin. And the people did feast upon the lambs, \n",
    "and sloths, and carp, and anchovies, and orangutans, and \n",
    "breakfast cereals, and fruit bats, and large chu...\"\"\"\n",
    "\n",
    "def contar_vocales(my_string):\n",
    "  my_string = my_string.lower()\n",
    "  lista_vocales_totales = []\n",
    "  total_vocales = 0\n",
    "  for vocal in vowels:\n",
    "    total = 0\n",
    "    for letra in my_string:\n",
    "      if letra.lower() == vocal:\n",
    "        total += 1\n",
    "    if total > 0:\n",
    "      lista_vocales_totales.append([vocal,total])\n",
    "      total_vocales += total\n",
    "  for vocal in lista_vocales_totales:\n",
    "    vocal[1] = vocal[1] * 100 / total_vocales\n",
    "  return lista_vocales_totales   \n",
    "\n",
    "contar_vocales(text)"
   ]
  },
  {
   "cell_type": "code",
   "execution_count": 99,
   "id": "32e61fe6-4a90-4381-b26d-f1af498ae936",
   "metadata": {},
   "outputs": [
    {
     "name": "stdout",
     "output_type": "stream",
     "text": [
      "\n",
      "    a:35.16% , \n",
      "    e:25.27% , \n",
      "    i:19.78% , \n",
      "    o:13.19% , \n",
      "    u:6.59% \n"
     ]
    }
   ],
   "source": [
    "# solución de Vanessa\n",
    "\n",
    "text = \"\"\"And Saint Attila raised the hand grenade up on high,\n",
    "saying, \"O Lord, bless this thy hand grenade, that with it\n",
    "thou mayst blow thine enemies to tiny bits, in thy mercy.\" \n",
    "And the Lord did grin. And the people did feast upon the lambs, \n",
    "and sloths, and carp, and anchovies, and orangutans, and \n",
    "breakfast cereals, and fruit bats, and large chu...\"\"\"\n",
    "\n",
    "def percentage(text):\n",
    "    text = text.lower()\n",
    "    #print(text)\n",
    "    a = text.count('a')\n",
    "    e = text.count('e')\n",
    "    i = text.count('i')\n",
    "    o = text.count('o')\n",
    "    u = text.count('u')\n",
    "    output_string = f\"\"\"\n",
    "    a:{round(a/(a+e+i+o+u)*100,2)}% , \n",
    "    e:{round(e/(a+e+i+o+u)*100,2)}% , \n",
    "    i:{round(i/(a+e+i+o+u)*100,2)}% , \n",
    "    o:{round(o/(a+e+i+o+u)*100,2)}% , \n",
    "    u:{round(u/(a+e+i+o+u)*100,2)}% \"\"\"\n",
    "    return output_string\n",
    "\n",
    "print(percentage(text))"
   ]
  },
  {
   "cell_type": "code",
   "execution_count": 97,
   "id": "b9ab05e7-2277-4ff4-bfa8-e25283944547",
   "metadata": {},
   "outputs": [
    {
     "name": "stdout",
     "output_type": "stream",
     "text": [
      "a: 35.16% \n",
      "e: 25.27% \n",
      "i: 19.78% \n",
      "o: 13.19% \n",
      "u: 6.59% \n",
      "\n"
     ]
    }
   ],
   "source": [
    "# solución de Fran\n",
    "\n",
    "def cuenta_vocales(texto):\n",
    "    texto = texto.lower()\n",
    "    a = texto.count('a')\n",
    "    e = texto.count('e')\n",
    "    i = texto.count('i')\n",
    "    o = texto.count('o')\n",
    "    u = texto.count('u')\n",
    "    total_vocales = a+e+i+o+u\n",
    "    porcentaje_a = (a/total_vocales) * 100\n",
    "    porcentaje_e = (e/total_vocales) * 100\n",
    "    porcentaje_i = (i/total_vocales) * 100\n",
    "    porcentaje_o = (o/total_vocales) * 100\n",
    "    porcentaje_u = (u/total_vocales) * 100\n",
    "    string = 'a: {:.2f}% \\ne: {:.2f}% \\ni: {:.2f}% \\no: {:.2f}% \\nu: {:.2f}% \\n'.format(porcentaje_a, porcentaje_e, porcentaje_i, porcentaje_o, porcentaje_u)\n",
    "    return string\n",
    "\n",
    "print(cuenta_vocales(text))"
   ]
  },
  {
   "cell_type": "markdown",
   "id": "e7ff09a0-2c4e-4a2c-9adf-f6aafb6778cf",
   "metadata": {},
   "source": [
    "#### 6 - Entre corchetes\n",
    "\n",
    "El texto siguiente contiene varias palabras que se encuentran entre corchetes. Define una función que reciba una string de entrada y imprima las palabras que se encuentren entre corchetes. Por ejemplo, del fragmento `'[a]n example [ string]'` la función que definas deberia imprimir `'a string'`."
   ]
  },
  {
   "cell_type": "code",
   "execution_count": 100,
   "id": "75b20a6e-604b-45a4-915a-1f979d06196a",
   "metadata": {},
   "outputs": [
    {
     "ename": "IndentationError",
     "evalue": "unexpected indent (3269942208.py, line 18)",
     "output_type": "error",
     "traceback": [
      "\u001b[0;36m  Cell \u001b[0;32mIn[100], line 18\u001b[0;36m\u001b[0m\n\u001b[0;31m    14:37\u001b[0m\n\u001b[0m    ^\u001b[0m\n\u001b[0;31mIndentationError\u001b[0m\u001b[0;31m:\u001b[0m unexpected indent\n"
     ]
    }
   ],
   "source": [
    "text = \"\"\"The quick, brown fox jumps over a lazy dog. DJs flock by when MTV ax quiz prog. \n",
    "Junk MTV quiz graced by fox whelps. [Never gonna ] Bawds jog, flick quartz, vex nymphs. \n",
    "[give you up\\n] Waltz, bad nymph, for quick jigs vex! Fox nymphs grab quick-jived waltz. \n",
    "Brick quiz whangs jumpy veldt fox. [Never ] Bright vixens jump; [gonna let ] dozy fowl \n",
    "quack. Quick wafting zephyrs vex bold Jim. Quick zephyrs blow, vexing daft Jim. Charged \n",
    "[you down\\n] fop blew my junk TV quiz. How quickly daft jumping zebras vex. Two driven \n",
    "jocks help fax my big quiz. Quick, Baz, get my woven flax jodhpurs! \"Now fax quiz Jack!\" \n",
    "my brave ghost pled. [Never ] Five quacking zephyrs jolt my wax bed. [gonna ] Flummoxed \n",
    "by job, kvetching W. zaps Iraq. Cozy sphinx waves quart jug of bad milk. [run around ] \n",
    "A very bad quack might jinx zippy fowls. Few quips galvanized the mock jury box. Quick \n",
    "brown dogs jump over the lazy fox. The jay, pig, fox, zebra, and my wolves quack! \n",
    "[and desert you] Blowzy red vixens fight for a quick jump. Joaquin Phoenix was gazed \n",
    "by MTV for luck. A wizard’s job is to vex chumps quickly in fog. Watch \"Jeopardy!\", \n",
    "Alex Trebek's fun TV quiz game.\"\"\"\n",
    "\n",
    "# escribe tu código aquí\n",
    "\n",
    "  14:37\n",
    "\n",
    "def find_between(texto):\n",
    "    # 1- Encontrar la primera ocurrencia del caracter \"[\" --> find nos retornia el indice.\n",
    "    # 2- Encontrar la primera ocurrencia del caracter \"]\" --> find nos retornia el indice\n",
    "    # 3- Retornar lo que esta en el medio texto[indice_caracter_1 +1: indice_caracter_2]\n",
    "    simbolo_1 = texto.find(\"[\")\n",
    "    simbolo_2 = texto.find(\"]\")\n",
    "    return texto[simbolo_1+1:simbolo_2]\n",
    "\n",
    "print(find_between(text))\n",
    "print(find_between(texto2))\n",
    "\n",
    "#print(text.count(\"[\"))\n",
    "#print(text.replace(\"[\" + find_between(text) + \"]\",  \"\"))\n",
    "\n",
    "# 1- Encontrar cuantas veces hay que iterar. Es decir, cuantas palabras hay entre corchetes/claudators\n",
    "# --> texto.count(\"[\") = n_veces\n",
    "# --> Crear string_vacio = \"\"\n",
    "# 2- Iterar n_veces:\n",
    "#      2.1  find_between(texto) --> Esto me encuentra el primer string que haya en el texto entre claudators/corchetes \n",
    "#                               --> me lo guardo string_vacio = string_vacio + find_between(texto)\n",
    "#      2.2. text = text.replace(\"[\" + find_between(text) + \"]\",  \"\") --> podemos sustituir \"[Never gonna]\" por \"\"\n",
    "# 3- Printar el string_vacio\n",
    "\n"
   ]
  },
  {
   "cell_type": "code",
   "execution_count": 101,
   "id": "71fd6357-099c-494b-b8ad-71d472ab3782",
   "metadata": {},
   "outputs": [
    {
     "name": "stdout",
     "output_type": "stream",
     "text": [
      "Never gonna \n",
      "give you up\n",
      "\n",
      "Never \n",
      "gonna let \n",
      "you down\n",
      "\n",
      "Never \n",
      "gonna \n",
      "run around \n",
      "and desert you\n"
     ]
    }
   ],
   "source": [
    "text = \"\"\"The quick, brown fox jumps over a lazy dog. DJs flock by when MTV ax quiz prog. \n",
    "Junk MTV quiz graced by fox whelps. [Never gonna ] Bawds jog, flick quartz, vex nymphs. \n",
    "[give you up\\n] Waltz, bad nymph, for quick jigs vex! Fox nymphs grab quick-jived waltz. \n",
    "Brick quiz whangs jumpy veldt fox. [Never ] Bright vixens jump; [gonna let ] dozy fowl \n",
    "quack. Quick wafting zephyrs vex bold Jim. Quick zephyrs blow, vexing daft Jim. Charged \n",
    "[you down\\n] fop blew my junk TV quiz. How quickly daft jumping zebras vex. Two driven \n",
    "jocks help fax my big quiz. Quick, Baz, get my woven flax jodhpurs! \"Now fax quiz Jack!\" \n",
    "my brave ghost pled. [Never ] Five quacking zephyrs jolt my wax bed. [gonna ] Flummoxed \n",
    "by job, kvetching W. zaps Iraq. Cozy sphinx waves quart jug of bad milk. [run around ] \n",
    "A very bad quack might jinx zippy fowls. Few quips galvanized the mock jury box. Quick \n",
    "brown dogs jump over the lazy fox. The jay, pig, fox, zebra, and my wolves quack! \n",
    "[and desert you] Blowzy red vixens fight for a quick jump. Joaquin Phoenix was gazed \n",
    "by MTV for luck. A wizard’s job is to vex chumps quickly in fog. Watch \"Jeopardy!\", \n",
    "Alex Trebek's fun TV quiz game.\"\"\"\n",
    "\n",
    "def find_between(texto):\n",
    "  while True:\n",
    "    inicio=texto.find(\"[\")\n",
    "    if inicio!= -1:\n",
    "      final=texto.find(\"]\")\n",
    "      print(texto[inicio+1 : final])\n",
    "      texto = texto[final+1 : len(texto)-1]\n",
    "    else:\n",
    "      break\n",
    "\n",
    "find_between(text)"
   ]
  },
  {
   "cell_type": "markdown",
   "id": "a763e8a7-7ab8-474e-b9cf-5f28446174d6",
   "metadata": {},
   "source": [
    "#### 7 - Secuencias de letras\n",
    "\n",
    "Escribe una función que reciba dos argumentos de entrada de tipo `int`. El primer argumento `n` se refiere a la enésima letra del abecedario (empezando por A=1) y el segundo argumento `d` hace referencia al número de posiciones *desplazadas*. La función tiene que imprimir dos líneas de letras: la primera línea tiene que empezar en la letra `n` y acabar en la letra `n-1`, por ejemplo si `n=3`, la línea tiene que ser CDEFGHIJKLMNOPQRSTUVWXYZAB. Tienes que considerar que el abecedario es circular, de manera que cuando se llega a la letra `n=Z` la letra siguiente es `n+1=A`. Todas las letras tienen que ser mayúsculas. La segunda línea tiene que imprimir la misma secuencia desplazada `d` posiciones, de manera que si en el ejemplo anterior `d=1`, la segunda sequencia tiene que ser DEFGHIJKLMNOPQRSTUVWXYZABC. Ten en cuenta solo las letras del abecedario inglés.\n",
    "\n",
    "Ejemplo -> `n=1`, `d=13`, output:\n",
    "\n",
    "```python\n",
    "'ABCDEFGHIJKLMNOPQRSTUVWXYZ'\n",
    "'NOPQRSTUVWXYZABCDEFGHIJKLM'\n",
    "```"
   ]
  },
  {
   "cell_type": "code",
   "execution_count": 129,
   "id": "ef5cc2a4-aa50-4a38-84b5-705ace674131",
   "metadata": {},
   "outputs": [
    {
     "name": "stdout",
     "output_type": "stream",
     "text": [
      "ABCDEFGHIJKLMNOPQRSTUVWXYZABCDEFGHIJKLMNOPQRSTUVWXYZABCDEFGHIJKLMNOPQRSTUVWXYZ\n",
      " \n",
      "HIJKLMNOPQRSTUVWXYZABCDEFG\n",
      "UVWXYZABCDEFGHIJKLMNOPQRST\n"
     ]
    }
   ],
   "source": [
    "# escribe tu código aquí\n",
    "\n",
    "\n",
    "alfabeto = 'ABCDEFGHIJKLMNOPQRSTUVWXYZ'\n",
    "alfabeto_por_3 = alfabeto*3\n",
    "print(alfabeto_por_3)\n",
    "print(\" \")\n",
    "\n",
    "def displace_alphabet(n, d):\n",
    "    \n",
    "    alfabeto1 = alfabeto_por_3[n : len(alfabeto) + n]\n",
    "    print(alfabeto1)\n",
    "    \n",
    "    alfabeto2 = alfabeto_por_3[n + d: len(alfabeto) + n + d]\n",
    "    print(alfabeto2)\n",
    "\n",
    "(displace_alphabet(7,13))\n",
    "\n",
    "    "
   ]
  },
  {
   "cell_type": "code",
   "execution_count": 145,
   "id": "0b083414-8c5d-4473-b595-665569a1cf20",
   "metadata": {
    "scrolled": true
   },
   "outputs": [
    {
     "name": "stdout",
     "output_type": "stream",
     "text": [
      "DEFGHIJKLMNOPQRSTUVWXYZABC\n",
      "HIJKLMNOPQRSTUVWXYZABCDEFG\n"
     ]
    }
   ],
   "source": [
    "\n",
    "# SOLUCIÓN de FRAN\n",
    "\n",
    "# Imaginemos n = 3, d = 5\n",
    "# --> los dos outputs:\n",
    "#  CDEFGHIJKLMNOPQRSTUVWXYZAB\n",
    "#  HIJKLMNOPQRSTUVWXYZABCDEFG\n",
    "\n",
    "def displace_alphabet(n, d):\n",
    "    alphabet= 'ABCDEFGHIJKLMNOPQRSTUVWXYZ'\n",
    "    double_alphabet = alphabet*4\n",
    "    alphabet_length = len(alphabet)\n",
    "    primer_desplazamiento = n\n",
    "    segundo_desplazamiento = n + d\n",
    "    print(double_alphabet[primer_desplazamiento-1: primer_desplazamiento -1 + alphabet_length])\n",
    "    print(double_alphabet[segundo_desplazamiento-1: segundo_desplazamiento -1 + alphabet_length])\n",
    "\n",
    "displace_alphabet(4, 4)"
   ]
  },
  {
   "cell_type": "code",
   "execution_count": 148,
   "id": "ebafec65-1bae-45db-87c7-f0d76ffc57b8",
   "metadata": {},
   "outputs": [],
   "source": [
    "def displace_alphabet(n,d):\n",
    "    #guardo el abecedario en una variable dentro de la función\n",
    "    alphabet = 'ABCDEFGHIJKLMNOPQRSTUVWXYZ'\n",
    "    \n",
    "    # Para obtener la primera secuencia, igualamos la variable inicio a [n-1:] que indica: desde la letra en posición n-1 hasta el final´\n",
    "    start_alphabet = alphabet[n-1:]\n",
    "    end_alphabet = alphabet[:n-1] #desde el inicio hasta la letra anterior a n\n",
    "    first_print = start_alphabet + end_alphabet\n",
    "\n",
    "    #generamos la segunda línea con el desplazamiento\n",
    "    second_print = first_print[d:] + first_print[:d]\n",
    "\n",
    "    #imprimimos las secuencias\n",
    "    print(first_print)\n",
    "    print(second_print)\n",
    "    \n",
    "  "
   ]
  },
  {
   "cell_type": "markdown",
   "id": "cf9f26c8-362d-4906-9f49-6d0ec1e66dbf",
   "metadata": {},
   "source": [
    "#### 8 - Dónde está *wood*?\n",
    "\n",
    "Escribe una función que encuentre cuantas veces aparece la palabra `'wood'` al texto que tienes a continuación. Tienes que contar tanto los que estén escritos en mayúscula como en minúscula. Además, tienes que contar los *wood* que formen parte de una palabra más larga, como por ejemplo *woodchuck*."
   ]
  },
  {
   "cell_type": "code",
   "execution_count": 159,
   "id": "73772e4b-5811-4acb-9a77-5d0047b83472",
   "metadata": {},
   "outputs": [
    {
     "name": "stdout",
     "output_type": "stream",
     "text": [
      "9\n"
     ]
    }
   ],
   "source": [
    "text = \"\"\"Wood\n",
    "How much wood would a woodchuck chuck\n",
    "If a woodchuck could chuck wood?\n",
    "He would chuck, he would, as much as he could,\n",
    "And chuck as much as a woodchuck would\n",
    "If a woodchuck could chuck wood.\n",
    "woodaflux\"\"\"\n",
    "\n",
    "# escriu el teu codi aquí\n",
    "# 1- Transformar texto a minuscula\n",
    "# 2- Contar cuantas veces aparece wood\n",
    "\n",
    "def find_wood(text):\n",
    "    return text.lower().count(\"wood\")\n",
    "print(find_wood(text))"
   ]
  },
  {
   "cell_type": "code",
   "execution_count": 160,
   "id": "21d61416-0da7-474f-a6ad-7fd3278eeeb2",
   "metadata": {},
   "outputs": [
    {
     "name": "stdout",
     "output_type": "stream",
     "text": [
      "9\n"
     ]
    }
   ],
   "source": [
    "text = \"\"\"Wood\n",
    "How much wood would a woodchuck chuck\n",
    "If a woodchuck could chuck wood?\n",
    "He would chuck, he would, as much as he could,\n",
    "And chuck as much as a woodchuck would\n",
    "If a woodchuck could chuck wood.\n",
    "woodaflux\"\"\"\n",
    "\n",
    "# escriu el teu codi aquí\n",
    "# 1- Transformar texto a minuscula\n",
    "# 2- Contar cuantas veces aparece wood\n",
    "\n",
    "def find_wood(text):\n",
    "    text = text.lower()\n",
    "    count_wood = text.count(\"wood\")\n",
    "    return count_wood\n",
    "    #return text.lower().count(\"wood\")\n",
    "\n",
    "print(find_wood(text))"
   ]
  },
  {
   "cell_type": "code",
   "execution_count": null,
   "id": "8bf7b1ae-4926-4060-a0f8-e813d6c38fed",
   "metadata": {},
   "outputs": [],
   "source": []
  }
 ],
 "metadata": {
  "kernelspec": {
   "display_name": "Python 3 (ipykernel)",
   "language": "python",
   "name": "python3"
  },
  "language_info": {
   "codemirror_mode": {
    "name": "ipython",
    "version": 3
   },
   "file_extension": ".py",
   "mimetype": "text/x-python",
   "name": "python",
   "nbconvert_exporter": "python",
   "pygments_lexer": "ipython3",
   "version": "3.11.10"
  }
 },
 "nbformat": 4,
 "nbformat_minor": 5
}
