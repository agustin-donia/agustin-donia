{
 "cells": [
  {
   "cell_type": "markdown",
   "id": "10123d30-4616-4287-96ec-c603371f4a76",
   "metadata": {
    "tags": []
   },
   "source": [
    "<h2> Diccionarios </h2>"
   ]
  },
  {
   "cell_type": "markdown",
   "id": "38677395-f392-4dcf-ba29-30192a183748",
   "metadata": {},
   "source": [
    "**Usa typing en todas las funciones que definas**"
   ]
  },
  {
   "cell_type": "code",
   "execution_count": null,
   "id": "bda8d5af-4a07-48dd-91f9-428268f6c539",
   "metadata": {},
   "outputs": [],
   "source": [
    "from typing import Dict\n",
    "from typing import List\n",
    "from typing import Tuple\n",
    "from typing import Union"
   ]
  },
  {
   "cell_type": "markdown",
   "id": "4b00a001-b4f4-47e7-aeb5-667d5545ec1a",
   "metadata": {},
   "source": [
    "Para los próximos ejercicios usaremos una lista de diccionarios. Esta lista representa un tablero de juego donde la información de cada jugador está guardada en un diccionario. Cada diccionario tiene 4 keys:\n",
    "\n",
    "- `player`: el nombre del jugador (`str`)\n",
    "- `score`: la puntuación del jugador (`int`)\n",
    "- `country`: el país del jugador (`str`)\n",
    "- `levels`: una lista con los niveles que ha superado el jugador hasta legar al nivel actual (`list`)\n",
    "\n",
    "Todas las keys de los diccionarios de la lista `scoreboard` son strings, aunque no necesariamente es siempre así."
   ]
  },
  {
   "cell_type": "code",
   "execution_count": 11,
   "id": "d14fda7c-440e-4c5e-91ee-a45d70e466c7",
   "metadata": {},
   "outputs": [],
   "source": [
    "scoreboard = [{\n",
    "   'player': 'tr0llhuntah',\n",
    "   'score': 200,\n",
    "   'country': 'no',\n",
    "   'levels': ['Choco Mountain', \"Happy Hill\"]\n",
    "    },\n",
    "   {'player': 'mUssaK4',\n",
    "   'score': 300,\n",
    "   'country': 'USA',\n",
    "   'levels': ['Choco Mountain', 'Rainbow Road', 'Foggy Swamp']\n",
    "   },\n",
    "   {'player': 'Seito99',\n",
    "   'score': 290,\n",
    "   'country': 'Georgia',\n",
    "   'levels': ['Choco Mountain', 'Rainbow Road', 'Foggy Swamp', 'Paradise Beach']\n",
    "   },\n",
    "   {'player': 'Kamacus',\n",
    "   'score': 185,\n",
    "   'country': 'Georgia',\n",
    "   'levels': ['Choco Mountain']\n",
    "   },\n",
    "   {'player': 'trosdase28',\n",
    "    'score': 190,\n",
    "    'country': 'Andorra',\n",
    "    'levels': ['Choco Mountain', \"Happy Hill\"]\n",
    "   },\n",
    "   {'player': 'shinuaA',\n",
    "   'score': 380,\n",
    "   'country': 'USA',\n",
    "   'levels': ['Choco Mountain', 'Rainbow Road', 'Foggy Swamp', 'Paradise Beach', 'Endless Stream']\n",
    "   },\n",
    "   {'player': 'LaB3est',\n",
    "   'score': 410,\n",
    "   'country': 'Chad',\n",
    "   'levels': ['Choco Mountain', 'Rainbow Road', 'Foggy Swamp', 'Paradise Beach', 'Endless Stream']}]"
   ]
  },
  {
   "cell_type": "markdown",
   "id": "a661f890-fd11-483f-b9e9-1dd9e624d46b",
   "metadata": {},
   "source": [
    "#### 1 - Accediendo valores\n",
    "\n",
    "Imprime los nombres de todos los jugadores del tablero de juego."
   ]
  },
  {
   "cell_type": "code",
   "execution_count": 15,
   "id": "eaa4d305-d572-4125-933d-ae1f374364cb",
   "metadata": {},
   "outputs": [
    {
     "name": "stdout",
     "output_type": "stream",
     "text": [
      "tr0llhuntah\n",
      "mUssaK4\n",
      "Seito99\n",
      "Kamacus\n",
      "trosdase28\n",
      "shinuaA\n",
      "LaB3est\n"
     ]
    }
   ],
   "source": [
    "# escriu el teu codi aquí\n",
    "# 1- iterar sobre scoreboard\n",
    "# 2- Cada elemento es un diccionario, printar la palabra clave \"player\"\n",
    "\n",
    "for element in scoreboard:\n",
    "    print(element[\"player\"])\n"
   ]
  },
  {
   "cell_type": "code",
   "execution_count": 34,
   "id": "aa29f91e-a343-4bb8-b12b-c8b7660b1ab3",
   "metadata": {},
   "outputs": [
    {
     "name": "stdout",
     "output_type": "stream",
     "text": [
      "tr0llhuntah\n",
      "mUssaK4\n",
      "Seito99\n",
      "Kamacus\n",
      "trosdase28\n",
      "shinuaA\n",
      "LaB3est\n"
     ]
    }
   ],
   "source": [
    "#SOLUCION FRAN\n",
    "\n",
    "for element in scoreboard:\n",
    "    print(element[\"player\"])"
   ]
  },
  {
   "cell_type": "markdown",
   "id": "889f77a1-d8da-4cd2-99ac-aeaec6658beb",
   "metadata": {
    "tags": []
   },
   "source": [
    "#### 2 - Mejor jugador\n",
    "\n",
    "Define una función llamada `best_player` que reciba de entrada el tablero de juego (lista de diccionarios) y devuelva el nombre del jugador con la puntuación más alta."
   ]
  },
  {
   "cell_type": "code",
   "execution_count": 24,
   "id": "f709ebe6-6033-46f1-9078-e7e2dd3dfef2",
   "metadata": {},
   "outputs": [
    {
     "name": "stdout",
     "output_type": "stream",
     "text": [
      "('LaB3est', 410)\n"
     ]
    }
   ],
   "source": [
    "\n",
    "scoreboard = [{\n",
    "   'player': 'tr0llhuntah',\n",
    "   'score': 200,\n",
    "   'country': 'no',\n",
    "   'levels': ['Choco Mountain', \"Happy Hill\"]\n",
    "    },\n",
    "   {'player': 'mUssaK4',\n",
    "   'score': 300,\n",
    "   'country': 'USA',\n",
    "   'levels': ['Choco Mountain', 'Rainbow Road', 'Foggy Swamp']\n",
    "   },\n",
    "   {'player': 'Seito99',\n",
    "   'score': 290,\n",
    "   'country': 'Georgia',\n",
    "   'levels': ['Choco Mountain', 'Rainbow Road', 'Foggy Swamp', 'Paradise Beach']\n",
    "   },\n",
    "   {'player': 'Kamacus',\n",
    "   'score': 185,\n",
    "   'country': 'Georgia',\n",
    "   'levels': ['Choco Mountain']\n",
    "   },\n",
    "   {'player': 'trosdase28',\n",
    "    'score': 190,\n",
    "    'country': 'Andorra',\n",
    "    'levels': ['Choco Mountain', \"Happy Hill\"]\n",
    "   },\n",
    "   {'player': 'shinuaA',\n",
    "   'score': 380,\n",
    "   'country': 'USA',\n",
    "   'levels': ['Choco Mountain', 'Rainbow Road', 'Foggy Swamp', 'Paradise Beach', 'Endless Stream']\n",
    "   },\n",
    "   {'player': 'LaB3est',\n",
    "   'score': 410,\n",
    "   'country': 'Chad',\n",
    "   'levels': ['Choco Mountain', 'Rainbow Road', 'Foggy Swamp', 'Paradise Beach', 'Endless Stream']}]\n",
    "\n",
    "# escriu el teu codi aquí\n",
    "# 1- Definir variable puntuacion_mas_alta = -100000000000\n",
    "#     max_scorer = None\n",
    "# 2- Iterar sobre scoreboard\n",
    "# 3- Comprobar si elemento[\"score\"] > puntuacion mas alta\n",
    "# 4- Si es asi, sustituir la puntuacion mas alta --> Ademas, me guardo el nombre del jugador en max_scorer\n",
    "\n",
    "def best_player(my_scoreboard):\n",
    "    hi_score = - 100\n",
    "    mejor_jugador = \"\"\n",
    "    \n",
    "    for element in scoreboard:\n",
    "        if element[\"score\"] > hi_score:\n",
    "            hi_score = element[\"score\"]\n",
    "            mejor_jugador = element[\"player\"]\n",
    "    return mejor_jugador, element[\"score\"]\n",
    "    \n",
    "print(best_player(scoreboard))"
   ]
  },
  {
   "cell_type": "code",
   "execution_count": 36,
   "id": "6e9ba93c-3a7b-40cb-ab9b-caf9f9d46a71",
   "metadata": {},
   "outputs": [
    {
     "name": "stdout",
     "output_type": "stream",
     "text": [
      "LaB3est\n"
     ]
    }
   ],
   "source": [
    "#SOLUCION DE FRAN\n",
    "\n",
    "def best_player(scoreboard):\n",
    "    max_score = - 9999999\n",
    "    max_scorer = None\n",
    "    for element in scoreboard:\n",
    "        name = element[\"player\"]\n",
    "        score = element[\"score\"]\n",
    "        if score > max_score:\n",
    "            max_score = score\n",
    "            max_scorer = name\n",
    "        \n",
    "\n",
    "    return max_scorer\n",
    "\n",
    "print(best_player(scoreboard))"
   ]
  },
  {
   "cell_type": "code",
   "execution_count": 39,
   "id": "1df853a6-6552-4b5b-a602-761ab39861aa",
   "metadata": {},
   "outputs": [
    {
     "name": "stdout",
     "output_type": "stream",
     "text": [
      "LaB3est\n"
     ]
    }
   ],
   "source": [
    "# otra manera de encontrar el valor máximo\n",
    "# versión más pythoneana\n",
    "\n",
    "def best_player(scoreboard):\n",
    "    max_scorer = max(scoreboard, key = get_score)\n",
    "    return max_scorer[\"player\"]\n",
    "\n",
    "def get_score(element):\n",
    "    return element[\"score\"]\n",
    "\n",
    "print(best_player(scoreboard))\n"
   ]
  },
  {
   "cell_type": "markdown",
   "id": "48438ff0-e9ae-418b-9245-e27705c34ef7",
   "metadata": {},
   "source": [
    "#### 3 - Buenos jugadores\n",
    "\n",
    "Define una función llamada `good_players` con dos argumentos:\n",
    "\n",
    "- El tablero de juego\n",
    "- Una puntuación a determinar por el usuario\n",
    "\n",
    "`good_players` tiene que devolver una lista con los nombres de todos los jugadores con una puntuación más alta o igual que la escogida por el usuario."
   ]
  },
  {
   "cell_type": "code",
   "execution_count": 31,
   "id": "239dcbd0-48a9-407c-be3c-66612e916f89",
   "metadata": {},
   "outputs": [
    {
     "name": "stdout",
     "output_type": "stream",
     "text": [
      "['tr0llhuntah', 'mUssaK4', 'Seito99', 'shinuaA', 'LaB3est']\n"
     ]
    }
   ],
   "source": [
    "# escribe tu código aquí\n",
    "\n",
    "\n",
    "#def good_players(my_scoreboard, score):\n",
    " #   buen_jugador = \n",
    "    \n",
    "  #  for element in scoreboard:\n",
    "   #     if element[\"score\"] > score:\n",
    "    #        buen_jugador.append(element[\"player\"])\n",
    "            \n",
    "    \n",
    "     #   return buen_jugador\n",
    "# print(good_players(scoreboard, 50))\n",
    "\n",
    "\n",
    "def good_players(my_scoreboard, puntuacion): \n",
    "  lista_mejores = []\n",
    "  for element in scoreboard:\n",
    "    if element[\"score\"] >= puntuacion:\n",
    "      lista_mejores.append(element[\"player\"])\n",
    "  return lista_mejores\n",
    "\n",
    "print(good_players(scoreboard,200))"
   ]
  },
  {
   "cell_type": "code",
   "execution_count": 43,
   "id": "99a9cc38-e63e-40dd-a8f6-1fe1c8d3fc88",
   "metadata": {},
   "outputs": [
    {
     "name": "stdout",
     "output_type": "stream",
     "text": [
      "['tr0llhuntah', 'mUssaK4', 'Seito99', 'Kamacus', 'trosdase28', 'shinuaA', 'LaB3est']\n"
     ]
    }
   ],
   "source": [
    "# FRAN\n",
    "\n",
    "\n",
    "# 1 comprobar para cada jugador si score > threshold\n",
    "# 2 si supera, guardo en lista\n",
    "# 3 retorno lista con nombres\n",
    "\n",
    "def good_players(scoreboard, threshold):\n",
    "    jugadores_buenos = []\n",
    "    for element in scoreboard:\n",
    "        score = element[\"score\"]\n",
    "        name = element[\"player\"]\n",
    "        if score >= threshold:\n",
    "            jugadores_buenos.append(name)\n",
    "    return jugadores_buenos\n",
    "\n",
    "print(good_players(scoreboard, 100))\n",
    "    "
   ]
  },
  {
   "cell_type": "code",
   "execution_count": 52,
   "id": "4a4b3f95-fc82-4ef0-9d43-6d6a156b4280",
   "metadata": {},
   "outputs": [
    {
     "name": "stdout",
     "output_type": "stream",
     "text": [
      "['mUssaK4', 'shinuaA', 'LaB3est']\n"
     ]
    }
   ],
   "source": [
    "def good_players_v2(scoreboard, threshold):\n",
    "    return [element[\"player\"] \n",
    "            for element in scoreboard \n",
    "            if element[\"score\"] >= threshold]\n",
    "\n",
    "print(good_players_v2(scoreboard, 300))"
   ]
  },
  {
   "cell_type": "markdown",
   "id": "3888ba15-253d-4a35-8c16-6464e4272c13",
   "metadata": {},
   "source": [
    "#### 4 - Mejor jugador del país\n",
    "\n",
    "Define una función llamada `top_player_country` con dos argumentos:\n",
    "\n",
    "- El tablero de juego\n",
    "- El nombre de un país (`str`)\n",
    "\n",
    "`top_player_country` tiene que devolver el nombre (`str`) del jugador con la puntuación más alta del país elegido. En caso de recibir un país que no figure en el tablero, `top_player_country` tiene que levantar un `ValueError` con el siguiente mensaje:\n",
    "\n",
    "```python\n",
    "'the country provided does not appear on the scoreboard'\n",
    "```"
   ]
  },
  {
   "cell_type": "code",
   "execution_count": null,
   "id": "8add8ab7-8c0a-438a-aac2-4682fa03cd85",
   "metadata": {},
   "outputs": [],
   "source": []
  },
  {
   "cell_type": "code",
   "execution_count": null,
   "id": "17016837-6e54-44da-a666-abd6796c2fff",
   "metadata": {},
   "outputs": [],
   "source": [
    "# escribe tu código aquí\n",
    "\n",
    "\n",
    "def top_player_country(my_scoreboard, pais):\n",
    "    \n",
    "\n",
    "\n",
    "# 'the country provided does not appear on the scoreboard'"
   ]
  },
  {
   "cell_type": "markdown",
   "id": "e29fffc8-2785-421c-a6bb-12411226cce2",
   "metadata": {
    "tags": []
   },
   "source": [
    "#### 5 - Más niveles jugados\n",
    "\n",
    "Define una función llamada `most_levels_played` con un parámetro de entrada, el tablero de juego, que devuelva una tupla (`str`, `int`) con el nombre del jugador que ha jugado más niveles y el número de niveles jugados. En caso de que haya más de un jugador con el mismo número de niveles jugados, devuelve una lista de tuplas."
   ]
  },
  {
   "cell_type": "code",
   "execution_count": null,
   "id": "b9bd7817-4e8f-4956-b5f9-af3b5c817375",
   "metadata": {},
   "outputs": [],
   "source": [
    "# escribe tu código aquí"
   ]
  },
  {
   "cell_type": "markdown",
   "id": "62b6764b-7c86-4c98-bc3e-60d699667028",
   "metadata": {},
   "source": [
    "#### 6 - Niveles jugados\n",
    "\n",
    "Define una función llamada `played_levels` que tenga un parámetro `scoreboard` que represente el tablero de juego. La función debe devolver una lista de strings con los nombres de todos los niveles que haya jugado cualquier usuario. La lista puede tener elementos duplicados."
   ]
  },
  {
   "cell_type": "code",
   "execution_count": null,
   "id": "7cdde491-69f3-42ef-a1c3-3cba673b8dd7",
   "metadata": {},
   "outputs": [],
   "source": [
    "# escribe tu código aquí"
   ]
  },
  {
   "cell_type": "markdown",
   "id": "5c36d068-66d7-4cdc-ac6e-0e326c533c31",
   "metadata": {},
   "source": [
    "#### 7 - Redefiniendo diccionarios\n",
    "\n",
    "Crea dos diccionarios nuevos:\n",
    "\n",
    "- Uno donde las keys sean los nombres de los jugadores y los values sean los países correspondientes.\n",
    "- Uno donde las keys sean las puntuaciones y los values sean las listas de los niveles que hayan jugado."
   ]
  },
  {
   "cell_type": "code",
   "execution_count": null,
   "id": "ab1de916-70fa-42bf-85f9-35b2d7b45bbe",
   "metadata": {},
   "outputs": [],
   "source": [
    "# escribe tu código aquí"
   ]
  }
 ],
 "metadata": {
  "kernelspec": {
   "display_name": "Python 3 (ipykernel)",
   "language": "python",
   "name": "python3"
  },
  "language_info": {
   "codemirror_mode": {
    "name": "ipython",
    "version": 3
   },
   "file_extension": ".py",
   "mimetype": "text/x-python",
   "name": "python",
   "nbconvert_exporter": "python",
   "pygments_lexer": "ipython3",
   "version": "3.11.10"
  }
 },
 "nbformat": 4,
 "nbformat_minor": 5
}
