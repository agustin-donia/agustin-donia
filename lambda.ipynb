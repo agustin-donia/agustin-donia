{
 "cells": [
  {
   "cell_type": "markdown",
   "metadata": {},
   "source": [
    "<h2> Lambda</h2>"
   ]
  },
  {
   "cell_type": "code",
   "execution_count": 4,
   "metadata": {},
   "outputs": [],
   "source": [
    "from typing import Any\n",
    "from typing import Dict\n",
    "from typing import List\n",
    "from typing import Tuple"
   ]
  },
  {
   "cell_type": "markdown",
   "metadata": {
    "tags": []
   },
   "source": [
    "#### Lista de ventas\n",
    "\n",
    "Tenemos a continuación una lista de registros de ventas, donde cada registro es un diccionario que contiene el nombre del producto, la cantidad vendida y el precio por unidad."
   ]
  },
  {
   "cell_type": "code",
   "execution_count": 5,
   "metadata": {},
   "outputs": [],
   "source": [
    "sales = [\n",
    "    {'product': 'apple', 'quantity': 10, 'price': 1.2},\n",
    "    {'product': 'banana', 'quantity': 5, 'price': 0.5},\n",
    "    {'product': 'cherry', 'quantity': 20, 'price': 3},\n",
    "    {'product': 'apple', 'quantity': 6, 'price': 1.2},\n",
    "    {'product': 'banana', 'quantity': 10, 'price': 0.5},\n",
    "    {'product': 'cherry', 'quantity': 5, 'price': 3}\n",
    "]"
   ]
  },
  {
   "cell_type": "markdown",
   "metadata": {},
   "source": [
    "#### 1 - Ingresos\n",
    "\n",
    "Define una función que calcule el ingreso total de cada producto y devuelva una lista de tuplas con el nombre del producto y su ingreso total. A continuación, usa `sorted` y `lambda` para ordenar la lista de menor a mayor ingreso."
   ]
  },
  {
   "cell_type": "code",
   "execution_count": 21,
   "metadata": {},
   "outputs": [
    {
     "name": "stdout",
     "output_type": "stream",
     "text": [
      "[('apple', 19.2), ('banana', 7.5), ('cherry', 75)]\n"
     ]
    }
   ],
   "source": [
    "# escribe tu código aquí\n",
    "sales = [\n",
    "    {'product': 'apple', 'quantity': 10, 'price': 1.2},\n",
    "    {'product': 'banana', 'quantity': 5, 'price': 0.5},\n",
    "    {'product': 'cherry', 'quantity': 20, 'price': 3},\n",
    "    {'product': 'apple', 'quantity': 6, 'price': 1.2},\n",
    "    {'product': 'banana', 'quantity': 10, 'price': 0.5},\n",
    "    {'product': 'cherry', 'quantity': 5, 'price': 3}\n",
    "]\n",
    "\n",
    "def calcular_ingreso(ventas):\n",
    "  lista_productos = []\n",
    "  lista_apple_ingreso = []\n",
    "  lista_banana_ingreso = []\n",
    "  lista_cherry_ingreso = []\n",
    "  for producto in ventas:\n",
    "    if producto[\"product\"] == \"apple\":\n",
    "      lista_apple_ingreso.append(producto[\"quantity\"] * producto[\"price\"])\n",
    "    elif producto[\"product\"] == \"banana\":\n",
    "      lista_banana_ingreso.append(producto[\"quantity\"] * producto[\"price\"])\n",
    "    elif producto[\"product\"] == \"cherry\":\n",
    "      lista_cherry_ingreso.append(producto[\"quantity\"] * producto[\"price\"])\n",
    "  lista_productos.append((\"apple\",sum(lista_apple_ingreso)))   \n",
    "  lista_productos.append((\"banana\",sum(lista_banana_ingreso)))\n",
    "  lista_productos.append((\"cherry\",sum(lista_cherry_ingreso)))\n",
    "  return lista_productos\n",
    "\n",
    "print(calcular_ingreso(sales))\n",
    "\n",
    "\n",
    "            \n",
    "        "
   ]
  },
  {
   "cell_type": "code",
   "execution_count": 23,
   "metadata": {},
   "outputs": [
    {
     "data": {
      "text/plain": [
       "[('banana', 7.5), ('apple', 19.2), ('cherry', 75)]"
      ]
     },
     "execution_count": 23,
     "metadata": {},
     "output_type": "execute_result"
    }
   ],
   "source": [
    "#solución de Fran\n",
    "sales = [\n",
    "    {'product': 'apple', 'quantity': 10, 'price': 1.2},\n",
    "    {'product': 'banana', 'quantity': 5, 'price': 0.5},\n",
    "    {'product': 'cherry', 'quantity': 20, 'price': 3},\n",
    "    {'product': 'apple', 'quantity': 6, 'price': 1.2},\n",
    "    {'product': 'banana', 'quantity': 10, 'price': 0.5},\n",
    "    {'product': 'cherry', 'quantity': 5, 'price': 3}\n",
    "]\n",
    "\n",
    "def compute_total_income(sales):\n",
    "    total_income = {} # El objetivo es ir llenando esto con {\"nombre_producto\": ingresos}\n",
    "    for sale in sales:\n",
    "        sale_product = sale[\"product\"]                 # Me estoy guardando el nombre del producto (\"Apple\", \" Banana\" o \"Cherry\")\n",
    "        sale_income = sale[\"quantity\"] * sale[\"price\"] # El precio de la venta = Cantidad de unidades * Precio por unidad\n",
    "        if sale_product in total_income.keys():        #Compruebo si ya me he encontrado una venta antes de sale_product\n",
    "            total_income[sale_product] = total_income[sale_product] + sale_income # Si lo encuentro, lo añado al contador\n",
    "        else:\n",
    "            total_income[sale_product] = sale_income   # Si no he encontrado la palabra clave, tengo que crearla e inicializarla. \n",
    "    tuple_list =  total_income.items()\n",
    "    return sorted(tuple_list, key=lambda element: element[1])\n",
    "\n",
    "compute_total_income(sales)"
   ]
  },
  {
   "cell_type": "code",
   "execution_count": 26,
   "metadata": {},
   "outputs": [
    {
     "name": "stdout",
     "output_type": "stream",
     "text": [
      "[('banana', 7.5), ('apple', 19.2), ('cherry', 75)]\n"
     ]
    }
   ],
   "source": [
    "# otra forma, la nuestra incompleta \n",
    "\n",
    "\n",
    "def calcular_ingreso(ventas):\n",
    "  lista_productos = []\n",
    "  lista_apple_ingreso = []\n",
    "  lista_banana_ingreso = []\n",
    "  lista_cherry_ingreso = []\n",
    "  for producto in ventas:\n",
    "    if producto[\"product\"] == \"apple\":\n",
    "      lista_apple_ingreso.append(producto[\"quantity\"] * producto[\"price\"])\n",
    "    elif producto[\"product\"] == \"banana\":\n",
    "      lista_banana_ingreso.append(producto[\"quantity\"] * producto[\"price\"])\n",
    "    elif producto[\"product\"] == \"cherry\":\n",
    "      lista_cherry_ingreso.append(producto[\"quantity\"] * producto[\"price\"])\n",
    "  lista_productos.append((\"apple\",sum(lista_apple_ingreso)))   \n",
    "  lista_productos.append((\"banana\",sum(lista_banana_ingreso)))\n",
    "  lista_productos.append((\"cherry\",sum(lista_cherry_ingreso)))\n",
    "  return sorted(lista_productos, key=lambda tupla_de_tuple_list: tupla_de_tuple_list[1])\n",
    "\n",
    "print(calcular_ingreso(sales))\n",
    "\n"
   ]
  },
  {
   "cell_type": "code",
   "execution_count": null,
   "metadata": {},
   "outputs": [],
   "source": []
  },
  {
   "cell_type": "markdown",
   "metadata": {},
   "source": [
    "#### 2 - Producto más caro\n",
    "\n",
    "Escribe una función que encuentre el producto más caro y devuelva una tupla con el nombre y el precio. Usa `lambda` para encontrar ese producto. A continuación, imprime el siguiente mensaje:\n",
    "\n",
    "```python\n",
    "'The most expensive product is ' + product + ' and costs ' + str(price) + '€'\n",
    "```"
   ]
  },
  {
   "cell_type": "code",
   "execution_count": null,
   "metadata": {},
   "outputs": [],
   "source": [
    "sales = [\n",
    "    {'product': 'apple', 'quantity': 10, 'price': 1.2},\n",
    "    {'product': 'banana', 'quantity': 5, 'price': 0.5},\n",
    "    {'product': 'cherry', 'quantity': 20, 'price': 3},\n",
    "    {'product': 'apple', 'quantity': 6, 'price': 1.2},\n",
    "    {'product': 'banana', 'quantity': 10, 'price': 0.5},\n",
    "    {'product': 'cherry', 'quantity': 5, 'price': 3}\n",
    "]\n",
    "\n",
    "# usamos la función max(key = funcion_de_transformación\n",
    "\n",
    "# 'The most expensive product is ' + product + ' and costs ' + str(price) + '€'\n",
    "\n",
    "# forma clásica\n",
    "# 1 definir precio máximo = - 9999; producto_precio_max = None\n",
    "# 2 iterar sobre la lista de ventas\n",
    "#    2.1 comprobar si precio > precio_max\n",
    "#    2.2. si es mayor, sustituyo"
   ]
  },
  {
   "cell_type": "code",
   "execution_count": null,
   "metadata": {},
   "outputs": [],
   "source": [
    "# escribe tu código aquí\n",
    "\n",
    "\n"
   ]
  },
  {
   "cell_type": "markdown",
   "metadata": {},
   "source": [
    "#### 3 - Producto más barato\n",
    "\n",
    "Escribe una función que calcule el valor total de todas las compras del producto más barato. Usa `lambda` para encontrar este valor."
   ]
  },
  {
   "cell_type": "code",
   "execution_count": null,
   "metadata": {},
   "outputs": [],
   "source": [
    "# escribe tu código aquí"
   ]
  },
  {
   "cell_type": "markdown",
   "metadata": {},
   "source": [
    "#### Bibliotecas\n",
    "\n",
    "A continuación tienes un archivo de datos que representa información sobre una biblioteca, incluyendo libros, autores y préstamos."
   ]
  },
  {
   "cell_type": "code",
   "execution_count": 3,
   "metadata": {},
   "outputs": [],
   "source": [
    "biblioteca = {\n",
    "    \"libros\": {\n",
    "        \"001\": {\"titulo\": \"Cien años de soledad\", \"autor\": \"Gabriel García Márquez\", \"año\": 1967},\n",
    "        \"002\": {\"titulo\": \"1984\", \"autor\": \"George Orwell\", \"año\": 1949},\n",
    "        \"003\": {\"titulo\": \"La Odisea\", \"autor\": \"Homero\", \"año\": -800},\n",
    "        \"004\": {\"titulo\": \"El principito\", \"autor\": \"Antoine de Saint-Exupéry\", \"año\": 1943},\n",
    "        \"005\": {\"titulo\": \"Memoria de mis putas tristes\", \"autor\": \"Gabriel García Márquez\", \"año\": 2004}\n",
    "    },\n",
    "    \"autores\": {\n",
    "        \"Gabriel García Márquez\": {\"nacionalidad\": \"Colombiana\", \"nacimiento\": 1927, \"defuncion\": 2014},\n",
    "        \"George Orwell\": {\"nacionalidad\": \"Británica\", \"nacimiento\": 1903, \"defuncion\": 1950},\n",
    "        \"Homero\": {\"nacionalidad\": \"Griega\", \"nacimiento\": -800, \"defuncion\": -700},\n",
    "        \"Antoine de Saint-Exupéry\": {\"nacionalidad\": \"Francesa\", \"nacimiento\": 1900, \"defuncion\": 1944}\n",
    "    },\n",
    "    \"prestamos\": [\n",
    "        {\"id_libro\": \"001\", \"usuario\": \"Juan Perez\", \"fecha\": \"2023-03-01\"},\n",
    "        {\"id_libro\": \"002\", \"usuario\": \"Ana María\", \"fecha\": \"2023-03-05\"},\n",
    "        {\"id_libro\": \"003\", \"usuario\": \"Luis Rodriguez\", \"fecha\": \"2023-02-20\"},\n",
    "        {\"id_libro\": \"003\", \"usuario\": \"Carlos Mejia\", \"fecha\": \"2023-03-15\"},\n",
    "        {\"id_libro\": \"004\", \"usuario\": \"Carmen Sosa\", \"fecha\": \"2023-03-01\"},\n",
    "        {\"id_libro\": \"005\", \"usuario\": \"Carmen Sosa\", \"fecha\": \"2023-03-01\"}\n",
    "    ]\n",
    "}"
   ]
  },
  {
   "cell_type": "markdown",
   "metadata": {},
   "source": [
    "#### 4 - Libro más antiguo\n",
    "\n",
    "Usando `lambda`, escribe una función que encuentre el libro más antiguo de la biblioteca."
   ]
  },
  {
   "cell_type": "code",
   "execution_count": null,
   "metadata": {},
   "outputs": [],
   "source": [
    "# escribe tu código aquí"
   ]
  },
  {
   "cell_type": "markdown",
   "metadata": {},
   "source": [
    "#### 5 - Préstamos\n",
    "\n",
    "Escribe una función que tenga de valor de entrada un diccionario como `biblioteca` y devuelva otro diccionario donde las *keys* sean los nombres de los usuarios y los *values* sean el número de préstamos de cada usuario.\n",
    "\n",
    "*Nota: no hace falta usar `lambda` para este ejercicio*"
   ]
  },
  {
   "cell_type": "code",
   "execution_count": null,
   "metadata": {},
   "outputs": [],
   "source": [
    "# escribe tu código aquí"
   ]
  },
  {
   "cell_type": "markdown",
   "metadata": {},
   "source": [
    "#### 6 - Préstamos por libro\n",
    "\n",
    "Escribe una función que tenga de valor de entrada un diccionario como `biblioteca` y devuelva otro diccionario donde las *keys* sean los títulos de los libros y los *values* sean cuantas veces ha sido prestado cada libro."
   ]
  },
  {
   "cell_type": "code",
   "execution_count": null,
   "metadata": {},
   "outputs": [],
   "source": [
    "# escribe tu código aquí"
   ]
  },
  {
   "cell_type": "markdown",
   "metadata": {},
   "source": [
    "#### 7 - Autor más presente\n",
    "\n",
    "Escribe una función que reciba de valor de entrada un diccionario como `biblioteca` y devuelva una tupla con tres valores: el nombre del autor que haya escrito más libros, el número de libros que ha escrito y una lista con los títulos sus libros."
   ]
  },
  {
   "cell_type": "code",
   "execution_count": null,
   "metadata": {},
   "outputs": [],
   "source": [
    "# escribe tu código aquí"
   ]
  }
 ],
 "metadata": {
  "kernelspec": {
   "display_name": "Python 3 (ipykernel)",
   "language": "python",
   "name": "python3"
  },
  "language_info": {
   "codemirror_mode": {
    "name": "ipython",
    "version": 3
   },
   "file_extension": ".py",
   "mimetype": "text/x-python",
   "name": "python",
   "nbconvert_exporter": "python",
   "pygments_lexer": "ipython3",
   "version": "3.11.10"
  }
 },
 "nbformat": 4,
 "nbformat_minor": 4
}
