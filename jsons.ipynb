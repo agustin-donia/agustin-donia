{
 "cells": [
  {
   "cell_type": "markdown",
   "metadata": {},
   "source": [
    "<h2> JSON </h2>"
   ]
  },
  {
   "cell_type": "markdown",
   "metadata": {},
   "source": [
    "Las siglas JSON provienen de JavaScript Object Notation. JSON es un formato de texto ligero que se usa para el intercanvio de datos y es fácilmente legible para los humanos. Aunque está basado en el lenguaje JavaScript, el formato de texto es independiente de cualquier lenguaje. La mayoría de lenguajes tienen herramientas para trabajar con JSONs y estructuras de datos con formatos similares. En el caso de Python, esta estructura de datos son los diccionarios.\n",
    "\n",
    "https://www.json.org/json-en.html"
   ]
  },
  {
   "cell_type": "markdown",
   "metadata": {
    "tags": []
   },
   "source": [
    "#### 1 - Códigos postales\n",
    "\n",
    "Define una función llamada `read_codes` que reciba de entrada una string que sea una ruta a un archivo JSON como el archivo `states.json` que puedes encontrar en este repositorio. La función `read_codes` debe usar la libreria `json` de python para abrir el archivo y devolver una lista con todos los códigos postales que aparecen en `states.json`."
   ]
  },
  {
   "cell_type": "code",
   "execution_count": 25,
   "metadata": {},
   "outputs": [
    {
     "name": "stdout",
     "output_type": "stream",
     "text": [
      "['205', '251', '256', '334', '938', '907', '480', '520', '602', '623', '928', '479', '501', '870', '209', '213', '310', '323', '408', '415', '424', '442', '510', '530', '559', '562', '619', '626', '628', '650', '657', '661', '669', '707', '714', '747', '760', '805', '818', '831', '858', '909', '916', '925', '949', '951', '303', '719', '720', '970', '203', '475', '860', '959', '302', '239', '305', '321', '352', '386', '407', '561', '727', '754', '772', '786', '813', '850', '863', '904', '941', '954', '229', '404', '470', '478', '678', '706', '762', '770', '912', '808', '208', '217', '224', '309', '312', '331', '618', '630', '708', '773', '779', '815', '847', '872', '219', '260', '317', '463', '574', '765', '812', '930', '319', '515', '563', '641', '712', '316', '620', '785', '913', '270', '364', '502', '606', '859', '225', '318', '337', '504', '985', '207', '240', '301', '410', '443', '667', '339', '351', '413', '508', '617', '774', '781', '857', '978', '231', '248', '269', '313', '517', '586', '616', '734', '810', '906', '947', '989', '218', '320', '507', '612', '651', '763', '952', '228', '601', '662', '769', '314', '417', '573', '636', '660', '816', '406', '308', '402', '531', '702', '725', '775', '603', '201', '551', '609', '732', '848', '856', '862', '908', '973', '505', '575', '212', '315', '332', '347', '516', '518', '585', '607', '631', '646', '680', '716', '718', '845', '914', '917', '929', '934', '252', '336', '704', '743', '828', '910', '919', '980', '984', '701', '216', '220', '234', '330', '380', '419', '440', '513', '567', '614', '740', '937', '405', '539', '580', '918', '458', '503', '541', '971', '215', '267', '272', '412', '484', '570', '610', '717', '724', '814', '878', '401', '803', '843', '854', '864', '605', '423', '615', '629', '731', '865', '901', '931', '210', '214', '254', '281', '325', '346', '361', '409', '430', '432', '469', '512', '682', '713', '737', '806', '817', '830', '832', '903', '915', '936', '940', '956', '972', '979', '385', '435', '801', '802', '276', '434', '540', '571', '703', '757', '804', '206', '253', '360', '425', '509', '304', '681', '262', '414', '534', '608', '715', '920', '307']\n"
     ]
    }
   ],
   "source": [
    "# escribe tu código aquí\n",
    "\n",
    "#1 . leer fichero states.json y convertirlo a diccionario (json.load)\n",
    "#2. crearé lista vacía\n",
    "#3. itero sobre data[\"states\"] y accedo para cada estaod a area_code\n",
    "#        , e iré concatenando area_coda a la lista vacía\n",
    "\n",
    "import json\n",
    "\n",
    "filename = \"../data/states.json\"\n",
    "\n",
    "def read_codes(filename):\n",
    "    with open(filename) as jsonfile: # f = openfilenam)\n",
    "        data = json.load(jsonfile)\n",
    "\n",
    "    area_codes = []\n",
    "    for state in data[\"states\"]:\n",
    "        area_codes = area_codes + state[\"area_codes\"]\n",
    "        # otras opciones para lo mismo\n",
    "        # area_codes += state[\"area_codes\"]\n",
    "        # area_codes.extend(state[\"area_codes\"])\n",
    "    return area_codes\n",
    "    # también puedo devolverlos ordenados\n",
    "    #return sorted(area_codes)\n",
    "    \n",
    "print(read_codes(filename))\n"
   ]
  },
  {
   "cell_type": "markdown",
   "metadata": {
    "tags": []
   },
   "source": [
    "#### 2 - Tweets\n",
    "\n",
    "Define una función llamada `load_tweets` que reciba como parámetro de entrada una string. Esta string debe ser una ruta a un archivo JSON que tenga el formato *JSON lines*. La función `load_tweets` tiene que leer el contenido del archivo, realizar un análisis sintáctico (parsing) de cada línea y devolver una lista de diccionarios. Los siguientes dos enlaces explican qué es el formato *JSON lines* y cómo se pueden leer este tipo de archivos línea por línea:\n",
    "\n",
    "- https://jsonlines.org/\n",
    "- https://stackoverflow.com/questions/12451431/loading-and-parsing-a-json-file-with-multiple-json-objects\n",
    "\n",
    "*Nota: no imprimas la lista de tweets ya que es muy larga. Si quieres saber si has abierto bien el archivo, comprueba que la longitud de la lista es 500 y visualiza el primer elemento, que deberia de ser un diccionario.*"
   ]
  },
  {
   "cell_type": "code",
   "execution_count": 32,
   "metadata": {},
   "outputs": [],
   "source": [
    "# escribe tu código aquí\n",
    "import json\n",
    "tweets_file = \"../data/tweets.json\"\n",
    "\n",
    "with open(tweets_file) as jsonfile:\n",
    "    \n",
    "    #ojo, porque en este archivo hay muchos objetos, por eso tengo que abrir uno a uno, iterando\n",
    "    for json_object in jsonfile:\n",
    "        tweet = json.loads(json_object)          # ahora es loads, con s\n",
    "      \n",
    "\n"
   ]
  },
  {
   "cell_type": "code",
   "execution_count": 36,
   "metadata": {},
   "outputs": [
    {
     "name": "stdout",
     "output_type": "stream",
     "text": [
      "500\n",
      "<class 'list'>\n",
      "<class 'dict'>\n"
     ]
    }
   ],
   "source": [
    "#solucion de FRAN\n",
    "\n",
    "import json\n",
    "\n",
    "tweets_file = \"../data/tweets.json\"\n",
    "\n",
    "with open(tweets_file) as jsonfile:\n",
    "    lista_tweets = []\n",
    "    for json_object in jsonfile:\n",
    "        tweet = json.loads(json_object)\n",
    "        lista_tweets.append(tweet)\n",
    "\n",
    "print(len(lista_tweets))\n",
    "print(type(lista_tweets))\n",
    "print(type(lista_tweets[0]))\n",
    "# no imprimo todo porque es mucho"
   ]
  },
  {
   "cell_type": "markdown",
   "metadata": {},
   "source": [
    "#### 3 - Contador de lenguas\n",
    "\n",
    "Define una función llamada `get_language_counts` que reciba de entrada una lista de tweets (diccionarios) y devuelva un nuevo diccionario donde las *keys* sean los códigos de las lenguas (*es*, *ca*, *en*) y los *values* sean el número de tweets que se han escrito en cada lengua."
   ]
  },
  {
   "cell_type": "code",
   "execution_count": 47,
   "metadata": {},
   "outputs": [
    {
     "name": "stdout",
     "output_type": "stream",
     "text": [
      "{'et': 2, 'ca': 10, 'en': 54, 'hu': 3, 'es': 228, 'pt': 127, 'und': 45, 'in': 12, 'fr': 4, 'cs': 2, 'tl': 6, 'ar': 1, 'fi': 1, 'ja': 1, 'eu': 2, 'tr': 2}\n"
     ]
    },
    {
     "data": {
      "text/plain": [
       "{'et': 2,\n",
       " 'ca': 10,\n",
       " 'en': 54,\n",
       " 'hu': 3,\n",
       " 'es': 228,\n",
       " 'pt': 127,\n",
       " 'und': 45,\n",
       " 'in': 12,\n",
       " 'fr': 4,\n",
       " 'cs': 2,\n",
       " 'tl': 6,\n",
       " 'ar': 1,\n",
       " 'fi': 1,\n",
       " 'ja': 1,\n",
       " 'eu': 2,\n",
       " 'tr': 2}"
      ]
     },
     "execution_count": 47,
     "metadata": {},
     "output_type": "execute_result"
    }
   ],
   "source": [
    "# escribe tu código aquí\n",
    "\n",
    "\n",
    "import json\n",
    "\n",
    "tweets_files = \"..cd/data/tweets.json\"\n",
    "\n",
    "with open(tweets_file) as tweets:\n",
    "    lista_tweets = {}\n",
    "    for line in tweets:\n",
    "        tweet = json.loads(line)     # aquí ya lo he convertido a diccionario\n",
    "        codi_lengua = tweet[\"lang\"]\n",
    "        if codi_lengua not in lista_tweets:\n",
    "            lista_tweets [codi_lengua] = 1\n",
    "        else:\n",
    "            lista_tweets[codi_lengua] += 1\n",
    "\n",
    "print(lista_tweets)\n",
    "lista_tweets\n",
    "   \n"
   ]
  },
  {
   "cell_type": "code",
   "execution_count": 53,
   "metadata": {},
   "outputs": [
    {
     "data": {
      "text/plain": [
       "{'et': 2,\n",
       " 'ca': 10,\n",
       " 'en': 54,\n",
       " 'hu': 3,\n",
       " 'es': 228,\n",
       " 'pt': 127,\n",
       " 'und': 45,\n",
       " 'in': 12,\n",
       " 'fr': 4,\n",
       " 'cs': 2,\n",
       " 'tl': 6,\n",
       " 'ar': 1,\n",
       " 'fi': 1,\n",
       " 'ja': 1,\n",
       " 'eu': 2,\n",
       " 'tr': 2}"
      ]
     },
     "execution_count": 53,
     "metadata": {},
     "output_type": "execute_result"
    }
   ],
   "source": [
    "# solución de Fran\n",
    "\n",
    "# escriu el teu codi aquí\n",
    "\n",
    "#\"\"\"\n",
    "#RECETA: --> Patron contadores multiples\n",
    "#1- Definimos un diccionario vacio donde almacenar los contadores de lenguas.\n",
    "#--> languages = {} // languages = dict()\n",
    "#2- Itero sobre la lista de tweets que he encontrado en el ejercicio anterior. \n",
    "#   2.1- Para cada tweet, accedo a la lengua usada tweet[\"lang\"]\n",
    "#       --> Si la lengua usada no esta en el diccionario de los contadores, entonces\n",
    "#       creo una nueva palabra clave con esa lengua y lo igualo a 1.\n",
    "#       --> Si la lengua usada esta en el diccionario, incremento su contador en 1. \n",
    "#3. Retorno el diccionario de contadores.\n",
    "#\"\"\"\n",
    "\n",
    "def get_language_counts(tweet_list):\n",
    "    languages = {}\n",
    "    for tweet in tweet_list:\n",
    "        language = tweet[\"lang\"] # tweet.get(\"lang\")\n",
    "        #print(f\"La lengua del tweet es {language}\")\n",
    "        if language not in languages:\n",
    "            languages[language] = 1\n",
    "        else:\n",
    "            languages[language] += 1 # languages[language] = languages[language] + 1\n",
    "        #print(f\"El diccionario resultante es: {languages}\")\n",
    "    return languages\n",
    "    \n",
    "get_language_counts(lista_tweets)"
   ]
  },
  {
   "cell_type": "markdown",
   "metadata": {},
   "source": [
    "#### 4 - Contador de hashtags\n",
    "\n",
    "Twitter tiene un registro de los hashtags de cada tweet en una entrada llamada `'entities'`. Explora el formato de un tweet y define una función llamada `get_hashtag_counts` con un argumentp que represente una lista de tweets. La función tiene que devolver un diccionario donde las *keys* sean los hashtags y los *values* las veces que aparece cada hashtag a la lista de tweets. Almacena este diccionario en una variable fuera de la función y guardalo en un archivo llamado `hashtag_counts.json` en formato JSON."
   ]
  },
  {
   "cell_type": "code",
   "execution_count": null,
   "metadata": {},
   "outputs": [],
   "source": [
    "# escribe tu código aquí\n",
    "\n",
    "# solo hay que cambiar una línea de código respecto al ejercicio anterior\n"
   ]
  }
 ],
 "metadata": {
  "kernelspec": {
   "display_name": "Python 3 (ipykernel)",
   "language": "python",
   "name": "python3"
  },
  "language_info": {
   "codemirror_mode": {
    "name": "ipython",
    "version": 3
   },
   "file_extension": ".py",
   "mimetype": "text/x-python",
   "name": "python",
   "nbconvert_exporter": "python",
   "pygments_lexer": "ipython3",
   "version": "3.11.10"
  }
 },
 "nbformat": 4,
 "nbformat_minor": 4
}
